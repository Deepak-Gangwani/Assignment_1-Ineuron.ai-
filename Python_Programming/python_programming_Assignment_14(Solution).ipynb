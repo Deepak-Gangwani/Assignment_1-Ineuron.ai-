{
 "cells": [
  {
   "cell_type": "markdown",
   "id": "d7c1f3c6",
   "metadata": {},
   "source": [
    "# Q1.Define a class with a generator which can iterate the numbers, which are divisible by 7, between a given range 0 and n. ?"
   ]
  },
  {
   "cell_type": "code",
   "execution_count": 11,
   "id": "d3ca90e4",
   "metadata": {},
   "outputs": [
    {
     "name": "stdout",
     "output_type": "stream",
     "text": [
      "Enter the range to print divisible number by 7-->100\n",
      "\n",
      "The range between 0 to 100 is-->\n",
      "0,7,14,21,28,35,42,49,56,63,70,77,84,91,98,"
     ]
    }
   ],
   "source": [
    "class Divisible7:\n",
    "    try:\n",
    "        def __init__(self,num):\n",
    "            self.num=num\n",
    "        \n",
    "        def generator(self):\n",
    "            for i in range(self.num):\n",
    "                if i%7==0:\n",
    "                    yield i\n",
    "    except Exception as e:\n",
    "        print(e)\n",
    "                \n",
    "n=int(input(\"Enter the range to print divisible number by 7-->\"))\n",
    "obj=Divisible7(n)\n",
    "print(f\"\\nThe range between 0 to {n} is-->\")\n",
    "for i in obj.generator():\n",
    "    print(i,end=\",\")\n",
    "                \n",
    "    "
   ]
  },
  {
   "cell_type": "markdown",
   "id": "89cac518",
   "metadata": {},
   "source": [
    "# Q2.Write a program to compute the frequency of the words from the input. The output should output after sorting the key alphanumerically.\n",
    "Suppose the following input is supplied to the program:\n",
    "\n",
    "New to Python or choosing between Python 2 and Python 3? Read Python 2 or Python 3.\n",
    "\n",
    "Then, the output should be:\n",
    "\n",
    "2:2 3.:1 3?:1 New:1 Python:5 Read:1 and:1 between:1 choosing:1 or:2 to:1"
   ]
  },
  {
   "cell_type": "code",
   "execution_count": 11,
   "id": "8b836cc8",
   "metadata": {},
   "outputs": [
    {
     "name": "stdout",
     "output_type": "stream",
     "text": [
      "Enter The String: New to Python or choosing between Python 2 and Python 3? Read Python 2 or Python 3.\n",
      "\n",
      "\n",
      "2:2,3.:1,3?:1,New:1,Python:5,Read:1,and:1,between:1,choosing:1,or:2,to:1,"
     ]
    }
   ],
   "source": [
    "def Frequency():\n",
    "    try:\n",
    "        in_string = input(\"Enter The String: \")\n",
    "        print(\"\\n\")\n",
    "        frequency = {}\n",
    "        for i in in_string.split(\" \"):\n",
    "            if(frequency.get(i) == None):\n",
    "                frequency[i] = 1\n",
    "            else:\n",
    "                frequency[i] = frequency[i] + 1 \n",
    "        for i in sorted(frequency):\n",
    "            print(f'{i}:{frequency[i]}',end=\",\")\n",
    "    except Exception as e:\n",
    "        print(e)\n",
    "        \n",
    "Frequency()"
   ]
  },
  {
   "cell_type": "markdown",
   "id": "c4a9b226",
   "metadata": {},
   "source": [
    "# Q3.Define a class Person and its two child classes: Male and Female. All classes have a method \"getGender\" which can print \"Male\" for Male class and \"Female\" for Female class. ?"
   ]
  },
  {
   "cell_type": "code",
   "execution_count": 1,
   "id": "699b77aa",
   "metadata": {},
   "outputs": [
    {
     "name": "stdout",
     "output_type": "stream",
     "text": [
      "Male\n",
      "\n",
      "Female\n"
     ]
    }
   ],
   "source": [
    "class Person:\n",
    "    def getGender():\n",
    "        pass\n",
    "    \n",
    "class Male(Person):\n",
    "    def getGender():\n",
    "        print(\"Male\\n\")\n",
    "        \n",
    "class Female(Person):\n",
    "    def getGender():\n",
    "        print(\"Female\")\n",
    "                \n",
    "            \n",
    "Male.getGender()\n",
    "Female.getGender()"
   ]
  },
  {
   "cell_type": "markdown",
   "id": "f4062352",
   "metadata": {},
   "source": [
    "# Q4.Please write a program to generate all sentences where subject is in [\"I\", \"You\"] and verb is in [\"Play\", \"Love\"] and the object is in [\"Hockey\",\"Football\"] ?"
   ]
  },
  {
   "cell_type": "code",
   "execution_count": 4,
   "id": "4124aa66",
   "metadata": {},
   "outputs": [
    {
     "name": "stdout",
     "output_type": "stream",
     "text": [
      "I Play Hockey\n",
      "I Play Football\n",
      "I Love Hockey\n",
      "I Love Football\n",
      "You Play Hockey\n",
      "You Play Football\n",
      "You Love Hockey\n",
      "You Love Football\n"
     ]
    }
   ],
   "source": [
    "def sentences():\n",
    "    subject=[\"I\",\"You\"]\n",
    "    verb=[\"Play\",\"Love\"]\n",
    "    obj=[\"Hockey\",\"Football\"]\n",
    "    for i in subject:\n",
    "        for j in verb:\n",
    "            for k in obj:\n",
    "                print(f\"{i} {j} {k}\")\n",
    "                    \n",
    "sentences()                    "
   ]
  },
  {
   "cell_type": "markdown",
   "id": "754c26f4",
   "metadata": {},
   "source": [
    "# Q5.Please write a program to compress and decompress the string \"hello world!hello world!hello world!hello world!\" ?"
   ]
  },
  {
   "cell_type": "code",
   "execution_count": 12,
   "id": "3e00fde1",
   "metadata": {},
   "outputs": [
    {
     "name": "stdout",
     "output_type": "stream",
     "text": [
      "Enter the string-->hello world!hello world!hello world!hello world!\n",
      "The compress of the given string-->hel2o world!hel2o world!hel2o world!hel2o world!\n",
      "\n",
      "Enter the string-->hel2o world!hel2o world!hel2o world!hel2o world!\n",
      "The decompress of the given string-->hello world!hello world!hello world!hello world!\n",
      "\n"
     ]
    }
   ],
   "source": [
    "def compress():\n",
    "    s=input(\"Enter the string-->\")\n",
    "    s_new = s[0]\n",
    "    count = 1\n",
    "    for i in range(len(s)-1):\n",
    "        if s[i] == s[i+1]:\n",
    "            count = count+1\n",
    "        else:\n",
    "            if count > 1:\n",
    "                s_new = s_new + str(count)\n",
    "            s_new = s_new + s[i+1]\n",
    "            count = 1\n",
    "    if count > 1:\n",
    "        s_new = s_new + str(count)            \n",
    "    print(f\"The compress of the given string-->{s_new}\\n\")\n",
    "\n",
    "\n",
    "def decompress():\n",
    "    s=input(\"Enter the string-->\")\n",
    "    s_new = ''\n",
    "    for i in range(len(s)):\n",
    "        if s[i].isdigit():\n",
    "            s_new = s_new +s_new[-1]*(int(s[i])-1)\n",
    "        else:\n",
    "            s_new = s_new + s[i]\n",
    "    print(f\"The decompress of the given string-->{s_new}\\n\")\n",
    "    \n",
    "\n",
    "compress() \n",
    "decompress()"
   ]
  },
  {
   "cell_type": "markdown",
   "id": "2090727f",
   "metadata": {},
   "source": [
    "# Q6.Please write a binary search function which searches an item in a sorted list. The function should return the index of element to be searched in the list ?"
   ]
  },
  {
   "cell_type": "code",
   "execution_count": 3,
   "id": "0f2e5706",
   "metadata": {},
   "outputs": [
    {
     "name": "stdout",
     "output_type": "stream",
     "text": [
      "Enter the element-->90,80,70,60,50,40,30,20,10,0\n",
      "\n",
      "The list is converted into sorted form-->[0, 10, 20, 30, 40, 50, 60, 70, 80, 90]\n",
      "\n",
      "\n",
      "Enter the element you want to search-->33\n",
      "The element you have enter is not in the list\n",
      "Enter the element-->90,80,70,60,50,40,30,20,10,0\n",
      "\n",
      "The list is converted into sorted form-->[0, 10, 20, 30, 40, 50, 60, 70, 80, 90]\n",
      "\n",
      "\n",
      "Enter the element you want to search-->90\n",
      "The index of the element 90-->9\n"
     ]
    }
   ],
   "source": [
    "def BinarySearch():\n",
    "    try:\n",
    "        num=eval(input(\"Enter the element-->\"))\n",
    "        l=list(sorted(num))\n",
    "        print(f\"\\nThe list is converted into sorted form-->{l}\\n\")\n",
    "        element=int(input(\"\\nEnter the element you want to search-->\"))\n",
    "        low=0\n",
    "        high=len(l)-1\n",
    "        while low<=high:\n",
    "            mid=low+high//2\n",
    "            if l[mid]<element:\n",
    "                low=mid+1\n",
    "            elif l[mid]>element:\n",
    "                high=mid-1\n",
    "            else:\n",
    "                print(f\"The index of the element {element}-->{mid}\")\n",
    "                break\n",
    "        else:\n",
    "            print(\"The element you have enter is not in the list\")\n",
    "    except Exception as e:\n",
    "        print(e)\n",
    "        \n",
    "        \n",
    "#calling binary search function\n",
    "BinarySearch()\n",
    "BinarySearch()"
   ]
  }
 ],
 "metadata": {
  "kernelspec": {
   "display_name": "Python 3 (ipykernel)",
   "language": "python",
   "name": "python3"
  },
  "language_info": {
   "codemirror_mode": {
    "name": "ipython",
    "version": 3
   },
   "file_extension": ".py",
   "mimetype": "text/x-python",
   "name": "python",
   "nbconvert_exporter": "python",
   "pygments_lexer": "ipython3",
   "version": "3.10.2"
  }
 },
 "nbformat": 4,
 "nbformat_minor": 5
}
