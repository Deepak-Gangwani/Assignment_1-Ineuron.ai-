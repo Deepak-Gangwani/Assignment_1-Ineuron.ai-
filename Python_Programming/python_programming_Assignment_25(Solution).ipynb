{
 "cells": [
  {
   "cell_type": "markdown",
   "id": "2e0e39d1",
   "metadata": {},
   "source": [
    "# Q1.Create a function that takes three integer arguments (a, b, c) and returns the amount of integers which are of equal value.\n",
    "Examples:\n",
    "\n",
    "equal(3, 4, 3) ➞ 2\n",
    "equal(1, 1, 1) ➞ 3\n",
    "equal(3, 4, 1) ➞ 0\n",
    "\n",
    "Notes:\n",
    "Your function must return 0, 2 or 3."
   ]
  },
  {
   "cell_type": "code",
   "execution_count": 6,
   "id": "412050e6",
   "metadata": {},
   "outputs": [
    {
     "name": "stdout",
     "output_type": "stream",
     "text": [
      "Enter the 1st number-->3\n",
      "Enter the 2nd number-->4\n",
      "Enter the 3rd number-->3\n",
      "equal(3, 4, 3)-->2\n",
      "\n",
      "Enter the 1st number-->1\n",
      "Enter the 2nd number-->1\n",
      "Enter the 3rd number-->1\n",
      "equal(1, 1, 1)-->3\n",
      "\n",
      "Enter the 1st number-->3\n",
      "Enter the 2nd number-->4\n",
      "Enter the 3rd number-->1\n",
      "equal(3, 4, 1)-->0\n",
      "\n"
     ]
    }
   ],
   "source": [
    "def equalIntegers():\n",
    "    try:\n",
    "        a=int(input(\"Enter the 1st number-->\"))\n",
    "        b=int(input(\"Enter the 2nd number-->\"))\n",
    "        c=int(input(\"Enter the 3rd number-->\"))\n",
    "        if a==b==c:\n",
    "            print(f\"equal{a,b,c}-->3\\n\")\n",
    "        elif a==b or a==c or b==c:\n",
    "            print(f\"equal{a,b,c}-->2\\n\")\n",
    "        else:\n",
    "            print(f\"equal{a,b,c}-->0\\n\")\n",
    "    except Exception as e:\n",
    "        print(e)\n",
    "        \n",
    "#calling the function\n",
    "equalIntegers()\n",
    "equalIntegers()\n",
    "equalIntegers()"
   ]
  },
  {
   "cell_type": "markdown",
   "id": "1509cee6",
   "metadata": {},
   "source": [
    "# Q2.Write a function that converts a dictionary into a list of keys-values tuples.\n",
    "Examples:\n",
    "\n",
    "dict_to_list({\n",
    "    \"D\": 1,\n",
    "    \"B\": 2,\n",
    "    \"C\": 3\n",
    "    }) ➞ [(\"B\", 2), (\"C\", 3), (\"D\", 1)]  \n",
    "    \n",
    "dict_to_list({\n",
    "    \"likes\": 2,\n",
    "    \"dislikes\": 3,\n",
    "    \"followers\": 10\n",
    "    }) ➞ [(\"dislikes\", 3), (\"followers\", 10), (\"likes\", 2)]\n",
    "\n",
    "Notes:\n",
    "Return the elements in the list in alphabetical order."
   ]
  },
  {
   "cell_type": "code",
   "execution_count": 8,
   "id": "d97fcc20",
   "metadata": {},
   "outputs": [
    {
     "name": "stdout",
     "output_type": "stream",
     "text": [
      "The {'D': 1, 'B': 2, 'C': 3} is converted into list-->[('B', 2), ('C', 3), ('D', 1)]\n",
      "\n",
      "The {'likes': 2, 'dislikes': 3, 'followers': 10} is converted into list-->[('dislikes', 3), ('followers', 10), ('likes', 2)]\n",
      "\n"
     ]
    }
   ],
   "source": [
    "def dict_to_list(old_dict):\n",
    "    try:\n",
    "        new_dict=[]\n",
    "        for keys,values in old_dict.items():\n",
    "            new_dict.append((keys,values))\n",
    "        print(f\"The {old_dict} is converted into list-->{sorted(new_dict)}\\n\")\n",
    "    except Exception as e:\n",
    "        print(e)\n",
    "\n",
    "        \n",
    "dict1={\"D\":1,\"B\":2,\"C\":3}\n",
    "dict_to_list(dict1)\n",
    "\n",
    "dict2={\"likes\":2,\"dislikes\":3,\"followers\":10}\n",
    "dict_to_list(dict2)"
   ]
  },
  {
   "cell_type": "markdown",
   "id": "8fd37b37",
   "metadata": {},
   "source": [
    "# Q3.Write a function that creates a dictionary with each (key, value) pair being the (lower case, upper case) versions of a letter, respectively.\n",
    "Examples:\n",
    "\n",
    "mapping([\"p\", \"s\"]) ➞ { \"p\": \"P\", \"s\": \"S\" }\n",
    "\n",
    "mapping([\"a\", \"b\", \"c\"]) ➞ { \"a\": \"A\", \"b\": \"B\", \"c\": \"C\" }\n",
    "\n",
    "mapping([\"a\", \"v\", \"y\", \"z\"]) ➞ { \"a\": \"A\", \"v\": \"V\", \"y\": \"Y\", \"z\": \"Z\" }\n",
    "\n",
    "Notes:\n",
    "All of the letters in the input list will always be lowercase."
   ]
  },
  {
   "cell_type": "code",
   "execution_count": 12,
   "id": "8bb050fb",
   "metadata": {},
   "outputs": [
    {
     "name": "stdout",
     "output_type": "stream",
     "text": [
      "mapping['p', 's']-->{'p': 'P', 's': 'S'}\n",
      "\n",
      "mapping['a', 'b', 'c']-->{'a': 'A', 'b': 'B', 'c': 'C'}\n",
      "\n",
      "mapping['a', 'v', 'y', 'z']-->{'a': 'A', 'v': 'V', 'y': 'Y', 'z': 'Z'}\n",
      "\n"
     ]
    }
   ],
   "source": [
    "def mapping(old_list):\n",
    "    try:\n",
    "        new_dict={}\n",
    "        for i in old_list:\n",
    "            new_dict[i]=i.upper()\n",
    "        print(f\"mapping{old_list}-->{new_dict}\\n\")\n",
    "    except Exception as e:\n",
    "        print(e)\n",
    "        \n",
    "        \n",
    "        \n",
    "mapping([\"p\",\"s\"])\n",
    "mapping([\"a\",\"b\",\"c\"])\n",
    "mapping([\"a\",\"v\",\"y\",\"z\"])\n",
    "        \n"
   ]
  },
  {
   "cell_type": "markdown",
   "id": "d6a478c0",
   "metadata": {},
   "source": [
    "# Q4.Write a function, that replaces all vowels in a string with a specified vowel.\n",
    "Examples:\n",
    "\n",
    "vow_replace(\"apples and bananas\", \"u\") ➞ \"upplus und bununus\"\n",
    "\n",
    "vow_replace(\"cheese casserole\", \"o\") ➞ \"chooso cossorolo\"\n",
    "\n",
    "vow_replace(\"stuffed jalapeno poppers\", \"e\") ➞ \"steffed jelepene peppers\"\n",
    "\n",
    "Notes:\n",
    "All words will be lowercase. Y is not considered a vowel."
   ]
  },
  {
   "cell_type": "code",
   "execution_count": 15,
   "id": "09ffabef",
   "metadata": {},
   "outputs": [
    {
     "name": "stdout",
     "output_type": "stream",
     "text": [
      "vow_replace('apples and bananas', 'u')-->upplus und bununus\n",
      "\n",
      "vow_replace('cheese casserole', 'o')-->chooso cossorolo\n",
      "\n",
      "vow_replace('stuffed jalapeno poppers', 'e')-->steffed jelepene peppers\n",
      "\n"
     ]
    }
   ],
   "source": [
    "def vow_replace(string,char):\n",
    "    try:\n",
    "        vowels=[\"a\",\"e\",\"i\",\"o\",\"u\"]\n",
    "        new_string=\"\"\n",
    "        for i in string.lower():\n",
    "            if i in vowels:\n",
    "                new_string=new_string+char\n",
    "            else:\n",
    "                new_string=new_string+i\n",
    "        print(f\"vow_replace{string,char}-->{new_string}\\n\")\n",
    "    except Exception as e:\n",
    "        print(e)\n",
    "        \n",
    "\n",
    "vow_replace(\"apples and bananas\",\"u\")      \n",
    "vow_replace(\"cheese casserole\",\"o\")      \n",
    "vow_replace(\"stuffed jalapeno poppers\",\"e\")      \n"
   ]
  },
  {
   "cell_type": "markdown",
   "id": "56e9512d",
   "metadata": {},
   "source": [
    "# Q5.Create a function that takes a string as input and capitalizes a letter if its ASCII code is even and returns its lower case version if its ASCII code is odd.\n",
    "\n",
    "Examples:\n",
    "\n",
    "ascii_capitalize(\"to be or not to be!\") ➞ \"To Be oR NoT To Be!\"\n",
    "\n",
    "ascii_capitalize(\"THE LITTLE MERMAID\") ➞ \"THe LiTTLe meRmaiD\"\n",
    "\n",
    "ascii_capitalize(\"Oh what a beautiful morning.\") ➞ \"oH wHaT a BeauTiFuL moRNiNg.\""
   ]
  },
  {
   "cell_type": "code",
   "execution_count": 29,
   "id": "ab8199ed",
   "metadata": {},
   "outputs": [
    {
     "name": "stdout",
     "output_type": "stream",
     "text": [
      "ascii_capitalize (to be or not to be!) --> To Be oR NoT To Be!\n",
      "\n",
      "ascii_capitalize (THE LITTLE MERMAID) --> THE LITTLE MERMAID\n",
      "\n",
      "ascii_capitalize (Oh what a beautiful morning) --> OH wHaT a BeauTiFuL moRNiNg\n",
      "\n"
     ]
    }
   ],
   "source": [
    "def ascii_capitalize(string):\n",
    "    try:\n",
    "        new_string=\"\"\n",
    "        for i in string:\n",
    "            if ord(i)%2==0: #ord() function is used to convert char into ascii digits\n",
    "                new_string=new_string+i.upper()\n",
    "            else:\n",
    "                new_string=new_string+i\n",
    "        print(f\"ascii_capitalize ({string}) --> {new_string}\\n\")\n",
    "    except Exception as e:\n",
    "        print(e)\n",
    "\n",
    "        \n",
    "ascii_capitalize(\"to be or not to be!\")\n",
    "ascii_capitalize(\"THE LITTLE MERMAID\")\n",
    "ascii_capitalize(\"Oh what a beautiful morning\")\n",
    "\n",
    "\n",
    "\n",
    "    "
   ]
  }
 ],
 "metadata": {
  "kernelspec": {
   "display_name": "Python 3 (ipykernel)",
   "language": "python",
   "name": "python3"
  },
  "language_info": {
   "codemirror_mode": {
    "name": "ipython",
    "version": 3
   },
   "file_extension": ".py",
   "mimetype": "text/x-python",
   "name": "python",
   "nbconvert_exporter": "python",
   "pygments_lexer": "ipython3",
   "version": "3.10.2"
  }
 },
 "nbformat": 4,
 "nbformat_minor": 5
}
