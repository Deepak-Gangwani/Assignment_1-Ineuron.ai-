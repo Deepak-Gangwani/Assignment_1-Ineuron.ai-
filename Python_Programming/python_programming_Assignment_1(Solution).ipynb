{
 "cells": [
  {
   "cell_type": "markdown",
   "id": "bab53bed",
   "metadata": {},
   "source": [
    "# Q1.Write a Python program to print 'Hello Python' ?"
   ]
  },
  {
   "cell_type": "code",
   "execution_count": 1,
   "id": "d3bff219",
   "metadata": {},
   "outputs": [
    {
     "name": "stdout",
     "output_type": "stream",
     "text": [
      "Hello Python\n"
     ]
    }
   ],
   "source": [
    "print(\"Hello Python\")"
   ]
  },
  {
   "cell_type": "markdown",
   "id": "c0c41c64",
   "metadata": {},
   "source": [
    "# Q2.Write a Python program to do arithmetic operations addition and division ?"
   ]
  },
  {
   "cell_type": "code",
   "execution_count": 4,
   "id": "49ca0646",
   "metadata": {},
   "outputs": [
    {
     "name": "stdout",
     "output_type": "stream",
     "text": [
      "Enter the 1st number-->10\n",
      "Enter the 2nd number-->5\n",
      "\n",
      "The sum of 1st and 2nd number is-->15\n",
      "\n",
      "The subtraction of 1st and 2nd number is-->5\n"
     ]
    }
   ],
   "source": [
    "a=int(input(\"Enter the 1st number-->\"))\n",
    "b=int(input(\"Enter the 2nd number-->\"))\n",
    "print(f\"\\nThe sum of 1st and 2nd number is-->{a+b}\")\n",
    "print(f\"\\nThe subtraction of 1st and 2nd number is-->{a-b}\")"
   ]
  },
  {
   "cell_type": "markdown",
   "id": "b6cca889",
   "metadata": {},
   "source": [
    "# Q3.Write a Python program to find the area of a triangle ?"
   ]
  },
  {
   "cell_type": "code",
   "execution_count": 7,
   "id": "224f2a80",
   "metadata": {},
   "outputs": [
    {
     "name": "stdout",
     "output_type": "stream",
     "text": [
      "Enter the height of triangle-->5\n",
      "Enter the base of triangle-->5\n",
      "\n",
      "The area of triangle is-->12.5\n"
     ]
    }
   ],
   "source": [
    "h=int(input(\"Enter the height of triangle-->\"))\n",
    "b=int(input(\"Enter the base of triangle-->\"))\n",
    "\n",
    "print(f\"\\nThe area of triangle is-->{(h*b)/2}\")"
   ]
  },
  {
   "cell_type": "markdown",
   "id": "a12f40d3",
   "metadata": {},
   "source": [
    "# Q4.Write a Python program to swap two variables ?"
   ]
  },
  {
   "cell_type": "code",
   "execution_count": 16,
   "id": "27defa48",
   "metadata": {},
   "outputs": [
    {
     "name": "stdout",
     "output_type": "stream",
     "text": [
      "Enter the 1st variable to print-->a\n",
      "Enter the 2nd variable to print-->b\n",
      "\n",
      "Before Swap-->('a', 'b')\n",
      "\n",
      "After Swap-->('b', 'a')\n"
     ]
    }
   ],
   "source": [
    "def swap(n1,n2):\n",
    "    temp=n1\n",
    "    n1=n2\n",
    "    n2=temp\n",
    "    return n1,n2\n",
    "\n",
    "n1=input(\"Enter the 1st variable to print-->\")\n",
    "n2=input(\"Enter the 2nd variable to print-->\")\n",
    "print(f\"\\nBefore Swap-->{n1,n2}\")\n",
    "n1,n2=swap(n1,n2)\n",
    "print(f\"\\nAfter Swap-->{n1,n2}\")"
   ]
  },
  {
   "cell_type": "markdown",
   "id": "2c471160",
   "metadata": {},
   "source": [
    "# Q5.Write a Python program to generate a random number ?"
   ]
  },
  {
   "cell_type": "code",
   "execution_count": 29,
   "id": "e9cc2fd7",
   "metadata": {},
   "outputs": [
    {
     "name": "stdout",
     "output_type": "stream",
     "text": [
      "----------------------Guess The Number Between 1 to 100------------------------\n",
      "Enter Your Guess-->55\n",
      "You guessed it wrong! Enter a smaller number\n",
      "Enter Your Guess-->20\n",
      "You guessed it wrong! Enter a smaller number\n",
      "Enter Your Guess-->10\n",
      "You guessed it wrong! Enter a larger number\n",
      "Enter Your Guess-->15\n",
      "Congrats,You Guess Right\n",
      "You guessed the number in 4 times\n"
     ]
    }
   ],
   "source": [
    "import random\n",
    "from random import randint\n",
    "\n",
    "randNumber=random.randint(1,100)\n",
    "userGuess=None\n",
    "guesses=0\n",
    "print(\"----------------------Guess The Number Between 1 to 100------------------------\")\n",
    "while(userGuess!=randNumber):\n",
    "    try:\n",
    "        userGuess=int(input(\"Enter Your Guess-->\"))\n",
    "        guesses=guesses+1\n",
    "        if(userGuess==randNumber):\n",
    "            print(\"Congrats,You Guess Right\")\n",
    "        else:\n",
    "            if(userGuess>randNumber):\n",
    "                print(\"You guessed it wrong! Enter a smaller number\")\n",
    "            else:\n",
    "                print(\"You guessed it wrong! Enter a larger number\")\n",
    "    except exception as e:\n",
    "        print(e)\n",
    "                \n",
    "print(f\"You guessed the number in {guesses} times\")                "
   ]
  }
 ],
 "metadata": {
  "kernelspec": {
   "display_name": "Python 3 (ipykernel)",
   "language": "python",
   "name": "python3"
  },
  "language_info": {
   "codemirror_mode": {
    "name": "ipython",
    "version": 3
   },
   "file_extension": ".py",
   "mimetype": "text/x-python",
   "name": "python",
   "nbconvert_exporter": "python",
   "pygments_lexer": "ipython3",
   "version": "3.10.2"
  }
 },
 "nbformat": 4,
 "nbformat_minor": 5
}
