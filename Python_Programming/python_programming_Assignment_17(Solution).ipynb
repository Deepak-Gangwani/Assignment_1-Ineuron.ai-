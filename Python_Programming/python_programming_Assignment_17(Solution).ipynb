{
 "cells": [
  {
   "cell_type": "markdown",
   "id": "5fd862c2",
   "metadata": {},
   "source": [
    "# Q1.Create a function that takes three arguments a, b, c and returns the sum of the numbers that are evenly divided by c from the range a, b inclusive ?\n",
    "Examples:\n",
    "`evenly_divisible(1, 10, 20) ➞ 0\n",
    "\n",
    "# No number between 1 and 10 can be evenly divided by 20.\n",
    "evenly_divisible(1, 10, 2) ➞ 30\n",
    "\n",
    "# 2 + 4 + 6 + 8 + 10 = 30\n",
    "evenly_divisible(1, 10, 3) ➞ 18\n",
    "\n",
    "# 3 + 6 + 9 = 18`"
   ]
  },
  {
   "cell_type": "code",
   "execution_count": 15,
   "id": "3aeccec1",
   "metadata": {},
   "outputs": [
    {
     "name": "stdout",
     "output_type": "stream",
     "text": [
      "[]-->0\n",
      "\n",
      "[2, 4, 6, 8, 10]-->30\n",
      "\n",
      "[3, 6, 9]-->18\n",
      "\n"
     ]
    }
   ],
   "source": [
    "def evenly_divisible(a,b,c):\n",
    "    try:\n",
    "        l=[]\n",
    "        for i in range(a,b+1):\n",
    "            if i%c==0:\n",
    "                l.append(i)\n",
    "        print(f\"{l}-->{sum(l)}\\n\")        \n",
    "    except Exception as e:\n",
    "        print(e)\n",
    "        \n",
    "evenly_divisible(1, 10, 20)\n",
    "\n",
    "evenly_divisible(1, 10, 2) \n",
    "\n",
    "evenly_divisible(1, 10, 3)"
   ]
  },
  {
   "cell_type": "markdown",
   "id": "4cdc8cdf",
   "metadata": {},
   "source": [
    "# Q2.Create a function that returns True if a given inequality expression is correct and False otherwise ?\n",
    "Examples:\n",
    "\n",
    "correct_signs(\"3 < 7 < 11\") ➞ True\n",
    "\n",
    "correct_signs(\"13 > 44 > 33 > 1\") ➞ False\n",
    "\n",
    "correct_signs(\"1 < 2 < 6 < 9 > 3\") ➞ True"
   ]
  },
  {
   "cell_type": "code",
   "execution_count": 16,
   "id": "00293be9",
   "metadata": {},
   "outputs": [
    {
     "name": "stdout",
     "output_type": "stream",
     "text": [
      "Enter inequality expression-->3<7<11\n",
      "3<7<11-->True\n",
      "\n",
      "Enter inequality expression-->13>44>33>1\n",
      "13>44>33>1-->False\n",
      "\n",
      "Enter inequality expression-->1<2<6<9>3\n",
      "1<2<6<9>3-->True\n",
      "\n"
     ]
    }
   ],
   "source": [
    "def correct_signs():\n",
    "    try:\n",
    "        expression=input(\"Enter inequality expression-->\")\n",
    "        check_expression=eval(expression)\n",
    "        print(f\"{expression}-->{check_expression}\\n\")\n",
    "    except Exception as e:\n",
    "        print(e)\n",
    "        \n",
    "correct_signs()\n",
    "correct_signs()\n",
    "correct_signs()"
   ]
  },
  {
   "cell_type": "markdown",
   "id": "c3e9f1f6",
   "metadata": {},
   "source": [
    "# Q3.Create a function that replaces all the vowels in a string with a specified character ?\n",
    "Examples:\n",
    "    \n",
    "replace_vowels(\"the aardvark\", \"#\") ➞ \"th# ##rdv#rk\"\n",
    "\n",
    "replace_vowels(\"minnie mouse\", \"?\") ➞ \"m?nn?? m??s?\"\n",
    "\n",
    "replace_vowels(\"shakespeare\", \"*\") ➞ \"shksp**r\""
   ]
  },
  {
   "cell_type": "code",
   "execution_count": 21,
   "id": "9f799d93",
   "metadata": {},
   "outputs": [
    {
     "name": "stdout",
     "output_type": "stream",
     "text": [
      "Enter the string-->the aardvark\n",
      "Enter the replacement character-->#\n",
      "The replace of all vowels with character #-->th# ##rdv#rk\n",
      "\n",
      "Enter the string-->minnie mouse\n",
      "Enter the replacement character-->?\n",
      "The replace of all vowels with character ?-->m?nn?? m??s?\n",
      "\n",
      "Enter the string-->shakespeare\n",
      "Enter the replacement character-->*\n",
      "The replace of all vowels with character *-->sh*k*sp**r*\n",
      "\n"
     ]
    }
   ],
   "source": [
    "def replace_vowels():\n",
    "    try:\n",
    "        vowels=\"AEIOUaeiou\"\n",
    "        string=input(\"Enter the string-->\")\n",
    "        char=input(\"Enter the replacement character-->\")\n",
    "        for i in string:\n",
    "            if i in vowels:\n",
    "                string=string.replace(i,char)\n",
    "        print(f\"The replace of all vowels is replace with '{char}'-->{string}\\n\")\n",
    "    except Exception as e:\n",
    "        print(e)\n",
    "        \n",
    "replace_vowels()        \n",
    "replace_vowels()\n",
    "replace_vowels()"
   ]
  },
  {
   "cell_type": "markdown",
   "id": "a6c8f28b",
   "metadata": {},
   "source": [
    "# Q4.Write a function that calculates the factorial of a number recursively ?\n",
    "Examples:\n",
    "\n",
    "factorial(5) ➞ 120\n",
    "\n",
    "factorial(3) ➞ 6\n",
    "\n",
    "factorial(1) ➞ 1\n",
    "\n",
    "factorial(0) ➞ 1"
   ]
  },
  {
   "cell_type": "code",
   "execution_count": 25,
   "id": "55c6b75c",
   "metadata": {},
   "outputs": [],
   "source": [
    "def factorial(n):\n",
    "    if n==0:\n",
    "        return 1\n",
    "    else:\n",
    "        return n * factorial(n-1)         \n",
    "        "
   ]
  },
  {
   "cell_type": "code",
   "execution_count": 26,
   "id": "0260640a",
   "metadata": {},
   "outputs": [
    {
     "data": {
      "text/plain": [
       "120"
      ]
     },
     "execution_count": 26,
     "metadata": {},
     "output_type": "execute_result"
    }
   ],
   "source": [
    "factorial(5)"
   ]
  },
  {
   "cell_type": "code",
   "execution_count": 27,
   "id": "c65d5a01",
   "metadata": {},
   "outputs": [
    {
     "data": {
      "text/plain": [
       "6"
      ]
     },
     "execution_count": 27,
     "metadata": {},
     "output_type": "execute_result"
    }
   ],
   "source": [
    "factorial(3)"
   ]
  },
  {
   "cell_type": "code",
   "execution_count": 28,
   "id": "ea0c276d",
   "metadata": {},
   "outputs": [
    {
     "data": {
      "text/plain": [
       "1"
      ]
     },
     "execution_count": 28,
     "metadata": {},
     "output_type": "execute_result"
    }
   ],
   "source": [
    "factorial(1)"
   ]
  },
  {
   "cell_type": "code",
   "execution_count": 29,
   "id": "47b08497",
   "metadata": {},
   "outputs": [
    {
     "data": {
      "text/plain": [
       "1"
      ]
     },
     "execution_count": 29,
     "metadata": {},
     "output_type": "execute_result"
    }
   ],
   "source": [
    "factorial(0)"
   ]
  },
  {
   "cell_type": "markdown",
   "id": "09f738c8",
   "metadata": {},
   "source": [
    "# Q5.Hamming distance is the number of characters that differ between two strings ?\n",
    "To illustrate:\n",
    "\n",
    "String1: \"abcbba\"\n",
    "\n",
    "String2: \"abcbda\"\n",
    "\n",
    "Hamming Distance: 1 - \"b\" vs. \"d\" is the only difference.\n",
    "\n",
    "Create a function that computes the hamming distance between two strings.\n",
    "Examples:\n",
    "\n",
    "hamming_distance(\"abcde\", \"bcdef\") ➞ 5\n",
    "\n",
    "hamming_distance(\"abcde\", \"abcde\") ➞ 0\n",
    "\n",
    "hamming_distance(\"strong\", \"strung\") ➞ 1"
   ]
  },
  {
   "cell_type": "code",
   "execution_count": 32,
   "id": "994e57cc",
   "metadata": {},
   "outputs": [
    {
     "name": "stdout",
     "output_type": "stream",
     "text": [
      "Enter the 1st string-->ABCDE\n",
      "Enter the 2nd string-->BCDEF\n",
      "The hamming distance between abcde and bcdef-->5\n",
      "\n",
      "Enter the 1st string-->ABCDE\n",
      "Enter the 2nd string-->abcde\n",
      "The hamming distance between abcde and abcde-->0\n",
      "\n",
      "Enter the 1st string-->strong\n",
      "Enter the 2nd string-->STRUNG\n",
      "The hamming distance between strong and strung-->1\n",
      "\n"
     ]
    }
   ],
   "source": [
    "def hamming_distance():\n",
    "    try:\n",
    "        s1=input(\"Enter the 1st string-->\")\n",
    "        s2=input(\"Enter the 2nd string-->\")\n",
    "        s1_lower=s1.lower()\n",
    "        s2_lower=s2.lower()\n",
    "        if len(s1_lower)==len(s2_lower):\n",
    "            count=0\n",
    "            for i in range(len(s1_lower)):\n",
    "                if s1_lower[i]!=s2_lower[i]:\n",
    "                    count=count+1\n",
    "            print(f\"The hamming distance between {s1_lower} and {s2_lower}-->{count}\\n\")\n",
    "        else:\n",
    "            print(\"Both length of both string should be same\")\n",
    "    except Exception as e:\n",
    "        print(e)\n",
    "        \n",
    "hamming_distance()\n",
    "hamming_distance()\n",
    "hamming_distance()\n",
    "\n",
    "        "
   ]
  }
 ],
 "metadata": {
  "kernelspec": {
   "display_name": "Python 3 (ipykernel)",
   "language": "python",
   "name": "python3"
  },
  "language_info": {
   "codemirror_mode": {
    "name": "ipython",
    "version": 3
   },
   "file_extension": ".py",
   "mimetype": "text/x-python",
   "name": "python",
   "nbconvert_exporter": "python",
   "pygments_lexer": "ipython3",
   "version": "3.10.2"
  }
 },
 "nbformat": 4,
 "nbformat_minor": 5
}
