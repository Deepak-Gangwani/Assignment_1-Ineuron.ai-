{
 "cells": [
  {
   "cell_type": "markdown",
   "id": "214fd29d",
   "metadata": {},
   "source": [
    "# Q1.Write a Python Program to find the factorial of a number ?"
   ]
  },
  {
   "cell_type": "code",
   "execution_count": 6,
   "id": "78d7689e",
   "metadata": {},
   "outputs": [
    {
     "name": "stdout",
     "output_type": "stream",
     "text": [
      "Enter the number to form factorial-->5\n",
      "The factorial of 5 is 120\n"
     ]
    }
   ],
   "source": [
    "def factorial(n):\n",
    "    try:\n",
    "        if n<=1:\n",
    "            return n\n",
    "        else:\n",
    "            return n*factorial(n-1)\n",
    "    except Exception as e:\n",
    "        print(e)\n",
    "        return factorial(n)\n",
    "      \n",
    "num=int(input(\"Enter the number to form factorial-->\"))\n",
    "print(f\"The factorial of {num} is {factorial(num)}\")"
   ]
  },
  {
   "cell_type": "markdown",
   "id": "6ba44111",
   "metadata": {},
   "source": [
    "# Q2.Write a Python Program to display the multiplication table ?"
   ]
  },
  {
   "cell_type": "code",
   "execution_count": 7,
   "id": "2bab62aa",
   "metadata": {},
   "outputs": [
    {
     "name": "stdout",
     "output_type": "stream",
     "text": [
      "Enter the number to form table-->5\n",
      "5X0=0\n",
      "5X1=5\n",
      "5X2=10\n",
      "5X3=15\n",
      "5X4=20\n",
      "5X5=25\n",
      "5X6=30\n",
      "5X7=35\n",
      "5X8=40\n",
      "5X9=45\n",
      "5X10=50\n"
     ]
    }
   ],
   "source": [
    "def MultiTable(n):\n",
    "    try:\n",
    "        for i in range(11):\n",
    "            print(f\"{n}X{i}={n*i}\")\n",
    "    except:\n",
    "        print(\"you have entered invalid input\")\n",
    "        \n",
    "num=int(input(\"Enter the number to form table-->\"))\n",
    "MultiTable(num)"
   ]
  },
  {
   "cell_type": "markdown",
   "id": "05cd4079",
   "metadata": {},
   "source": [
    "# Q3.Write a Python Program to print the fibonacci sequence ?"
   ]
  },
  {
   "cell_type": "code",
   "execution_count": 10,
   "id": "e6bdd0ff",
   "metadata": {},
   "outputs": [
    {
     "name": "stdout",
     "output_type": "stream",
     "text": [
      "\n",
      "Enter the no of fibonacci sequences--> -2\n",
      "\n",
      "You cannot enter count below zero to form fibonacci\n",
      "\n",
      "Enter the no of fibonacci sequences--> 1\n",
      "[0, 1]\n",
      "\n",
      "Enter the no of fibonacci sequences--> 10\n",
      "\n",
      "The count 10 enter by you to form fibonacci is [0, 1, 1, 2, 3, 5, 8, 13, 21, 34]\n"
     ]
    }
   ],
   "source": [
    "def fibonacci():\n",
    "    count = int(input(\"\\nEnter the no of fibonacci sequences--> \"))\n",
    "    l = [0,1]\n",
    "    if count < 0:\n",
    "        print(\"\\nYou cannot enter count below zero to form fibonacci\")\n",
    "        return fibonacci()\n",
    "    elif count <= 2 and count >= 0:\n",
    "        print([0,1])\n",
    "        return fibonacci()\n",
    "    else:\n",
    "        for i in range(count):\n",
    "            if i >= 2:\n",
    "                l.append(l[i-1]+l[i-2])\n",
    "        print(f\"\\nThe count {count} enter by you to form fibonacci is {l}\")\n",
    "        \n",
    "fibonacci()"
   ]
  },
  {
   "cell_type": "markdown",
   "id": "cae26563",
   "metadata": {},
   "source": [
    "# Q4.Write a Python Program to check Armstrong number ?"
   ]
  },
  {
   "cell_type": "code",
   "execution_count": 17,
   "id": "afd281ca",
   "metadata": {},
   "outputs": [
    {
     "name": "stdout",
     "output_type": "stream",
     "text": [
      "Enter the number-->159\n",
      "159 is not an Armstrong number\n",
      "Enter the number-->153\n",
      "153 is an Armstrong number\n"
     ]
    }
   ],
   "source": [
    "def Armstrong():\n",
    "    n=int(input(\"Enter the number-->\"))\n",
    "    sum=0\n",
    "    order=len(str(n))\n",
    "    copy_n=n\n",
    "    while(n>0):\n",
    "        digit=n%10\n",
    "        sum=sum+digit**order\n",
    "        n=n//10\n",
    "    if sum==copy_n:\n",
    "        print(f\"{copy_n} is an Armstrong number\")\n",
    "    else:\n",
    "        print(f\"{copy_n} is not an Armstrong number\")\n",
    "        return Armstrong()\n",
    "        \n",
    "\n",
    "Armstrong()"
   ]
  },
  {
   "cell_type": "markdown",
   "id": "74c2ba5f",
   "metadata": {},
   "source": [
    "# Q5.Write a Python Program to Find Armstrong number in an interval ?"
   ]
  },
  {
   "cell_type": "code",
   "execution_count": 17,
   "id": "4deaf38f",
   "metadata": {},
   "outputs": [
    {
     "name": "stdout",
     "output_type": "stream",
     "text": [
      "Enter the start number-->1\n",
      "Enter the Ending number-->100\n",
      "\n",
      "--------The Armstrong number between 1 to 100 are-------\n",
      "[1, 2, 3, 4, 5, 6, 7, 8, 9]\n"
     ]
    }
   ],
   "source": [
    "def Armstrong():\n",
    "    n1=int(input(\"Enter the start number-->\"))\n",
    "    n2=int(input(\"Enter the Ending number-->\"))\n",
    "    print(f\"\\n--------The Armstrong number between {n1} to {n2} are-------\")\n",
    "    l=[]\n",
    "    for num in range(n1,n2+1):\n",
    "        sum=0\n",
    "        order=len(str(num))\n",
    "        copy_n=num\n",
    "        while(num>0):\n",
    "            digit=num%10\n",
    "            sum=sum+digit**order\n",
    "            num=num//10\n",
    "        if sum==copy_n:\n",
    "            l.append(copy_n)\n",
    "    print(l)\n",
    "\n",
    "        \n",
    "        \n",
    "Armstrong()                "
   ]
  },
  {
   "cell_type": "markdown",
   "id": "ea962604",
   "metadata": {},
   "source": [
    "# Q6.Write a Python Program to sum of natural numbers ?"
   ]
  },
  {
   "cell_type": "code",
   "execution_count": 18,
   "id": "dea15eb1",
   "metadata": {},
   "outputs": [
    {
     "name": "stdout",
     "output_type": "stream",
     "text": [
      "Enter the number-->5\n",
      "The sum of natural nnumbers are-->15.0\n"
     ]
    }
   ],
   "source": [
    "def SumOfNatural(n):\n",
    "    print(f\"The sum of natural nnumbers are-->{n*((n+1)/2)}\")\n",
    "    \n",
    "n=int(input(\"Enter the number-->\"))\n",
    "SumOfNatural(n)"
   ]
  }
 ],
 "metadata": {
  "kernelspec": {
   "display_name": "Python 3 (ipykernel)",
   "language": "python",
   "name": "python3"
  },
  "language_info": {
   "codemirror_mode": {
    "name": "ipython",
    "version": 3
   },
   "file_extension": ".py",
   "mimetype": "text/x-python",
   "name": "python",
   "nbconvert_exporter": "python",
   "pygments_lexer": "ipython3",
   "version": "3.10.2"
  }
 },
 "nbformat": 4,
 "nbformat_minor": 5
}
