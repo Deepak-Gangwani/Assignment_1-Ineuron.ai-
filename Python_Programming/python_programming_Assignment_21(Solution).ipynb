{
 "cells": [
  {
   "cell_type": "markdown",
   "id": "abc67c86",
   "metadata": {},
   "source": [
    "# Q1.Write a function that takes a list and a number as arguments. Add the number to the end of the list, then remove the first element of the list. The function should then return the updated list.\n",
    "Examples:\n",
    "\n",
    "next_in_line([5, 6, 7, 8, 9], 1) ➞ [6, 7, 8, 9, 1]\n",
    "\n",
    "next_in_line([7, 6, 3, 23, 17], 10) ➞ [6, 3, 23, 17, 10]\n",
    "\n",
    "next_in_line([1, 10, 20, 42 ], 6) ➞ [10, 20, 42, 6]\n",
    "\n",
    "next_in_line([], 6) ➞ \"No list has been selected\""
   ]
  },
  {
   "cell_type": "code",
   "execution_count": 9,
   "id": "b3368970",
   "metadata": {},
   "outputs": [
    {
     "name": "stdout",
     "output_type": "stream",
     "text": [
      "([5, 6, 7, 8, 9], 1)-->[6, 7, 8, 9, 1]\n",
      "\n",
      "([7, 6, 3, 23, 17], 10)-->[6, 3, 23, 17, 10]\n",
      "\n",
      "([1, 10, 20, 42], 6)-->[10, 20, 42, 6]\n",
      "\n",
      "([], 6)-->No list has been selected\n"
     ]
    }
   ],
   "source": [
    "def next_in_line(l,ele):\n",
    "    try:\n",
    "        if l==[]:\n",
    "            print(f\"{l,ele}-->\",end=\"\")\n",
    "            print(\"No list has been selected\")\n",
    "        else:\n",
    "            print(f\"{l,ele}-->\",end=\"\")\n",
    "            l.remove(l[0])\n",
    "            l.append(ele)\n",
    "            print(f\"{l}\\n\")\n",
    "    except Exception as e:\n",
    "        print(e)\n",
    "        \n",
    "        \n",
    "next_in_line([5,6,7,8,9],1)\n",
    "next_in_line([7,6,3,23,17],10)\n",
    "next_in_line([1,10,20,42],6)\n",
    "next_in_line([],6)"
   ]
  },
  {
   "cell_type": "markdown",
   "id": "7e1e406c",
   "metadata": {},
   "source": [
    "# Q2.Create the function that takes a list of dictionaries and returns the sum of people's budgets.\n",
    "Examples:\n",
    "\n",
    "get_budgets([\n",
    "{ \"name\": \"John\", \"age\": 21, \"budget\": 23000 },\n",
    "{ \"name\": \"Steve\", \"age\": 32, \"budget\": 40000 },\n",
    "{ \"name\": \"Martin\", \"age\": 16, \"budget\": 2700 }\n",
    "]) ➞ 65700\n",
    "\n",
    "get_budgets([\n",
    "{ \"name\": \"John\", \"age\": 21, \"budget\": 29000 },\n",
    "{ \"name\": \"Steve\", \"age\": 32, \"budget\": 32000 },\n",
    "{ \"name\": \"Martin\", \"age\": 16, \"budget\": 1600 }\n",
    "]) ➞ 62600"
   ]
  },
  {
   "cell_type": "code",
   "execution_count": 10,
   "id": "4d3488b8",
   "metadata": {},
   "outputs": [
    {
     "name": "stdout",
     "output_type": "stream",
     "text": [
      "The sum of budget of [{'name': 'John', 'age': 21, 'budget': 23000}, {'name': 'Steve', 'age': 32, 'budget': 40000}, {'name': 'Martin', 'age': 16, 'budget': 2700}]-->65700\n",
      "\n",
      "The sum of budget of [{'name': 'John', 'age': 21, 'budget': 29000}, {'name': 'Steve', 'age': 32, 'budget': 32000}, {'name': 'Martin', 'age': 16, 'budget': 1600}]-->62600\n",
      "\n"
     ]
    }
   ],
   "source": [
    "def get_budgets(l):\n",
    "    try:\n",
    "        sum=0\n",
    "        for i in l:\n",
    "            sum=sum+i[\"budget\"]\n",
    "        print(f\"The sum of budget of {l}-->{sum}\\n\")\n",
    "    except Exception as e:\n",
    "        print(e)\n",
    "        \n",
    "get_budgets([{ \"name\": \"John\", \"age\": 21, \"budget\": 23000 }, { \"name\": \"Steve\", \"age\": 32, \"budget\": 40000 }, { \"name\": \"Martin\", \"age\": 16, \"budget\": 2700 }]) \n",
    "get_budgets([ { \"name\": \"John\", \"age\": 21, \"budget\": 29000 }, { \"name\": \"Steve\", \"age\": 32, \"budget\": 32000 }, { \"name\": \"Martin\", \"age\": 16, \"budget\": 1600 } ])"
   ]
  },
  {
   "cell_type": "markdown",
   "id": "397422de",
   "metadata": {},
   "source": [
    "# Q3.Create a function that takes a string and returns a string with its letters in alphabetical order.\n",
    "Examples:\n",
    "    \n",
    "alphabet_soup(\"hello\") ➞ \"ehllo\"\n",
    "\n",
    "alphabet_soup(\"edabit\") ➞ \"abdeit\"\n",
    "\n",
    "alphabet_soup(\"hacker\") ➞ \"acehkr\"\n",
    "\n",
    "alphabet_soup(\"geek\") ➞ \"eegk\"\n",
    "\n",
    "alphabet_soup(\"javascript\") ➞ \"aacijprstv\""
   ]
  },
  {
   "cell_type": "code",
   "execution_count": 24,
   "id": "9c99dfaf",
   "metadata": {},
   "outputs": [
    {
     "name": "stdout",
     "output_type": "stream",
     "text": [
      "The alphabetical order of hello-->ehllo\n",
      "\n",
      "The alphabetical order of edabit-->abdeit\n",
      "\n",
      "The alphabetical order of hacker-->acehkr\n",
      "\n",
      "The alphabetical order of geek-->eegk\n",
      "\n",
      "The alphabetical order of javascript-->aacijprstv\n",
      "\n"
     ]
    }
   ],
   "source": [
    "def alphabet_soup(string):\n",
    "    try:\n",
    "        string_new=''.join(sorted(string.lower()))\n",
    "        print(f\"The alphabetical order of {string}-->{string_new}\\n\")\n",
    "    except Exception as e:\n",
    "        print(e)\n",
    "    \n",
    "alphabet_soup(\"hello\") \n",
    "\n",
    "alphabet_soup(\"edabit\")\n",
    "\n",
    "alphabet_soup(\"hacker\")\n",
    "\n",
    "alphabet_soup(\"geek\")\n",
    "\n",
    "alphabet_soup(\"javascript\") "
   ]
  },
  {
   "cell_type": "markdown",
   "id": "6e8063a4",
   "metadata": {},
   "source": [
    "# Q4.Suppose that you invest 10,000 for 10 years at an interest rate of 6% compounded monthly.What will be the value of your investment at the end of the 10 year period?\n",
    "Create a function that accepts the principal p, the term in years t, the interest rate r, and the\n",
    "number of compounding periods per year n. The function returns the value at the end of term\n",
    "rounded to the nearest cent.\n",
    "\n",
    "For the example above:\n",
    "\n",
    "compound_interest(10000, 10, 0.06, 12) ➞ 18193.97\n",
    "\n",
    "Note that the interest rate is given as a decimal and n=12 because with monthly compounding\n",
    "there are 12 periods per year. Compounding can also be done annually, quarterly, weekly, or\n",
    "daily.\n",
    "\n",
    "Examples:\n",
    "\n",
    "compound_interest(100, 1, 0.05, 1) ➞ 105.0\n",
    "\n",
    "compound_interest(3500, 15, 0.1, 4) ➞ 15399.26\n",
    "\n",
    "compound_interest(100000, 20, 0.15, 365) ➞ 2007316.26"
   ]
  },
  {
   "cell_type": "code",
   "execution_count": 29,
   "id": "7eafc98d",
   "metadata": {},
   "outputs": [
    {
     "name": "stdout",
     "output_type": "stream",
     "text": [
      "Enter the principle amount-->10000\n",
      "Enter the number of years-->10\n",
      "Enter the rate of interst-->0.06\n",
      "Enter the number of compounding periods per year-->12\n",
      "The compound interst of given input-->18193.9673403229\n",
      "\n",
      "Enter the principle amount-->100\n",
      "Enter the number of years-->1\n",
      "Enter the rate of interst-->0.05\n",
      "Enter the number of compounding periods per year-->1\n",
      "The compound interst of given input-->105.0\n",
      "\n",
      "Enter the principle amount-->3500\n",
      "Enter the number of years-->15\n",
      "Enter the rate of interst-->0.1\n",
      "Enter the number of compounding periods per year-->4\n",
      "The compound interst of given input-->15399.264120852586\n",
      "\n",
      "Enter the principle amount-->100000\n",
      "Enter the number of years-->20\n",
      "Enter the rate of interst-->0.15\n",
      "Enter the number of compounding periods per year-->365\n",
      "The compound interst of given input-->2007316.2632325366\n",
      "\n"
     ]
    }
   ],
   "source": [
    "def compound_interest():\n",
    "    try:\n",
    "        p=int(input(\"Enter the principle amount-->\"))\n",
    "        t=int(input(\"Enter the number of years-->\"))\n",
    "        r=float(input(\"Enter the rate of interst-->\"))\n",
    "        n=int(input(\"Enter the number of compounding periods per year-->\"))# give input in week,days or year form\n",
    "        ci = p*(1+(r/n))**(n*t)\n",
    "        print(f\"The compound interst of given input-->{ci}\\n\")\n",
    "    except Exception as e:\n",
    "        print(e)\n",
    "        \n",
    "compound_interest()   \n",
    "compound_interest()   \n",
    "compound_interest()   \n",
    "compound_interest()   "
   ]
  },
  {
   "cell_type": "markdown",
   "id": "d2c7393c",
   "metadata": {},
   "source": [
    "# Q5.Write a function that takes a list of elements and returns only the integers.\n",
    "Examples:\n",
    "\n",
    "return_only_integer([9, 2, \"space\", \"car\", \"lion\", 16]) ➞ [9, 2, 16]\n",
    "\n",
    "return_only_integer([\"hello\", 81, \"basketball\", 123, \"fox\"]) ➞ [81, 123]\n",
    "\n",
    "return_only_integer([10, \"121\", 56, 20, \"car\", 3, \"lion\"]) ➞ [10, 56, 20,3]\n",
    "\n",
    "return_only_integer([\"String\", True, 3.3, 1]) ➞ [1]"
   ]
  },
  {
   "cell_type": "code",
   "execution_count": 45,
   "id": "246d0414",
   "metadata": {},
   "outputs": [
    {
     "name": "stdout",
     "output_type": "stream",
     "text": [
      "The segregation of [9, 2, 'space', 'car', 'lion', 16]-->[9, 2, 16]\n",
      "\n",
      "The segregation of ['hello', 81, 'basketball', 123, 'fox']-->[81, 123]\n",
      "\n",
      "The segregation of [10, '121', 56, 20, 'car', 3, 'lion']-->[10, 56, 20, 3]\n",
      "\n",
      "The segregation of ['String', True, 3.3, 1]-->[1]\n",
      "\n",
      "The segregation of ['a', 'b']-->[]\n",
      "\n"
     ]
    }
   ],
   "source": [
    "def return_only_integer(l):\n",
    "    try:\n",
    "        new_l=[]\n",
    "        for i in l:\n",
    "            if type(i)==int:\n",
    "                new_l.append(i)\n",
    "        print(f\"The segregation of {l}-->{new_l}\\n\")        \n",
    "    except Exception as e:\n",
    "        print(e)\n",
    "        \n",
    "        \n",
    "return_only_integer([9, 2, \"space\", \"car\", \"lion\", 16]) \n",
    "return_only_integer([\"hello\", 81, \"basketball\", 123, \"fox\"])\n",
    "return_only_integer([10, \"121\", 56, 20, \"car\", 3, \"lion\"])\n",
    "return_only_integer([\"String\", True, 3.3, 1])\n",
    "return_only_integer(['a','b'])"
   ]
  }
 ],
 "metadata": {
  "kernelspec": {
   "display_name": "Python 3 (ipykernel)",
   "language": "python",
   "name": "python3"
  },
  "language_info": {
   "codemirror_mode": {
    "name": "ipython",
    "version": 3
   },
   "file_extension": ".py",
   "mimetype": "text/x-python",
   "name": "python",
   "nbconvert_exporter": "python",
   "pygments_lexer": "ipython3",
   "version": "3.10.2"
  }
 },
 "nbformat": 4,
 "nbformat_minor": 5
}
