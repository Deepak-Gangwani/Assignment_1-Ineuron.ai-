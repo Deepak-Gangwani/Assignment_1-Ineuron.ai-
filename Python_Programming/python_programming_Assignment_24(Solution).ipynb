{
 "cells": [
  {
   "cell_type": "markdown",
   "id": "c4bc9249",
   "metadata": {},
   "source": [
    "# Q1.Create a function that takes an integer and returns a list from 1 to the given number, where:\n",
    "1.If the number can be divided evenly by 4, amplify it by 10 (i.e. return 10 times the number).\n",
    "\n",
    "2.If the number cannot be divided evenly by 4, simply return the number.\n",
    "\n",
    "Examples:\n",
    "\n",
    "amplify(4) ➞ [1, 2, 3, 40]\n",
    "\n",
    "amplify(3) ➞ [1, 2, 3]\n",
    "\n",
    "amplify(25) ➞ [1, 2, 3, 40, 5, 6, 7, 80, 9, 10, 11, 120, 13, 14, 15, 160, 17, 18, 19, 200, 21, 22, 23, 240, 25]"
   ]
  },
  {
   "cell_type": "code",
   "execution_count": 7,
   "id": "03e149e0",
   "metadata": {},
   "outputs": [
    {
     "name": "stdout",
     "output_type": "stream",
     "text": [
      "Enter the number of list you want-->4\n",
      "amplify numbers between 1 to 4 is [1, 2, 3, 40]\n",
      "\n",
      "Enter the number of list you want-->3\n",
      "amplify numbers between 1 to 3 is [1, 2, 3]\n",
      "\n",
      "Enter the number of list you want-->25\n",
      "amplify numbers between 1 to 25 is [1, 2, 3, 40, 5, 6, 7, 80, 9, 10, 11, 120, 13, 14, 15, 160, 17, 18, 19, 200, 21, 22, 23, 240, 25]\n",
      "\n"
     ]
    }
   ],
   "source": [
    "def amplify():\n",
    "    try:\n",
    "        n=int(input(\"Enter the number of list you want-->\"))\n",
    "        l=[]\n",
    "        for i in range(1,n+1):\n",
    "            if i%4==0:\n",
    "                l.append(i*10)\n",
    "            else:\n",
    "                l.append(i)\n",
    "        print(f\"amplify numbers between 1 to {n} is {l}\\n\")\n",
    "    except Exception as e:\n",
    "        print(e)\n",
    "        \n",
    "amplify()  \n",
    "amplify()\n",
    "amplify()"
   ]
  },
  {
   "cell_type": "markdown",
   "id": "5e090623",
   "metadata": {},
   "source": [
    "# Q2.Create a function that takes a list of numbers and return the number that's unique.\n",
    "\n",
    "Examples:\n",
    "\n",
    "unique([3, 3, 3, 7, 3, 3]) ➞ 7\n",
    "\n",
    "unique([0, 0, 0.77, 0, 0]) ➞ 0.77\n",
    "\n",
    "unique([0, 1, 1, 1, 1, 1, 1, 1]) ➞ 0\n",
    "\n",
    "Notes:\n",
    "Test cases will always have exactly one unique number while all others are the same."
   ]
  },
  {
   "cell_type": "code",
   "execution_count": 12,
   "id": "16456d61",
   "metadata": {},
   "outputs": [
    {
     "name": "stdout",
     "output_type": "stream",
     "text": [
      "The unique digit from [3, 3, 3, 7, 3, 3]--> 7\n",
      "\n",
      "The unique digit from [0, 0, 0.77, 0, 0]--> 0.77\n",
      "\n",
      "The unique digit from [0, 1, 1, 1, 1, 1, 1]--> 0\n",
      "\n"
     ]
    }
   ],
   "source": [
    "def unique(l):\n",
    "    try:\n",
    "        unique_l=\"\"\n",
    "        for i in l:\n",
    "            if l.count(i)==1:\n",
    "                unique_l=i\n",
    "        print(f\"The unique digit from {l}--> {unique_l}\\n\")    \n",
    "    except Exception as e:\n",
    "        print(e)\n",
    "        \n",
    "list1=[3,3,3,7,3,3]\n",
    "unique(list1)\n",
    "list2=[0,0,0.77,0,0]\n",
    "unique(list2)\n",
    "list3=[0,1,1,1,1,1,1]\n",
    "unique(list3)"
   ]
  },
  {
   "cell_type": "markdown",
   "id": "f1c455f1",
   "metadata": {},
   "source": [
    "# Q3.Your task is to create a Circle constructor that creates a circle with a radius provided by an argument. The circles constructed must have two getters getArea() (PIr^2) and getPerimeter() (2PI*r) which give both respective areas and perimeter (circumference). For help with this class, I have provided you with a Rectangle constructor which you can use as a base example ?\n",
    "\n",
    "Examples:\n",
    "# 1)\n",
    "circy = Circle(11)\n",
    "\n",
    "circy.getArea()\n",
    "\n",
    "Should return 380.132711084365\n",
    "\n",
    "# 2)\n",
    "circy = Circle(4.44)\n",
    "\n",
    "circy.getPerimeter()\n",
    "\n",
    "Should return 27.897342763877365\n",
    "\n",
    "Notes:\n",
    "Round results up to the nearest integer."
   ]
  },
  {
   "cell_type": "code",
   "execution_count": 33,
   "id": "85e783a7",
   "metadata": {},
   "outputs": [
    {
     "name": "stdout",
     "output_type": "stream",
     "text": [
      "The Area of circle is 380.132711084365\n",
      "\n",
      "The perimeter of circle is 27.897342763877365\n",
      "\n"
     ]
    }
   ],
   "source": [
    "import math\n",
    "\n",
    "class circle:\n",
    "    def __init__(self,radius):\n",
    "        self.radius= radius\n",
    "        \n",
    "    def getArea(self):\n",
    "        try:\n",
    "            print(f\"The Area of circle is {float(math.pi*(self.radius**2))}\\n\")\n",
    "        except Exception as e:\n",
    "            print(e)\n",
    "    \n",
    "    def getPerimeter(self):\n",
    "        try:\n",
    "            print(f\"The perimeter of circle is {float(2*math.pi*self.radius)}\\n\")\n",
    "        except Exception as e:\n",
    "            print(e)\n",
    "            \n",
    "            \n",
    "circy=circle(11)\n",
    "circy.getArea()\n",
    "\n",
    "\n",
    "circy=circle(4.44)\n",
    "circy.getPerimeter()"
   ]
  },
  {
   "cell_type": "markdown",
   "id": "315de31d",
   "metadata": {},
   "source": [
    "# Q4.Create a function that takes a list of strings and return a list, sorted from shortest to longest.\n",
    "Examples:\n",
    "\n",
    "sort_by_length([\"Google\", \"Apple\", \"Microsoft\"])\n",
    "➞ [\"Apple\", \"Google\", \"Microsoft\"]\n",
    "\n",
    "sort_by_length([\"Leonardo\", \"Michelangelo\", \"Raphael\", \"Donatello\"])\n",
    "➞ [\"Raphael\", \"Leonardo\", \"Donatello\", \"Michelangelo\"]\n",
    "\n",
    "sort_by_length([\"Turing\", \"Einstein\", \"Jung\"])\n",
    "➞ [\"Jung\", \"Turing\", \"Einstein\"]\n",
    "\n",
    "Notes:\n",
    "All test cases contain lists with strings of different lengths, so you won't have to deal with multiple strings of the same length."
   ]
  },
  {
   "cell_type": "code",
   "execution_count": 32,
   "id": "3d264765",
   "metadata": {},
   "outputs": [
    {
     "name": "stdout",
     "output_type": "stream",
     "text": [
      "The sort_by_length(['Google', 'Apple', 'Microsoft'])-->['Apple', 'Google', 'Microsoft']\n",
      "\n",
      "The sort_by_length(['Leonardo', 'Michelangelo', 'Raphael', 'Donatello'])-->['Raphael', 'Leonardo', 'Donatello', 'Michelangelo']\n",
      "\n",
      "The sort_by_length(['Turing', 'Einstein', 'Jung'])-->['Jung', 'Turing', 'Einstein']\n",
      "\n"
     ]
    }
   ],
   "source": [
    "def sort_by_length(l):\n",
    "    try:\n",
    "        print(f\"The sort_by_length({l})-->{sorted(l,key=len)}\\n\")\n",
    "    except Exception as e:\n",
    "        print(e)\n",
    "        \n",
    "l1=[\"Google\", \"Apple\", \"Microsoft\"]\n",
    "l2=[\"Leonardo\", \"Michelangelo\", \"Raphael\", \"Donatello\"]\n",
    "l3=[\"Turing\", \"Einstein\", \"Jung\"]\n",
    "sort_by_length(l1)\n",
    "sort_by_length(l2)\n",
    "sort_by_length(l3)"
   ]
  },
  {
   "cell_type": "markdown",
   "id": "30512df8",
   "metadata": {},
   "source": [
    "# Q5.Create a function that validates whether three given integers form a Pythagorean triplet. The sum of the squares of the two smallest integers must equal the square of the largest number to be validated.\n",
    "Examples:\n",
    "\n",
    "1)`is_triplet(3, 4, 5) ➞ True\n",
    "\n",
    " 3² + 4² = 25\n",
    " \n",
    " 5² = 25\n",
    "\n",
    "2)is_triplet(13, 5, 12) ➞ True\n",
    "\n",
    " 5² + 12² = 169\n",
    " \n",
    " 13² = 169\n",
    "\n",
    "3)is_triplet(1, 2, 3) ➞ False\n",
    "\n",
    " 1² + 2² = 5\n",
    " \n",
    " 3² = 9`\n",
    "\n",
    "Notes: Numbers may not be given in a sorted order."
   ]
  },
  {
   "cell_type": "code",
   "execution_count": 35,
   "id": "913a01ae",
   "metadata": {},
   "outputs": [
    {
     "name": "stdout",
     "output_type": "stream",
     "text": [
      "The input (3, 4, 5) for pythagorean triplet is True\n",
      "\n",
      "The input (13, 5, 12) for pythagorean triplet is True\n",
      "\n",
      "The input (1, 2, 3) for pythagorean triplet is False\n",
      "\n"
     ]
    }
   ],
   "source": [
    "def Pythagorean_triplet(a,b,c):\n",
    "    try:\n",
    "        max=a\n",
    "        if b>max:\n",
    "            max=b\n",
    "        if c>max:\n",
    "            max=c\n",
    "        if max==a:\n",
    "            flag=(a**2)==(b**2)+(c**2)\n",
    "            print(f\"The input {(a,b,c)} for pythagorean triplet is {flag}\\n\")\n",
    "        if max==b:\n",
    "            flag=(b**2)==(a**2)+(c**2)\n",
    "            print(f\"The input {(a,b,c)} for pythagorean triplet is {flag}\\n\")    \n",
    "        if max==c:\n",
    "            flag=(c**2)==(a**2)+(b**2)\n",
    "            print(f\"The input {(a,b,c)} for pythagorean triplet is {flag}\\n\")\n",
    "    except Exception as e:\n",
    "        print(e)\n",
    "        \n",
    "Pythagorean_triplet(3,4,5) \n",
    "Pythagorean_triplet(13,5,12)\n",
    "Pythagorean_triplet(1,2,3)"
   ]
  }
 ],
 "metadata": {
  "kernelspec": {
   "display_name": "Python 3 (ipykernel)",
   "language": "python",
   "name": "python3"
  },
  "language_info": {
   "codemirror_mode": {
    "name": "ipython",
    "version": 3
   },
   "file_extension": ".py",
   "mimetype": "text/x-python",
   "name": "python",
   "nbconvert_exporter": "python",
   "pygments_lexer": "ipython3",
   "version": "3.10.2"
  }
 },
 "nbformat": 4,
 "nbformat_minor": 5
}
