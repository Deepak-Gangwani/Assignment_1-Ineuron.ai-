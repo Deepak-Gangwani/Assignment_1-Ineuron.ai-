{
 "cells": [
  {
   "cell_type": "markdown",
   "id": "fb216112",
   "metadata": {},
   "source": [
    "# Q1.Write a Python Program to check if the given number is a Disarium Number ?"
   ]
  },
  {
   "cell_type": "code",
   "execution_count": 13,
   "id": "69670c0a",
   "metadata": {},
   "outputs": [
    {
     "name": "stdout",
     "output_type": "stream",
     "text": [
      "Enter the number-->sasa\n",
      "invalid literal for int() with base 10: 's'\n",
      "Enter the number-->89\n",
      "89 is an Disarium number\n"
     ]
    }
   ],
   "source": [
    "def Disarium():\n",
    "    try:\n",
    "        n=input(\"Enter the number-->\")\n",
    "        sum=0\n",
    "        for digit in range(len(n)):\n",
    "            sum=sum+int(n[digit])**(digit+1)\n",
    "        if sum==int(n):\n",
    "            print(f\"{n} is an Disarium number\")\n",
    "        else:\n",
    "            print(f\"{n} is not an Disarium number\")\n",
    "    except Exception as e:\n",
    "        print(e)\n",
    "        return Disarium()\n",
    "\n",
    "Disarium()"
   ]
  },
  {
   "cell_type": "markdown",
   "id": "a1346c9b",
   "metadata": {},
   "source": [
    "# Q2.Write a Python Program to print all Disarium numbers between 1 to 100 ?"
   ]
  },
  {
   "cell_type": "code",
   "execution_count": 11,
   "id": "7aafe850",
   "metadata": {},
   "outputs": [
    {
     "name": "stdout",
     "output_type": "stream",
     "text": [
      "Enter the start number-->1\n",
      "Enter the Ending number-->100\n",
      "--------The Disarium number between 1 to 100---------\n"
     ]
    },
    {
     "data": {
      "text/plain": [
       "[1, 2, 3, 4, 5, 6, 7, 8, 9, 89]"
      ]
     },
     "execution_count": 11,
     "metadata": {},
     "output_type": "execute_result"
    }
   ],
   "source": [
    "def Disarium():\n",
    "    try:\n",
    "        n1=int(input(\"Enter the start number-->\"))\n",
    "        n2=int(input(\"Enter the Ending number-->\"))\n",
    "        print(f\"--------The Disarium number between {n1} to {n2}---------\")\n",
    "        l=[]\n",
    "        for n in range(n1,n2+1):\n",
    "            sum=0\n",
    "            for index in range(len(str(n))):\n",
    "                sum=sum+int(str(n)[index])**(index+1)\n",
    "            if sum==int(n):\n",
    "                l.append(n)\n",
    "        return l \n",
    "    except Exception as e:\n",
    "               print(e)\n",
    "        \n",
    "\n",
    "Disarium()"
   ]
  },
  {
   "cell_type": "markdown",
   "id": "b346985f",
   "metadata": {},
   "source": [
    "# Q3.Write a Python Program to check if the given number is Happy Number ?"
   ]
  },
  {
   "cell_type": "code",
   "execution_count": 15,
   "id": "2ea54015",
   "metadata": {},
   "outputs": [
    {
     "name": "stdout",
     "output_type": "stream",
     "text": [
      "Enter the number-->1\n",
      "1 is a Happy Number\n"
     ]
    }
   ],
   "source": [
    "def HappyNumber(n):\n",
    "    try:\n",
    "        n_copy=n\n",
    "        track=set()\n",
    "        while True:\n",
    "            if n != '1' and str(n) not in track:\n",
    "                trackNumber.add(in_num)\n",
    "                sum = 0\n",
    "                for i in range(len((n))):\n",
    "                    sum = sum + int(n[i])**2\n",
    "                n = str(sum)\n",
    "            elif str(n) in track:\n",
    "                print(f'{n_copy} is not a Happy Number')\n",
    "                break\n",
    "            else:\n",
    "                print(f'{n_copy} is a Happy Number')\n",
    "                break         \n",
    "    except Exception as e:\n",
    "        print(e)\n",
    "        \n",
    "        \n",
    "number=input(\"Enter the number-->\")\n",
    "#calling a function\n",
    "HappyNumber(number)\n",
    "            \n",
    "            \n",
    "            "
   ]
  },
  {
   "cell_type": "markdown",
   "id": "5b8c9ef7",
   "metadata": {},
   "source": [
    "# Q4.Write a Python Program to print all Happy numbers between 1 and 100 ?"
   ]
  },
  {
   "cell_type": "code",
   "execution_count": 8,
   "id": "a5206d37",
   "metadata": {},
   "outputs": [
    {
     "name": "stdout",
     "output_type": "stream",
     "text": [
      "Enter the start number-->1\n",
      "Enter the end number-->100\n",
      "can only concatenate str (not \"int\") to str\n"
     ]
    }
   ],
   "source": [
    "def HappyNumber(start,end):\n",
    "    try:\n",
    "        l=[]\n",
    "        for n in range(start,end+1):\n",
    "            n=str()\n",
    "            n_copy=n\n",
    "            track=set()\n",
    "            while True:\n",
    "                if n!=\"1\" and str(n) not in track:\n",
    "                    track.add(n)\n",
    "                    sum=0\n",
    "                    for i in range(len(n)):\n",
    "                        sum=sum+int(n[i])**2\n",
    "                    n=str(sum)\n",
    "                elif str(n) in track:\n",
    "                    break\n",
    "                else:\n",
    "                    l.append(int(n_copy))\n",
    "                    break\n",
    "        print(f\"The happy numbers between {start} and {end}-->{l}\")          \n",
    "    except Exception as e:\n",
    "        print(e)\n",
    "        \n",
    "        \n",
    "s=input(\"Enter the start number-->\")\n",
    "e=input(\"Enter the end number-->\")\n",
    "#calling a function\n",
    "HappyNumber(s,e)\n",
    "            \n",
    "            \n",
    "            "
   ]
  },
  {
   "cell_type": "markdown",
   "id": "07e0cfb6",
   "metadata": {},
   "source": [
    "# Q5. Write a Python Program to determine whether the given number is a Harshad Number ?"
   ]
  },
  {
   "cell_type": "code",
   "execution_count": 11,
   "id": "064b5dbb",
   "metadata": {},
   "outputs": [
    {
     "name": "stdout",
     "output_type": "stream",
     "text": [
      "Enter a number-->150\n",
      "150 is a Harshad Number\n"
     ]
    }
   ],
   "source": [
    "def Harshad(n):\n",
    "    try:\n",
    "        sum=0\n",
    "        for i in range(len(n)):\n",
    "            sum = sum + int(n[i])\n",
    "        if int(n)%sum==0:\n",
    "            print(f\"{n} is a Harshad Number\")\n",
    "        else:\n",
    "            print(f\"{n} is a not Harshad Number\")\n",
    "            return Harshad(n)\n",
    "    except Exception as e:\n",
    "        print(e)\n",
    "        \n",
    "number=input(\"Enter a number-->\")\n",
    "#calling a function\n",
    "Harshad(number)\n",
    "        "
   ]
  },
  {
   "cell_type": "markdown",
   "id": "8689ce13",
   "metadata": {},
   "source": [
    "# Q6.Write a Python Program to print all pronic numbers between 1 and 100 ?"
   ]
  },
  {
   "cell_type": "code",
   "execution_count": 13,
   "id": "3f84a43c",
   "metadata": {},
   "outputs": [
    {
     "name": "stdout",
     "output_type": "stream",
     "text": [
      "Enter the range to print pronic number-->100\n",
      "[0, 2, 6, 12, 20, 30, 42, 56, 72, 90, 110, 132, 156, 182, 210, 240, 272, 306, 342, 380, 420, 462, 506, 552, 600, 650, 702, 756, 812, 870, 930, 992, 1056, 1122, 1190, 1260, 1332, 1406, 1482, 1560, 1640, 1722, 1806, 1892, 1980, 2070, 2162, 2256, 2352, 2450, 2550, 2652, 2756, 2862, 2970, 3080, 3192, 3306, 3422, 3540, 3660, 3782, 3906, 4032, 4160, 4290, 4422, 4556, 4692, 4830, 4970, 5112, 5256, 5402, 5550, 5700, 5852, 6006, 6162, 6320, 6480, 6642, 6806, 6972, 7140, 7310, 7482, 7656, 7832, 8010, 8190, 8372, 8556, 8742, 8930, 9120, 9312, 9506, 9702, 9900]\n"
     ]
    }
   ],
   "source": [
    "def pronic(n):\n",
    "    try:\n",
    "        l=[]\n",
    "        for i in range(n):\n",
    "            l.append((i)*(i+1))\n",
    "        print(l)\n",
    "    except Exception as e:\n",
    "        print(e)\n",
    "    \n",
    "number=int(input(\"Enter the range to print pronic number-->\"))\n",
    "#calling a function\n",
    "pronic(number)\n"
   ]
  }
 ],
 "metadata": {
  "kernelspec": {
   "display_name": "Python 3 (ipykernel)",
   "language": "python",
   "name": "python3"
  },
  "language_info": {
   "codemirror_mode": {
    "name": "ipython",
    "version": 3
   },
   "file_extension": ".py",
   "mimetype": "text/x-python",
   "name": "python",
   "nbconvert_exporter": "python",
   "pygments_lexer": "ipython3",
   "version": "3.10.2"
  }
 },
 "nbformat": 4,
 "nbformat_minor": 5
}
