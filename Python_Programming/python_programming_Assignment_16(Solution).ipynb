{
 "cells": [
  {
   "cell_type": "markdown",
   "id": "c240a148",
   "metadata": {},
   "source": [
    "# Q1.Write a function that stutters a word as if someone is struggling to read it. The first two letters are repeated twice with an ellipsis ... and space after each, and then the word is pronounced with a question mark ?\n",
    "\n",
    "Examples: \n",
    "\n",
    "stutter(\"incredible\") ➞ \"in... in... incredible?\"\n",
    "\n",
    "stutter(\"enthusiastic\") ➞ \"en... en... enthusiastic?\"\n",
    "\n",
    "stutter(\"outstanding\") ➞ \"ou... ou... outstanding?\""
   ]
  },
  {
   "cell_type": "code",
   "execution_count": 6,
   "id": "9f82613c",
   "metadata": {},
   "outputs": [
    {
     "name": "stdout",
     "output_type": "stream",
     "text": [
      "Enter a word-->incredible\n",
      "The word incredible is slutter into -->in...in...incredible?\n",
      "\n",
      "Enter a word-->enthusiastic\n",
      "The word enthusiastic is slutter into -->en...en...enthusiastic?\n",
      "\n",
      "Enter a word-->outstanding\n",
      "The word outstanding is slutter into -->ou...ou...outstanding?\n",
      "\n"
     ]
    }
   ],
   "source": [
    "def slutter():\n",
    "    try:\n",
    "        s=input(\"Enter a word-->\")\n",
    "        \n",
    "        s_new=s.replace(s[0:2],((s[0:2]+\"...\")*2)+s[0:2])+\"?\"\n",
    "        \n",
    "        print(f\"The word {s} is slutter into -->{s_new}\\n\")\n",
    "    except Exception as e:\n",
    "        print(e)\n",
    "        \n",
    "slutter()       \n",
    "slutter()\n",
    "slutter()"
   ]
  },
  {
   "cell_type": "markdown",
   "id": "33c68d38",
   "metadata": {},
   "source": [
    "# Q2.Create a function that takes an angle in radians and returns the corresponding angle in degrees rounded to one decimal place ?\n",
    "Examples:\n",
    "    \n",
    "radians_to_degrees(1) ➞ 57.3\n",
    "\n",
    "radians_to_degrees(20) ➞ 1145.9\n",
    "\n",
    "radians_to_degrees(50) ➞ 2864.8"
   ]
  },
  {
   "cell_type": "code",
   "execution_count": 8,
   "id": "d4ad57a9",
   "metadata": {},
   "outputs": [
    {
     "name": "stdout",
     "output_type": "stream",
     "text": [
      "Enter the angle in radians-->1\n",
      "The corresponding angle in degrees-->57.3\n",
      "\n",
      "Enter the angle in radians-->20\n",
      "The corresponding angle in degrees-->1145.9\n",
      "\n",
      "Enter the angle in radians-->50\n",
      "The corresponding angle in degrees-->2864.8\n",
      "\n"
     ]
    }
   ],
   "source": [
    "import math\n",
    "\n",
    "def radians_to_degrees():\n",
    "    try:\n",
    "        d=int(input(\"Enter the angle in radians-->\"))\n",
    "        formula=d*(180/math.pi)\n",
    "        print(f\"The corresponding angle in degrees-->{formula:.1f}\\n\")\n",
    "    except Exception as e:\n",
    "        print(e)\n",
    "        \n",
    "radians_to_degrees()\n",
    "radians_to_degrees()\n",
    "radians_to_degrees()"
   ]
  },
  {
   "cell_type": "markdown",
   "id": "15ebb3f7",
   "metadata": {},
   "source": [
    "# Q3.In this challenge, establish if a given integer num is a Curzon number. If 1 plus 2 elevated to num is exactly divisible by 1 plus 2 multiplied by num, then num is a Curzon number. Given a non-negative integer num, implement a function that returns True if num is a Curzon number, or False otherwise.\n",
    "Examples: `is_curzon(5) ➞ True\n",
    "\n",
    " 2 ** 5 + 1 = 33\n",
    " \n",
    " 2 * 5 + 1 = 11\n",
    " \n",
    " 33 is a multiple of 11\n",
    " \n",
    "is_curzon(10) ➞ False\n",
    "\n",
    " 2 ** 10 + 1 = 1025\n",
    " \n",
    " 2 * 10 + 1 = 21\n",
    " \n",
    " 1025 is not a multiple of 21\n",
    " \n",
    "is_curzon(14) ➞ True\n",
    "\n",
    " 2 ** 14 + 1 = 16385\n",
    " \n",
    " 2 * 14 + 1 = 29\n",
    " \n",
    " 16385 is a multiple of 29`"
   ]
  },
  {
   "cell_type": "code",
   "execution_count": 3,
   "id": "25b73961",
   "metadata": {},
   "outputs": [
    {
     "name": "stdout",
     "output_type": "stream",
     "text": [
      "Enter the number to check curzon-->-1\n",
      "The input number should be positive integer\n",
      "\n",
      "Enter the number to check curzon-->5\n",
      "33 is a multiple of 11.So 5 is a curzon number-->True\n",
      "\n",
      "Enter the number to check curzon-->10\n",
      "1025 is not a multiple of 21.So 10 is not a curzon number-->False\n",
      "\n",
      "Enter the number to check curzon-->14\n",
      "16385 is a multiple of 29.So 14 is a curzon number-->True\n",
      "\n"
     ]
    }
   ],
   "source": [
    "def is_curzon():\n",
    "    try:\n",
    "        n=int(input(\"Enter the number to check curzon-->\"))\n",
    "        f1=(2**n)+1\n",
    "        f2=(2*n)+1\n",
    "        if n>=0:\n",
    "            if f1%f2==0:\n",
    "                print(f\"{f1} is a multiple of {f2}.So {n} is a curzon number-->{True}\\n\")\n",
    "            else:\n",
    "                print(f\"{f1} is not a multiple of {f2}.So {n} is not a curzon number-->{False}\\n\")\n",
    "        else:\n",
    "            print(\"The input number should be positive integer\\n\")\n",
    "    except Exception as e:\n",
    "        print(e)\n",
    "        \n",
    "is_curzon()\n",
    "is_curzon()\n",
    "is_curzon()\n",
    "is_curzon()                      \n",
    "                "
   ]
  },
  {
   "cell_type": "markdown",
   "id": "e51aae8d",
   "metadata": {},
   "source": [
    "# Q4.Given the side length x find the area of a hexagon ?\n",
    "Examples:\n",
    "\n",
    "area_of_hexagon(1) ➞ 2.6\n",
    "\n",
    "area_of_hexagon(2) ➞ 10.4\n",
    "\n",
    "area_of_hexagon(3) ➞ 23.4"
   ]
  },
  {
   "cell_type": "code",
   "execution_count": 6,
   "id": "a6730a46",
   "metadata": {},
   "outputs": [
    {
     "name": "stdout",
     "output_type": "stream",
     "text": [
      "Enter the side of length-->1\n",
      "The area of hexagon-->2.6\n",
      "\n",
      "Enter the side of length-->2\n",
      "The area of hexagon-->10.4\n",
      "\n",
      "Enter the side of length-->3\n",
      "The area of hexagon-->23.4\n",
      "\n"
     ]
    }
   ],
   "source": [
    "import math\n",
    "\n",
    "def area_of_hexagon():\n",
    "    try:\n",
    "        side=int(input(\"Enter the side of length-->\"))\n",
    "        area=((3*math.sqrt(3))/2)*(side**2)\n",
    "        print(f\"The area of hexagon-->{area:.1f}\\n\")\n",
    "    except Exception as e:\n",
    "        print(e)\n",
    "        \n",
    "area_of_hexagon()\n",
    "area_of_hexagon()\n",
    "area_of_hexagon()"
   ]
  },
  {
   "cell_type": "markdown",
   "id": "bc98c1ff",
   "metadata": {},
   "source": [
    "# Q5.Create a function that returns a base-2 (binary) representation of a base-10 (decimal) string number. To convert is simple:\n",
    "((2) means base-2 and (10) means base-10)\n",
    "\n",
    "010101001(2) = 1 + 8 + 32 + 128.\n",
    "\n",
    "Going from right to left, the value of the most right bit is 1, now from that every bit to the left will be x2 the value, value of an 8 bit binary numbers are (256, 128, 64, 32, 16, 8, 4, 2, 1).\n",
    "\n",
    "Examples:\n",
    "\n",
    "`binary(1) ➞ \"1\"\n",
    "\n",
    " 1* 1 = 1\n",
    " \n",
    "binary(5) ➞ \"101\"\n",
    "\n",
    "1 1 + 1 4 = 5\n",
    "\n",
    "binary(10) ➞ \"1010\"\n",
    "\n",
    "1 2 + 1 8 = 10`"
   ]
  },
  {
   "cell_type": "code",
   "execution_count": 9,
   "id": "7d3e9901",
   "metadata": {},
   "outputs": [
    {
     "name": "stdout",
     "output_type": "stream",
     "text": [
      "Enter the number to check-->1\n",
      "The binary of 1-->1\n",
      "\n",
      "Enter the number to check-->5\n",
      "The binary of 5-->101\n",
      "\n",
      "Enter the number to check-->10\n",
      "The binary of 10-->1010\n",
      "\n"
     ]
    }
   ],
   "source": [
    "def binary():\n",
    "    try:\n",
    "        n=int(input(\"Enter the number to check-->\"))\n",
    "        binary_n=bin(n).replace(\"0b\",\"\")\n",
    "        print(f\"The binary of {n}-->{binary_n}\\n\")\n",
    "    except Exception as e:\n",
    "        print(e)\n",
    "        \n",
    "binary()\n",
    "binary()\n",
    "binary()"
   ]
  }
 ],
 "metadata": {
  "kernelspec": {
   "display_name": "Python 3 (ipykernel)",
   "language": "python",
   "name": "python3"
  },
  "language_info": {
   "codemirror_mode": {
    "name": "ipython",
    "version": 3
   },
   "file_extension": ".py",
   "mimetype": "text/x-python",
   "name": "python",
   "nbconvert_exporter": "python",
   "pygments_lexer": "ipython3",
   "version": "3.10.2"
  }
 },
 "nbformat": 4,
 "nbformat_minor": 5
}
