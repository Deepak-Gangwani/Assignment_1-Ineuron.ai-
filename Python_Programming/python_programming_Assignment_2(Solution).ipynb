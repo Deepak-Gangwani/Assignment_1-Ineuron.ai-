{
 "cells": [
  {
   "cell_type": "markdown",
   "id": "abf71cbb",
   "metadata": {},
   "source": [
    "# Q1.Write a Python program to convert Kilometers to Miles ?"
   ]
  },
  {
   "cell_type": "code",
   "execution_count": 2,
   "id": "46d68271",
   "metadata": {},
   "outputs": [
    {
     "name": "stdout",
     "output_type": "stream",
     "text": [
      "Enter the number kilometers-->5\n",
      "The kilometers converted into mile which is 3.106855 mile\n"
     ]
    }
   ],
   "source": [
    "def mile(n):\n",
    "    print(f\"The kilometers converted into mile which is {n*0.621371} mile\")\n",
    "    \n",
    "#calling mile function    \n",
    "n=int(input(\"Enter the number kilometers-->\"))\n",
    "mile(n)"
   ]
  },
  {
   "cell_type": "markdown",
   "id": "82f12281",
   "metadata": {},
   "source": [
    "# Q2.Write a Python program to convert Celsius to Farenheit ?"
   ]
  },
  {
   "cell_type": "code",
   "execution_count": 5,
   "id": "3da6d2c1",
   "metadata": {},
   "outputs": [
    {
     "name": "stdout",
     "output_type": "stream",
     "text": [
      "Enter the degree of celsius-->5\n",
      "The Celsius converted into Farenheit which is 41.0 Farenheit\n"
     ]
    }
   ],
   "source": [
    "def Farenheit(n):\n",
    "    print(f\"The Celsius converted into Farenheit which is {(n*9/5)+32} Farenheit\")\n",
    "    \n",
    "#calling farenheit function    \n",
    "c=int(input(\"Enter the degree of celsius-->\"))\n",
    "Farenheit(n)"
   ]
  },
  {
   "cell_type": "markdown",
   "id": "9faa5a15",
   "metadata": {},
   "source": [
    "# Q3.Write a Python program to display calender ?"
   ]
  },
  {
   "cell_type": "code",
   "execution_count": 12,
   "id": "c2b837dc",
   "metadata": {},
   "outputs": [
    {
     "name": "stdout",
     "output_type": "stream",
     "text": [
      "Enter the year to form calender-->dssa\n",
      "You have entered invalid input please enter valid input\n",
      "Enter the year to form calender-->2022\n",
      "                                  2022\n",
      "\n",
      "      January                   February                   March\n",
      "Mo Tu We Th Fr Sa Su      Mo Tu We Th Fr Sa Su      Mo Tu We Th Fr Sa Su\n",
      "                1  2          1  2  3  4  5  6          1  2  3  4  5  6\n",
      " 3  4  5  6  7  8  9       7  8  9 10 11 12 13       7  8  9 10 11 12 13\n",
      "10 11 12 13 14 15 16      14 15 16 17 18 19 20      14 15 16 17 18 19 20\n",
      "17 18 19 20 21 22 23      21 22 23 24 25 26 27      21 22 23 24 25 26 27\n",
      "24 25 26 27 28 29 30      28                        28 29 30 31\n",
      "31\n",
      "\n",
      "       April                      May                       June\n",
      "Mo Tu We Th Fr Sa Su      Mo Tu We Th Fr Sa Su      Mo Tu We Th Fr Sa Su\n",
      "             1  2  3                         1             1  2  3  4  5\n",
      " 4  5  6  7  8  9 10       2  3  4  5  6  7  8       6  7  8  9 10 11 12\n",
      "11 12 13 14 15 16 17       9 10 11 12 13 14 15      13 14 15 16 17 18 19\n",
      "18 19 20 21 22 23 24      16 17 18 19 20 21 22      20 21 22 23 24 25 26\n",
      "25 26 27 28 29 30         23 24 25 26 27 28 29      27 28 29 30\n",
      "                          30 31\n",
      "\n",
      "        July                     August                  September\n",
      "Mo Tu We Th Fr Sa Su      Mo Tu We Th Fr Sa Su      Mo Tu We Th Fr Sa Su\n",
      "             1  2  3       1  2  3  4  5  6  7                1  2  3  4\n",
      " 4  5  6  7  8  9 10       8  9 10 11 12 13 14       5  6  7  8  9 10 11\n",
      "11 12 13 14 15 16 17      15 16 17 18 19 20 21      12 13 14 15 16 17 18\n",
      "18 19 20 21 22 23 24      22 23 24 25 26 27 28      19 20 21 22 23 24 25\n",
      "25 26 27 28 29 30 31      29 30 31                  26 27 28 29 30\n",
      "\n",
      "      October                   November                  December\n",
      "Mo Tu We Th Fr Sa Su      Mo Tu We Th Fr Sa Su      Mo Tu We Th Fr Sa Su\n",
      "                1  2          1  2  3  4  5  6                1  2  3  4\n",
      " 3  4  5  6  7  8  9       7  8  9 10 11 12 13       5  6  7  8  9 10 11\n",
      "10 11 12 13 14 15 16      14 15 16 17 18 19 20      12 13 14 15 16 17 18\n",
      "17 18 19 20 21 22 23      21 22 23 24 25 26 27      19 20 21 22 23 24 25\n",
      "24 25 26 27 28 29 30      28 29 30                  26 27 28 29 30 31\n",
      "31\n",
      "\n"
     ]
    }
   ],
   "source": [
    "import calendar\n",
    "\n",
    "def Calender():\n",
    "    try:\n",
    "        y=int(input(\"Enter the year to form calender-->\"))\n",
    "        print(calendar.calendar(y))\n",
    "    except:\n",
    "        print(\"You have entered invalid input please enter valid input\")\n",
    "        return Calender()\n",
    "    \n",
    "Calender()        "
   ]
  },
  {
   "cell_type": "markdown",
   "id": "a2e7c974",
   "metadata": {},
   "source": [
    "# Q4.Write a Python program to solve quadartic equation ?"
   ]
  },
  {
   "cell_type": "code",
   "execution_count": 4,
   "id": "a2eaccc2",
   "metadata": {},
   "outputs": [
    {
     "name": "stdout",
     "output_type": "stream",
     "text": [
      "Enter a:1\n",
      "Enter b:2\n",
      "Enter c:ee\n",
      "You have entered invalid value in input \n",
      "Enter a:1\n",
      "Enter b:2\n",
      "Enter c:3\n",
      "The solution are:-\n",
      "1.(-1-1.4142135623730951j)\n",
      "2.(-1+1.4142135623730951j)\n"
     ]
    }
   ],
   "source": [
    "import cmath\n",
    "\n",
    "def quadratic():\n",
    "    try:\n",
    "        a=int(input(\"Enter a:\"))\n",
    "        b=int(input(\"Enter b:\"))\n",
    "        c=int(input(\"Enter c:\"))\n",
    "        discriminant=(b*b)-(4*a*c)\n",
    "        s1=(-b-cmath.sqrt(discriminant))/(2*a)\n",
    "        s2=(-b+cmath.sqrt(discriminant))/(2*a)\n",
    "        print(f\"The solution are:-\\n1.{s1}\\n2.{s2}\")\n",
    "    except:\n",
    "        print(\"You have entered invalid value in input \")\n",
    "        return quadratic()\n",
    "\n",
    "#calling quadratic function    \n",
    "quadratic()"
   ]
  },
  {
   "cell_type": "markdown",
   "id": "465db418",
   "metadata": {},
   "source": [
    "# Q5.Write a Python program to swap two variables without temp variable ?"
   ]
  },
  {
   "cell_type": "code",
   "execution_count": 3,
   "id": "8f747d41",
   "metadata": {},
   "outputs": [
    {
     "name": "stdout",
     "output_type": "stream",
     "text": [
      "Enter 1st number-->a\n",
      "invalid literal for int() with base 10: 'a'\n",
      "Enter 1st number-->1\n",
      "Enter 2nd number-->2\n",
      "Before swap-->(1, 2)\n",
      "After swap-->(2, 1)\n"
     ]
    }
   ],
   "source": [
    "def swap():\n",
    "    try:\n",
    "        n1=int(input(\"Enter 1st number-->\"))\n",
    "        n2=int(input(\"Enter 2nd number-->\"))\n",
    "        print(f\"Before swap-->{n1,n2}\")\n",
    "        n1=n1+n2\n",
    "        n2=n1-n2\n",
    "        n1=n1-n2\n",
    "        print(f\"After swap-->{n1,n2}\")\n",
    "    except Exception as e:\n",
    "        print(e)\n",
    "        return swap()\n",
    "\n",
    "#calling swap function    \n",
    "swap()"
   ]
  }
 ],
 "metadata": {
  "kernelspec": {
   "display_name": "Python 3 (ipykernel)",
   "language": "python",
   "name": "python3"
  },
  "language_info": {
   "codemirror_mode": {
    "name": "ipython",
    "version": 3
   },
   "file_extension": ".py",
   "mimetype": "text/x-python",
   "name": "python",
   "nbconvert_exporter": "python",
   "pygments_lexer": "ipython3",
   "version": "3.10.2"
  }
 },
 "nbformat": 4,
 "nbformat_minor": 5
}
