{
 "cells": [
  {
   "cell_type": "markdown",
   "id": "4b6230f1",
   "metadata": {},
   "source": [
    "# Q1.Create a function that takes a list of non-negative integers and strings and return a new list without the strings ?\n",
    "Examples:\n",
    "\n",
    "filter_list([1, 2, \"a\", \"b\"]) ➞ [1, 2]\n",
    "\n",
    "filter_list([1, \"a\", \"b\", 0, 15]) ➞ [1, 0, 15]\n",
    "\n",
    "filter_list([1, 2, \"aasf\", \"1\", \"123\", 123]) ➞ [1, 2, 123]"
   ]
  },
  {
   "cell_type": "code",
   "execution_count": 3,
   "id": "e60c6794",
   "metadata": {},
   "outputs": [
    {
     "name": "stdout",
     "output_type": "stream",
     "text": [
      "The filter of list-->[1, 2]\n",
      "\n",
      "The filter of list-->[1, 0, 15]\n",
      "\n",
      "The filter of list-->[1, 2, 123]\n",
      "\n"
     ]
    }
   ],
   "source": [
    "def filter_list(l):\n",
    "    try:\n",
    "        new_l=[]\n",
    "        for i in l:\n",
    "            if type(i)==int and i>=0:\n",
    "                new_l.append(i)\n",
    "        print(f\"The filter of list-->{new_l}\\n\")\n",
    "    except Exception as e:\n",
    "        print(e)\n",
    "        \n",
    "filter_list([1, 2, \"a\", \"b\"])\n",
    "\n",
    "filter_list([1, \"a\", \"b\", 0, 15]) \n",
    "\n",
    "filter_list([1, 2, \"aasf\", \"1\", \"123\", 123])        "
   ]
  },
  {
   "cell_type": "markdown",
   "id": "38e75fb6",
   "metadata": {},
   "source": [
    "# Q2. The \"Reverser\" takes a string as input and returns that string in reverse order, with the opposite case ?\n",
    "Examples:\n",
    "    \n",
    "reverse(\"Hello World\") ➞ \"DLROw OLLEh\"\n",
    "\n",
    "reverse(\"ReVeRsE\") ➞ \"eSrEvEr\"\n",
    "\n",
    "reverse(\"Radar\") ➞ \"RADAr\""
   ]
  },
  {
   "cell_type": "code",
   "execution_count": 7,
   "id": "56e7bb9c",
   "metadata": {},
   "outputs": [
    {
     "name": "stdout",
     "output_type": "stream",
     "text": [
      "Enter the string-->Hello World\n",
      "The reverse of Hello World-->DLROw OLLEh\n",
      "\n",
      "Enter the string-->ReVeRsE\n",
      "The reverse of ReVeRsE-->eSrEvEr\n",
      "\n",
      "Enter the string-->RADAr\n",
      "The reverse of RADAr-->Radar\n",
      "\n"
     ]
    }
   ],
   "source": [
    "def Reverser():\n",
    "    try:\n",
    "        s=input(\"Enter the string-->\")\n",
    "        print(f\"The reverse of {s}-->{s[::-1].swapcase()}\\n\")\n",
    "    except Exception as e:\n",
    "        print(e)\n",
    "        \n",
    "Reverser()        \n",
    "Reverser()\n",
    "Reverser()"
   ]
  },
  {
   "cell_type": "markdown",
   "id": "b2d03192",
   "metadata": {},
   "source": [
    "# Q3.You can assign variables from lists like this:\n",
    "\n",
    "lst = [1, 2, 3, 4, 5, 6]\n",
    "\n",
    "first = lst[0]\n",
    "\n",
    "middle = lst[1:-1]\n",
    "\n",
    "last = lst[-1]\n",
    "\n",
    "print(first) ➞ outputs 1\n",
    "\n",
    "print(middle) ➞ outputs [2, 3, 4, 5]\n",
    "\n",
    "print(last) ➞ outputs 6\n",
    "\n",
    "# With Python 3, you can assign variables from lists in a much more succinct way. Create variables first, middle and last from the given list using destructuring assignment\n",
    "\n",
    "(check the Resources tab for some examples), where:\n",
    "\n",
    "first ➞ 1\n",
    "\n",
    "middle ➞ [2, 3, 4, 5]\n",
    "\n",
    "last ➞ 6\n",
    "\n",
    "Your task is to unpack the list writeyourcodehere into three variables, being first, middle, and last, with middle being everything in between the first and last element. Then print all three variables."
   ]
  },
  {
   "cell_type": "code",
   "execution_count": 8,
   "id": "3c79b5a0",
   "metadata": {},
   "outputs": [
    {
     "name": "stdout",
     "output_type": "stream",
     "text": [
      "first of [1, 2, 3, 4, 5, 6]-->1\n",
      "\n",
      "first of [1, 2, 3, 4, 5, 6]-->[2, 3, 4, 5]\n",
      "\n",
      "first of [1, 2, 3, 4, 5, 6]-->6\n",
      "\n"
     ]
    }
   ],
   "source": [
    "lst = [1, 2, 3, 4, 5, 6]\n",
    "\n",
    "first = lst[0]\n",
    "\n",
    "middle = lst[1:-1]\n",
    "\n",
    "last = lst[-1]\n",
    "\n",
    "print(f\"first of {lst}-->{first}\\n\")\n",
    "print(f\"first of {lst}-->{middle}\\n\")\n",
    "print(f\"first of {lst}-->{last}\\n\")\n",
    "\n"
   ]
  },
  {
   "cell_type": "markdown",
   "id": "798af4ea",
   "metadata": {},
   "source": [
    "# Q4.Write a function that calculates the factorial of a number recursively.\n",
    "Examples:\n",
    "\n",
    "factorial(5) ➞ 120\n",
    "\n",
    "factorial(3) ➞ 6\n",
    "\n",
    "factorial(1) ➞ 1\n",
    "\n",
    "factorial(0) ➞ 1"
   ]
  },
  {
   "cell_type": "code",
   "execution_count": 2,
   "id": "704663de",
   "metadata": {},
   "outputs": [
    {
     "data": {
      "text/plain": [
       "120"
      ]
     },
     "execution_count": 2,
     "metadata": {},
     "output_type": "execute_result"
    }
   ],
   "source": [
    "def factorial(n):\n",
    "    try:\n",
    "        if n == 1:\n",
    "            return n\n",
    "        else:\n",
    "            return n*factorial(n-1) #representation of recursion\n",
    "    except Exception as e:\n",
    "        print(e)\n",
    "        \n",
    "factorial(5) "
   ]
  },
  {
   "cell_type": "code",
   "execution_count": 3,
   "id": "22d19890",
   "metadata": {},
   "outputs": [
    {
     "data": {
      "text/plain": [
       "6"
      ]
     },
     "execution_count": 3,
     "metadata": {},
     "output_type": "execute_result"
    }
   ],
   "source": [
    "factorial(3)"
   ]
  },
  {
   "cell_type": "code",
   "execution_count": 4,
   "id": "9e53d004",
   "metadata": {},
   "outputs": [
    {
     "data": {
      "text/plain": [
       "1"
      ]
     },
     "execution_count": 4,
     "metadata": {},
     "output_type": "execute_result"
    }
   ],
   "source": [
    "factorial(1)"
   ]
  },
  {
   "cell_type": "markdown",
   "id": "8e14921a",
   "metadata": {},
   "source": [
    "# Q5.Write a function that moves all elements of one type to the end of the list.\n",
    "Examples:\n",
    "\n",
    "move_to_end([1, 3, 2, 4, 4, 1], 1) ➞ [3, 2, 4, 4, 1, 1]\n",
    "\n",
    "# Move all the 1s to the end of the array.\n",
    "\n",
    "move_to_end([7, 8, 9, 1, 2, 3, 4], 9) ➞ [7, 8, 1, 2, 3, 4, 9]\n",
    "\n",
    "move_to_end([\"a\", \"a\", \"a\", \"b\"], \"a\") ➞ [\"b\", \"a\", \"a\", \"a\"]"
   ]
  },
  {
   "cell_type": "code",
   "execution_count": 2,
   "id": "a9aaae0e",
   "metadata": {},
   "outputs": [
    {
     "name": "stdout",
     "output_type": "stream",
     "text": [
      "Move all the 1s to the end of the array-->[7, 8, 1, 2, 3, 4, 9]\n",
      "\n",
      "Move all the 1s to the end of the array-->['b', 'a', 'a', 'a']\n",
      "\n"
     ]
    }
   ],
   "source": [
    "def move_to_end(l,ele):\n",
    "    try:\n",
    "        l1=[]\n",
    "        l2=[]\n",
    "        for i in l:\n",
    "            if i==ele:\n",
    "                l2.append(i)\n",
    "            else:\n",
    "                l1.append(i)\n",
    "        print(f\"Move all the 1s to the end of the array-->{l1+l2}\\n\")\n",
    "    except Exception as e:\n",
    "        print(e)\n",
    "        \n",
    "move_to_end([7, 8, 9, 1, 2, 3, 4], 9)\n",
    "move_to_end([\"a\", \"a\", \"a\", \"b\"], \"a\")\n",
    "                "
   ]
  }
 ],
 "metadata": {
  "kernelspec": {
   "display_name": "Python 3 (ipykernel)",
   "language": "python",
   "name": "python3"
  },
  "language_info": {
   "codemirror_mode": {
    "name": "ipython",
    "version": 3
   },
   "file_extension": ".py",
   "mimetype": "text/x-python",
   "name": "python",
   "nbconvert_exporter": "python",
   "pygments_lexer": "ipython3",
   "version": "3.10.2"
  }
 },
 "nbformat": 4,
 "nbformat_minor": 5
}
