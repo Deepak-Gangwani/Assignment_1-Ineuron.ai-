{
 "cells": [
  {
   "cell_type": "markdown",
   "id": "c7715cc5",
   "metadata": {},
   "source": [
    "# Q1.Write a program that calculates and prints the value according to the given formula:\n",
    "# Q = Square root of [(2 * C * D)/H]\n",
    "Following are the fixed values of C and H:\n",
    "C is 50. H is 30.\n",
    "D is the variable whose values should be input to your program in a comma-separated sequence.\n",
    "\n",
    "Example: Let us assume the following comma separated input sequence is given to the program:100,150,180\n",
    "The output of the program should be: 18,22,24"
   ]
  },
  {
   "cell_type": "code",
   "execution_count": 13,
   "id": "f2bf44e5",
   "metadata": {},
   "outputs": [
    {
     "name": "stdout",
     "output_type": "stream",
     "text": [
      "Enter the comma-separated sequence-->100,150,180\n",
      "\n",
      "The output of the program should be-->18,22,24\n"
     ]
    }
   ],
   "source": [
    "from math import sqrt\n",
    "\n",
    "def calculate():\n",
    "    try:\n",
    "        D=eval(input(\"Enter the comma-separated sequence-->\"))\n",
    "        new_D=[]\n",
    "        C=50\n",
    "        H=30\n",
    "        for i in D:\n",
    "            Q = str(int(sqrt((2*C*i)/H)))\n",
    "            new_D.append(Q)\n",
    "        print(f\"\\nThe output of the program should be-->{','.join(new_D)}\")\n",
    "    except Exception as e:\n",
    "        print(e)\n",
    "    \n",
    "#calling the function\n",
    "calculate()"
   ]
  },
  {
   "cell_type": "markdown",
   "id": "08b1041d",
   "metadata": {},
   "source": [
    "# Q2.Write a program which takes 2 digits, X,Y as input and generates a 2-dimensional array. The element value in the i-th row and j-th column of the array should be i*j."
   ]
  },
  {
   "cell_type": "markdown",
   "id": "26deca5d",
   "metadata": {},
   "source": [
    "Note: i=0,1.., X-1; j=0,1,¡Y-1.\n",
    "Example: Suppose the following inputs are given to the program: 3,5\n",
    "Then, the output of the program should be:[[0, 0, 0, 0, 0], [0, 1, 2, 3, 4], [0, 2, 4, 6, 8]]"
   ]
  },
  {
   "cell_type": "code",
   "execution_count": 2,
   "id": "f2ebf3d9",
   "metadata": {},
   "outputs": [
    {
     "name": "stdout",
     "output_type": "stream",
     "text": [
      "Enter no. row of matrices-->3\n",
      "Enter no. column of matrices-->5\n",
      "Enter at index O[0][0]-->0\n",
      "Enter at index O[0][1]-->0\n",
      "Enter at index O[0][2]-->0\n",
      "Enter at index O[0][3]-->0\n",
      "Enter at index O[0][4]-->0\n",
      "Enter at index O[1][0]-->0\n",
      "Enter at index O[1][1]-->1\n",
      "Enter at index O[1][2]-->2\n",
      "Enter at index O[1][3]-->3\n",
      "Enter at index O[1][4]-->4\n",
      "Enter at index O[2][0]-->0\n",
      "Enter at index O[2][1]-->2\n",
      "Enter at index O[2][2]-->4\n",
      "Enter at index O[2][3]-->6\n",
      "Enter at index O[2][4]-->8\n"
     ]
    },
    {
     "data": {
      "text/plain": [
       "[[0, 0, 0, 0, 0], [0, 1, 2, 3, 4], [0, 2, 4, 6, 8]]"
      ]
     },
     "execution_count": 2,
     "metadata": {},
     "output_type": "execute_result"
    }
   ],
   "source": [
    "def matrix():\n",
    "    try:\n",
    "        row=int(input(\"Enter no. row of matrices-->\"))\n",
    "        column=int(input(\"Enter no. column of matrices-->\"))\n",
    "        o=[]\n",
    "        for i in range(row):\n",
    "            r=[]\n",
    "            for j in range(column):\n",
    "                inp=int(input(f\"Enter at index O[{i}][{j}]-->\"))\n",
    "                r.append(inp)\n",
    "            o.append(r)\n",
    "        return o\n",
    "    except Exception as e:\n",
    "        print(e)\n",
    "        \n",
    "# calling the function\n",
    "matrix()"
   ]
  },
  {
   "cell_type": "markdown",
   "id": "260eb82d",
   "metadata": {},
   "source": [
    "# Q3.Write a program that accepts a comma separated sequence of words as input and prints the words in a comma-separated sequence after sorting them alphabetically ?\n",
    "Suppose the following input is supplied to the program: without,hello,bag,world\n",
    "\n",
    "Then, the output should be: bag,hello,without,world"
   ]
  },
  {
   "cell_type": "code",
   "execution_count": 6,
   "id": "f129f57c",
   "metadata": {},
   "outputs": [
    {
     "name": "stdout",
     "output_type": "stream",
     "text": [
      "Enter the string--> Without,Hello,Bag,World\n",
      "\n",
      "The new sorted string is-->bag,hello,without,world\n"
     ]
    }
   ],
   "source": [
    "def SortString(string):\n",
    "    try:\n",
    "        lower=string.lower()\n",
    "        new_string=\",\".join(sorted(lower.split(\",\")))\n",
    "        print(f\"\\nThe new sorted string is-->{new_string}\")\n",
    "    except Exception as e:\n",
    "        print(e)\n",
    "        \n",
    "        \n",
    "        \n",
    "n=input(\"Enter the string--> \")\n",
    "#calling the function\n",
    "SortString(n)"
   ]
  },
  {
   "cell_type": "markdown",
   "id": "919b72fc",
   "metadata": {},
   "source": [
    "# Q4.Write a program that accepts a sequence of whitespace separated words as input and prints the words after removing all duplicate words and sorting them alphanumerically.\n",
    "\n",
    "Suppose the following input is supplied to the program: hello world and practice makes perfect and hello world again\n",
    "\n",
    "Then, the output should be: again and hello makes perfect practice world"
   ]
  },
  {
   "cell_type": "code",
   "execution_count": 11,
   "id": "0f94b016",
   "metadata": {},
   "outputs": [
    {
     "name": "stdout",
     "output_type": "stream",
     "text": [
      "Enter the string--> hello world and practice makes perfect and hello world again\n",
      "\n",
      "The new sorted string is-->again and hello makes perfect practice world\n"
     ]
    }
   ],
   "source": [
    "def SortDuplicateString(string):\n",
    "    try:\n",
    "        lower=string.lower()\n",
    "        new_string=\" \".join(sorted(set(lower.split(\" \"))))\n",
    "        print(f\"\\nThe new sorted string is-->{new_string}\")\n",
    "    except Exception as e:\n",
    "        print(e)\n",
    "        \n",
    "        \n",
    "        \n",
    "n=input(\"Enter the string--> \")\n",
    "#calling the function\n",
    "SortDuplicateString(n)"
   ]
  },
  {
   "cell_type": "markdown",
   "id": "30901a53",
   "metadata": {},
   "source": [
    "# Q5.Write a program that accepts a sentence and calculate the number of letters and digits.\n",
    "Suppose the following input is supplied to the program: hello world! 123\n",
    "\n",
    "Then, the output should be:\n",
    "\n",
    "LETTERS 10\n",
    "\n",
    "DIGITS 3"
   ]
  },
  {
   "cell_type": "code",
   "execution_count": 15,
   "id": "64499c23",
   "metadata": {},
   "outputs": [
    {
     "name": "stdout",
     "output_type": "stream",
     "text": [
      "Enter the string-->Hello World! 123\n",
      "\n",
      "The size of letters are-->10\n",
      "\n",
      "The size of letters are-->3\n"
     ]
    }
   ],
   "source": [
    "def DigitsAndLetters(data):\n",
    "    try:\n",
    "        new_data=data.lower()\n",
    "        letters=\"abcdefghijklmnopqrstuvwxyz\"\n",
    "        digits=\"0123456789\"\n",
    "        count_l=0\n",
    "        count_d=0\n",
    "        for i in new_data:\n",
    "            if i in letters:\n",
    "                count_l=count_l+1\n",
    "            elif i in digits:\n",
    "                count_d=count_d+1\n",
    "        print(f\"\\nThe size of letters are-->{count_l}\")\n",
    "        print(f\"\\nThe size of letters are-->{count_d}\")\n",
    "    except Exception as e:\n",
    "        print(e)\n",
    "            \n",
    "        \n",
    "        \n",
    "d=input(\"Enter the string-->\")\n",
    "#calling the function\n",
    "DigitsAndLetters(d)"
   ]
  },
  {
   "cell_type": "markdown",
   "id": "dd87b955",
   "metadata": {},
   "source": [
    "# Q6.A website requires the users to input username and password to register. Write a program to check the validity of password input by users.\n",
    "Following are the criteria for checking the password:\n",
    "\n",
    "At least 1 letter between [a-z]\n",
    "\n",
    "At least 1 number between [0-9]\n",
    "\n",
    "At least 1 letter between [A-Z]\n",
    "\n",
    "At least 1 character from [$#@]\n",
    "\n",
    "Minimum length of transaction password: 6\n",
    "\n",
    "Maximum length of transaction password: 12\n",
    "\n",
    "Your program should accept a sequence of comma separated passwords and will check them according to the above criteria. Passwords that match the criteria are to be printed, each separated by a comma.\n",
    "\n",
    "Example:\n",
    "If the following passwords are given as input to the program: ABd1234@1,a F1#,2w3E*,2We3345\n",
    "Then, the output of the program should be:ABd1234@1"
   ]
  },
  {
   "cell_type": "code",
   "execution_count": 29,
   "id": "45ffe2cc",
   "metadata": {},
   "outputs": [
    {
     "name": "stdout",
     "output_type": "stream",
     "text": [
      "Enter the password-->ABd1234@1,aF1#,2w3E*,2We3345\n",
      "\n",
      "The password which is valid is-->ABd1234@1\n"
     ]
    }
   ],
   "source": [
    "def Password(string):\n",
    "    try:\n",
    "        small = \"abcdefghijklmnopqrstuvwxyz\"\n",
    "        capital = \"ABCDEFGHIJKLMNOPQRSTUVWXYZ\"\n",
    "        digit = \"0123456789\"\n",
    "        special = \"$#@\"\n",
    "        for ele in string.split(\",\"):\n",
    "            if len(ele) <= 12 and len(ele) >=6 :\n",
    "                if any(i.upper() for i in ele):\n",
    "                    if any(i.islower() for i in ele):\n",
    "                        if any(i for i in ele if i in special):\n",
    "                            print(f\"\\nThe password which is valid is-->{ele}\")\n",
    "    except Exception as e:\n",
    "        print(e)\n",
    "  \n",
    "\n",
    "s= input(\"Enter the password-->\")\n",
    "Password(s) \n"
   ]
  }
 ],
 "metadata": {
  "kernelspec": {
   "display_name": "Python 3 (ipykernel)",
   "language": "python",
   "name": "python3"
  },
  "language_info": {
   "codemirror_mode": {
    "name": "ipython",
    "version": 3
   },
   "file_extension": ".py",
   "mimetype": "text/x-python",
   "name": "python",
   "nbconvert_exporter": "python",
   "pygments_lexer": "ipython3",
   "version": "3.10.2"
  }
 },
 "nbformat": 4,
 "nbformat_minor": 5
}
