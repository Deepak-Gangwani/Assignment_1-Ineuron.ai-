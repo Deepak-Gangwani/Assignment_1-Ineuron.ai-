{
 "cells": [
  {
   "cell_type": "markdown",
   "id": "56807942",
   "metadata": {},
   "source": [
    "# Q1.Write a Python program to Extract Unique values dictionary values?"
   ]
  },
  {
   "cell_type": "code",
   "execution_count": 1,
   "id": "878effd5",
   "metadata": {},
   "outputs": [
    {
     "name": "stdout",
     "output_type": "stream",
     "text": [
      "{'sahil', 'komal', 'rma', 'pratham', 'sunny'}\n"
     ]
    }
   ],
   "source": [
    "def UniqueValues(dictionary):\n",
    "    try:\n",
    "        print(set(dictionary.values()))\n",
    "    except Exception as e:\n",
    "        print(e)\n",
    "        \n",
    "\n",
    "student_details={1:\"rma\",2:\"komal\",3:\"sahil\",4:\"rma\",5:\"sunny\",6:\"pratham\"}\n",
    "#calling a function\n",
    "UniqueValues(student_details)"
   ]
  },
  {
   "cell_type": "markdown",
   "id": "296a1567",
   "metadata": {},
   "source": [
    "# Q2.Write a Python program to find the sum of all items in a dictionary?"
   ]
  },
  {
   "cell_type": "code",
   "execution_count": 4,
   "id": "fd6049df",
   "metadata": {},
   "outputs": [
    {
     "name": "stdout",
     "output_type": "stream",
     "text": [
      "The sum of all the values of dictionary 150\n"
     ]
    }
   ],
   "source": [
    "def SumOfItems(dictionary):\n",
    "    try:\n",
    "        print(f\"The sum of all the values of dictionary {sum(dictionary.values())}\")\n",
    "    except Exception as e:\n",
    "        print(e)\n",
    "        \n",
    "\n",
    "student_details={\"a\":10,\"b\":20,\"c\":30,\"d\":40,\"e\":50}\n",
    "#calling a function\n",
    "SumOfItems(student_details)"
   ]
  },
  {
   "cell_type": "markdown",
   "id": "839e02f3",
   "metadata": {},
   "source": [
    "# Q3.Write a Python program to Merging two Dictionaries?"
   ]
  },
  {
   "cell_type": "code",
   "execution_count": 16,
   "id": "196d6d90",
   "metadata": {},
   "outputs": [
    {
     "name": "stdout",
     "output_type": "stream",
     "text": [
      "The 1st dictionary-->{1: 'A', 2: 'B', 3: 'C', 4: 'D'}\n",
      "The 2nd dictionary-->{5: 'E', 6: 'F', 7: 'G', 8: 'H'}\n",
      "The merge of dictionary-->{1: 'A', 2: 'B', 3: 'C', 4: 'D', 5: 'E', 6: 'F', 7: 'G', 8: 'H'} \n"
     ]
    }
   ],
   "source": [
    "def MergeDict(dict1,dict2):\n",
    "    try:\n",
    "        print(f\"The 1st dictionary-->{dict1}\")\n",
    "        print(f\"The 2nd dictionary-->{dict2}\")\n",
    "        merge={**dict1,**dict2}\n",
    "        print(f\"The merge of dictionary-->{merge} \")\n",
    "    except Exception as e:\n",
    "        print(e)\n",
    "        \n",
    "        \n",
    "d1={1:\"A\",2:\"B\",3:\"C\",4:\"D\"}\n",
    "d2={5:\"E\",6:\"F\",7:\"G\",8:\"H\"}\n",
    "#calling the function\n",
    "MergeDict(d1,d2)"
   ]
  },
  {
   "cell_type": "markdown",
   "id": "6b0fb54e",
   "metadata": {},
   "source": [
    "# Q4.Write a Python program to convert key-values list to flat dictionary?"
   ]
  },
  {
   "cell_type": "code",
   "execution_count": 17,
   "id": "5a5e9d00",
   "metadata": {},
   "outputs": [
    {
     "name": "stdout",
     "output_type": "stream",
     "text": [
      "{1: 'abhay', 2: 'bhavesh', 3: 'charu'}\n"
     ]
    }
   ],
   "source": [
    "l=[(1,\"abhay\"),(2,\"bhavesh\"),(3,\"charu\")]\n",
    "print(dict(l))"
   ]
  },
  {
   "cell_type": "markdown",
   "id": "c46f6c1a",
   "metadata": {},
   "source": [
    "# Q5.Write a Python program to insertion at the beginning in OrderedDict?"
   ]
  },
  {
   "cell_type": "code",
   "execution_count": 21,
   "id": "694be66e",
   "metadata": {},
   "outputs": [
    {
     "name": "stdout",
     "output_type": "stream",
     "text": [
      "\n",
      "The representation of dictionary-->OrderedDict([('blockchain', 'Mayur'), ('Web Development', 'Himanshu')])\n",
      "\n",
      "The adding of new dictionary-->OrderedDict([('blockchain', 'Mayur'), ('Web Development', 'Himanshu'), ('FSDS', 'Deepak')])\n",
      "\n",
      "The added dictionary move to beginning-->OrderedDict([('FSDS', 'Deepak'), ('blockchain', 'Mayur'), ('Web Development', 'Himanshu')])\n"
     ]
    }
   ],
   "source": [
    "from collections import OrderedDict\n",
    "\n",
    "dictionary = OrderedDict({\"blockchain\":\"Mayur\",\"Web Development\":\"Himanshu\"})\n",
    "print(f\"\\nThe representation of dictionary-->{dictionary}\")\n",
    "\n",
    "dictionary1 = {\"FSDS\":\"Deepak\"}\n",
    "dictionary.update(dictionary1)\n",
    "print(f\"\\nThe adding of new dictionary-->{dictionary}\")\n",
    "\n",
    "dictionary.move_to_end(\"FSDS\",last=False)\n",
    "\n",
    "print(f\"\\nThe added dictionary move to beginning-->{dictionary}\")"
   ]
  },
  {
   "cell_type": "markdown",
   "id": "3c5c5c68",
   "metadata": {},
   "source": [
    "# Q6.Write a Python program to check order of character in string using OrderedDict()?"
   ]
  },
  {
   "cell_type": "code",
   "execution_count": 25,
   "id": "51b84574",
   "metadata": {},
   "outputs": [
    {
     "name": "stdout",
     "output_type": "stream",
     "text": [
      "The old dictionary-->{4: 'D', 1: 'A', 2: 'B', 3: 'C'}\n",
      "\n",
      "The new order dictionary-->OrderedDict([(1, 'A'), (2, 'B'), (3, 'C'), (4, 'D')])\n"
     ]
    }
   ],
   "source": [
    "from collections import OrderedDict\n",
    "\n",
    "def SortOfDict(dict1):\n",
    "    try:\n",
    "        print(f\"The old dictionary-->{dict1}\")\n",
    "        dict2=OrderedDict(dict(sorted(dict1.items())))\n",
    "        print(f\"\\nThe new order dictionary-->{dict2}\")\n",
    "    except Exception as e:\n",
    "        print(e)\n",
    "    \n",
    "    \n",
    "d1={4:\"D\",1:\"A\",2:\"B\",3:\"C\"}\n",
    "#calling a function\n",
    "SortOfDict(d1)\n",
    "    "
   ]
  },
  {
   "cell_type": "markdown",
   "id": "ea7d0ceb",
   "metadata": {},
   "source": [
    "# Q7.Write a Python program to sort Python Dictionaries by Key or Value?"
   ]
  },
  {
   "cell_type": "code",
   "execution_count": 31,
   "id": "aae2b5ff",
   "metadata": {},
   "outputs": [
    {
     "name": "stdout",
     "output_type": "stream",
     "text": [
      "{4: 'A', 3: 'B', 2: 'C', 1: 'D'}\n",
      "\n",
      "\n",
      "{1: 'D', 2: 'C', 3: 'B', 4: 'A'}\n"
     ]
    }
   ],
   "source": [
    "from collections import OrderedDict\n",
    "\n",
    "def SortOfKeyValues(dict1,sort_type):\n",
    "    try:\n",
    "        if sort_type == 'key':\n",
    "            print(dict(sorted(dict1.items(), key=lambda x:x[0], reverse=False)))\n",
    "        else:\n",
    "            print(dict(sorted(dict1.items(), key=lambda x:x[1], reverse=False)))\n",
    "    except Exception as e:\n",
    "        print(e)\n",
    "    \n",
    "    \n",
    "d1={4:\"A\",2:\"C\",1:\"D\",3:\"B\"}\n",
    "#calling a function\n",
    "SortOfKeyValues(d1,\"value\")\n",
    "print(\"\\n\")\n",
    "SortOfKeyValues(d1,\"key\")\n",
    "    "
   ]
  }
 ],
 "metadata": {
  "kernelspec": {
   "display_name": "Python 3 (ipykernel)",
   "language": "python",
   "name": "python3"
  },
  "language_info": {
   "codemirror_mode": {
    "name": "ipython",
    "version": 3
   },
   "file_extension": ".py",
   "mimetype": "text/x-python",
   "name": "python",
   "nbconvert_exporter": "python",
   "pygments_lexer": "ipython3",
   "version": "3.10.2"
  }
 },
 "nbformat": 4,
 "nbformat_minor": 5
}
