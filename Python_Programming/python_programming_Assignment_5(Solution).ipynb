{
 "cells": [
  {
   "cell_type": "markdown",
   "id": "00319dee",
   "metadata": {},
   "source": [
    "# Q1. Write a Python Program to find LCM ?"
   ]
  },
  {
   "cell_type": "code",
   "execution_count": 2,
   "id": "f42d1ff9",
   "metadata": {},
   "outputs": [
    {
     "name": "stdout",
     "output_type": "stream",
     "text": [
      "Enter the 1st number-->4\n",
      "Enter the 2nd number-->80\n",
      "The LCM of 4 and 80 is 80\n",
      "Enter the 1st number-->12\n",
      "Enter the 2nd number-->78\n",
      "The LCM of 12 and 78 is 156\n"
     ]
    }
   ],
   "source": [
    "def LCM():\n",
    "    n1=int(input(\"Enter the 1st number-->\"))\n",
    "    n2=int(input(\"Enter the 2nd number-->\"))\n",
    "    maxNum=max(n1,n2)\n",
    "    while(True):\n",
    "        if(maxNum%n1==0 and maxNum%n2==0):\n",
    "            break\n",
    "        maxNum=maxNum+1\n",
    "    print(f\"The LCM of {n1} and {n2} is {maxNum}\")  \n",
    "    \n",
    "#calling LCM function\n",
    "LCM()\n",
    "LCM()"
   ]
  },
  {
   "cell_type": "markdown",
   "id": "e69ab4da",
   "metadata": {},
   "source": [
    "# Q2. Write a Python Program to find HCF ?"
   ]
  },
  {
   "cell_type": "code",
   "execution_count": 3,
   "id": "58abf7b7",
   "metadata": {},
   "outputs": [
    {
     "name": "stdout",
     "output_type": "stream",
     "text": [
      "Enter the 1st number-->4\n",
      "Enter the 2nd number-->28\n",
      "The HCF between 4 and 28 is 4\n"
     ]
    }
   ],
   "source": [
    "def HCF():\n",
    "    n1=int(input(\"Enter the 1st number-->\"))\n",
    "    n2=int(input(\"Enter the 2nd number-->\"))\n",
    "    if n2>n1:\n",
    "        mn=n1\n",
    "    else:\n",
    "        mn=n2\n",
    "    for i in range(1,mn+1):\n",
    "        if n1%i==0 and n2%i==0:\n",
    "            hcf=i\n",
    "    print(f\"The HCF between {n1} and {n2} is {hcf}\")\n",
    "    \n",
    "    \n",
    "#calling HCF function\n",
    "HCF()\n",
    "            "
   ]
  },
  {
   "cell_type": "markdown",
   "id": "73a3de05",
   "metadata": {},
   "source": [
    "# Q3. Write a Python Program to Convert Decimal to Binary, Octal and Hexadecimal ?"
   ]
  },
  {
   "cell_type": "code",
   "execution_count": 4,
   "id": "7e1bd91a",
   "metadata": {},
   "outputs": [
    {
     "name": "stdout",
     "output_type": "stream",
     "text": [
      "Enter the number-->5\n",
      "\n",
      "The Binomial of 5 is 0b101\n",
      "\n",
      "The Binomial of 5 is 0o5\n",
      "\n",
      "The Binomial of 5 is 0x5\n"
     ]
    }
   ],
   "source": [
    "def BOH():\n",
    "    n=int(input(\"Enter the number-->\"))\n",
    "    print(f\"\\nThe Binomial of {n} is {bin(n)}\")\n",
    "    print(f\"\\nThe Binomial of {n} is {oct(n)}\")\n",
    "    print(f\"\\nThe Binomial of {n} is {hex(n)}\")\n",
    "\n",
    "#calling a function\n",
    "BOH()"
   ]
  },
  {
   "cell_type": "markdown",
   "id": "694809af",
   "metadata": {},
   "source": [
    "# Q4. Write a Python Program to Find the ASCII value of a Character ?"
   ]
  },
  {
   "cell_type": "code",
   "execution_count": 6,
   "id": "ae2902c0",
   "metadata": {},
   "outputs": [
    {
     "name": "stdout",
     "output_type": "stream",
     "text": [
      "Enter the single character-->a\n",
      "The ASCII value of character a is 97\n",
      "Enter the single character-->A\n",
      "The ASCII value of character A is 65\n"
     ]
    }
   ],
   "source": [
    "def ASCII():\n",
    "    c=input(\"Enter the single character-->\")\n",
    "    if len(c)>1:\n",
    "        print(\"You cannot write more than single character\")\n",
    "    else:\n",
    "        print(f\"The ASCII value of character {c} is {ord(c)}\")\n",
    "        \n",
    "# Calling the function\n",
    "ASCII()\n",
    "ASCII()"
   ]
  },
  {
   "cell_type": "markdown",
   "id": "e2439594",
   "metadata": {},
   "source": [
    "# Q5. Write a Python Program to Make a Simple Calculator with 4 Basic Mathematical operations ?"
   ]
  },
  {
   "cell_type": "code",
   "execution_count": 6,
   "id": "a774fa39",
   "metadata": {},
   "outputs": [
    {
     "name": "stdout",
     "output_type": "stream",
     "text": [
      "----------------Welcome To Simple Calculator--------------\n",
      "\n",
      "You can use these operator to solve any problem-->\n",
      "1)+\n",
      "2)-\n",
      "3)*\n",
      "4)/\n",
      "\n",
      "Enter the operator--->\n",
      "You have entered wrong operator!please type again\n",
      "Enter the operator--->+\n",
      "Enter the 1st number-->1\n",
      "Enter the 2nd number-->2\n",
      "1+2=3\n",
      "Enter the operator--->-\n",
      "Enter the 1st number-->1\n",
      "Enter the 2nd number-->2\n",
      "1-2=-1\n",
      "Enter the operator--->*\n",
      "Enter the 1st number-->1\n",
      "Enter the 2nd number-->2\n",
      "1*2=2\n",
      "Enter the operator--->/\n",
      "Enter the 1st number-->1\n",
      "Enter the 2nd number-->2\n",
      "1/2=0.5\n",
      "Enter the operator--->exit\n",
      "The calculator stop beacause of exit \n"
     ]
    }
   ],
   "source": [
    "import operator as op\n",
    "\n",
    "op_dict={\"+\":op.add,\"-\":op.sub,\"*\":op.mul,\"/\":op.truediv}\n",
    "\n",
    "print(\"----------------Welcome To Simple Calculator--------------\\n\")\n",
    "\n",
    "print(\"You can use these operator to solve any problem-->\\n1)+\\n2)-\\n3)*\\n4)/\\n\")\n",
    "\n",
    "while True:\n",
    "    operator=input(\"Enter the operator--->\")\n",
    "    if operator==\"exit\":\n",
    "        print(\"The calculator stop beacause of exit \")\n",
    "        break\n",
    "    elif operator not in [\"+\",\"-\",\"*\",\"/\"]:\n",
    "        print(\"You have entered wrong operator!please type again\")\n",
    "        continue\n",
    "    else:\n",
    "        n1=int(input(\"Enter the 1st number-->\"))\n",
    "        n2=int(input(\"Enter the 2nd number-->\"))\n",
    "        print(f\"{n1}{operator}{n2}={op_dict[operator](n1,n2)}\")\n",
    "        continue"
   ]
  }
 ],
 "metadata": {
  "kernelspec": {
   "display_name": "Python 3 (ipykernel)",
   "language": "python",
   "name": "python3"
  },
  "language_info": {
   "codemirror_mode": {
    "name": "ipython",
    "version": 3
   },
   "file_extension": ".py",
   "mimetype": "text/x-python",
   "name": "python",
   "nbconvert_exporter": "python",
   "pygments_lexer": "ipython3",
   "version": "3.10.2"
  }
 },
 "nbformat": 4,
 "nbformat_minor": 5
}
