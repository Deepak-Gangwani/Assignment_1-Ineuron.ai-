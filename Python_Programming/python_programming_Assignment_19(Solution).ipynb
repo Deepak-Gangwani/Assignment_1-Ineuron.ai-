{
 "cells": [
  {
   "cell_type": "markdown",
   "id": "9a73ab6b",
   "metadata": {},
   "source": [
    "# Q1.Create a function that takes a string and returns a string in which each character is repeated once.\n",
    "Examples:\n",
    "\n",
    "double_char(\"String\") ➞ \"SSttrriinngg\"\n",
    "\n",
    "double_char(\"Hello World!\") ➞ \"HHeelllloo WWoorrlldd!!\"\n",
    "\n",
    "doublechar(\"1234!_\") ➞ \"11223344!!__\""
   ]
  },
  {
   "cell_type": "code",
   "execution_count": 1,
   "id": "7e398fdc",
   "metadata": {},
   "outputs": [
    {
     "name": "stdout",
     "output_type": "stream",
     "text": [
      "Enter the string-->String\n",
      "The string is converted into repeated form-->SSttrriinngg\n",
      "\n",
      "Enter the string-->Hello World\n",
      "The string is converted into repeated form-->HHeelllloo  WWoorrlldd\n",
      "\n",
      "Enter the string-->1234\n",
      "The string is converted into repeated form-->11223344\n",
      "\n"
     ]
    }
   ],
   "source": [
    "def double_char():\n",
    "    try:\n",
    "        s=input(\"Enter the string-->\")\n",
    "        new_s=\"\"\n",
    "        for i in s:\n",
    "            new_s=new_s+(i*2)\n",
    "        print(f\"The string is converted into repeated form-->{new_s}\\n\")\n",
    "    except Exception as e:\n",
    "        print(e)\n",
    "        \n",
    "double_char()\n",
    "double_char()\n",
    "double_char()"
   ]
  },
  {
   "cell_type": "markdown",
   "id": "97622b30",
   "metadata": {},
   "source": [
    "# Q2.Create a function that reverses a boolean value and returns the string \"boolean expected\" if another variable type is given.\n",
    "Examples:\n",
    "\n",
    "reverse(True) ➞ False\n",
    "\n",
    "reverse(False) ➞ True\n",
    "\n",
    "reverse(0) ➞ \"boolean expected\"\n",
    "\n",
    "reverse(None) ➞ \"boolean expected\""
   ]
  },
  {
   "cell_type": "code",
   "execution_count": 8,
   "id": "fc6aca96",
   "metadata": {},
   "outputs": [
    {
     "name": "stdout",
     "output_type": "stream",
     "text": [
      "Enter the boolean to make reverse-->True\n",
      "False\n",
      "\n",
      "Enter the boolean to make reverse-->False\n",
      "True\n",
      "\n",
      "Enter the boolean to make reverse-->0\n",
      "boolean expected\n",
      "\n",
      "Enter the boolean to make reverse-->None\n",
      "boolean expected\n",
      "\n"
     ]
    }
   ],
   "source": [
    "def reverse():\n",
    "    try:\n",
    "        b=input(\"Enter the boolean to make reverse-->\")\n",
    "        if b==\"True\":\n",
    "            print(\"False\\n\")\n",
    "        elif b==\"False\":\n",
    "            print(\"True\\n\")\n",
    "        else:\n",
    "            print(\"boolean expected\\n\")\n",
    "    except Exception as e:\n",
    "        prit(e)\n",
    "        \n",
    "reverse()\n",
    "reverse()\n",
    "reverse()\n",
    "reverse()"
   ]
  },
  {
   "cell_type": "markdown",
   "id": "cc9cc49c",
   "metadata": {},
   "source": [
    "# Q3. Create a function that returns the thickness (in meters) of a piece of paper after folding it n number of times. The paper starts off with a thickness of 0.5mm.\n",
    "Examples:\n",
    "\n",
    "`num_layers(1) ➞ \"0.001m\"\n",
    "\n",
    "# Paper folded once is 1mm (equal to 0.001m)\n",
    "num_layers(4) ➞ \"0.008m\"\n",
    "\n",
    "# Paper folded 4 times is 8mm (equal to 0.008m)\n",
    "num_layers(21) ➞ \"1048.576m\"\n",
    "\n",
    "# Paper folded 21 times is 1048576mm (equal to 1048.576m)"
   ]
  },
  {
   "cell_type": "code",
   "execution_count": 12,
   "id": "e5df9dc2",
   "metadata": {},
   "outputs": [
    {
     "name": "stdout",
     "output_type": "stream",
     "text": [
      "Enter the number of times paper folded-->1\n",
      "The paper folded 1 times and the thickness of paper-->0.001 m\n",
      "\n",
      "Enter the number of times paper folded-->4\n",
      "The paper folded 4 times and the thickness of paper-->0.008 m\n",
      "\n",
      "Enter the number of times paper folded-->21\n",
      "The paper folded 21 times and the thickness of paper-->1048.576 m\n",
      "\n"
     ]
    }
   ],
   "source": [
    "def num_layers():\n",
    "    try:\n",
    "        n=int(input(\"Enter the number of times paper folded-->\"))\n",
    "        mm=0.5\n",
    "        for i in range(n):\n",
    "            mm=mm*2\n",
    "        print(f\"The paper folded {n} times and the thickness of paper-->{mm/1000} m\\n\")\n",
    "    except Exception as e:\n",
    "        print(e)\n",
    "        \n",
    "num_layers()\n",
    "num_layers()\n",
    "num_layers()\n",
    "\n",
    "        "
   ]
  },
  {
   "cell_type": "markdown",
   "id": "bdc2a7ca",
   "metadata": {},
   "source": [
    "# Q4.Create a function that takes a single string as argument and returns an ordered list containing the indices of all capital letters in the string.\n",
    "\n",
    "Examples:\n",
    "    \n",
    "index_of_caps(\"eDaBiT\") ➞ [1, 3, 5]\n",
    "\n",
    "index_of_caps(\"eQuINoX\") ➞ [1, 3, 4, 6]\n",
    "\n",
    "index_of_caps(\"determine\") ➞ []\n",
    "\n",
    "index_of_caps(\"STRIKE\") ➞ [0, 1, 2, 3, 4, 5]\n",
    "\n",
    "index_of_caps(\"sUn\") ➞ [1]"
   ]
  },
  {
   "cell_type": "code",
   "execution_count": 14,
   "id": "ece98808",
   "metadata": {},
   "outputs": [
    {
     "name": "stdout",
     "output_type": "stream",
     "text": [
      "Enter the string-->eDaBiT\n",
      "The index of capital-->[1, 3, 5]\n",
      "\n",
      "Enter the string-->eQuINoX\n",
      "The index of capital-->[1, 3, 4, 6]\n",
      "\n",
      "Enter the string-->determine\n",
      "The index of capital-->[]\n",
      "\n",
      "Enter the string-->STRIKE\n",
      "The index of capital-->[0, 1, 2, 3, 4, 5]\n",
      "\n",
      "Enter the string-->sUn\n",
      "The index of capital-->[1]\n",
      "\n"
     ]
    }
   ],
   "source": [
    "def index_of_caps():\n",
    "    try:\n",
    "        s=input(\"Enter the string-->\")\n",
    "        l=[]\n",
    "        for i in s:\n",
    "            if i.isupper():\n",
    "                l.append(s.index(i))\n",
    "        print(f\"The index of capital-->{l}\\n\")\n",
    "    except Exception as e:\n",
    "        print(e)\n",
    "        \n",
    "index_of_caps()\n",
    "index_of_caps()\n",
    "index_of_caps()\n",
    "index_of_caps()\n",
    "index_of_caps()"
   ]
  },
  {
   "cell_type": "markdown",
   "id": "35ab6624",
   "metadata": {},
   "source": [
    "# Q5.Using list comprehensions, create a function that finds all even numbers from 1 to the given number.\n",
    "Examples:\n",
    "\n",
    "find_even_nums(8) ➞ [2, 4, 6, 8]\n",
    "\n",
    "find_even_nums(4) ➞ [2, 4]\n",
    "\n",
    "find_even_nums(2) ➞ [2]"
   ]
  },
  {
   "cell_type": "code",
   "execution_count": 17,
   "id": "ba4506f7",
   "metadata": {},
   "outputs": [
    {
     "name": "stdout",
     "output_type": "stream",
     "text": [
      "Enter the range to find even number-->8\n",
      "The list of even number between 1 to 8-->[2, 4, 6, 8]\n",
      "\n",
      "Enter the range to find even number-->4\n",
      "The list of even number between 1 to 4-->[2, 4]\n",
      "\n",
      "Enter the range to find even number-->2\n",
      "The list of even number between 1 to 2-->[2]\n",
      "\n"
     ]
    }
   ],
   "source": [
    "def find_even_nums():\n",
    "    try:\n",
    "        n=int(input(\"Enter the range to find even number-->\"))\n",
    "        l=[]\n",
    "        for i in range(1,n+1):\n",
    "            if i%2==0:\n",
    "                l.append(i)\n",
    "        print(f\"The list of even number between 1 to {n}-->{l}\\n\") \n",
    "    except Exception as e:\n",
    "        print(e)\n",
    "       \n",
    "    \n",
    "find_even_nums()\n",
    "find_even_nums()\n",
    "find_even_nums()"
   ]
  }
 ],
 "metadata": {
  "kernelspec": {
   "display_name": "Python 3 (ipykernel)",
   "language": "python",
   "name": "python3"
  },
  "language_info": {
   "codemirror_mode": {
    "name": "ipython",
    "version": 3
   },
   "file_extension": ".py",
   "mimetype": "text/x-python",
   "name": "python",
   "nbconvert_exporter": "python",
   "pygments_lexer": "ipython3",
   "version": "3.10.2"
  }
 },
 "nbformat": 4,
 "nbformat_minor": 5
}
