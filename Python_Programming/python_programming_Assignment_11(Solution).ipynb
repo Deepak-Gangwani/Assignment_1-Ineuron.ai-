{
 "cells": [
  {
   "cell_type": "markdown",
   "id": "597d7e25",
   "metadata": {},
   "source": [
    "# Q1. Write a Python program to find words which are greater than given length k ?"
   ]
  },
  {
   "cell_type": "code",
   "execution_count": 3,
   "id": "564dac94",
   "metadata": {},
   "outputs": [
    {
     "name": "stdout",
     "output_type": "stream",
     "text": [
      "Enter the string-->My name is Deepak and this is the best learning platform \n",
      "Enter the length-->5\n",
      "This list of words more than the given length 5 is ['Deepak', 'learning', 'platform']\n"
     ]
    }
   ],
   "source": [
    "def WordsFinder(string):\n",
    "    try:\n",
    "        length=int(input(\"Enter the length-->\"))\n",
    "        string2=[]\n",
    "        for i in string.split():\n",
    "            if len(i)>length:\n",
    "                string2.append(i)\n",
    "        print(f\"This list of words more than the given length {length} is {string2}\")\n",
    "    except Exception as e:\n",
    "        print(e)\n",
    "            \n",
    "        \n",
    "s=input(\"Enter the string-->\")\n",
    "#calling a function\n",
    "WordsFinder(s)\n",
    "    "
   ]
  },
  {
   "cell_type": "markdown",
   "id": "8190ac41",
   "metadata": {},
   "source": [
    "# Q2. Write a Python program for removing i-th character from a string ?"
   ]
  },
  {
   "cell_type": "code",
   "execution_count": 7,
   "id": "8d535688",
   "metadata": {},
   "outputs": [
    {
     "name": "stdout",
     "output_type": "stream",
     "text": [
      "Enter the string-->Deeepak\n",
      "\n",
      "Enter the i-th character of string to remove-->1\n",
      "\n",
      "The string after removing i-th character-->Deepak\n"
     ]
    }
   ],
   "source": [
    "def RemoveChar(string):\n",
    "    try:\n",
    "        char=int(input(\"\\nEnter the i-th character of string to remove-->\"))\n",
    "        string2=\"\"\n",
    "        for i in range(len(string)):\n",
    "            if i!=char:\n",
    "                string2=string2+string[i]\n",
    "        print(f\"\\nThe string after removing i-th character-->{string2}\")\n",
    "    except Exception as e:\n",
    "        print(e)\n",
    "        \n",
    "        \n",
    "s=input(\"Enter the string-->\")\n",
    "#calling a function\n",
    "RemoveChar(s)"
   ]
  },
  {
   "cell_type": "markdown",
   "id": "f67f1fc1",
   "metadata": {},
   "source": [
    "# Q3. Write a Python program to split and join a string ?"
   ]
  },
  {
   "cell_type": "code",
   "execution_count": 10,
   "id": "5461bb4f",
   "metadata": {},
   "outputs": [
    {
     "name": "stdout",
     "output_type": "stream",
     "text": [
      "Enter the string-->my name is deepak\n",
      "['my', 'name', 'is', 'deepak']\n",
      "my name is deepak\n"
     ]
    }
   ],
   "source": [
    "def SplitJoin(string):\n",
    "    try:\n",
    "        print(string.split())\n",
    "        print(\" \".join(string.split()))\n",
    "    except Exception as e:\n",
    "        print(e)\n",
    "        \n",
    "s=input(\"Enter the string-->\")\n",
    "#calling a function\n",
    "SplitJoin(s)"
   ]
  },
  {
   "cell_type": "markdown",
   "id": "1e4cbcee",
   "metadata": {},
   "source": [
    "# Q4. Write a Python to check if a given string is binary string or not ?"
   ]
  },
  {
   "cell_type": "code",
   "execution_count": 3,
   "id": "6978ac1b",
   "metadata": {},
   "outputs": [
    {
     "name": "stdout",
     "output_type": "stream",
     "text": [
      "Enter the string-->101010\n",
      "This is a binary string\n"
     ]
    }
   ],
   "source": [
    "def binary(string):\n",
    "    try:\n",
    "        if string.count(\"0\")+string.count(\"1\")==len(string):\n",
    "            print(\"This is a binary string\")\n",
    "        else:\n",
    "            print(\"This is not a binary string\")\n",
    "    except Exception as e:\n",
    "        print(e)\n",
    "        \n",
    "        \n",
    "        \n",
    "        \n",
    "s=input(\"Enter the string-->\")\n",
    "#calling a function\n",
    "binary(s) "
   ]
  },
  {
   "cell_type": "markdown",
   "id": "ccdd52ca",
   "metadata": {},
   "source": [
    "# Q5. Write a Python program to find uncommon words from two Strings ?"
   ]
  },
  {
   "cell_type": "code",
   "execution_count": 4,
   "id": "a17cd640",
   "metadata": {},
   "outputs": [
    {
     "name": "stdout",
     "output_type": "stream",
     "text": [
      "Enter the 1st string-->i love my mom\n",
      "Enter the 2nd string-->i love my dad\n",
      "{'mom', 'dad'}\n"
     ]
    }
   ],
   "source": [
    "def uncommon(string1,string2):\n",
    "    try:\n",
    "        print(set(string1.split())^set(string2.split()))\n",
    "    except Exception as e:\n",
    "        print(e)\n",
    "        \n",
    "        \n",
    "s1=input(\"Enter the 1st string-->\")\n",
    "s2=input(\"Enter the 2nd string-->\")\n",
    "#calling a function        \n",
    "uncommon(s1,s2)"
   ]
  },
  {
   "cell_type": "markdown",
   "id": "a270045f",
   "metadata": {},
   "source": [
    "# Q6. Write a Python to find all duplicate characters in string ?"
   ]
  },
  {
   "cell_type": "code",
   "execution_count": 17,
   "id": "87196fa8",
   "metadata": {},
   "outputs": [
    {
     "name": "stdout",
     "output_type": "stream",
     "text": [
      "Enter the string-->PYTHON PROGRAMMING\n",
      "The list of duplicate character-->['p', 'o', 'n', 'r', 'g', 'm']\n"
     ]
    }
   ],
   "source": [
    "def duplicate(string):\n",
    "    try:\n",
    "        duplicate=[]\n",
    "        string2=string.lower()\n",
    "        for i in string2:\n",
    "            if string2.count(i)>1:\n",
    "                if i not in duplicate:\n",
    "                    duplicate.append(i)\n",
    "        print(f\"The list of duplicate character-->{duplicate}\")\n",
    "    except Exception as e:\n",
    "        print(e)\n",
    "    \n",
    " \n",
    "s=input(\"Enter the string-->\")\n",
    "#Calling the function\n",
    "duplicate(s)"
   ]
  },
  {
   "cell_type": "markdown",
   "id": "436a266e",
   "metadata": {},
   "source": [
    "# Q7. Write a Python Program to check if a string contains any special character?"
   ]
  },
  {
   "cell_type": "code",
   "execution_count": 31,
   "id": "54dadd79",
   "metadata": {},
   "outputs": [
    {
     "name": "stdout",
     "output_type": "stream",
     "text": [
      "Enter a string-->My name is $#^%^%$ deepak\n",
      "There are 7 Special Characters in My name is $#^%^%$ deepakwhich are ['$', '#', '^', '%', '^', '%', '$']\n"
     ]
    }
   ],
   "source": [
    "def SpecialChar():\n",
    "    try:\n",
    "        special= '[@_!#$%^&*()<>?/\\|}{~:]'\n",
    "        s=input(\"Enter a string-->\")\n",
    "        count = 0\n",
    "        l=[]\n",
    "        for i in s:\n",
    "            if i in special:\n",
    "                l.append(i)\n",
    "                count = count+1\n",
    "        print(f'There are {count} Special Characters in {s}which are {l}')\n",
    "    except Exception as e:\n",
    "        print(e)\n",
    "            \n",
    "        \n",
    "SpecialChar()"
   ]
  }
 ],
 "metadata": {
  "kernelspec": {
   "display_name": "Python 3 (ipykernel)",
   "language": "python",
   "name": "python3"
  },
  "language_info": {
   "codemirror_mode": {
    "name": "ipython",
    "version": 3
   },
   "file_extension": ".py",
   "mimetype": "text/x-python",
   "name": "python",
   "nbconvert_exporter": "python",
   "pygments_lexer": "ipython3",
   "version": "3.10.2"
  }
 },
 "nbformat": 4,
 "nbformat_minor": 5
}
