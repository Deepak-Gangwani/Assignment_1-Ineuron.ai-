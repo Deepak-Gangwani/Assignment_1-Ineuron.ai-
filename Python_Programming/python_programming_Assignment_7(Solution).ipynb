{
 "cells": [
  {
   "cell_type": "markdown",
   "id": "3770bb28",
   "metadata": {},
   "source": [
    "# Q1. Write a Python Program to find sum of Array ?"
   ]
  },
  {
   "cell_type": "code",
   "execution_count": 4,
   "id": "77c83dfe",
   "metadata": {},
   "outputs": [
    {
     "name": "stdout",
     "output_type": "stream",
     "text": [
      "Enter the numbers to form sum-->1,2,3,4,5\n",
      "The sum of (1, 2, 3, 4, 5) is 15\n"
     ]
    }
   ],
   "source": [
    "def SumArray(a):\n",
    "    try:\n",
    "        print(f\"The sum of {a} is {sum(a)}\")\n",
    "    except Exception as e:\n",
    "        print(e)\n",
    "        \n",
    "#calling a function\n",
    "array=eval(input(\"Enter the numbers to form sum-->\"))\n",
    "SumArray(array)"
   ]
  },
  {
   "cell_type": "markdown",
   "id": "6dc2477f",
   "metadata": {},
   "source": [
    "# Q2. Write a Python Program to find Largest element in an Array ?"
   ]
  },
  {
   "cell_type": "code",
   "execution_count": 19,
   "id": "831e2652",
   "metadata": {},
   "outputs": [
    {
     "name": "stdout",
     "output_type": "stream",
     "text": [
      "\n",
      "Enter the elements to find the largest element--> 32232,54545,34,dfdf\n",
      "name 'dfdf' is not defined\n",
      "\n",
      "Enter the elements to find the largest element--> 3232,44454,233232,55454\n",
      "\n",
      "The Largest Element is 233232\n"
     ]
    }
   ],
   "source": [
    "def largest():\n",
    "    try:\n",
    "        arr = eval(input(\"\\nEnter the elements to find the largest element--> \"))\n",
    "        print(f\"\\nThe Largest Element is {sorted(arr, reverse=True)[0]}\")\n",
    "    except Exception as e:\n",
    "        print(e)\n",
    "        return largest()\n",
    "\n",
    "#Calling a function    \n",
    "largest()"
   ]
  },
  {
   "cell_type": "markdown",
   "id": "77323f74",
   "metadata": {},
   "source": [
    "# Q3. Write a Python Program for array rotation ?"
   ]
  },
  {
   "cell_type": "code",
   "execution_count": 21,
   "id": "31bed367",
   "metadata": {},
   "outputs": [
    {
     "name": "stdout",
     "output_type": "stream",
     "text": [
      "\n",
      "Enter the elements to find the largest element--> 323322,4t45,656,t,565\n",
      "invalid decimal literal (<string>, line 1)\n",
      "\n",
      "Enter the elements to find the largest element--> 34434,2232,33443,565,4\n",
      "\n",
      "The Largest Element is (4, 565, 33443, 2232, 34434)\n"
     ]
    }
   ],
   "source": [
    "def rotation():\n",
    "    try:\n",
    "        arr = eval(input(\"\\nEnter the elements to find the largest element--> \"))\n",
    "        print(f\"\\nThe Largest Element is {arr[::-1]}\")\n",
    "    except Exception as e:\n",
    "        print(e)\n",
    "        return rotation()\n",
    "    \n",
    "rotation()"
   ]
  },
  {
   "cell_type": "markdown",
   "id": "78e118ac",
   "metadata": {},
   "source": [
    "# 4. Write a Python Program to Split the array and add the first part to the end ?"
   ]
  },
  {
   "cell_type": "code",
   "execution_count": 1,
   "id": "2d4b4a39",
   "metadata": {},
   "outputs": [
    {
     "name": "stdout",
     "output_type": "stream",
     "text": [
      "\n",
      "Enter the elements to form list--> 1211,121,334,sew\n",
      "name 'sew' is not defined\n",
      "\n",
      "Enter the elements to form list--> 123,5346,766,345,5\n",
      "(123, 5346, 766, 345, 5)\n",
      "\n",
      "The 1st element of array is 123\n",
      "\n",
      "The 2nd element of array is 5\n",
      "\n",
      "The addition of 1st and 2nd is 128\n"
     ]
    }
   ],
   "source": [
    "def Add_of_first_end():\n",
    "    try:\n",
    "        arr = eval(input(\"\\nEnter the elements to form list--> \"))\n",
    "        print(arr)\n",
    "        print(f\"\\nThe 1st element of array is {arr[0]}\")\n",
    "        print(f\"\\nThe 2nd element of array is {arr[-1]}\")\n",
    "        print(f\"\\nThe addition of 1st and 2nd is {arr[0]+arr[-1]}\")\n",
    "    except Exception as e:\n",
    "        print(e)\n",
    "        return Add_of_first_end()\n",
    "\n",
    "#calling a function\n",
    "Add_of_first_end()"
   ]
  },
  {
   "cell_type": "markdown",
   "id": "3942f768",
   "metadata": {},
   "source": [
    "# Q5. Write a Python Program to check if given array is Monotonic ?"
   ]
  },
  {
   "cell_type": "code",
   "execution_count": 7,
   "id": "fdb45df5",
   "metadata": {},
   "outputs": [
    {
     "name": "stdout",
     "output_type": "stream",
     "text": [
      "\n",
      "Enter the elements to form list--> 1221,344,4545,eew\n",
      "name 'eew' is not defined\n",
      "\n",
      "Enter the elements to form list--> 1,2,3,4,5\n",
      "\n",
      "The Elements entered is Monotonic\n"
     ]
    }
   ],
   "source": [
    "def Monotonic():\n",
    "    try:\n",
    "        arr = eval(input(\"\\nEnter the elements to form list--> \"))\n",
    "        for i in range(len(arr)-1):\n",
    "            if arr[i]<=arr[i+1] or arr[i]>=arr[i+1]:\n",
    "                print(\"\\nThe Elements entered is Monotonic\")\n",
    "                break\n",
    "            else:\n",
    "                print(\"\\nThe Elements enterd is not a Monotonic\")\n",
    "    except Exception as e:\n",
    "        print(e)\n",
    "        return Monotonic()\n",
    "        \n",
    "#calling a function\n",
    "Monotonic()\n",
    "    "
   ]
  }
 ],
 "metadata": {
  "kernelspec": {
   "display_name": "Python 3 (ipykernel)",
   "language": "python",
   "name": "python3"
  },
  "language_info": {
   "codemirror_mode": {
    "name": "ipython",
    "version": 3
   },
   "file_extension": ".py",
   "mimetype": "text/x-python",
   "name": "python",
   "nbconvert_exporter": "python",
   "pygments_lexer": "ipython3",
   "version": "3.10.2"
  }
 },
 "nbformat": 4,
 "nbformat_minor": 5
}
