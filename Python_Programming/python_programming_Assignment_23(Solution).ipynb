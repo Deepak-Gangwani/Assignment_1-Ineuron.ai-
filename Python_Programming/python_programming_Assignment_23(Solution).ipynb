{
 "cells": [
  {
   "cell_type": "markdown",
   "id": "6c23d140",
   "metadata": {},
   "source": [
    "# Q1.Create a function that takes a number as an argument and returns True or False depending on whether the number is symmetrical or not. A number is symmetrical when it is the same as its reverse.\n",
    "Examples:\n",
    "\n",
    "is_symmetrical(7227) ➞ True\n",
    "\n",
    "is_symmetrical(12567) ➞ False\n",
    "\n",
    "is_symmetrical(44444444) ➞ True\n",
    "\n",
    "is_symmetrical(9939) ➞ False\n",
    "\n",
    "is_symmetrical(1112111) ➞ True"
   ]
  },
  {
   "cell_type": "code",
   "execution_count": 6,
   "id": "e61fbb7f",
   "metadata": {},
   "outputs": [
    {
     "name": "stdout",
     "output_type": "stream",
     "text": [
      "Enter the number to check symmetrical-->7227\n",
      "The 7227-->True\n",
      "\n",
      "Enter the number to check symmetrical-->12567\n",
      "The 12567-->False\n",
      "\n",
      "Enter the number to check symmetrical-->44444444\n",
      "The 44444444-->True\n",
      "\n",
      "Enter the number to check symmetrical-->9939\n",
      "The 9939-->False\n",
      "\n",
      "Enter the number to check symmetrical-->1112111\n",
      "The 1112111-->True\n",
      "\n"
     ]
    }
   ],
   "source": [
    "def is_symmetrical():\n",
    "    try:\n",
    "        n=input(\"Enter the number to check symmetrical-->\")\n",
    "        if n==n[::-1]:\n",
    "            print(f\"The {n}-->{True}\\n\")\n",
    "        else:\n",
    "            print(f\"The {n}-->{False}\\n\")\n",
    "    except Exception as e:\n",
    "        print(e)\n",
    "        \n",
    "is_symmetrical()\n",
    "is_symmetrical()      \n",
    "is_symmetrical()      \n",
    "is_symmetrical()  \n",
    "is_symmetrical()      "
   ]
  },
  {
   "cell_type": "markdown",
   "id": "fd16a817",
   "metadata": {},
   "source": [
    "# Q2.Given a string of numbers separated by a comma and space, return the product of the numbers.\n",
    "Examples:\n",
    "\n",
    "multiply_nums(\"2, 3\") ➞ 6\n",
    "\n",
    "multiply_nums(\"1, 2, 3, 4\") ➞ 24\n",
    "\n",
    "multiply_nums(\"54, 75, 453, 0\") ➞ 0\n",
    "\n",
    "multiply_nums(\"10, -2\") ➞ -20"
   ]
  },
  {
   "cell_type": "code",
   "execution_count": 15,
   "id": "e386dff8",
   "metadata": {},
   "outputs": [
    {
     "name": "stdout",
     "output_type": "stream",
     "text": [
      "Enter the numbers for product-->2,3\n",
      "(2, 3)-->6\n",
      "\n",
      "Enter the numbers for product-->1,2,3,4\n",
      "(1, 2, 3, 4)-->24\n",
      "\n",
      "Enter the numbers for product-->54,75,453,0\n",
      "(54, 75, 453, 0)-->0\n",
      "\n",
      "Enter the numbers for product-->10,-2\n",
      "(10, -2)-->-20\n",
      "\n"
     ]
    }
   ],
   "source": [
    "def multiply():\n",
    "    try:\n",
    "        string=eval(input(\"Enter the numbers for product-->\"))\n",
    "        num=1\n",
    "        for i in string:\n",
    "            num=num*int(i)\n",
    "        print(f'{string}-->{num}\\n')\n",
    "    except Exception as e:\n",
    "        print(e)\n",
    "        \n",
    "multiply()\n",
    "multiply()\n",
    "multiply()\n",
    "multiply()\n",
    "\n",
    "            "
   ]
  },
  {
   "cell_type": "markdown",
   "id": "487c3390",
   "metadata": {},
   "source": [
    "# Q3.Create a function that squares every digit of a number.\n",
    "Examples:\n",
    "\n",
    "square_digits(9119) ➞ 811181\n",
    "\n",
    "square_digits(2483) ➞ 416649\n",
    "\n",
    "square_digits(3212) ➞ 9414\n",
    "\n",
    "Notes:\n",
    "The function receives an integer and must return an integer."
   ]
  },
  {
   "cell_type": "code",
   "execution_count": 22,
   "id": "5c1acf23",
   "metadata": {},
   "outputs": [
    {
     "name": "stdout",
     "output_type": "stream",
     "text": [
      "Enter the number-->9119\n",
      "The squares of every digit of a 9119-->811181\n",
      "\n",
      "Enter the number-->2483\n",
      "The squares of every digit of a 2483-->416649\n",
      "\n",
      "Enter the number-->3212\n",
      "The squares of every digit of a 3212-->9414\n",
      "\n"
     ]
    }
   ],
   "source": [
    "def squares_every_digit():\n",
    "    try:\n",
    "        digits=input(\"Enter the number-->\")\n",
    "        print(f\"The squares of every digit of a {digits}-->\",end=\"\")\n",
    "        for i in digits:\n",
    "            print(int(i)**2,end='')\n",
    "        print(\"\\n\")\n",
    "    except Exception as e:\n",
    "        print(e)\n",
    "        \n",
    "squares_every_digit() \n",
    "squares_every_digit()\n",
    "squares_every_digit()\n"
   ]
  },
  {
   "cell_type": "markdown",
   "id": "01f33881",
   "metadata": {},
   "source": [
    "# Q4.Create a function that sorts a list and removes all duplicate items from it.\n",
    "Examples:\n",
    "\n",
    "setify([1, 3, 3, 5, 5]) ➞ [1, 3, 5]\n",
    "\n",
    "setify([4, 4, 4, 4]) ➞ [4]\n",
    "\n",
    "setify([5, 7, 8, 9, 10, 15]) ➞ [5, 7, 8, 9, 10, 15]\n",
    "\n",
    "setify([3, 3, 3, 2, 1]) ➞ [1, 2, 3]"
   ]
  },
  {
   "cell_type": "code",
   "execution_count": 29,
   "id": "e9d86cc0",
   "metadata": {},
   "outputs": [
    {
     "name": "stdout",
     "output_type": "stream",
     "text": [
      "The sorting of [1, 3, 3, 5, 5]-->[1, 3, 5]\n",
      "\n",
      "The sorting of [4, 4, 4, 4]-->[4]\n",
      "\n",
      "The sorting of [5, 7, 8, 9, 10, 15]-->[5, 7, 8, 9, 10, 15]\n",
      "\n",
      "The sorting of [3, 3, 3, 2, 1]-->[1, 2, 3]\n",
      "\n"
     ]
    }
   ],
   "source": [
    "def setify(l):\n",
    "    try:\n",
    "        new_l=list(set(l))\n",
    "        print(f\"The sorting of {l}-->{new_l}\\n\")\n",
    "    except Exception as e:\n",
    "        print(e)\n",
    "        \n",
    "setify([1,3,3,5,5]) \n",
    "setify([4,4,4,4])\n",
    "setify([5,7,8,9,10,15])\n",
    "setify([3,3,3,2,1])"
   ]
  },
  {
   "cell_type": "markdown",
   "id": "cf601cef",
   "metadata": {},
   "source": [
    "# Q5.Create a function that returns the mean of all digits.\n",
    "Examples:\n",
    "\n",
    "mean(42) ➞ 3\n",
    "\n",
    "mean(12345) ➞ 3\n",
    "\n",
    "mean(666) ➞ 6\n",
    "\n",
    "Notes:\n",
    "\n",
    "1.The mean of all digits is the sum of digits / how many digits there are (e.g. mean of digits in 512 is (5+1+2)/3(number of digits) = 8/3=2).\n",
    "\n",
    "2.The mean will always be an integer."
   ]
  },
  {
   "cell_type": "code",
   "execution_count": 40,
   "id": "8aa24eb3",
   "metadata": {},
   "outputs": [
    {
     "name": "stdout",
     "output_type": "stream",
     "text": [
      "Enter the number-->42\n",
      "The mean of 42-->3\n",
      "\n",
      "Enter the number-->12345\n",
      "The mean of 12345-->3\n",
      "\n",
      "Enter the number-->666\n",
      "The mean of 666-->6\n",
      "\n"
     ]
    }
   ],
   "source": [
    "def mean():\n",
    "    try:\n",
    "        digits=input(\"Enter the number-->\")\n",
    "        l=[]\n",
    "        for i in str(digits):\n",
    "            l.append(int(i))\n",
    "        solved=sum(l)/len(str(digits))\n",
    "        print(f\"The mean of {digits}-->{int(solved)}\\n\")        \n",
    "    except Exception as e:\n",
    "        print(e)\n",
    "        \n",
    "mean()\n",
    "mean()\n",
    "mean()\n"
   ]
  }
 ],
 "metadata": {
  "kernelspec": {
   "display_name": "Python 3 (ipykernel)",
   "language": "python",
   "name": "python3"
  },
  "language_info": {
   "codemirror_mode": {
    "name": "ipython",
    "version": 3
   },
   "file_extension": ".py",
   "mimetype": "text/x-python",
   "name": "python",
   "nbconvert_exporter": "python",
   "pygments_lexer": "ipython3",
   "version": "3.10.2"
  }
 },
 "nbformat": 4,
 "nbformat_minor": 5
}
