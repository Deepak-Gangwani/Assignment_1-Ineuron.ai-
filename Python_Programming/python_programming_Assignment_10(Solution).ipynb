{
 "cells": [
  {
   "cell_type": "markdown",
   "id": "737837bd",
   "metadata": {},
   "source": [
    "# Q1.Write a Python Program to find sum of elements in a list ?"
   ]
  },
  {
   "cell_type": "code",
   "execution_count": 2,
   "id": "ff1814d2",
   "metadata": {},
   "outputs": [
    {
     "name": "stdout",
     "output_type": "stream",
     "text": [
      "Enter the number element you want-->10\n",
      "Enter 1 Element-->10\n",
      "Enter 2 Element-->20\n",
      "Enter 3 Element-->30\n",
      "Enter 4 Element-->40\n",
      "Enter 5 Element-->50\n",
      "Enter 6 Element-->60\n",
      "Enter 7 Element-->70\n",
      "Enter 8 Element-->80\n",
      "Enter 9 Element-->90\n",
      "Enter 10 Element-->100\n",
      "\n",
      "[10, 20, 30, 40, 50, 60, 70, 80, 90, 100]\n",
      "\n",
      "The sum of all elements in list is 550\n"
     ]
    }
   ],
   "source": [
    "def SumOfList():\n",
    "    try:\n",
    "        n=int(input(\"Enter the number element you want-->\"))\n",
    "        l=[]\n",
    "        for i in range(1,n+1):\n",
    "            l.append(int(input(f\"Enter {i} Element-->\")))\n",
    "        print(f\"\\n{l}\")    \n",
    "        print(f\"\\nThe sum of all elements in list is {sum(l)}\")    \n",
    "    except Exception as e:\n",
    "        print(e)\n",
    "        \n",
    "#calling a function\n",
    "SumOfList()"
   ]
  },
  {
   "cell_type": "markdown",
   "id": "05815ad1",
   "metadata": {},
   "source": [
    "# Q2.Write a Python Program to multiply all numbers in the list ?"
   ]
  },
  {
   "cell_type": "code",
   "execution_count": 9,
   "id": "57ab656f",
   "metadata": {},
   "outputs": [
    {
     "name": "stdout",
     "output_type": "stream",
     "text": [
      "Enter the number element you want-->5\n",
      "Enter 1 Element-->1\n",
      "Enter 2 Element-->2\n",
      "Enter 3 Element-->3\n",
      "Enter 4 Element-->4\n",
      "Enter 5 Element-->5\n",
      "\n",
      "[1, 2, 3, 4, 5]\n",
      "\n",
      "The multiply of all elements in list is 120\n"
     ]
    }
   ],
   "source": [
    "def MulOfList():\n",
    "    try:\n",
    "        n=int(input(\"Enter the number element you want-->\"))\n",
    "        l=[]\n",
    "        mul=1\n",
    "        for i in range(1,n+1):\n",
    "            l.append(int(input(f\"Enter {i} Element-->\")))\n",
    "        print(f\"\\n{l}\")\n",
    "        for j in l:\n",
    "            mul=mul*j    \n",
    "        print(f\"\\nThe multiply of all elements in list is {mul}\")    \n",
    "    except Exception as e:\n",
    "        print(e)\n",
    "        \n",
    "#calling a function\n",
    "MulOfList()"
   ]
  },
  {
   "cell_type": "markdown",
   "id": "73404569",
   "metadata": {},
   "source": [
    "# Q3.Write a Python Program to find smallest number in the list ?"
   ]
  },
  {
   "cell_type": "code",
   "execution_count": 2,
   "id": "16828885",
   "metadata": {},
   "outputs": [
    {
     "name": "stdout",
     "output_type": "stream",
     "text": [
      "Enter the number element you want-->4\n",
      "Enter 1 Element-->212\n",
      "Enter 2 Element-->35453\n",
      "Enter 3 Element-->342321\n",
      "Enter 4 Element-->676\n",
      "\n",
      "[212, 35453, 342321, 676]\n",
      "\n",
      "The smallest number in the list is 212\n"
     ]
    }
   ],
   "source": [
    "def SmallOfList():\n",
    "    try:\n",
    "        n=int(input(\"Enter the number element you want-->\"))\n",
    "        l=[]\n",
    "        for i in range(1,n+1):\n",
    "            l.append(int(input(f\"Enter {i} Element-->\")))\n",
    "        print(f\"\\n{l}\")\n",
    "        print(f\"\\nThe smallest number in the list is {sorted(l)[0]}\")\n",
    "    except Exception as e:\n",
    "        print(e)\n",
    " \n",
    "#calling a function\n",
    "SmallOfList()"
   ]
  },
  {
   "cell_type": "markdown",
   "id": "1d62bb1e",
   "metadata": {},
   "source": [
    "# Q4.Write a Python Program to find largest number in the list ?"
   ]
  },
  {
   "cell_type": "code",
   "execution_count": 9,
   "id": "8dc997c0",
   "metadata": {},
   "outputs": [
    {
     "name": "stdout",
     "output_type": "stream",
     "text": [
      "Enter the number element you want-->4\n",
      "Enter 1 Element-->24222\n",
      "Enter 2 Element-->53424\n",
      "Enter 3 Element-->24223\n",
      "Enter 4 Element-->21\n",
      "\n",
      "[24222, 53424, 24223, 21]\n",
      "\n",
      "The largest number in the list is 53424\n"
     ]
    }
   ],
   "source": [
    "def LargestOfList():\n",
    "    try:\n",
    "        n=int(input(\"Enter the number element you want-->\"))\n",
    "        l=[]\n",
    "        for i in range(1,n+1):\n",
    "            l.append(int(input(f\"Enter {i} Element-->\")))\n",
    "        print(f\"\\n{l}\")\n",
    "        print(f\"\\nThe largest number in the list is {sorted(l,reverse=True)[0]}\")\n",
    "    except Exception as e:\n",
    "        print(e)\n",
    "\n",
    "        \n",
    "#calling a function\n",
    "LargestOfList()"
   ]
  },
  {
   "cell_type": "markdown",
   "id": "805929a8",
   "metadata": {},
   "source": [
    "# Q5.Write a Python Program to find second largest number in the list ?"
   ]
  },
  {
   "cell_type": "code",
   "execution_count": 10,
   "id": "276b18ab",
   "metadata": {},
   "outputs": [
    {
     "name": "stdout",
     "output_type": "stream",
     "text": [
      "Enter the number element you want-->5\n",
      "Enter 1 Element-->232223\n",
      "Enter 2 Element-->5335533\n",
      "Enter 3 Element-->2342\n",
      "Enter 4 Element-->23\n",
      "Enter 5 Element-->353\n",
      "\n",
      "[232223, 5335533, 2342, 23, 353]\n",
      "\n",
      "The largest number in the list is 5335533\n",
      "\n",
      "The 2nd largest number in the list is 232223\n"
     ]
    }
   ],
   "source": [
    "def LargestOfList():\n",
    "    try:\n",
    "        n=int(input(\"Enter the number element you want-->\"))\n",
    "        l=[]\n",
    "        for i in range(1,n+1):\n",
    "            l.append(int(input(f\"Enter {i} Element-->\")))\n",
    "        print(f\"\\n{l}\")\n",
    "        print(f\"\\nThe largest number in the list is {sorted(l,reverse=True)[0]}\")\n",
    "        print(f\"\\nThe 2nd largest number in the list is {sorted(l,reverse=True)[1]}\")\n",
    "    except Exception as e:\n",
    "        print(e)\n",
    "        \n",
    "        \n",
    "#calling a function\n",
    "LargestOfList()"
   ]
  },
  {
   "cell_type": "markdown",
   "id": "e09dd05a",
   "metadata": {},
   "source": [
    "# Q6.Write a Python Program to find N largest elements in the list ?"
   ]
  },
  {
   "cell_type": "code",
   "execution_count": 12,
   "id": "692f1842",
   "metadata": {},
   "outputs": [
    {
     "name": "stdout",
     "output_type": "stream",
     "text": [
      "Enter the number element you want-->5\n",
      "Enter 1 Element-->56446\n",
      "Enter 2 Element-->68867\n",
      "Enter 3 Element-->2343\n",
      "Enter 4 Element-->3\n",
      "Enter 5 Element-->2\n",
      "\n",
      "[56446, 68867, 2343, 3, 2]\n",
      "\n",
      "The largest number is 68867 in the sorted list [68867, 56446, 2343, 3, 2]\n"
     ]
    }
   ],
   "source": [
    "def LargestOfList():\n",
    "    try:\n",
    "        n=int(input(\"Enter the number element you want-->\"))\n",
    "        l=[]\n",
    "        for i in range(1,n+1):\n",
    "            l.append(int(input(f\"Enter {i} Element-->\")))\n",
    "        print(f\"\\n{l}\")\n",
    "        print(f\"\\nThe largest number is {sorted(l,reverse=True)[0]} in the sorted list {sorted(l,reverse=True)[0:n]}\")\n",
    "    except Exception as e:\n",
    "        print(e)\n",
    "\n",
    "#calling a function\n",
    "LargestOfList()"
   ]
  },
  {
   "cell_type": "markdown",
   "id": "330157e3",
   "metadata": {},
   "source": [
    "# Q7.Write a Python Program to find even numbers in the list ?"
   ]
  },
  {
   "cell_type": "code",
   "execution_count": 23,
   "id": "58da0f8e",
   "metadata": {},
   "outputs": [
    {
     "name": "stdout",
     "output_type": "stream",
     "text": [
      "Enter the number element you want-->5\n",
      "Enter 1 Element-->5\n",
      "Enter 2 Element-->4\n",
      "Enter 3 Element-->3\n",
      "Enter 4 Element-->2\n",
      "Enter 5 Element-->1\n",
      "\n",
      "The list of all the elements-->[5, 4, 3, 2, 1]\n",
      "\n",
      "The list of even number-->[4, 2]\n",
      "\n",
      "The list of even number in ascending form is [2, 4]\n"
     ]
    }
   ],
   "source": [
    "def EvenOfList():\n",
    "    try:\n",
    "        n=int(input(\"Enter the number element you want-->\"))\n",
    "        l=[]\n",
    "        for i in range(1,n+1):\n",
    "            l.append(int(input(f\"Enter {i} Element-->\")))\n",
    "        print(f\"\\nThe list of all the elements-->{l}\")\n",
    "        even_l=[]\n",
    "        for j in l:\n",
    "            if j%2==0:\n",
    "                even_l.append(j)\n",
    "        print(f\"\\nThe list of even number-->{even_l}\") \n",
    "        print(f\"\\nThe list of even number in ascending form is {sorted(even_l,reverse=False)[0:n]}\")\n",
    "    except Exception as e:\n",
    "        print(e)\n",
    "\n",
    "#calling a function\n",
    "EvenOfList()"
   ]
  },
  {
   "cell_type": "markdown",
   "id": "9b0a6b54",
   "metadata": {},
   "source": [
    "# Q8.Write a Python Program to find odd numbers in the list ?"
   ]
  },
  {
   "cell_type": "code",
   "execution_count": 24,
   "id": "cb52e3bd",
   "metadata": {},
   "outputs": [
    {
     "name": "stdout",
     "output_type": "stream",
     "text": [
      "Enter the number element you want-->5\n",
      "Enter 1 Element-->5\n",
      "Enter 2 Element-->4\n",
      "Enter 3 Element-->3\n",
      "Enter 4 Element-->2\n",
      "Enter 5 Element-->1\n",
      "\n",
      "The list of all the elements-->[5, 4, 3, 2, 1]\n",
      "\n",
      "The list of even number-->[5, 3, 1]\n",
      "\n",
      "The list of even number in ascending form is [1, 3, 5]\n"
     ]
    }
   ],
   "source": [
    "def OddOfList():\n",
    "    try:\n",
    "        n=int(input(\"Enter the number element you want-->\"))\n",
    "        l=[]\n",
    "        for i in range(1,n+1):\n",
    "            l.append(int(input(f\"Enter {i} Element-->\")))\n",
    "        print(f\"\\nThe list of all the elements-->{l}\")\n",
    "        odd_l=[]\n",
    "        for j in l:\n",
    "            if j%2!=0:\n",
    "                odd_l.append(j)\n",
    "        print(f\"\\nThe list of even number-->{odd_l}\") \n",
    "        print(f\"\\nThe list of even number in ascending form is {sorted(odd_l,reverse=False)[0:n]}\")\n",
    "    except Exception as e:\n",
    "        print(e)\n",
    "\n",
    "#calling a function\n",
    "OddOfList()"
   ]
  },
  {
   "cell_type": "markdown",
   "id": "e5087198",
   "metadata": {},
   "source": [
    "# Q9.Write a Python Program to remove empty list from list ?"
   ]
  },
  {
   "cell_type": "code",
   "execution_count": 14,
   "id": "2458073b",
   "metadata": {},
   "outputs": [
    {
     "name": "stdout",
     "output_type": "stream",
     "text": [
      "Enter all elements of the list: [1,2,3,4,5,[],6,7,[],8,[],9,10]\n",
      "\n",
      "The new list after removing empty list-->[1, 2, 3, 4, 5, 6, 7, 8, 9, 10]\n"
     ]
    }
   ],
   "source": [
    "def EmptyList():\n",
    "    try:\n",
    "        l = eval(input('Enter all elements of the list: '))\n",
    "        for i in l:\n",
    "            if i==[]:\n",
    "                l.remove(i)\n",
    "        print(f\"\\nThe new list after removing empty list-->{l}\")        \n",
    "    except Exception as e:\n",
    "        print(e)\n",
    "        \n",
    "#calling the function\n",
    "EmptyList()"
   ]
  },
  {
   "cell_type": "markdown",
   "id": "c25e1c6b",
   "metadata": {},
   "source": [
    "# Q10.Write a Python Program to Cloning or Copying a list ?"
   ]
  },
  {
   "cell_type": "code",
   "execution_count": 16,
   "id": "b94a3d98",
   "metadata": {},
   "outputs": [
    {
     "name": "stdout",
     "output_type": "stream",
     "text": [
      "Enter the numbers in the list-->[1, 2, 3, 4, 5, 6, 7, 8, 9, 10]\n",
      "\n",
      "The original list is [1, 2, 3, 4, 5, 6, 7, 8, 9, 10] with address 2593898448512\n",
      "\n",
      "The clonning of list is [1, 2, 3, 4, 5, 6, 7, 8, 9, 10] with address 2593892596672\n"
     ]
    }
   ],
   "source": [
    "import copy\n",
    "\n",
    "def clonning():\n",
    "    try:\n",
    "        l=eval(input(\"Enter the numbers in the list-->\"))\n",
    "        clone=l.copy()\n",
    "        print(f\"\\nThe original list is {l} with address {id(l)}\\n\")\n",
    "        print(f\"The clonning of list is {clone} with address {id(clone)}\")\n",
    "    except Exception as e:\n",
    "        print(e)\n",
    "        \n",
    "#calling the function\n",
    "clonning()\n",
    "        "
   ]
  },
  {
   "cell_type": "markdown",
   "id": "059e0a24",
   "metadata": {},
   "source": [
    "# Q11.Write a Python Program to count occurences of an element in a list ?"
   ]
  },
  {
   "cell_type": "code",
   "execution_count": 20,
   "id": "b23bac2b",
   "metadata": {},
   "outputs": [
    {
     "name": "stdout",
     "output_type": "stream",
     "text": [
      "Enter numbers in the list-->[1,2,3,4,5,3,6,7,3,8]\n",
      "Enter the number to find occurences-->9\n",
      "\n",
      "There is no number in the list you have entered\n",
      "\n",
      "The 9 is repeated 0 times in the given list\n",
      "\n",
      "Enter numbers in the list-->[1,2,3,4,5,3,6,7,3,8]\n",
      "Enter the number to find occurences-->3\n",
      "\n",
      "The 3 is repeated 3 times in the given list\n",
      "\n"
     ]
    }
   ],
   "source": [
    "def occurences():\n",
    "    try:\n",
    "        l=eval(input(\"Enter numbers in the list-->\"))\n",
    "        num=eval(input(\"Enter the number to find occurences-->\"))\n",
    "        count=0\n",
    "        if num in l:\n",
    "            for i in l:\n",
    "                if i==num:\n",
    "                    count=count+1\n",
    "        else:\n",
    "            print(\"\\nThere is no number in the list you have entered\")\n",
    "            \n",
    "        print(f\"\\nThe {num} is repeated {count} times in the given list\\n\")\n",
    "    except Exception as e:\n",
    "        print(e)\n",
    "                \n",
    "\n",
    "# calling the function            \n",
    "occurences()     \n",
    "occurences()"
   ]
  }
 ],
 "metadata": {
  "kernelspec": {
   "display_name": "Python 3 (ipykernel)",
   "language": "python",
   "name": "python3"
  },
  "language_info": {
   "codemirror_mode": {
    "name": "ipython",
    "version": 3
   },
   "file_extension": ".py",
   "mimetype": "text/x-python",
   "name": "python",
   "nbconvert_exporter": "python",
   "pygments_lexer": "ipython3",
   "version": "3.10.2"
  }
 },
 "nbformat": 4,
 "nbformat_minor": 5
}
