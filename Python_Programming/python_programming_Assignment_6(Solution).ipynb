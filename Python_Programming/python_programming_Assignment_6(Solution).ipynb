{
 "cells": [
  {
   "cell_type": "markdown",
   "id": "9d242528",
   "metadata": {},
   "source": [
    "# Q1. Write a Python Program to Display Fibonacci Sequence using Recursion ?"
   ]
  },
  {
   "cell_type": "code",
   "execution_count": 16,
   "id": "5efbae47",
   "metadata": {},
   "outputs": [
    {
     "name": "stdout",
     "output_type": "stream",
     "text": [
      "\n",
      "Enter the no of fibonacci sequences--> -10\n",
      "\n",
      "You cannot enter count below zero to form fibonacci\n",
      "\n",
      "Enter the no of fibonacci sequences--> 10\n",
      "\n",
      "The count 10 enter by you to form fibonacci is [0, 1, 1, 2, 3, 5, 8, 13, 21, 34]\n"
     ]
    }
   ],
   "source": [
    "def fibonacci():\n",
    "    count = int(input(\"\\nEnter the no of fibonacci sequences--> \"))\n",
    "    l = [0,1]\n",
    "    if count < 0:\n",
    "        print(\"\\nYou cannot enter count below zero to form fibonacci\")\n",
    "        return fibonacci()\n",
    "    elif count <= 2 and count >= 0:\n",
    "        print([0,1])\n",
    "        return fibonacci()\n",
    "    else:\n",
    "        for i in range(count):\n",
    "            if i >= 2:\n",
    "                l.append(l[i-1]+l[i-2])\n",
    "        print(f\"\\nThe count {count} enter by you to form fibonacci is {l}\")\n",
    "        \n",
    "fibonacci()"
   ]
  },
  {
   "cell_type": "markdown",
   "id": "c070cbee",
   "metadata": {},
   "source": [
    "# Q2. Write a Python Program to Find Factorial of a Number using Recursion ?"
   ]
  },
  {
   "cell_type": "code",
   "execution_count": 2,
   "id": "33f2f566",
   "metadata": {},
   "outputs": [
    {
     "name": "stdout",
     "output_type": "stream",
     "text": [
      "Enter the number to form factorial-->5\n",
      "The factorial of 5 is 120\n"
     ]
    }
   ],
   "source": [
    "def factorial(n):\n",
    "    try:\n",
    "        if n<=1:\n",
    "            return n\n",
    "        else:\n",
    "            return n*factorial(n-1)\n",
    "    except Exception as e:\n",
    "        print(e)\n",
    "        return factorial(n)\n",
    "      \n",
    "num=int(input(\"Enter the number to form factorial-->\"))\n",
    "print(f\"The factorial of {num} is {factorial(num)}\")"
   ]
  },
  {
   "cell_type": "markdown",
   "id": "0db76c8d",
   "metadata": {},
   "source": [
    "# Q3. Write a Python Program to Calculate your Body Mass Index ?"
   ]
  },
  {
   "cell_type": "code",
   "execution_count": 10,
   "id": "bee4bc60",
   "metadata": {},
   "outputs": [
    {
     "name": "stdout",
     "output_type": "stream",
     "text": [
      "-------------Welcom To Body Mass Index Calculator--------------\n",
      "Enter your weight in kilogram-->62\n",
      "Enter you height in the form of feet-->5.8\n",
      "\n",
      "A BMI of 25.0 or more is overweight, while the healthy range is 18.5 to 24.9.\n",
      "\n",
      "Your BMI is 19.82820451843044\n",
      "Congrats,you are healthy and your weight is normal\n"
     ]
    }
   ],
   "source": [
    "def BodyMassIndex():\n",
    "    try:\n",
    "        print(\"-------------Welcom To Body Mass Index Calculator--------------\")\n",
    "        w=float(input(\"Enter your weight in kilogram-->\"))\n",
    "        h=float(input(\"Enter you height in the form of feet-->\"))\n",
    "        m=h/3.28 #converting feet into meter by dividing 3.28 to given height in feet\n",
    "        BMI=float(w/m**2)\n",
    "        print(\"\\nA BMI of 25.0 or more is overweight, while the healthy range is 18.5 to 24.9.\")\n",
    "        print(f\"\\nYour BMI is {BMI}\")\n",
    "        if BMI<18.5:\n",
    "            print(\"Sorry,you are underweight please go to your nearest physician\")\n",
    "        elif BMI>18.5 and BMI<=25.0:\n",
    "            print(\"Congrats,you are healthy and your weight is normal\")\n",
    "        elif BMI>25.0:\n",
    "            print(\"Sorry you are overweight please consult to your neearest physician\")\n",
    "        else:\n",
    "            print(\"Sorry you have entered invalid statement\")\n",
    "    except Exception as e:\n",
    "        print(e)\n",
    "        \n",
    "BodyMassIndex()        "
   ]
  },
  {
   "cell_type": "markdown",
   "id": "f2fc5fab",
   "metadata": {},
   "source": [
    "# Q4. Write a Python Program to Calculate the Natural Logarithm of any Number ?"
   ]
  },
  {
   "cell_type": "code",
   "execution_count": 13,
   "id": "dff99a59",
   "metadata": {},
   "outputs": [
    {
     "name": "stdout",
     "output_type": "stream",
     "text": [
      "Enter the no. to form logarithmic number-->2\n",
      "The Log of 2.0 is 0.6931471805599453 \n"
     ]
    }
   ],
   "source": [
    "import math\n",
    "l=float(input(\"Enter the no. to form logarithmic number-->\"))\n",
    "print(f\"The Log of {l} is {math.log(l)} \")"
   ]
  },
  {
   "cell_type": "markdown",
   "id": "964eb5c1",
   "metadata": {},
   "source": [
    "# Q5. Write a Python Program for Cube sum of first n Natural Numbers ?"
   ]
  },
  {
   "cell_type": "code",
   "execution_count": 14,
   "id": "4d6c3864",
   "metadata": {},
   "outputs": [
    {
     "name": "stdout",
     "output_type": "stream",
     "text": [
      "Enter the number-->2\n",
      "The sum of natural nnumbers are-->9.0\n"
     ]
    }
   ],
   "source": [
    "def SumOfNatural(n):\n",
    "    print(f\"The sum of natural nnumbers are-->{((n**2)*((n+1)**2))/4}\") # formula is [n2 (n + 1)2]/4\n",
    "    \n",
    "n=int(input(\"Enter the number-->\"))\n",
    "SumOfNatural(n)"
   ]
  }
 ],
 "metadata": {
  "kernelspec": {
   "display_name": "Python 3 (ipykernel)",
   "language": "python",
   "name": "python3"
  },
  "language_info": {
   "codemirror_mode": {
    "name": "ipython",
    "version": 3
   },
   "file_extension": ".py",
   "mimetype": "text/x-python",
   "name": "python",
   "nbconvert_exporter": "python",
   "pygments_lexer": "ipython3",
   "version": "3.10.2"
  }
 },
 "nbformat": 4,
 "nbformat_minor": 5
}
