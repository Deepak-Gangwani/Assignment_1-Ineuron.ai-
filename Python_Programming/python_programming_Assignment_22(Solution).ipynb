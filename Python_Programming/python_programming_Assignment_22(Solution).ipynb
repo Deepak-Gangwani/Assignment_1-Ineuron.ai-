{
 "cells": [
  {
   "cell_type": "markdown",
   "id": "20ad063e",
   "metadata": {},
   "source": [
    "# Q1.Create a function that takes three parameters where:\n",
    "x is the start of the range (inclusive).\n",
    "\n",
    "y is the end of the range (inclusive).\n",
    "\n",
    "n is the divisor to be checked against.\n",
    "\n",
    "Return an ordered list with numbers in the range that are divisible by the third parameter n. Return an empty list if there are no numbers that are divisible by n.\n",
    "\n",
    "# Examples:\n",
    "list_operation(1, 10, 3) ➞ [3, 6, 9]\n",
    "\n",
    "list_operation(7, 9, 2) ➞ [8]\n",
    "\n",
    "list_operation(15, 20, 7) ➞ []"
   ]
  },
  {
   "cell_type": "code",
   "execution_count": 4,
   "id": "b98a8797",
   "metadata": {},
   "outputs": [
    {
     "name": "stdout",
     "output_type": "stream",
     "text": [
      "Enter the starting point-->1\n",
      "Enter the ending point-->10\n",
      "Enter the number which you want divisible-->3\n",
      "The numbers between 1 & 10 divisible by 3 -->[3, 6, 9]\n",
      "\n",
      "Enter the starting point-->7\n",
      "Enter the ending point-->9\n",
      "Enter the number which you want divisible-->2\n",
      "The numbers between 7 & 9 divisible by 2 -->[8]\n",
      "\n",
      "Enter the starting point-->15\n",
      "Enter the ending point-->20\n",
      "Enter the number which you want divisible-->7\n",
      "The numbers between 15 & 20 divisible by 7 -->[]\n",
      "\n"
     ]
    }
   ],
   "source": [
    "def list_operation():\n",
    "    try:\n",
    "        x=int(input(\"Enter the starting point-->\"))\n",
    "        y=int(input(\"Enter the ending point-->\"))\n",
    "        n=int(input(\"Enter the number which you want divisible-->\"))\n",
    "        l=[]\n",
    "        for i in range(x,y+1):\n",
    "            if i%n==0:\n",
    "                l.append(i)\n",
    "        print(f\"The numbers between {x} & {y} divisible by {n} -->{l}\\n\")\n",
    "    except Exception as e:\n",
    "        print(e)\n",
    "                \n",
    "list_operation() \n",
    "list_operation()\n",
    "list_operation()"
   ]
  },
  {
   "cell_type": "markdown",
   "id": "2216a520",
   "metadata": {},
   "source": [
    "# Q2.Create a function that takes in two lists and returns True if the second list follows the first list by one element, and False otherwise. In other words, determine if the second list is the first list shifted to the right by 1.\n",
    "Examples:\n",
    "    \n",
    "simon_says([1, 2], [5, 1]) ➞ True\n",
    "\n",
    "simon_says([1, 2], [5, 5]) ➞ False\n",
    "\n",
    "simon_says([1, 2, 3, 4, 5], [0, 1, 2, 3, 4]) ➞ True\n",
    "\n",
    "simon_says([1, 2, 3, 4, 5], [5, 5, 1, 2, 3]) ➞ False\n",
    "\n",
    "Notes:\n",
    "\n",
    "1. Both input lists will be of the same length, and will have a minimum length of 2.  \n",
    "\n",
    "2. The values of the 0-indexed element in the second list and the n-1th indexed element in the first list do not matter."
   ]
  },
  {
   "cell_type": "code",
   "execution_count": 1,
   "id": "81d82b92",
   "metadata": {},
   "outputs": [
    {
     "name": "stdout",
     "output_type": "stream",
     "text": [
      "simon_says([1, 2],[5, 1])-->True\n",
      "\n",
      "simon_says([1, 2],[5, 5])-->False\n",
      "\n",
      "simon_says([1, 2, 3, 4, 5],[0, 1, 2, 3, 4])-->True\n",
      "\n",
      "simon_says([1, 2, 3, 4, 5],[5, 5, 1, 2, 3])-->False\n",
      "\n"
     ]
    }
   ],
   "source": [
    "def simon_says(l1,l2):\n",
    "    try:\n",
    "        if len(l1)==len(l1) and len(l1)>=2 and len(l1)>=2:\n",
    "            if(l1[:-1]==l2[1:]):\n",
    "                print(f\"simon_says({l1},{l2})-->{True}\\n\")\n",
    "            else:\n",
    "                print(f\"simon_says({l1},{l2})-->{False}\\n\")\n",
    "    except Exception as e:\n",
    "        print(e)\n",
    "        \n",
    "        \n",
    "simon_says([1,2],[5,1])\n",
    "simon_says([1,2],[5,5])\n",
    "simon_says([1,2,3,4,5],[0,1,2,3,4])\n",
    "simon_says([1,2,3,4,5],[5,5,1,2,3])"
   ]
  },
  {
   "cell_type": "markdown",
   "id": "05376b1f",
   "metadata": {},
   "source": [
    "# Q3.A group of friends have decided to start a secret society. The name will be the first letter of each of their names, sorted in a alphabetical order ? Create a function that takes in a list of names and returns the name of the secret society ?\n",
    "Examples:\n",
    "\n",
    "society_name([\"Adam\", \"Sarah\", \"Malcolm\"]) ➞ \"AMS\"\n",
    "\n",
    "society_name([\"Harry\", \"Newt\", \"Luna\", \"Cho\"]) ➞ \"CHLN\"\n",
    "\n",
    "society_name([\"Phoebe\", \"Chandler\", \"Rachel\", \"Ross\", \"Monica\", \"Joey\"])"
   ]
  },
  {
   "cell_type": "code",
   "execution_count": 14,
   "id": "3e0e3c14",
   "metadata": {},
   "outputs": [
    {
     "name": "stdout",
     "output_type": "stream",
     "text": [
      "The secret society name of ['Adam', 'Sarah', 'Malcolm']-->AMS\n",
      "\n",
      "The secret society name of ['Harry', 'Newt', 'Luna', 'Cho']-->CHLN\n",
      "\n",
      "The secret society name of ['Phoebe', 'Chandler', 'Rachel', 'Ross', 'Monica', 'Joey']-->CJMPRR\n",
      "\n"
     ]
    }
   ],
   "source": [
    "def society_name(l):\n",
    "    try:\n",
    "        secret_name=[]\n",
    "        for i in l:\n",
    "            secret_name.append(i[0])\n",
    "        print(f\"The secret society name of {l}-->{''.join(sorted(secret_name))}\\n\")\n",
    "    except Exception as e:\n",
    "        print(e)\n",
    "\n",
    "society_name([\"Adam\", \"Sarah\", \"Malcolm\"]) \n",
    "\n",
    "society_name([\"Harry\", \"Newt\", \"Luna\", \"Cho\"])\n",
    "\n",
    "society_name([\"Phoebe\", \"Chandler\", \"Rachel\", \"Ross\", \"Monica\", \"Joey\"])\n",
    "            "
   ]
  },
  {
   "cell_type": "markdown",
   "id": "4c09051f",
   "metadata": {},
   "source": [
    "# Q4.An isogram is a word that has no duplicate letters. Create a function that takes a string and returns either True or False depending on whether or not it's an \"isogram\".\n",
    "\n",
    "Examples:\n",
    "\n",
    "is_isogram(\"Algorism\") ➞ True\n",
    "\n",
    "is_isogram(\"PasSword\") ➞ False\n",
    "\n",
    "\n",
    "# Not case sensitive.\n",
    "\n",
    "is_isogram(\"Consecutive\") ➞ False"
   ]
  },
  {
   "cell_type": "code",
   "execution_count": 18,
   "id": "35f45d2d",
   "metadata": {},
   "outputs": [
    {
     "name": "stdout",
     "output_type": "stream",
     "text": [
      "Enter the string to check isogram-->Algorism\n",
      "is_isogram (Algorism)--> True\n",
      "\n",
      "Enter the string to check isogram-->PasSword\n",
      "is_isogram (PasSword)--> False\n",
      "\n",
      "Enter the string to check isogram-->Consecutive\n",
      "is_isogram (Consecutive)--> False\n",
      "\n"
     ]
    }
   ],
   "source": [
    "def is_isogram():\n",
    "    try:\n",
    "        string=input(\"Enter the string to check isogram-->\")\n",
    "        string_new=string.lower()\n",
    "        if len(string_new)==len(set(string_new)):\n",
    "            print(f\"is_isogram ({string})--> {True}\\n\")\n",
    "        else:\n",
    "            print(f\"is_isogram ({string})--> {False}\\n\")\n",
    "    except Exception as e:\n",
    "        print(e)\n",
    "        \n",
    "is_isogram()\n",
    "is_isogram()\n",
    "is_isogram()\n",
    "                "
   ]
  },
  {
   "cell_type": "markdown",
   "id": "74b9a60d",
   "metadata": {},
   "source": [
    "# Q5.Create a function that takes a string and returns True or False, depending on whether the characters are in order or not ?\n",
    "Examples:\n",
    "\n",
    "is_in_order(\"abc\") ➞ True\n",
    "\n",
    "is_in_order(\"edabit\") ➞ False\n",
    "\n",
    "is_in_order(\"123\") ➞ True\n",
    "\n",
    "is_in_order(\"xyzz\") ➞ True\n",
    "\n",
    "Notes:\n",
    "You don't have to handle empty strings."
   ]
  },
  {
   "cell_type": "code",
   "execution_count": 22,
   "id": "6f32570d",
   "metadata": {},
   "outputs": [
    {
     "name": "stdout",
     "output_type": "stream",
     "text": [
      "Enter the string-->abc\n",
      "is_in_order(abc)-->True\n",
      "\n",
      "Enter the string-->edabit\n",
      "is_in_order(edabit)-->True\n",
      "\n",
      "Enter the string-->123\n",
      "is_in_order(123)-->True\n",
      "\n",
      "Enter the string-->xyzz\n",
      "is_in_order(xyzz)-->True\n",
      "\n"
     ]
    }
   ],
   "source": [
    "def is_in_order():\n",
    "    try:\n",
    "        string=input(\"Enter the string-->\")\n",
    "        string_new=string.lower()\n",
    "        if len(string_new)==len(sorted(string_new)):\n",
    "            print(f\"is_in_order({string})-->{True}\\n\")\n",
    "        else:\n",
    "            print(f\"is_in_order({string})-->{False}\\n\")\n",
    "    except Exception as e:\n",
    "        print(e)\n",
    "        \n",
    "is_in_order()\n",
    "is_in_order()\n",
    "is_in_order()\n",
    "is_in_order()"
   ]
  }
 ],
 "metadata": {
  "kernelspec": {
   "display_name": "Python 3 (ipykernel)",
   "language": "python",
   "name": "python3"
  },
  "language_info": {
   "codemirror_mode": {
    "name": "ipython",
    "version": 3
   },
   "file_extension": ".py",
   "mimetype": "text/x-python",
   "name": "python",
   "nbconvert_exporter": "python",
   "pygments_lexer": "ipython3",
   "version": "3.10.2"
  }
 },
 "nbformat": 4,
 "nbformat_minor": 5
}
