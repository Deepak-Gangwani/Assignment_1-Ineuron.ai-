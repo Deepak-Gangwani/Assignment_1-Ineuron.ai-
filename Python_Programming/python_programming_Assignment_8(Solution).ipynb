{
 "cells": [
  {
   "cell_type": "markdown",
   "id": "3351f9d6",
   "metadata": {},
   "source": [
    "# Q1. Write a Python Program to Add two Matrices ?"
   ]
  },
  {
   "cell_type": "code",
   "execution_count": 2,
   "id": "8769814c",
   "metadata": {},
   "outputs": [
    {
     "name": "stdout",
     "output_type": "stream",
     "text": [
      "Enter Matrix A\n",
      "Enter no. row of matrices-->2\n",
      "Enter no. column of matrices-->2\n",
      "Enter at index O[0][0]-->1\n",
      "Enter at index O[0][1]-->2\n",
      "Enter at index O[1][0]-->3\n",
      "Enter at index O[1][1]-->4\n",
      "[[1, 2], [3, 4]]\n",
      "\n",
      "\n",
      "Enter matrix B\n",
      "Enter no. row of matrices-->2\n",
      "Enter no. column of matrices-->2\n",
      "Enter at index O[0][0]-->1\n",
      "Enter at index O[0][1]-->1\n",
      "Enter at index O[1][0]-->1\n",
      "Enter at index O[1][1]-->1\n",
      "[[1, 1], [1, 1]]\n",
      "\n",
      "-------The Sum Of Two matrices---------\n"
     ]
    },
    {
     "data": {
      "text/plain": [
       "[[2, 3], [4, 5]]"
      ]
     },
     "execution_count": 2,
     "metadata": {},
     "output_type": "execute_result"
    }
   ],
   "source": [
    "def matrix():\n",
    "    try:\n",
    "        row=int(input(\"Enter no. row of matrices-->\"))\n",
    "        column=int(input(\"Enter no. column of matrices-->\"))\n",
    "        o=[]\n",
    "        for i in range(row):\n",
    "            r=[]\n",
    "            for j in range(column):\n",
    "                inp=int(input(f\"Enter at index O[{i}][{j}]-->\"))\n",
    "                r.append(inp)\n",
    "            o.append(r)\n",
    "        return o\n",
    "    except Exception as e:\n",
    "        print(e)\n",
    "        \n",
    "def matrixSum(A,B):\n",
    "    try:\n",
    "        print(\"\\n-------The Sum Of Two matrices---------\")\n",
    "        output=[]\n",
    "        for i in range(len(A)):\n",
    "            row=[]\n",
    "            for j in range(len(A[0])):\n",
    "                row.append(A[i][j]+B[i][j])\n",
    "            output.append(row)\n",
    "        return output\n",
    "    except Exception as e:\n",
    "        print(e)\n",
    "    \n",
    "\n",
    "print(\"Enter Matrix A\")\n",
    "A=matrix()#calling matrix function for A\n",
    "print(A)\n",
    "print(\"\\n\")\n",
    "print(\"Enter matrix B\")\n",
    "B=matrix()#calling matrix function for B\n",
    "print(B)\n",
    "\n",
    "#calling sum of matrix function\n",
    "matrixSum(A,B)\n"
   ]
  },
  {
   "cell_type": "markdown",
   "id": "9062659c",
   "metadata": {},
   "source": []
  },
  {
   "cell_type": "markdown",
   "id": "051e1192",
   "metadata": {},
   "source": [
    "# Q2. Write a Python Program to Multiply two Matrices ?"
   ]
  },
  {
   "cell_type": "code",
   "execution_count": 18,
   "id": "9a5ac90c",
   "metadata": {},
   "outputs": [
    {
     "name": "stdout",
     "output_type": "stream",
     "text": [
      "Enter Matrix A\n",
      "Enter no. row of matrices-->2\n",
      "Enter no. column of matrices-->2\n",
      "Enter at index O[0][0]-->1\n",
      "Enter at index O[0][1]-->2\n",
      "Enter at index O[1][0]-->3\n",
      "Enter at index O[1][1]-->4\n",
      "[[1, 2], [3, 4]]\n",
      "\n",
      "\n",
      "Enter matrix B\n",
      "Enter no. row of matrices-->2\n",
      "Enter no. column of matrices-->2\n",
      "Enter at index O[0][0]-->1\n",
      "Enter at index O[0][1]-->1\n",
      "Enter at index O[1][0]-->1\n",
      "Enter at index O[1][1]-->1\n",
      "[[1, 1], [1, 1]]\n",
      "\n",
      "-------The Multiply Of Two matrices---------\n",
      "[[3, 3], [7, 7]]\n"
     ]
    }
   ],
   "source": [
    " def matrixMul(x,y):\n",
    "    try:\n",
    "        print(\"\\n-------The Multiply Of Two matrices---------\")\n",
    "        z=[]\n",
    "        if len(x[0])==len(y):\n",
    "            for ele in range(len(x[0])):\n",
    "                z.append([0 for ele in range(len(y[0]))])\n",
    "            for i in range(len(x)):\n",
    "                for j in range(len(y[0])):\n",
    "                    for k in range(len(y)):\n",
    "                        z[i][j]=z[i][j]+(x[i][k]*y[k][j])\n",
    "            print(z)            \n",
    "    except Exception as e:\n",
    "        print(e)\n",
    "        \n",
    "print(\"Enter Matrix A\")\n",
    "A=matrix()#calling matrix function for A\n",
    "print(A)\n",
    "print(\"\\n\")\n",
    "print(\"Enter matrix B\")\n",
    "B=matrix()#calling matrix function for B\n",
    "print(B)\n",
    "\n",
    "#calling multiply of two matrices function\n",
    "matrixMul(A,B)\n"
   ]
  },
  {
   "cell_type": "markdown",
   "id": "31576fef",
   "metadata": {},
   "source": []
  },
  {
   "cell_type": "markdown",
   "id": "c824e87d",
   "metadata": {},
   "source": [
    "# Q3. Write a Python Program to transpose a Matrix ?"
   ]
  },
  {
   "cell_type": "code",
   "execution_count": 20,
   "id": "940c7868",
   "metadata": {},
   "outputs": [
    {
     "name": "stdout",
     "output_type": "stream",
     "text": [
      "Enter no. row of matrices-->2\n",
      "Enter no. column of matrices-->2\n",
      "Enter at index O[0][0]-->1\n",
      "Enter at index O[0][1]-->2\n",
      "Enter at index O[1][0]-->3\n",
      "Enter at index O[1][1]-->4\n",
      "After doing transpose of [[1, 2], [3, 4]] to new matrix [[1, 3], [2, 4]]\n"
     ]
    }
   ],
   "source": [
    "def transpose(old_matrix):\n",
    "    try:\n",
    "        new_matrix=[]\n",
    "        \n",
    "        for item in range(len(old_matrix[0])):\n",
    "            new_matrix.append([0 for i in range(len(old_matrix))])\n",
    "            \n",
    "        for i in range(len(old_matrix)):\n",
    "            for j in range(len(old_matrix[i])):\n",
    "                new_matrix[j][i]=old_matrix[i][j]\n",
    "                \n",
    "        print(f\"After doing transpose of {old_matrix} to new matrix {new_matrix}\")\n",
    "        \n",
    "    except Exception as e:\n",
    "        print(e)\n",
    "        return transpose(old_matrix)\n",
    "    \n",
    "    \n",
    "old_matrix=matrix()# calling matrix function by declaring variable \n",
    "transpose(old_matrix)# calling transpose function and converting matrix into transpose form of new matrix "
   ]
  },
  {
   "cell_type": "markdown",
   "id": "ce704d33",
   "metadata": {},
   "source": [
    "# Q4. Write a Python Program to sort Words in an Alphabatical Order ?"
   ]
  },
  {
   "cell_type": "code",
   "execution_count": 25,
   "id": "ed0946e3",
   "metadata": {},
   "outputs": [
    {
     "name": "stdout",
     "output_type": "stream",
     "text": [
      "Enter a string statement-->My name is Deepak and I am the student of FSDS\n",
      "['am', 'and', 'deepak', 'fsds', 'i', 'is', 'my', 'name', 'of', 'student', 'the']\n"
     ]
    }
   ],
   "source": [
    "def sortWords(string):\n",
    "    words=string.lower().split()\n",
    "    words.sort()\n",
    "    print(words)\n",
    "    \n",
    "\n",
    "s=input(\"Enter a string statement-->\")\n",
    "#calling a function\n",
    "sortWords(s)"
   ]
  },
  {
   "cell_type": "markdown",
   "id": "4e72e3c4",
   "metadata": {},
   "source": [
    "# Q5. Write a Python Program to remove Punctuations From a String ?"
   ]
  },
  {
   "cell_type": "code",
   "execution_count": 27,
   "id": "0e25b2f8",
   "metadata": {},
   "outputs": [
    {
     "name": "stdout",
     "output_type": "stream",
     "text": [
      "Enter a string statement-->My @!! name %*^*&% is @$#^%^% deepak\n",
      "My  name  is  deepak\n"
     ]
    }
   ],
   "source": [
    "def removePunctuation(string):\n",
    "    punctuation=\"!@#$%^&*?/><,.\\:\"\n",
    "    no_punct=\"\"\n",
    "    for char in string:\n",
    "        if char not in punctuation:\n",
    "            no_punct=no_punct+char\n",
    "    print(no_punct)\n",
    "    \n",
    "    \n",
    "s=input(\"Enter a string statement-->\")\n",
    "#calling a function\n",
    "removePunctuation(s)"
   ]
  }
 ],
 "metadata": {
  "kernelspec": {
   "display_name": "Python 3 (ipykernel)",
   "language": "python",
   "name": "python3"
  },
  "language_info": {
   "codemirror_mode": {
    "name": "ipython",
    "version": 3
   },
   "file_extension": ".py",
   "mimetype": "text/x-python",
   "name": "python",
   "nbconvert_exporter": "python",
   "pygments_lexer": "ipython3",
   "version": "3.10.2"
  }
 },
 "nbformat": 4,
 "nbformat_minor": 5
}
