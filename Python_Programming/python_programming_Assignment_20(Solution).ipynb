{
 "cells": [
  {
   "cell_type": "markdown",
   "id": "db6b87da",
   "metadata": {},
   "source": [
    "# Q1.Create a function that takes a list of strings and integers, and filters out the list so that it returns a list of integers only.\n",
    "Examples:\n",
    "\n",
    "filter_list([1, 2, 3, \"a\", \"b\", 4]) ➞ [1, 2, 3, 4]\n",
    "\n",
    "filter_list([\"A\", 0, \"Edabit\", 1729, \"Python\", \"1729\"]) ➞ [0, 1729]\n",
    "\n",
    "filter_list([\"Nothing\", \"here\"]) ➞ []"
   ]
  },
  {
   "cell_type": "code",
   "execution_count": 3,
   "id": "ae89ead3",
   "metadata": {},
   "outputs": [
    {
     "name": "stdout",
     "output_type": "stream",
     "text": [
      "After doing filter of [1, 2, 3, 'a', 'b', 4]-->[1, 2, 3, 4]\n",
      "\n",
      "After doing filter of ['A', 0, 'Edabit', 1729, 'Python', '1729']-->[0, 1729]\n",
      "\n",
      "After doing filter of ['Nothing', 'here']-->[]\n",
      "\n"
     ]
    }
   ],
   "source": [
    "def filter_list(l):\n",
    "    try:\n",
    "        new_l=[]\n",
    "        for i in l:\n",
    "            if type(i)==int:\n",
    "                new_l.append(i)\n",
    "        print(f\"After doing filter of {l}-->{new_l}\\n\")\n",
    "    except Exception as e:\n",
    "        print(e)\n",
    "        \n",
    "        \n",
    "filter_list([1, 2, 3, \"a\", \"b\", 4])\n",
    "\n",
    "filter_list([\"A\", 0, \"Edabit\", 1729, \"Python\", \"1729\"])\n",
    "\n",
    "filter_list([\"Nothing\", \"here\"])"
   ]
  },
  {
   "cell_type": "markdown",
   "id": "9872ee62",
   "metadata": {},
   "source": [
    "# Q2.Given a list of numbers, create a function which returns the list but with each element's index in the list added to itself. This means you add 0 to the number at index 0, add 1 to the number at index 1, etc...\n",
    "\n",
    "Examples:\n",
    "    \n",
    "add_indexes([0, 0, 0, 0, 0]) ➞ [0, 1, 2, 3, 4]\n",
    "\n",
    "add_indexes([1, 2, 3, 4, 5]) ➞ [1, 3, 5, 7, 9]\n",
    "\n",
    "add_indexes([5, 4, 3, 2, 1]) ➞ [5, 5, 5, 5, 5]"
   ]
  },
  {
   "cell_type": "code",
   "execution_count": 6,
   "id": "cacdbe0d",
   "metadata": {},
   "outputs": [
    {
     "name": "stdout",
     "output_type": "stream",
     "text": [
      "The output of [0, 0, 0, 0, 0]-->[0, 1, 2, 3, 4]\n",
      "\n",
      "The output of [1, 2, 3, 4, 5]-->[1, 3, 5, 7, 9]\n",
      "\n",
      "The output of [5, 4, 3, 2, 1]-->[5, 5, 5, 5, 5]\n",
      "\n"
     ]
    }
   ],
   "source": [
    "def add_indexes(l):\n",
    "    try:\n",
    "        new_l=[]\n",
    "        for i in range(len(l)):\n",
    "            new_l.append(i+l[i])\n",
    "        print(f\"The output of {l}-->{new_l}\\n\") \n",
    "    except Exception as e:\n",
    "        print(e)\n",
    "            \n",
    "\n",
    "add_indexes([0, 0, 0, 0, 0]) \n",
    "\n",
    "add_indexes([1, 2, 3, 4, 5]) \n",
    "\n",
    "add_indexes([5, 4, 3, 2, 1])             "
   ]
  },
  {
   "cell_type": "markdown",
   "id": "77d05dfc",
   "metadata": {},
   "source": [
    "# Q3.Create a function that takes the height and radius of a cone as arguments and returns the volume of the cone rounded to the nearest hundredth. See the resources tab for the formula.\n",
    "\n",
    "Examples:\n",
    "\n",
    "cone_volume(3, 2) ➞ 12.57\n",
    "\n",
    "cone_volume(15, 6) ➞ 565.49\n",
    "\n",
    "cone_volume(18, 0) ➞ 0"
   ]
  },
  {
   "cell_type": "code",
   "execution_count": 19,
   "id": "c7f28af8",
   "metadata": {},
   "outputs": [
    {
     "name": "stdout",
     "output_type": "stream",
     "text": [
      "Enter the height of cone-->3\n",
      "Enter the radius of cone-->2\n",
      "The volume of cone-->12.57\n",
      "\n",
      "Enter the height of cone-->15\n",
      "Enter the radius of cone-->6\n",
      "The volume of cone-->565.49\n",
      "\n",
      "Enter the height of cone-->18\n",
      "Enter the radius of cone-->0\n",
      "The volume of cone-->0.00\n",
      "\n"
     ]
    }
   ],
   "source": [
    "import math\n",
    "\n",
    "def cone_volume():\n",
    "    try:\n",
    "        h=int(input(\"Enter the height of cone-->\"))\n",
    "        r=int(input(\"Enter the radius of cone-->\"))\n",
    "        volume=math.pi*(r**2)*(h/3)\n",
    "        print(f\"The volume of cone-->{volume:.2f}\\n\")\n",
    "    except Exception as e:\n",
    "        print(e)\n",
    "        \n",
    "cone_volume() \n",
    "cone_volume()\n",
    "cone_volume()"
   ]
  },
  {
   "cell_type": "markdown",
   "id": "f164d4b2",
   "metadata": {},
   "source": [
    "# Q4.This Triangular Number Sequence is generated from a pattern of dots that form a triangle.\n",
    "The first 5 numbers of the sequence, or dots, are: 1, 3, 6, 10, 15\n",
    "This means that the first triangle has just one dot, the second one has three dots, the third one has 6 dots and so on. Write a function that gives the number of dots with its corresponding triangle number of the sequence.\n",
    "\n",
    "Examples:\n",
    "\n",
    "triangle(1) ➞ 1\n",
    "\n",
    "triangle(6) ➞ 21\n",
    "\n",
    "triangle(215) ➞ 23220"
   ]
  },
  {
   "cell_type": "code",
   "execution_count": 22,
   "id": "e1cc9a20",
   "metadata": {},
   "outputs": [
    {
     "name": "stdout",
     "output_type": "stream",
     "text": [
      "Enter the number-->1\n",
      "The result of the given 1-->1\n",
      "\n",
      "Enter the number-->6\n",
      "The result of the given 6-->21\n",
      "\n",
      "Enter the number-->215\n",
      "The result of the given 215-->23220\n",
      "\n"
     ]
    }
   ],
   "source": [
    "def triangle():\n",
    "    try:\n",
    "        n=int(input(\"Enter the number-->\"))\n",
    "        formula=n*((n+1)/2)\n",
    "        print(f\"The result of the given {n}-->{int(formula)}\\n\")\n",
    "    except Exception as e:\n",
    "        print(e)\n",
    "        \n",
    "triangle()\n",
    "triangle()\n",
    "triangle()\n",
    "        "
   ]
  },
  {
   "cell_type": "markdown",
   "id": "e4eb80a6",
   "metadata": {},
   "source": [
    "# Q5.Create a function that takes a list of numbers between 1 and 10 (excluding one number) and returns the missing number.\n",
    "Examples:\n",
    "\n",
    "missing_num([1, 2, 3, 4, 6, 7, 8, 9, 10]) ➞ 5\n",
    "\n",
    "missing_num([7, 2, 3, 6, 5, 9, 1, 4, 8]) ➞ 10\n",
    "\n",
    "missing_num([10, 5, 1, 2, 4, 6, 8, 3, 9]) ➞ 7"
   ]
  },
  {
   "cell_type": "code",
   "execution_count": 25,
   "id": "b62642c6",
   "metadata": {},
   "outputs": [
    {
     "name": "stdout",
     "output_type": "stream",
     "text": [
      "Enter the range to find the missing number-->10\n",
      "The missing number in the [1, 2, 3, 4, 6, 7, 8, 9, 10]-->5\n",
      "Enter the range to find the missing number-->10\n",
      "The missing number in the [7, 2, 3, 6, 5, 9, 1, 4, 8]-->10\n",
      "Enter the range to find the missing number-->10\n",
      "The missing number in the [10, 5, 1, 2, 4, 6, 8, 3, 9]-->7\n"
     ]
    }
   ],
   "source": [
    "def missing_num(l):\n",
    "    try:\n",
    "        n=int(input(\"Enter the range to find the missing number-->\"))\n",
    "        for i in range(1,n+1):\n",
    "            if i not in l:\n",
    "                print(f\"The missing number in the {l}-->{i}\")\n",
    "    except Exception as e:\n",
    "        print(e)\n",
    "                \n",
    "missing_num([1, 2, 3, 4, 6, 7, 8, 9, 10])\n",
    "\n",
    "missing_num([7, 2, 3, 6, 5, 9, 1, 4, 8]) \n",
    "\n",
    "missing_num([10, 5, 1, 2, 4, 6, 8, 3, 9])               "
   ]
  }
 ],
 "metadata": {
  "kernelspec": {
   "display_name": "Python 3 (ipykernel)",
   "language": "python",
   "name": "python3"
  },
  "language_info": {
   "codemirror_mode": {
    "name": "ipython",
    "version": 3
   },
   "file_extension": ".py",
   "mimetype": "text/x-python",
   "name": "python",
   "nbconvert_exporter": "python",
   "pygments_lexer": "ipython3",
   "version": "3.10.2"
  }
 },
 "nbformat": 4,
 "nbformat_minor": 5
}
