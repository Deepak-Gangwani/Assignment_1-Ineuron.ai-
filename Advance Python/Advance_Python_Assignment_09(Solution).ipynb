{
 "cells": [
  {
   "cell_type": "markdown",
   "id": "27d6810a",
   "metadata": {},
   "source": [
    "# Q1. In Python 3.X, what are the names and functions of string object types?"
   ]
  },
  {
   "cell_type": "code",
   "execution_count": 13,
   "id": "739f7a8b",
   "metadata": {},
   "outputs": [
    {
     "name": "stdout",
     "output_type": "stream",
     "text": [
      "--------------Representation Of All The String Function---------------\n",
      "\n",
      "01)isdecimal function-->True\n",
      "02)isalphanumeric function-->True\n",
      "03)istitle function-->False\n",
      "04)partition function-->('open the ', 'gate', ',close the gate,break the gate')\n",
      "05)rpartition function-->('open the gate,close the gate,break the ', 'gate', '')\n",
      "06)isidentifier function-->True\n",
      "07)length function-->6\n",
      "08)index function-->3\n",
      "09)rindex function-->5\n",
      "10)max function-->p\n",
      "11)min function-->a\n",
      "12)split function-->['my', 'name', 'is', 'deepak', 'and', 'my', 'favourite', 'language', 'is', 'python']\n",
      "13)splilines function-->['Ineuron ', ' Full Stack ', ' Data Science ', ' Course ']\n",
      "14)capitalize function-->Deepak\n",
      "15)upper function-->DEEPAK_G\n",
      "16)lower function-->deepak_g\n",
      "17)casefold function-->my name is deepak\n",
      "18)expandtabs function-->python    language\n",
      "19)find function-->2\n",
      "20)rfind function-->6\n",
      "21)count function-->2\n",
      "22)split function-->['python']\n",
      "23)rsplit function-->['python']\n",
      "24)strip function-->OMG\n",
      "25)lstrip function-->OMG  \n",
      "26)rstrip function-->  OMG\n",
      "27)swapcase function-->oMg\n",
      "28)join function-->05/12/2000\n",
      "29)replace function-->python lan5ua5e\n",
      "30)encode function-->b'Python language'\n",
      "31)ljust function-->python              \n",
      "32)rjust function-->              python\n",
      "33)centre function-->       python       \n",
      "34)zfill function-->00000000000000000OMG\n",
      "35)translate function-->Good Morning!\n",
      "36)translate second methodGood Morning!\n"
     ]
    }
   ],
   "source": [
    "print(\"--------------Representation Of All The String Function---------------\\n\")\n",
    "print(f\"01)isdecimal function-->{'12'.isdecimal()}\")\n",
    "print(f\"02)isalphanumeric function-->{'Deepu123'.isalnum()}\")\n",
    "print(f\"03)istitle function-->{'WELCOME'.istitle()}\")\n",
    "print(f\"04)partition function-->{'open the gate,close the gate,break the gate'.partition('gate')}\")\n",
    "print(f\"05)rpartition function-->{'open the gate,close the gate,break the gate'.rpartition('gate')}\")\n",
    "print(f\"06)isidentifier function-->{'deepak'.isidentifier()}\")\n",
    "print(f\"07)length function-->{len('deepak')}\")\n",
    "print(f\"08)index function-->{'deepak'.index('p')}\")\n",
    "print(f\"09)rindex function-->{'deepak'.rindex('k')}\")\n",
    "print(f\"10)max function-->{max('deepak')}\")\n",
    "print(f\"11)min function-->{min('deepak')}\")\n",
    "print(f\"12)split function-->{'my name is deepak and my favourite language is python'.split()}\")\n",
    "print(f\"13)splilines function-->\",end=\"\")\n",
    "print('Ineuron \\n Full Stack \\n Data Science \\n Course '.splitlines())\n",
    "print(f\"14)capitalize function-->{'deepak'.capitalize()}\")\n",
    "print(f\"15)upper function-->{'deepak_g'.upper()}\")\n",
    "print(f\"16)lower function-->{'DEEPAK_G'.lower()}\")\n",
    "print(f\"17)casefold function-->{'My Name Is Deepak'.casefold()}\")\n",
    "print(f\"18)expandtabs function-->\",end=\"\")\n",
    "print('python\\tlanguage'.expandtabs(5))\n",
    "print(f\"19)find function-->{'language'.find('n')}\")\n",
    "print(f\"20)rfind function-->{'language'.rfind('g')}\")\n",
    "print(f\"21)count function-->{'deepak'.count('e')}\")\n",
    "print(f\"22)split function-->{'python'.split()}\")\n",
    "print(f\"23)rsplit function-->{'python'.rsplit()}\")\n",
    "print(f\"24)strip function-->{'  OMG  '.strip()}\")\n",
    "print(f\"25)lstrip function-->{'  OMG  '.lstrip()}\")\n",
    "print(f\"26)rstrip function-->{'  OMG  '.rstrip()}\")\n",
    "print(f\"27)swapcase function-->{'OmG'.swapcase()}\")\n",
    "print(f\"28)join function-->{'/'.join(['05','12','2000'])}\")\n",
    "print(f\"29)replace function-->{'python language'.replace('g','5')}\")\n",
    "print(f\"30)encode function-->{'Python language'.encode()}\")\n",
    "print(f\"31)ljust function-->{'python'.ljust(20)}\")\n",
    "print(f\"32)rjust function-->{'python'.rjust(20)}\")\n",
    "print(f\"33)centre function-->{'python'.center(20)}\")\n",
    "print(f\"34)zfill function-->{'OMG'.zfill(20)}\")\n",
    "mydict = {76:  77}\n",
    "print(f\"35)translate function-->{'Good Lorning!'.translate(mydict)}\")\n",
    "\n",
    "txt = \"Good Lorning!\"\n",
    "mytable = txt.maketrans(\"L\", \"M\")\n",
    "print(f\"36)translate second method{txt.translate(mytable)}\")"
   ]
  },
  {
   "cell_type": "markdown",
   "id": "c758cfae",
   "metadata": {},
   "source": [
    "# Q2. How do the string forms in Python 3.X vary in terms of operations?"
   ]
  },
  {
   "cell_type": "markdown",
   "id": "2a8760e6",
   "metadata": {},
   "source": [
    "Ans) In Python3 default format of strings is Unicode Whereas in Pyton2 we need to explicitly mention Unicode value using `u`."
   ]
  },
  {
   "cell_type": "code",
   "execution_count": 2,
   "id": "a2bbb98d",
   "metadata": {},
   "outputs": [
    {
     "name": "stdout",
     "output_type": "stream",
     "text": [
      "Requirement already satisfied: unidecode in c:\\users\\owner\\appdata\\local\\programs\\python\\python310\\lib\\site-packages (1.3.4)\n",
      "Note: you may need to restart the kernel to use updated packages.\n"
     ]
    }
   ],
   "source": [
    "pip install unidecode"
   ]
  },
  {
   "cell_type": "markdown",
   "id": "0e3a1a4c",
   "metadata": {},
   "source": [
    "# Q3. In Python 3.X, how do you put non-ASCII Unicode characters in a string?"
   ]
  },
  {
   "cell_type": "code",
   "execution_count": 8,
   "id": "b693ca14",
   "metadata": {},
   "outputs": [
    {
     "name": "stdout",
     "output_type": "stream",
     "text": [
      "kozuscek\n",
      "diipk\n",
      "Di Pa Ke \n",
      "deipatsuku\n",
      "dipak\n"
     ]
    }
   ],
   "source": [
    "from unidecode import unidecode\n",
    "print(unidecode(u'ko\\u017eu\\u0161\\u010dek'))\n",
    "print(unidecode(\"दीपक\"))\n",
    "print(unidecode(\"迪帕克\"))\n",
    "print(unidecode(\"ディーパック\"))\n",
    "print(unidecode(\"дипак\"))"
   ]
  },
  {
   "cell_type": "markdown",
   "id": "f2cbd475",
   "metadata": {},
   "source": [
    "# Q4. In Python 3.X, what are the key differences between text-mode and binary-mode files?"
   ]
  },
  {
   "cell_type": "markdown",
   "id": "97b94a95",
   "metadata": {},
   "source": [
    "Ans) The major difference between these two is that a text file contains textual information in the form of alphabets, digits and special characters or symbols. On the other hand, a binary file contains bytes or a compiled version of a text file.\n",
    "\n",
    "When a file is opened in **text mode**, reading its data automatically decodes its content (as per the platform default or as per provided encoding), and returns it as a **str**; writing operation takes a **str**, and automatically encodes it before transferring to the file. Text mode files also support universal end-of-line translation, and encoding specification arguments.\n",
    "\n",
    "When a file is opened in **binary mode** by adding a `b` to the mode string argument in the `open()` call, reading its data does not decode it in any way, and simply returns its content raw and unchanged, as a bytes object; writing takes a bytes object and transfers it to the file unchanged. Binary-mode files also accept a bytearray object for the content to be written to the file."
   ]
  },
  {
   "cell_type": "markdown",
   "id": "15c8cfe7",
   "metadata": {},
   "source": [
    "# Q5. How can you interpret a Unicode text file containing text encoded in a different encoding than your platform's default?"
   ]
  },
  {
   "cell_type": "markdown",
   "id": "670971d9",
   "metadata": {},
   "source": [
    "Ans) Use of `encode()` and `decode()` method can be used to you interpret a Unicode text file containing text encoded in a different encoding than your platform's default, by default encoding parameter is `UTF-8`."
   ]
  },
  {
   "cell_type": "code",
   "execution_count": 11,
   "id": "13fdd81c",
   "metadata": {},
   "outputs": [
    {
     "data": {
      "text/plain": [
       "b'deepak'"
      ]
     },
     "execution_count": 11,
     "metadata": {},
     "output_type": "execute_result"
    }
   ],
   "source": [
    "\"deepak\".encode(\"utf-8\")"
   ]
  },
  {
   "cell_type": "code",
   "execution_count": 12,
   "id": "f36c4a7e",
   "metadata": {},
   "outputs": [
    {
     "data": {
      "text/plain": [
       "b'\\xff\\xfe\\x00\\x00d\\x00\\x00\\x00e\\x00\\x00\\x00e\\x00\\x00\\x00p\\x00\\x00\\x00a\\x00\\x00\\x00k\\x00\\x00\\x00'"
      ]
     },
     "execution_count": 12,
     "metadata": {},
     "output_type": "execute_result"
    }
   ],
   "source": [
    "variable=\"deepak\".encode(\"utf-32\")"
   ]
  },
  {
   "cell_type": "code",
   "execution_count": 16,
   "id": "28a9a4a5",
   "metadata": {},
   "outputs": [
    {
     "data": {
      "text/plain": [
       "'deepak'"
      ]
     },
     "execution_count": 16,
     "metadata": {},
     "output_type": "execute_result"
    }
   ],
   "source": [
    "b'deepak'.decode(\"utf-8\")"
   ]
  },
  {
   "cell_type": "code",
   "execution_count": 17,
   "id": "8c578c47",
   "metadata": {},
   "outputs": [
    {
     "data": {
      "text/plain": [
       "'deepak'"
      ]
     },
     "execution_count": 17,
     "metadata": {},
     "output_type": "execute_result"
    }
   ],
   "source": [
    "b'\\xff\\xfe\\x00\\x00d\\x00\\x00\\x00e\\x00\\x00\\x00e\\x00\\x00\\x00p\\x00\\x00\\x00a\\x00\\x00\\x00k\\x00\\x00\\x00'.decode(\"utf-32\")"
   ]
  },
  {
   "cell_type": "markdown",
   "id": "f58c82d7",
   "metadata": {},
   "source": [
    "# Q6. What is the best way to make a Unicode text file in a particular encoding format?"
   ]
  },
  {
   "cell_type": "markdown",
   "id": "ffa77ff4",
   "metadata": {},
   "source": [
    "Ans) Use `str.encode()` and `file.write()` to make a Unicode text file in a particular encoding format, default encoding format is UTF-18.\n",
    "\n",
    "Call `str.encode(encoding)` with encoding set to `utf8` to encode str.\n",
    "\n",
    "Call `open(file, mode)` to open a file with mode set to `wb`. `wb` writes to files in binary mode & preserves UTF-8format.\n",
    "\n",
    "Call `file.write(data)` to write data to the file."
   ]
  },
  {
   "cell_type": "code",
   "execution_count": 21,
   "id": "43657be9",
   "metadata": {},
   "outputs": [
    {
     "data": {
      "text/plain": [
       "b'deepak'"
      ]
     },
     "execution_count": 21,
     "metadata": {},
     "output_type": "execute_result"
    }
   ],
   "source": [
    "# str.encode(encoding)\n",
    "variable=\"deepak\".encode(\"utf-8\")\n",
    "variable"
   ]
  },
  {
   "cell_type": "code",
   "execution_count": 22,
   "id": "f7276678",
   "metadata": {},
   "outputs": [],
   "source": [
    "# open(file,mode) and write in file\n",
    "f=open(\"test_file.txt\",\"wb\")\n",
    "f.write(variable)\n",
    "f.close()\n"
   ]
  },
  {
   "cell_type": "code",
   "execution_count": 23,
   "id": "663fafb1",
   "metadata": {},
   "outputs": [
    {
     "name": "stdout",
     "output_type": "stream",
     "text": [
      "b'deepak'\n"
     ]
    }
   ],
   "source": [
    "# file.read(data)\n",
    "f=open(\"test_file.txt\",\"rb\")\n",
    "matter=f.read()\n",
    "print(matter)"
   ]
  },
  {
   "cell_type": "markdown",
   "id": "6cfdd358",
   "metadata": {},
   "source": [
    "# Q7. What qualifies ASCII text as a form of Unicode text?"
   ]
  },
  {
   "cell_type": "markdown",
   "id": "7fbb4b4c",
   "metadata": {},
   "source": [
    "Ans) `Unicode` represents most written languages in the world. `ASCII` has its equivalent in Unicode. The difference between ASCII and Unicode is that ASCII represents `lowercase letters (a-z), uppercase letters (A-Z), digits (0–9)` and symbols such as punctuation marks while Unicode represents letters of English, Arabic, Greek etc. mathematical symbols, historical scripts, emoji covering a wide range of characters than ASCII."
   ]
  },
  {
   "cell_type": "markdown",
   "id": "547a5691",
   "metadata": {},
   "source": [
    "# Q8. How much of an effect does the change in string types in Python 3.X have on your code?"
   ]
  },
  {
   "cell_type": "markdown",
   "id": "5ffdd6f1",
   "metadata": {},
   "source": [
    "Ans) Python 3 stores strings as Unicode by default whereas Python 2 requires you to mark a string with a `u` if we want to store it as Unicode. Unicode strings are more versatile than ASCII strings, which are the Python 3.X default, as they can store letters from foreign languages as well as emoji and the standard Roman letters and numerals."
   ]
  }
 ],
 "metadata": {
  "kernelspec": {
   "display_name": "Python 3 (ipykernel)",
   "language": "python",
   "name": "python3"
  },
  "language_info": {
   "codemirror_mode": {
    "name": "ipython",
    "version": 3
   },
   "file_extension": ".py",
   "mimetype": "text/x-python",
   "name": "python",
   "nbconvert_exporter": "python",
   "pygments_lexer": "ipython3",
   "version": "3.10.2"
  }
 },
 "nbformat": 4,
 "nbformat_minor": 5
}
