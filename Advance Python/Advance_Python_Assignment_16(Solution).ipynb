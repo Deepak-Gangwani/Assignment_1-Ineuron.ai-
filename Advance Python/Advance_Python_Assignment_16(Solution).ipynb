{
 "cells": [
  {
   "cell_type": "markdown",
   "id": "af2632a3",
   "metadata": {},
   "source": [
    "# Q1. What is the benefit of regular expressions?"
   ]
  },
  {
   "cell_type": "markdown",
   "id": "3ee2ed62",
   "metadata": {},
   "source": [
    "Ans)Regular Expressions, also known as `regex` or `regexp`, are used to match strings of text such as particular characters, words, or patterns of characters. It means that we can match and extract any string pattern from the text with the help of regular expressions. it helps the programmers to Write less and cleaner code. it also avoids multiple use of `if/else` statements. Regular expressions are a powerful feature of any language and solve a particular class of problems extraordinarily well. They can be used to validate user input, extract relevant data from a string, or even modify a string based on its contents.\n",
    "\n",
    "Python's regular expression library is called \"re\" and is based on Perl's regular expression engine, which is pretty much an industry standard now."
   ]
  },
  {
   "cell_type": "markdown",
   "id": "a896c696",
   "metadata": {},
   "source": [
    "# Q2. Describe the difference between the effects of \"(ab)c+\" and \"a(bc)+\" Which of these, if any, is the unqualified pattern \"abc+\"?"
   ]
  },
  {
   "cell_type": "markdown",
   "id": "36dfcc91",
   "metadata": {},
   "source": [
    "Ans) Both `(ab)c+` and `a(bc)+` are valid patterns. The difference between both these patterns is that in `(ab)c+ ab` is a group whereas in `a(bc)+ bc` is a group. Capturing groups are a way to treat multiple characters as a single unit. They are created by placing the characters to be grouped inside a set of parentheses."
   ]
  },
  {
   "cell_type": "markdown",
   "id": "8c20d3d1",
   "metadata": {},
   "source": [
    "# Q3. How much do you need to use the following sentence while using regular expressions?\n",
    "**import re**"
   ]
  },
  {
   "cell_type": "markdown",
   "id": "cfb7b3d7",
   "metadata": {},
   "source": [
    "Ans)import re statement always has to be imported before using regular expressions. In a program, we need to import this once so that we can use Regular Expressions subsequently."
   ]
  },
  {
   "cell_type": "markdown",
   "id": "99500612",
   "metadata": {},
   "source": [
    "# Q4. Which characters have special significance in square brackets when expressing a range, and under what circumstances?"
   ]
  },
  {
   "cell_type": "markdown",
   "id": "156adf6c",
   "metadata": {},
   "source": [
    "Ans)The Characters `.,*,?,^,or,()`, have a special signiface when used with square brackets. They need not be be explicitly escaped by `\\` as in case of pattern texts in a raw string. Range in Regular Expressions Ranges of characters can be indicated by giving two characters and separating them by a ‘-‘, for example [a-z] will match any lowercase ASCII letter, [0-5][0-9] will match all the two-digits numbers from 00 to 59."
   ]
  },
  {
   "cell_type": "markdown",
   "id": "24d43449",
   "metadata": {},
   "source": [
    "# Q5. How does compiling a regular-expression object benefit you?"
   ]
  },
  {
   "cell_type": "markdown",
   "id": "1a9aab54",
   "metadata": {},
   "source": [
    "Ans)We can Combine a regular expression pattern into pattern Objects which can be used for pattern matching. It also helps to search a pattern again without rewriting it."
   ]
  },
  {
   "cell_type": "markdown",
   "id": "115c512e",
   "metadata": {},
   "source": [
    "# Q6. What are some examples of how to use the match object returned by re.match and re.search?"
   ]
  },
  {
   "cell_type": "markdown",
   "id": "90f6fa02",
   "metadata": {},
   "source": [
    "Ans) `re.match()` searches only from the beginning of the string and return match object if found. But if a match of substring is found somewhere in the middle of the string, it returns none.\n",
    "\n",
    "Where as `re.search()` searches for the whole string even if the string contains multi-lines and tries to find a match of the substring in all the lines of string"
   ]
  },
  {
   "cell_type": "code",
   "execution_count": 7,
   "id": "eea2fbf5",
   "metadata": {},
   "outputs": [
    {
     "name": "stdout",
     "output_type": "stream",
     "text": [
      "None\n"
     ]
    },
    {
     "data": {
      "text/plain": [
       "<re.Match object; span=(0, 1), match='c'>"
      ]
     },
     "execution_count": 7,
     "metadata": {},
     "output_type": "execute_result"
    }
   ],
   "source": [
    "# re.match() presentation\n",
    "print(re.match(\"c\",\"abcdefgh\")) # this will return none because \"c\" is not in starting point\n",
    "re.match(\"c\",\"cdefghi\") # this will return \"c\" location because c in first position"
   ]
  },
  {
   "cell_type": "code",
   "execution_count": 9,
   "id": "da6258c5",
   "metadata": {},
   "outputs": [
    {
     "data": {
      "text/plain": [
       "<re.Match object; span=(2, 3), match='c'>"
      ]
     },
     "execution_count": 9,
     "metadata": {},
     "output_type": "execute_result"
    }
   ],
   "source": [
    "# re.search() presentation\n",
    "re.search(\"c\",\"abcdefgh\") # this will find the element from all the string"
   ]
  },
  {
   "cell_type": "markdown",
   "id": "be2cffdf",
   "metadata": {},
   "source": [
    "# Q7. What is the difference between using a vertical bar (|) as an alteration and using square brackets as a character set?"
   ]
  },
  {
   "cell_type": "markdown",
   "id": "fc2a556d",
   "metadata": {},
   "source": [
    "Ans) When `|` us used then patterns searches for `or` option. i.e `<pattern_1>|<pattern_2>` means it searches as `<pattern_1>or<<pattern_2>` in the searched string. The first occurance of matched string will be returned as the Match Object. Using Character set in square Brackets searches for all the character set in the square bracket and if match is found, it returns it."
   ]
  },
  {
   "cell_type": "code",
   "execution_count": 3,
   "id": "fa2e5e42",
   "metadata": {},
   "outputs": [
    {
     "data": {
      "text/plain": [
       "['red', 'green', 'blue']"
      ]
     },
     "execution_count": 3,
     "metadata": {},
     "output_type": "execute_result"
    }
   ],
   "source": [
    "import re\n",
    "txt=\"My favourite colors is red,green, and blue.\"\n",
    "pattern=re.compile('\\w+(?=,|\\.)')  # | this symbol is used as or\n",
    "pattern.findall(txt)"
   ]
  },
  {
   "cell_type": "markdown",
   "id": "c6fa95f6",
   "metadata": {},
   "source": [
    "# Q8. In regular-expression search patterns, why is it necessary to use the raw-string indicator (r)? In replacement strings?"
   ]
  },
  {
   "cell_type": "markdown",
   "id": "dd965766",
   "metadata": {},
   "source": [
    "Ans) Raw Strings are used in the regular-expression search patterns, so that backslash do not have to be escaped. When one wants to match a literal backslash, it must be escaped in the regular expression. With raw string notation, this means r\"\\\". Without raw string notation, one must use 4 times back slashes"
   ]
  }
 ],
 "metadata": {
  "kernelspec": {
   "display_name": "Python 3 (ipykernel)",
   "language": "python",
   "name": "python3"
  },
  "language_info": {
   "codemirror_mode": {
    "name": "ipython",
    "version": 3
   },
   "file_extension": ".py",
   "mimetype": "text/x-python",
   "name": "python",
   "nbconvert_exporter": "python",
   "pygments_lexer": "ipython3",
   "version": "3.10.2"
  }
 },
 "nbformat": 4,
 "nbformat_minor": 5
}
