{
 "cells": [
  {
   "cell_type": "markdown",
   "id": "fd797c98",
   "metadata": {},
   "source": [
    "# Q1. Describe three applications for exception processing."
   ]
  },
  {
   "cell_type": "markdown",
   "id": "2389a114",
   "metadata": {},
   "source": [
    "Ans) Exception Processing is important to find exceptions that causes the runtime error as runtime errors halt the program execution when exception occurs.Exception Processing is used in Various Applications. Few examples are:\n",
    "\n",
    "1)Checking Appropriate use of input in an application\n",
    "\n",
    "2)Checking for Arithmetic exceptions in mathematical executions\n",
    "\n",
    "3)Checking File I/O exceptions during File handling"
   ]
  },
  {
   "cell_type": "markdown",
   "id": "717ac4a7",
   "metadata": {},
   "source": [
    "# Q2. What happens if you don't do something extra to treat an exception?"
   ]
  },
  {
   "cell_type": "markdown",
   "id": "6fea81f2",
   "metadata": {},
   "source": [
    "Ans) If Exceptions are not handled, flow of program will be broken during the run time which might lead to an abnormal termination of the program. Inshort inability of program to handle exceptions will result in crashing of program and we will not be able to get the desired result."
   ]
  },
  {
   "cell_type": "markdown",
   "id": "2cffda40",
   "metadata": {},
   "source": [
    "# Q3. What are your options for recovering from an exception in your script?"
   ]
  },
  {
   "cell_type": "markdown",
   "id": "bb2f21db",
   "metadata": {},
   "source": [
    "Ans) Python provides try and except statements for recovering from an exception in our script."
   ]
  },
  {
   "cell_type": "code",
   "execution_count": 3,
   "id": "78323bef",
   "metadata": {},
   "outputs": [
    {
     "name": "stdout",
     "output_type": "stream",
     "text": [
      "Enter your number-->12332sdswsd\n",
      "you have entered invalid number\n",
      "\n",
      "Enter your number-->123456\n",
      "Your input number-->123456\n",
      "\n"
     ]
    }
   ],
   "source": [
    "def greet():\n",
    "    try:\n",
    "        n=int(input(\"Enter your number-->\"))\n",
    "        print(f\"Your input number-->{n}\\n\")\n",
    "    except:\n",
    "        print(\"you have entered invalid number\\n\")\n",
    "        \n",
    "greet()\n",
    "greet()\n",
    "\n",
    "    "
   ]
  },
  {
   "cell_type": "markdown",
   "id": "afd3a9be",
   "metadata": {},
   "source": [
    "# Q4. Describe two methods for triggering exceptions in your script ?"
   ]
  },
  {
   "cell_type": "markdown",
   "id": "95fd304b",
   "metadata": {},
   "source": [
    "Ans) raise and assert are two methods that can be used to trigger manual exceptions in our script.\n",
    "\n",
    "1)raise--> method triggers an exception if condition provided to it turns out to be True.\n",
    "\n",
    "2)assert--> python provides the assert statement to check if a given logical expression is true or false.Program executions proceeds only if the expressions is true and raises the AssertionError when it is false. The following code shows the usage of the assert statement."
   ]
  },
  {
   "cell_type": "code",
   "execution_count": 10,
   "id": "ed6a2173",
   "metadata": {},
   "outputs": [
    {
     "name": "stdout",
     "output_type": "stream",
     "text": [
      "Enter your name-->420\n"
     ]
    },
    {
     "ename": "Exception",
     "evalue": "Numbers are not allowed in name",
     "output_type": "error",
     "traceback": [
      "\u001b[1;31m---------------------------------------------------------------------------\u001b[0m",
      "\u001b[1;31mException\u001b[0m                                 Traceback (most recent call last)",
      "Input \u001b[1;32mIn [10]\u001b[0m, in \u001b[0;36m<cell line: 7>\u001b[1;34m()\u001b[0m\n\u001b[0;32m      4\u001b[0m         \u001b[38;5;28;01mraise\u001b[39;00m \u001b[38;5;167;01mException\u001b[39;00m(\u001b[38;5;124m\"\u001b[39m\u001b[38;5;124mNumbers are not allowed in name\u001b[39m\u001b[38;5;124m\"\u001b[39m)\n\u001b[0;32m      5\u001b[0m     \u001b[38;5;28mprint\u001b[39m(\u001b[38;5;124mf\u001b[39m\u001b[38;5;124m\"\u001b[39m\u001b[38;5;124mHello,\u001b[39m\u001b[38;5;132;01m{\u001b[39;00ma\u001b[38;5;132;01m}\u001b[39;00m\u001b[38;5;124m\"\u001b[39m)    \n\u001b[1;32m----> 7\u001b[0m \u001b[43mfunc\u001b[49m\u001b[43m(\u001b[49m\u001b[43m)\u001b[49m\n",
      "Input \u001b[1;32mIn [10]\u001b[0m, in \u001b[0;36mfunc\u001b[1;34m()\u001b[0m\n\u001b[0;32m      2\u001b[0m a\u001b[38;5;241m=\u001b[39m\u001b[38;5;28minput\u001b[39m(\u001b[38;5;124m\"\u001b[39m\u001b[38;5;124mEnter your name-->\u001b[39m\u001b[38;5;124m\"\u001b[39m)\n\u001b[0;32m      3\u001b[0m \u001b[38;5;28;01mif\u001b[39;00m a\u001b[38;5;241m.\u001b[39misnumeric():\n\u001b[1;32m----> 4\u001b[0m     \u001b[38;5;28;01mraise\u001b[39;00m \u001b[38;5;167;01mException\u001b[39;00m(\u001b[38;5;124m\"\u001b[39m\u001b[38;5;124mNumbers are not allowed in name\u001b[39m\u001b[38;5;124m\"\u001b[39m)\n\u001b[0;32m      5\u001b[0m \u001b[38;5;28mprint\u001b[39m(\u001b[38;5;124mf\u001b[39m\u001b[38;5;124m\"\u001b[39m\u001b[38;5;124mHello,\u001b[39m\u001b[38;5;132;01m{\u001b[39;00ma\u001b[38;5;132;01m}\u001b[39;00m\u001b[38;5;124m\"\u001b[39m)\n",
      "\u001b[1;31mException\u001b[0m: Numbers are not allowed in name"
     ]
    }
   ],
   "source": [
    "# raise methods\n",
    "def func():\n",
    "    a=input(\"Enter your name-->\")\n",
    "    if a.isnumeric():\n",
    "        raise Exception(\"Numbers are not allowed in name\")\n",
    "    print(f\"Hello,{a}\")    \n",
    "    \n",
    "func()"
   ]
  },
  {
   "cell_type": "code",
   "execution_count": 11,
   "id": "c110a7e2",
   "metadata": {},
   "outputs": [
    {
     "name": "stdout",
     "output_type": "stream",
     "text": [
      "Enter your name-->Deepak\n",
      "Hello,Deepak\n"
     ]
    }
   ],
   "source": [
    "func()"
   ]
  },
  {
   "cell_type": "code",
   "execution_count": 15,
   "id": "09740957",
   "metadata": {},
   "outputs": [
    {
     "name": "stdout",
     "output_type": "stream",
     "text": [
      "Enter the number-->1\n",
      "The 1 is not even\n"
     ]
    }
   ],
   "source": [
    "# assertion method\n",
    "def func1():\n",
    "    try:\n",
    "        num=int(input(\"Enter the number-->\"))\n",
    "        assert num%2==0\n",
    "        print(f\"The {num} is even number\")\n",
    "    except AssertionError:\n",
    "        print(f\"The {num} is not even\")\n",
    "        \n",
    "func1()        "
   ]
  },
  {
   "cell_type": "code",
   "execution_count": 16,
   "id": "43c5a4b9",
   "metadata": {},
   "outputs": [
    {
     "name": "stdout",
     "output_type": "stream",
     "text": [
      "Enter the number-->2\n",
      "The 2 is even number\n"
     ]
    }
   ],
   "source": [
    "func1()"
   ]
  },
  {
   "cell_type": "markdown",
   "id": "76158b77",
   "metadata": {},
   "source": [
    "# Q5. Identify two methods for specifying actions to be executed at termination time, regardless of whether or not an exception exists."
   ]
  },
  {
   "cell_type": "markdown",
   "id": "39835656",
   "metadata": {},
   "source": [
    "Ans) Python Provides else and finally blocks for specifying actions to be executed at termination time, regardless of whether an exceptions exists or not."
   ]
  },
  {
   "cell_type": "code",
   "execution_count": 18,
   "id": "13d5de4c",
   "metadata": {},
   "outputs": [
    {
     "name": "stdout",
     "output_type": "stream",
     "text": [
      "[Errno 2] No such file or directory: 'deepak.txt'\n",
      "This will run anyway...\n"
     ]
    }
   ],
   "source": [
    "try:\n",
    "    f=open(\"deepak.txt\")\n",
    "except Exception as e:\n",
    "    print(e)\n",
    "else:\n",
    "    print(\"This will run only if except is not running\")\n",
    "finally:\n",
    "    print(\"This will run anyway...\")"
   ]
  },
  {
   "cell_type": "code",
   "execution_count": 19,
   "id": "5a094273",
   "metadata": {},
   "outputs": [
    {
     "name": "stdout",
     "output_type": "stream",
     "text": [
      "This will run only if except is not running\n",
      "This will run anyway...\n"
     ]
    }
   ],
   "source": [
    "try:\n",
    "    f=open(\"deepak.txt\",\"w\") #the text file is created that is why except is not working and else condition printed\n",
    "except Exception as e:\n",
    "    print(e)\n",
    "else:\n",
    "    print(\"This will run only if except is not running\")\n",
    "finally:\n",
    "    print(\"This will run anyway...\")\n",
    "    f.close()"
   ]
  }
 ],
 "metadata": {
  "kernelspec": {
   "display_name": "Python 3 (ipykernel)",
   "language": "python",
   "name": "python3"
  },
  "language_info": {
   "codemirror_mode": {
    "name": "ipython",
    "version": 3
   },
   "file_extension": ".py",
   "mimetype": "text/x-python",
   "name": "python",
   "nbconvert_exporter": "python",
   "pygments_lexer": "ipython3",
   "version": "3.10.2"
  }
 },
 "nbformat": 4,
 "nbformat_minor": 5
}
