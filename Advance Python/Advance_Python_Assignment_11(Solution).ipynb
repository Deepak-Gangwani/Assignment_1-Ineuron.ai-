{
 "cells": [
  {
   "cell_type": "markdown",
   "id": "4d83975a",
   "metadata": {},
   "source": [
    "# Q1. What is the concept of a metaclass?"
   ]
  },
  {
   "cell_type": "markdown",
   "id": "85c44700",
   "metadata": {},
   "source": [
    "Ans) Metaclass in Python is a class of a class that defines how a class behaves. A class is itself a instance of Metaclass, and any Instance of Class in Python is an Instance of type metaclass. E.g. Type of `int, str, float, list, tuple` and many more is of metaclass type."
   ]
  },
  {
   "cell_type": "code",
   "execution_count": 7,
   "id": "774e7749",
   "metadata": {},
   "outputs": [
    {
     "name": "stdout",
     "output_type": "stream",
     "text": [
      "This\n"
     ]
    }
   ],
   "source": [
    "# using __init__ for creating metaclass\n",
    "class Metatwo(type):\n",
    "    def __init__(self,name,bases,attr):\n",
    "        print(\"This\")\n",
    "    \n",
    "class python(metaclass=Metatwo):\n",
    "    pass\n",
    "\n",
    "a=python()"
   ]
  },
  {
   "cell_type": "code",
   "execution_count": 8,
   "id": "7d8c2d8e",
   "metadata": {},
   "outputs": [
    {
     "name": "stdout",
     "output_type": "stream",
     "text": [
      "Hello world\n"
     ]
    }
   ],
   "source": [
    "# using __new__ for creating metaclass\n",
    "class Metatwo(type):\n",
    "    def __new__(self,name,bases,attr):\n",
    "        print(\"Hello world\")\n",
    "        \n",
    "class python(metaclass=Metatwo):\n",
    "    pass"
   ]
  },
  {
   "cell_type": "code",
   "execution_count": 10,
   "id": "78412db7",
   "metadata": {},
   "outputs": [
    {
     "name": "stdout",
     "output_type": "stream",
     "text": [
      "{'__module__': '__main__', '__qualname__': 'python', 'x': 10, 'y': 20}\n"
     ]
    },
    {
     "data": {
      "text/plain": [
       "10"
      ]
     },
     "execution_count": 10,
     "metadata": {},
     "output_type": "execute_result"
    }
   ],
   "source": [
    "class Metatwo(type):\n",
    "    def __new__(self,name,bases,attr):\n",
    "        print(attr)\n",
    "        return type(name,bases,attr)\n",
    "        \n",
    "class python(metaclass=Metatwo):\n",
    "    x=10\n",
    "    y=20\n",
    "    \n",
    "a=python() \n",
    "a.x"
   ]
  },
  {
   "cell_type": "markdown",
   "id": "6c248565",
   "metadata": {},
   "source": [
    "# Q2. What is the best way to declare a class's metaclass?"
   ]
  },
  {
   "cell_type": "markdown",
   "id": "d9bb3fde",
   "metadata": {},
   "source": [
    "Ans) A way to declare a class’ metaclass is by using `metaclass` keyword in class definition."
   ]
  },
  {
   "cell_type": "code",
   "execution_count": 12,
   "id": "f04f830f",
   "metadata": {},
   "outputs": [],
   "source": [
    "#create a metaclass\n",
    "class Meta(type):\n",
    "    pass\n",
    "\n",
    "class deepak(metaclass=Meta):\n",
    "    pass"
   ]
  },
  {
   "cell_type": "code",
   "execution_count": 13,
   "id": "08d080e8",
   "metadata": {},
   "outputs": [
    {
     "data": {
      "text/plain": [
       "__main__.Meta"
      ]
     },
     "execution_count": 13,
     "metadata": {},
     "output_type": "execute_result"
    }
   ],
   "source": [
    "type(deepak)"
   ]
  },
  {
   "cell_type": "code",
   "execution_count": 14,
   "id": "56efc499",
   "metadata": {},
   "outputs": [
    {
     "data": {
      "text/plain": [
       "type"
      ]
     },
     "execution_count": 14,
     "metadata": {},
     "output_type": "execute_result"
    }
   ],
   "source": [
    "type(Meta)"
   ]
  },
  {
   "cell_type": "markdown",
   "id": "5c0c1c83",
   "metadata": {},
   "source": [
    "# Q3. How do class decorators overlap with metaclasses for handling classes ?"
   ]
  },
  {
   "cell_type": "markdown",
   "id": "15245eec",
   "metadata": {},
   "source": [
    "Ans) Anything you can do with a class decorator, you can of course do with a custom metaclasses (just apply the functionality of the \"decorator function\", i.e., the one that takes a class object and modifies it, in the course of the metaclass's `__new__` or `__init__` that make the class object!)."
   ]
  },
  {
   "cell_type": "markdown",
   "id": "916121d6",
   "metadata": {},
   "source": [
    "# Q4. How do class decorators overlap with metaclasses for handling instances?"
   ]
  },
  {
   "cell_type": "markdown",
   "id": "3313b1f0",
   "metadata": {},
   "source": [
    "Ans) Anything you can do with a class decorator, you can of course do with a custom metaclass (just apply the functionality of the \"decorator function\", i.e., the one that takes a class object and modifies it, in the course of the metaclass's `__new__` or `__init__` that make the class object!)."
   ]
  }
 ],
 "metadata": {
  "kernelspec": {
   "display_name": "Python 3 (ipykernel)",
   "language": "python",
   "name": "python3"
  },
  "language_info": {
   "codemirror_mode": {
    "name": "ipython",
    "version": 3
   },
   "file_extension": ".py",
   "mimetype": "text/x-python",
   "name": "python",
   "nbconvert_exporter": "python",
   "pygments_lexer": "ipython3",
   "version": "3.10.2"
  }
 },
 "nbformat": 4,
 "nbformat_minor": 5
}
