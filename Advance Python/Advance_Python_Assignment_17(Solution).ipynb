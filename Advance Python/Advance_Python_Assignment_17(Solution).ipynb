{
 "cells": [
  {
   "cell_type": "markdown",
   "id": "6466fda4",
   "metadata": {},
   "source": [
    "# Q1. Explain the difference between greedy and non-greedy syntax with visual terms in as few words as possible. What is the bare minimum effort required to transform a greedy pattern into a non-greedy one? What characters or characters can you introduce or change?"
   ]
  },
  {
   "cell_type": "code",
   "execution_count": 1,
   "id": "108c6b9b",
   "metadata": {},
   "outputs": [
    {
     "data": {
      "text/plain": [
       "['<html><head><title><Title></title>']"
      ]
     },
     "execution_count": 1,
     "metadata": {},
     "output_type": "execute_result"
    }
   ],
   "source": [
    "# Greedy behaviour\n",
    "import re\n",
    "txt=\"\"\"<html><head><title><Title></title>\"\"\"\n",
    "pattern=re.compile(\"<.*>\")\n",
    "pattern.findall(txt)\n"
   ]
  },
  {
   "cell_type": "code",
   "execution_count": 2,
   "id": "7c9e4b18",
   "metadata": {},
   "outputs": [
    {
     "data": {
      "text/plain": [
       "['<html>', '<head>', '<title>', '<Title>', '</title>']"
      ]
     },
     "execution_count": 2,
     "metadata": {},
     "output_type": "execute_result"
    }
   ],
   "source": [
    "# Non-Greedy behaviour\n",
    "import re\n",
    "txt=\"\"\"<html><head><title><Title></title>\"\"\"\n",
    "pattern=re.compile(\"<.*?>\") # we used ? symbol for non-greedy behaviour\n",
    "pattern.findall(txt)\n"
   ]
  },
  {
   "cell_type": "markdown",
   "id": "31bc4ff9",
   "metadata": {},
   "source": [
    "# Q2. When exactly does greedy versus non-greedy make a difference? What if you're looking for a non-greedy match but the only one available is greedy?"
   ]
  },
  {
   "cell_type": "markdown",
   "id": "48384ab8",
   "metadata": {},
   "source": [
    "Ans)The Greedy Match will try to match as many repetitions of the quantified pattern as possible. The Non Greedy Match will try to match as few repetitions of the quantified pattern as possible. If only Non Greedy Match is available, we can use other filtering or pattern matching methods of regex and further identify the required pattern."
   ]
  },
  {
   "cell_type": "markdown",
   "id": "f106beca",
   "metadata": {},
   "source": [
    "# Q3. In a simple match of a string, which looks only for one match and does not do any replacement, is the use of a nontagged group likely to make any practical difference?"
   ]
  },
  {
   "cell_type": "code",
   "execution_count": 16,
   "id": "010062bb",
   "metadata": {},
   "outputs": [],
   "source": [
    "# tag group\n",
    "import re\n",
    "txt=\"Deepak G\"\n",
    "pattern=re.compile(\"(?P<first>\\w+) (?P<last>\\w+)\")\n",
    "match=pattern.match(txt)"
   ]
  },
  {
   "cell_type": "code",
   "execution_count": 17,
   "id": "c124cdf4",
   "metadata": {},
   "outputs": [
    {
     "data": {
      "text/plain": [
       "'Deepak'"
      ]
     },
     "execution_count": 17,
     "metadata": {},
     "output_type": "execute_result"
    }
   ],
   "source": [
    "match.group('first') #tagged group"
   ]
  },
  {
   "cell_type": "code",
   "execution_count": 18,
   "id": "e2c4dfd1",
   "metadata": {},
   "outputs": [
    {
     "data": {
      "text/plain": [
       "'G'"
      ]
     },
     "execution_count": 18,
     "metadata": {},
     "output_type": "execute_result"
    }
   ],
   "source": [
    "match.group('last') # tagged group"
   ]
  },
  {
   "cell_type": "code",
   "execution_count": 20,
   "id": "f0d1b3d5",
   "metadata": {},
   "outputs": [
    {
     "data": {
      "text/plain": [
       "'Deepak G'"
      ]
     },
     "execution_count": 20,
     "metadata": {},
     "output_type": "execute_result"
    }
   ],
   "source": [
    "match.group()  # non-tagged group"
   ]
  },
  {
   "cell_type": "markdown",
   "id": "28a9a405",
   "metadata": {},
   "source": [
    "# Q4. Describe a scenario in which using a nontagged category would have a significant impact on the program's outcomes ?"
   ]
  },
  {
   "cell_type": "code",
   "execution_count": 10,
   "id": "ec85d662",
   "metadata": {},
   "outputs": [
    {
     "data": {
      "text/plain": [
       "('123', '456')"
      ]
     },
     "execution_count": 10,
     "metadata": {},
     "output_type": "execute_result"
    }
   ],
   "source": [
    "import re\n",
    "text='123.456'\n",
    "pattern=r'(\\d+)(?:.)(\\d+)'\n",
    "regobj=re.compile(pattern)\n",
    "matobj=regobj.search(text)\n",
    "matobj.groups()"
   ]
  },
  {
   "cell_type": "markdown",
   "id": "41d40152",
   "metadata": {},
   "source": [
    "# Q5. Unlike a normal regex pattern, a look-ahead condition does not consume the characters it examines. Describe a situation in which this could make a difference in the results of your programme ?"
   ]
  },
  {
   "cell_type": "markdown",
   "id": "b7d38625",
   "metadata": {},
   "source": [
    "Ans) While counting the number of multiple lines or mutiple sentences in a string, the positive look ahead makes a difference, without which we will not be able to get the correct count of lines or sentences in a string."
   ]
  },
  {
   "cell_type": "markdown",
   "id": "f3c4078e",
   "metadata": {},
   "source": [
    "# Q6. In standard expressions, what is the difference between positive look-ahead and negative look-ahead ?"
   ]
  },
  {
   "cell_type": "code",
   "execution_count": 6,
   "id": "e30f5448",
   "metadata": {},
   "outputs": [
    {
     "data": {
      "text/plain": [
       "(16, 20)"
      ]
     },
     "execution_count": 6,
     "metadata": {},
     "output_type": "execute_result"
    }
   ],
   "source": [
    "# Positive Look Ahead\n",
    "import re\n",
    "txt=\"i love python,i love regex\"\n",
    "pattern = re.compile(\"love(?=\\sregex)\") # which should follow regex\n",
    "match=pattern.search(txt)\n",
    "match.span()"
   ]
  },
  {
   "cell_type": "code",
   "execution_count": 7,
   "id": "12b4a2dc",
   "metadata": {},
   "outputs": [
    {
     "data": {
      "text/plain": [
       "(2, 6)"
      ]
     },
     "execution_count": 7,
     "metadata": {},
     "output_type": "execute_result"
    }
   ],
   "source": [
    "# Negative Look Ahead\n",
    "import re\n",
    "txt=\"i love python,i love regex\"\n",
    "pattern = re.compile(\"love(?!\\sregex)\") # which should not follow regex\n",
    "match=pattern.search(txt)\n",
    "match.span()"
   ]
  },
  {
   "cell_type": "markdown",
   "id": "66c87217",
   "metadata": {},
   "source": [
    "# Q7. What is the benefit of referring to groups by name rather than by number in a standard expression?"
   ]
  },
  {
   "cell_type": "markdown",
   "id": "e9a01737",
   "metadata": {},
   "source": [
    "Ans) The advantage to named groups is that it adds readability and understandability to the code, so that you can easily see what part of a regular expression match is being referenced."
   ]
  },
  {
   "cell_type": "markdown",
   "id": "d273f55a",
   "metadata": {},
   "source": [
    "# Q8. Can you identify repeated items within a target string using named groups, as in \"The cow jumped over the moon\"?"
   ]
  },
  {
   "cell_type": "code",
   "execution_count": 1,
   "id": "9a04de85",
   "metadata": {},
   "outputs": [
    {
     "data": {
      "text/plain": [
       "['The', 'the']"
      ]
     },
     "execution_count": 1,
     "metadata": {},
     "output_type": "execute_result"
    }
   ],
   "source": [
    "import re\n",
    "text = \"The cow jumped over the moon\"\n",
    "regobj=re.compile(r'(?P<w1>The)',re.I)\n",
    "regobj.findall(text)"
   ]
  },
  {
   "cell_type": "markdown",
   "id": "3892bfba",
   "metadata": {},
   "source": [
    "# Q9. When parsing a string, what is at least one thing that the Scanner interface does for you that the re.findall feature does not ?"
   ]
  },
  {
   "cell_type": "markdown",
   "id": "a01a418a",
   "metadata": {},
   "source": [
    "Ans) re.findall() module is used to search for all occurrences that match a given pattern. In contrast, re.search() will only return the first occurrence that matches the specified pattern. re.findall() will iterate over all the lines of the file and will return all non-overlapping matches of pattern in a single step."
   ]
  },
  {
   "cell_type": "markdown",
   "id": "78d8c0b6",
   "metadata": {},
   "source": [
    "# Q10. Does a scanner object have to be named scanner?"
   ]
  },
  {
   "cell_type": "markdown",
   "id": "5b2ea4cf",
   "metadata": {},
   "source": [
    "Ans)No, It may have any name. For example instead of naming Scanner object as scanner, we can name as sc"
   ]
  }
 ],
 "metadata": {
  "kernelspec": {
   "display_name": "Python 3 (ipykernel)",
   "language": "python",
   "name": "python3"
  },
  "language_info": {
   "codemirror_mode": {
    "name": "ipython",
    "version": 3
   },
   "file_extension": ".py",
   "mimetype": "text/x-python",
   "name": "python",
   "nbconvert_exporter": "python",
   "pygments_lexer": "ipython3",
   "version": "3.10.2"
  }
 },
 "nbformat": 4,
 "nbformat_minor": 5
}
