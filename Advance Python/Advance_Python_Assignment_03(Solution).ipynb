{
 "cells": [
  {
   "cell_type": "markdown",
   "id": "d5c99764",
   "metadata": {},
   "source": [
    "# Q1. What is the concept of an abstract superclass?"
   ]
  },
  {
   "cell_type": "code",
   "execution_count": 20,
   "id": "bd5e8c43",
   "metadata": {},
   "outputs": [
    {
     "name": "stdout",
     "output_type": "stream",
     "text": [
      "8\n"
     ]
    }
   ],
   "source": [
    "from abc import ABC,abstractmethod\n",
    "\n",
    "class Shape(ABC):\n",
    "    @abstractmethod\n",
    "    def printarea(self):\n",
    "        pass\n",
    "    \n",
    "class Rectangle(Shape):\n",
    "    type=\"Rectangle\"\n",
    "    side=4\n",
    "    def __init__(self,length,breadth):\n",
    "        self.length=length\n",
    "        self.breadth=breadth\n",
    "     \n",
    "    def printarea(self): #if we not create printarea this will throw an error to create the print area\n",
    "        print(self.length*self.breadth)\n",
    "    \n",
    "obj=Rectangle(2,4)\n",
    "obj.printarea()"
   ]
  },
  {
   "cell_type": "markdown",
   "id": "4c8ce1de",
   "metadata": {},
   "source": [
    "# Q2. What happens when a class statement's top level contains a basic assignment statement?"
   ]
  },
  {
   "cell_type": "markdown",
   "id": "06665d70",
   "metadata": {},
   "source": [
    "Ans)When a Class statement's top level contains a basic assignment statement, it is usually treated as a class attribute or class level variable where as assignment statements inside methods are treated as instance attributes or local attributes."
   ]
  },
  {
   "cell_type": "code",
   "execution_count": 21,
   "id": "b9d606b3",
   "metadata": {},
   "outputs": [],
   "source": [
    "class Rectangle(Shape):\n",
    "    side=4 #class attribute\n",
    "    def __init__(self,length,breadth):\n",
    "        self.length=length  # instance attribute\n",
    "        self.breadth=breadth"
   ]
  },
  {
   "cell_type": "markdown",
   "id": "02e7e4fe",
   "metadata": {},
   "source": [
    "# Q3. Why does a class need to manually call a superclass's init method?"
   ]
  },
  {
   "cell_type": "code",
   "execution_count": 4,
   "id": "bfad9bb5",
   "metadata": {},
   "outputs": [
    {
     "name": "stdout",
     "output_type": "stream",
     "text": [
      "You have executed object of a class\n",
      "\n",
      "The details you have entered-->deepak,FSDS,2828282\n"
     ]
    }
   ],
   "source": [
    "class parent:\n",
    "    def __init__(self,name,course):\n",
    "        self.name=name\n",
    "        self.course=course\n",
    "        \n",
    "class child(parent):\n",
    "    def __init__(self,name,course,number):\n",
    "        super().__init__(name,course)   #representation superclass's init method\n",
    "        self.number=number\n",
    "        \n",
    "    def __str__(self):\n",
    "        return \"You have executed object of a class\"\n",
    "    \n",
    "    \n",
    "obj=child(\"deepak\",\"FSDS\",\"2828282\")\n",
    "print(obj)\n",
    "print(f\"\\nThe details you have entered-->{obj.name},{obj.course},{obj.number}\")\n",
    "          "
   ]
  },
  {
   "cell_type": "markdown",
   "id": "8f031e48",
   "metadata": {},
   "source": [
    "# Q4. How can you augment, instead of completely replacing, an inherited method?"
   ]
  },
  {
   "cell_type": "code",
   "execution_count": 5,
   "id": "59596fc7",
   "metadata": {},
   "outputs": [
    {
     "name": "stdout",
     "output_type": "stream",
     "text": [
      "You have executed object of a class\n",
      "\n",
      "The details you have entered-->deepak,FSDS,2828282\n"
     ]
    }
   ],
   "source": [
    "#super() method can be used to augment, instead of completely replacing, an inherited method.\n",
    "class parent:\n",
    "    def __init__(self,name,course):\n",
    "        self.name=name\n",
    "        self.course=course\n",
    "        \n",
    "class child(parent):\n",
    "    def __init__(self,name,course,number):\n",
    "        super().__init__(name,course)   #representation superclass's init method\n",
    "        self.number=number\n",
    "        \n",
    "    def __str__(self):\n",
    "        return \"You have executed object of a class\"\n",
    "    \n",
    "    \n",
    "obj=child(\"deepak\",\"FSDS\",\"2828282\")\n",
    "print(obj)\n",
    "print(f\"\\nThe details you have entered-->{obj.name},{obj.course},{obj.number}\")"
   ]
  },
  {
   "cell_type": "markdown",
   "id": "a4929af4",
   "metadata": {},
   "source": [
    "# Q5. How is the local scope of a class different from that of a function?"
   ]
  },
  {
   "cell_type": "markdown",
   "id": "d8e3c9d6",
   "metadata": {},
   "source": [
    "Ans) A Variable which is defined inside a function is local to that function. It is accesible from the point at which it is defined until the end of the function, and exists for as long as the function is existing.\n",
    "\n",
    "Similary a variable inside of a class also has a local variable scope. Variables which are defined in the class body (but outside all methods) are called as class level variables or class attributes. They can be referenced by their bare names within the same scope, but they can also be accessed from outside this scope if we use the attribute access operator (.) on a class or an instance of the class."
   ]
  },
  {
   "cell_type": "code",
   "execution_count": 13,
   "id": "86d299cb",
   "metadata": {},
   "outputs": [
    {
     "name": "stdout",
     "output_type": "stream",
     "text": [
      "Male/Female\n"
     ]
    },
    {
     "data": {
      "text/plain": [
       "'Hello,deepak!'"
      ]
     },
     "execution_count": 13,
     "metadata": {},
     "output_type": "execute_result"
    }
   ],
   "source": [
    "def greetings(name):\n",
    "    name=name\n",
    "    return f\"Hello,{name}!\"\n",
    "\n",
    "\n",
    "class greet:\n",
    "    gender=\"Male/Female\"\n",
    "    def __init__(self):\n",
    "        pass\n",
    "#calling a class     \n",
    "obj=greet()\n",
    "print(obj.gender)\n",
    "\n",
    "#calling a function\n",
    "greetings(\"deepak\")"
   ]
  }
 ],
 "metadata": {
  "kernelspec": {
   "display_name": "Python 3 (ipykernel)",
   "language": "python",
   "name": "python3"
  },
  "language_info": {
   "codemirror_mode": {
    "name": "ipython",
    "version": 3
   },
   "file_extension": ".py",
   "mimetype": "text/x-python",
   "name": "python",
   "nbconvert_exporter": "python",
   "pygments_lexer": "ipython3",
   "version": "3.10.2"
  }
 },
 "nbformat": 4,
 "nbformat_minor": 5
}
