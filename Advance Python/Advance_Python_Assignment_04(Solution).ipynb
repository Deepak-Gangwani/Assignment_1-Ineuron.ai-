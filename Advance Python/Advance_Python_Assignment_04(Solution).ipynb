{
 "cells": [
  {
   "cell_type": "markdown",
   "id": "42890f17",
   "metadata": {},
   "source": [
    "# Q1. Which two operator overloading methods can you use in your classes to support iteration?"
   ]
  },
  {
   "cell_type": "markdown",
   "id": "cddb2753",
   "metadata": {},
   "source": [
    "Ans)__iter__ and __next__ are the operator overloading methods in python that support iteration and are collectively called iterator protocol.\n",
    "\n",
    "__iter__ returns the iterator object and is called at the start of loop in our respective class.\n",
    "\n",
    "__next__ is called at each loop increment, it returns the incremented value. Also Stopiteration is raised when there is no value to return."
   ]
  },
  {
   "cell_type": "code",
   "execution_count": 8,
   "id": "7b347da7",
   "metadata": {},
   "outputs": [
    {
     "name": "stdout",
     "output_type": "stream",
     "text": [
      "1,2,3,4,5,6,7,8,9,10,"
     ]
    }
   ],
   "source": [
    "class TopTen:\n",
    "    \n",
    "    def __init__(self):\n",
    "        self.num=1\n",
    "    \n",
    "    def __iter__(self):\n",
    "        return self\n",
    "    \n",
    "    def __next__(self):\n",
    "        if self.num <= 10:\n",
    "            val=self.num\n",
    "            self.num=self.num+1\n",
    "            return val\n",
    "        else:\n",
    "            raise StopIteration\n",
    "        \n",
    "            \n",
    "obj=TopTen()\n",
    "for i in obj:\n",
    "    print(i,end=\",\")"
   ]
  },
  {
   "cell_type": "markdown",
   "id": "d15ecf38",
   "metadata": {},
   "source": [
    "# Q2. In what contexts do the two operator overloading methods manage printing?"
   ]
  },
  {
   "cell_type": "markdown",
   "id": "3b36dd49",
   "metadata": {},
   "source": [
    "Ans)__str__ and __repr__ are two operator overloading methods that manage printing.\n",
    "\n",
    "The difference between both of these operators is: The goal of __repr__ is to be unambiguous and __str__ is to be readable.\n",
    "Whenever we are printing any object reference internally, __str__ method will be called by default.\n",
    "\n",
    "The main purpose of __str__ is for readability. It prints the informal string representation of an object, one that is useful for printing the object. It may not be possible to convert result string to original object.\n",
    "\n",
    "__repr__ is used to print official string representation of an object, so it includes all information and development."
   ]
  },
  {
   "cell_type": "code",
   "execution_count": 12,
   "id": "1ce25cef",
   "metadata": {},
   "outputs": [
    {
     "name": "stdout",
     "output_type": "stream",
     "text": [
      "This is the __str__ operator do when we call object of class\n",
      "The feature of car-->red,25\n"
     ]
    },
    {
     "data": {
      "text/plain": [
       "This is the __repr__ operator do when we call object of class"
      ]
     },
     "execution_count": 12,
     "metadata": {},
     "output_type": "execute_result"
    }
   ],
   "source": [
    "# __str__ operator overloading method\n",
    "class Car:\n",
    "    def __init__(self,color,mileage):\n",
    "        self.color=color\n",
    "        self.mileage=mileage\n",
    "    def __str__(self):\n",
    "        return \"This is the __str__ operator do when we call object of class\"\n",
    "    def __repr__(self):\n",
    "        return \"This is the __repr__ operator do when we call object of class\"\n",
    "    \n",
    "obj=Car(\"red\",25)\n",
    "print(obj)\n",
    "print(f\"The feature of car-->{obj.color},{obj.mileage}\")\n",
    "\n",
    "# __repr__ operator overloading method\n",
    "obj #calling object directly from class"
   ]
  },
  {
   "cell_type": "markdown",
   "id": "17bb7b90",
   "metadata": {},
   "source": [
    "# Q3. In a class, how do you intercept slice operations?"
   ]
  },
  {
   "cell_type": "markdown",
   "id": "d54ee7c8",
   "metadata": {},
   "source": [
    "Ans)In a class use of slice(), __getitem__ method is used for intercept slice operation. This slice method is provided with start integer number, stop integer number and step integer number.\n",
    "Example: __getitem__(slice(start,stop,step))"
   ]
  },
  {
   "cell_type": "code",
   "execution_count": 21,
   "id": "157b67a5",
   "metadata": {},
   "outputs": [
    {
     "name": "stdout",
     "output_type": "stream",
     "text": [
      "1357\n"
     ]
    }
   ],
   "source": [
    "sliced ='123456789'.__getitem__(slice(0, 8, 2)) \n",
    "print(sliced)"
   ]
  },
  {
   "cell_type": "code",
   "execution_count": 14,
   "id": "98694fa1",
   "metadata": {},
   "outputs": [
    {
     "data": {
      "text/plain": [
       "['__class__',\n",
       " '__delattr__',\n",
       " '__dict__',\n",
       " '__dir__',\n",
       " '__doc__',\n",
       " '__eq__',\n",
       " '__format__',\n",
       " '__ge__',\n",
       " '__getattribute__',\n",
       " '__gt__',\n",
       " '__hash__',\n",
       " '__init__',\n",
       " '__init_subclass__',\n",
       " '__le__',\n",
       " '__lt__',\n",
       " '__module__',\n",
       " '__ne__',\n",
       " '__new__',\n",
       " '__reduce__',\n",
       " '__reduce_ex__',\n",
       " '__repr__',\n",
       " '__setattr__',\n",
       " '__sizeof__',\n",
       " '__str__',\n",
       " '__subclasshook__',\n",
       " '__weakref__',\n",
       " 'color',\n",
       " 'mileage']"
      ]
     },
     "execution_count": 14,
     "metadata": {},
     "output_type": "execute_result"
    }
   ],
   "source": [
    "dir(obj)"
   ]
  },
  {
   "cell_type": "markdown",
   "id": "0719326b",
   "metadata": {},
   "source": [
    "# Q4. In a class, how do you capture in-place addition?"
   ]
  },
  {
   "cell_type": "markdown",
   "id": "cae28241",
   "metadata": {},
   "source": [
    "Ans)a+b is normal addition. Whereas a+=b is inplace addition operation. In this in-place addition a itself will store the value of addition. In a class __iadd__ method is used for this in-place operation"
   ]
  },
  {
   "cell_type": "code",
   "execution_count": 22,
   "id": "ccf56218",
   "metadata": {},
   "outputs": [
    {
     "name": "stdout",
     "output_type": "stream",
     "text": [
      "10\n"
     ]
    }
   ],
   "source": [
    "#__iadd__ normal form\n",
    "a=5\n",
    "a+=5 #a=a+5\n",
    "print(a)"
   ]
  },
  {
   "cell_type": "code",
   "execution_count": 30,
   "id": "1393d10f",
   "metadata": {},
   "outputs": [
    {
     "name": "stdout",
     "output_type": "stream",
     "text": [
      "11\n"
     ]
    }
   ],
   "source": [
    "# __iadd__ in class form\n",
    "\n",
    "class count:\n",
    "    def __init__(self,n1):\n",
    "        self.n1=n1\n",
    "    def __iadd__(self,n2):\n",
    "        self.n1+=n2.n1\n",
    "        return self.n1\n",
    "    \n",
    "c1=count(5)\n",
    "c2=count(6)\n",
    "c1+=c2\n",
    "print(c1)"
   ]
  },
  {
   "cell_type": "markdown",
   "id": "1538faf0",
   "metadata": {},
   "source": [
    "# Q5. When is it appropriate to use operator overloading?"
   ]
  },
  {
   "cell_type": "code",
   "execution_count": 35,
   "id": "dccf137e",
   "metadata": {},
   "outputs": [
    {
     "name": "stdout",
     "output_type": "stream",
     "text": [
      "200\n"
     ]
    }
   ],
   "source": [
    "#Operator overloading is used when we want to use an operator other than its normal operation to have \n",
    "#different meaning according to the context required in user defined function.\n",
    "class car:\n",
    "    def __init__(self,c1):\n",
    "        self.c1=c1\n",
    "    def __add__(self,c2):\n",
    "        return self.c1+c2.c1\n",
    "    \n",
    "obj1=car(100)\n",
    "obj2=car(100)\n",
    "print(obj1+obj2)"
   ]
  }
 ],
 "metadata": {
  "kernelspec": {
   "display_name": "Python 3 (ipykernel)",
   "language": "python",
   "name": "python3"
  },
  "language_info": {
   "codemirror_mode": {
    "name": "ipython",
    "version": 3
   },
   "file_extension": ".py",
   "mimetype": "text/x-python",
   "name": "python",
   "nbconvert_exporter": "python",
   "pygments_lexer": "ipython3",
   "version": "3.10.2"
  }
 },
 "nbformat": 4,
 "nbformat_minor": 5
}
