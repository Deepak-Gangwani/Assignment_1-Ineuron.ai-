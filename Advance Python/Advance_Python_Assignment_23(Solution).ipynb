{
 "cells": [
  {
   "cell_type": "markdown",
   "id": "e8131aba",
   "metadata": {},
   "source": [
    "# Q1. If you have any, what are your choices for increasing the comparison between different figures on the same graph?"
   ]
  },
  {
   "cell_type": "code",
   "execution_count": 34,
   "id": "c1455da4",
   "metadata": {
    "scrolled": true
   },
   "outputs": [
    {
     "data": {
      "image/png": "[encoded data removed]",
      "text/plain": [
       "<Figure size 432x288 with 4 Axes>"
      ]
     },
     "metadata": {
      "needs_background": "light"
     },
     "output_type": "display_data"
    }
   ],
   "source": [
    "import matplotlib.pyplot as plt\n",
    "import numpy as np\n",
    "\n",
    "#Graph \n",
    "x=np.array([1,2,3,4,5])\n",
    "y=np.array([5,10,4,15,2])\n",
    "plt.subplot(3,3,1)  #this is represented with 3 denotes rows and 3 denotes column and 1 denotes indexes\n",
    "plt.plot(x,y)\n",
    "plt.title(\"Plot-1\")\n",
    "plt.xlabel(\"X-Axis\")\n",
    "plt.ylabel(\"Y-Axis\")\n",
    "\n",
    "\n",
    "#Graph\n",
    "x=np.array([1,2,3,4,5])\n",
    "y=np.array([2,4,6,8,10])\n",
    "plt.subplot(3,3,3)  #this is represented with 3 denotes rows and 3 denotes column and 3 denotes indexes\n",
    "plt.plot(x,y)\n",
    "plt.title(\"Plot-2\")\n",
    "plt.xlabel(\"X-Axis\")\n",
    "plt.ylabel(\"Y-Axis\")\n",
    "\n",
    "#Graph\n",
    "x=np.array([1,2,3,4,5])\n",
    "y=np.array([1,3,5,1,8])\n",
    "plt.subplot(3,3,7)  #this is represented with 3 denotes rows and 3 denotes column and 7 denotes indexes\n",
    "plt.plot(x,y)\n",
    "plt.title(\"Plot-3\")\n",
    "plt.xlabel(\"X-Axis\")\n",
    "plt.ylabel(\"Y-Axis\")\n",
    "\n",
    "#Graph\n",
    "x=np.array([1,2,3,4,5])\n",
    "y=np.array([10,5,7,2,4])\n",
    "plt.subplot(3,3,9)  #this is represented with 3 denotes rows and 3 denotes column and 9 denotes indexes\n",
    "plt.plot(x,y)\n",
    "plt.title(\"Plot-4\")\n",
    "plt.xlabel(\"X-Axis\")\n",
    "plt.ylabel(\"Y-Axis\")\n",
    "\n",
    "\n",
    "plt.suptitle(\"Subplots Representation\\n\")#super title representation function\n",
    "plt.show()"
   ]
  },
  {
   "cell_type": "markdown",
   "id": "0eae4aed",
   "metadata": {},
   "source": [
    "# Q2. Can you explain the benefit of compound interest over a higher rate of interest that does not compound after reading this chapter?"
   ]
  },
  {
   "cell_type": "markdown",
   "id": "54da2c56",
   "metadata": {},
   "source": [
    "Ans) Compound interest makes a sum of money grow at a faster rate than simple interest,because in addition to earning returns on the money you invest, you also earn returns on those returns at the end of every compounding period, which could be daily, monthly, quarterly or annually."
   ]
  },
  {
   "cell_type": "markdown",
   "id": "ec30315a",
   "metadata": {},
   "source": [
    "# Q3. What is a histogram, exactly? Name a numpy method for creating such a graph ?"
   ]
  },
  {
   "cell_type": "markdown",
   "id": "25a8fbc5",
   "metadata": {},
   "source": [
    "Ans) Histogram shows total values of X wrt Y. Which means at any particular position of X, Y value shows the total number of counts or data below that value of X. numpy.histogram() is the built in function used."
   ]
  },
  {
   "cell_type": "markdown",
   "id": "338d0acd",
   "metadata": {},
   "source": [
    "# Q4. If necessary, how do you change the aspect ratios between the X and Y axes ?"
   ]
  },
  {
   "cell_type": "markdown",
   "id": "bebed7b7",
   "metadata": {},
   "source": [
    "Ans) We can use figure(figsize=(8,6)) function inside the matplot.pyplot library which we scale down or up the graph."
   ]
  },
  {
   "cell_type": "markdown",
   "id": "8f3a0cfb",
   "metadata": {},
   "source": [
    "# Q5. Compare and contrast the three types of array multiplication between two numpy arrays: dot product, outer product, and regular multiplication of two numpy arrays ?"
   ]
  },
  {
   "cell_type": "markdown",
   "id": "1b1c3938",
   "metadata": {},
   "source": [
    "Ans) 1) In regular multiplication values of same index get multiplied.\n",
    "\n",
    "2) In dot product there is row wise multiplication, row of one array with column of second array and so on.\n",
    "\n",
    "3) In outer multiplication every element of first array a1 will be multiply by every element of other array a2 such such the number of columns will be equal to the number of element in another array a2."
   ]
  },
  {
   "cell_type": "markdown",
   "id": "0959546b",
   "metadata": {},
   "source": [
    "# Q6. Before you buy a home, which numpy function will you use to measure your monthly mortgage payment ?"
   ]
  },
  {
   "cell_type": "markdown",
   "id": "6b33be56",
   "metadata": {},
   "source": [
    "Ans) np.pmt(rate, nper, pv) function we will be using in order to calculate monthly mortgage payment before you purchase a house.\n",
    "\n",
    "rate = The periodic interest rate\n",
    "\n",
    "nper = The number of payment periods\n",
    "\n",
    "pv = The total value of the mortgage loan"
   ]
  },
  {
   "cell_type": "markdown",
   "id": "100b9ad1",
   "metadata": {},
   "source": [
    "# Q7. Can string data be stored in numpy arrays? If so, list at least one restriction that applies to this data ?"
   ]
  },
  {
   "cell_type": "markdown",
   "id": "5276d8e7",
   "metadata": {},
   "source": [
    "Ans) Yes, an array can store the string. The limitation which imposed on the string data is, whenever we store the data of string data type then we should keep in mind that the string which is having the maximum length will become the limit. Below example demonstrates that when himanshu is added then it takes only 'himan' because limit is set as 5 before."
   ]
  },
  {
   "cell_type": "code",
   "execution_count": 1,
   "id": "56e2b8b1",
   "metadata": {},
   "outputs": [
    {
     "name": "stdout",
     "output_type": "stream",
     "text": [
      "['jai' 'ajay' 'arjun' '' 'karan']\n",
      "['jai' 'ajay' 'arjun' 'himan' 'karan']\n"
     ]
    }
   ],
   "source": [
    "import numpy as np\n",
    "names=np.array([\"jai\",\"ajay\",\"arjun\",\"\",\"karan\"]) #creating a numpy array\n",
    "print(names)\n",
    "\n",
    "names[names==\"\"]=\"himanshu\"  # assigned himanshu at the place of missing value\n",
    "print(names)\n"
   ]
  }
 ],
 "metadata": {
  "kernelspec": {
   "display_name": "Python 3 (ipykernel)",
   "language": "python",
   "name": "python3"
  },
  "language_info": {
   "codemirror_mode": {
    "name": "ipython",
    "version": 3
   },
   "file_extension": ".py",
   "mimetype": "text/x-python",
   "name": "python",
   "nbconvert_exporter": "python",
   "pygments_lexer": "ipython3",
   "version": "3.10.2"
  }
 },
 "nbformat": 4,
 "nbformat_minor": 5
}
