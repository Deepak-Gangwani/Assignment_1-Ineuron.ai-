{
 "cells": [
  {
   "cell_type": "markdown",
   "id": "53d61b40",
   "metadata": {},
   "source": [
    "# Q1. What is the purpose of the try statement?"
   ]
  },
  {
   "cell_type": "markdown",
   "id": "5afd3a6f",
   "metadata": {},
   "source": [
    "Ans) try statement is used for exception handling in python. It consists of a block of risky statements which might cause an exception during runtime. If code within try block raises exception, then the exception will be reverted to the corresponding except block when multiple except blocks are present, else it will be reverted to the default except block. In short, try and except in union avoid programs from crashing during runtime due to exceptions."
   ]
  },
  {
   "cell_type": "code",
   "execution_count": 3,
   "id": "fe8a7483",
   "metadata": {},
   "outputs": [],
   "source": [
    "def func():\n",
    "    try:\n",
    "        num=int(input(\"Enter the number-->\"))\n",
    "        print(f\"Your number is {num}\")\n",
    "    except Exception as e:\n",
    "        print(e)"
   ]
  },
  {
   "cell_type": "code",
   "execution_count": 4,
   "id": "722d1922",
   "metadata": {},
   "outputs": [
    {
     "name": "stdout",
     "output_type": "stream",
     "text": [
      "Enter the number-->1231hshjwss\n",
      "invalid literal for int() with base 10: '1231hshjwss'\n"
     ]
    }
   ],
   "source": [
    "func()"
   ]
  },
  {
   "cell_type": "code",
   "execution_count": 5,
   "id": "2dbb85b8",
   "metadata": {},
   "outputs": [
    {
     "name": "stdout",
     "output_type": "stream",
     "text": [
      "Enter the number-->123456\n",
      "Your number is 123456\n"
     ]
    }
   ],
   "source": [
    "func()"
   ]
  },
  {
   "cell_type": "markdown",
   "id": "b12b6767",
   "metadata": {},
   "source": [
    "# Q2. What are the two most popular try statement variations?"
   ]
  },
  {
   "cell_type": "markdown",
   "id": "570ee3d4",
   "metadata": {},
   "source": [
    "Ans)The Popular try statement variations are:\n",
    "\n",
    "1)try,except\n",
    "\n",
    "2)try,except,finally\n",
    "\n",
    "3)try,except,finally,else\n",
    "\n",
    "The try block is used to check code for exceptions during runtime. i.e. code inside try block will execute completely when there is no error in the program where as the code inside except block will execute whenever the program encounters some error in the preceeding try block.\n",
    "\n",
    "Where as the code enters the else block if and only if the try clause does not raise an exception. The code in the finally block will execute irrespective of exception."
   ]
  },
  {
   "cell_type": "markdown",
   "id": "bfb64dd4",
   "metadata": {},
   "source": [
    "# Q3. What is the purpose of the raise statement?"
   ]
  },
  {
   "cell_type": "markdown",
   "id": "ef487b4d",
   "metadata": {},
   "source": [
    "Ans) raise statement is used to trigger an exception explicitly, if a certain condition is not as per requirement of programmer. raise statement helps in triggering exception as per programming logic."
   ]
  },
  {
   "cell_type": "markdown",
   "id": "c4b0bf24",
   "metadata": {},
   "source": [
    "# Q4. What does the assert statement do, and what other statement is it like?"
   ]
  },
  {
   "cell_type": "markdown",
   "id": "70023ed9",
   "metadata": {},
   "source": [
    "Ans) There are few assertions that programmer always want to be true to avoid code failure. This type of requirement is fulfilled by assert statement. This statement takes a boolean condition output of which is True which in turn helps Further Program Execute. If output of assert statement is False, it raises an Assertion Error."
   ]
  },
  {
   "cell_type": "code",
   "execution_count": 6,
   "id": "f296e0f7",
   "metadata": {},
   "outputs": [
    {
     "name": "stdout",
     "output_type": "stream",
     "text": [
      "Enter the number-->1\n",
      "The 1 is not even\n"
     ]
    }
   ],
   "source": [
    "def func1():\n",
    "    try:\n",
    "        num=int(input(\"Enter the number-->\"))\n",
    "        assert num%2==0\n",
    "        print(f\"The {num} is even number\")\n",
    "    except AssertionError:\n",
    "        print(f\"The {num} is not even\")\n",
    "        \n",
    "func1()        "
   ]
  },
  {
   "cell_type": "code",
   "execution_count": 7,
   "id": "45190ea9",
   "metadata": {},
   "outputs": [
    {
     "name": "stdout",
     "output_type": "stream",
     "text": [
      "Enter the number-->2\n",
      "The 2 is even number\n"
     ]
    }
   ],
   "source": [
    "func1()"
   ]
  },
  {
   "cell_type": "markdown",
   "id": "ece856fd",
   "metadata": {},
   "source": [
    "# Q5. What is the purpose of the with/as argument, and what other statement is it like?"
   ]
  },
  {
   "cell_type": "markdown",
   "id": "4d266068",
   "metadata": {},
   "source": [
    "Ans) with/as statement simplifies use of file handling in python. When we use a with statement for file reading, there is no need for programmer to explicitly take care of activities like resource deallocation and file closing by using file.close() method. with statement itself ensures proper acquisition and release of resources. This avoids triggering of exceptions if the file closing is unknowingly forgotten in the code execution."
   ]
  },
  {
   "cell_type": "code",
   "execution_count": 9,
   "id": "1f746a2d",
   "metadata": {},
   "outputs": [
    {
     "name": "stdout",
     "output_type": "stream",
     "text": [
      "Loading......\n",
      "\n",
      "Initialised successfully\n"
     ]
    }
   ],
   "source": [
    "with open(\"deepak.txt\",\"w\") as file:\n",
    "    file.write(\"My name is Deepak\")\n",
    "    print(\"Loading......\")\n",
    "    print(\"\\nInitialised successfully\")\n",
    "    file.close()"
   ]
  }
 ],
 "metadata": {
  "kernelspec": {
   "display_name": "Python 3 (ipykernel)",
   "language": "python",
   "name": "python3"
  },
  "language_info": {
   "codemirror_mode": {
    "name": "ipython",
    "version": 3
   },
   "file_extension": ".py",
   "mimetype": "text/x-python",
   "name": "python",
   "nbconvert_exporter": "python",
   "pygments_lexer": "ipython3",
   "version": "3.10.2"
  }
 },
 "nbformat": 4,
 "nbformat_minor": 5
}
