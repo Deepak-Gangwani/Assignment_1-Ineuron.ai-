{
 "cells": [
  {
   "cell_type": "markdown",
   "id": "de2f5bff",
   "metadata": {},
   "source": [
    "# Q1. Compare and contrast the float and Decimal classes' benefits and drawbacks ?"
   ]
  },
  {
   "cell_type": "markdown",
   "id": "aa0af3b3",
   "metadata": {},
   "source": [
    "Ans)Both the float and decimal types store numerical values in Python.\n",
    "We use floats when convenience and speed matter. A float gives us an approximation of the number we declare.\n",
    "We use decimals when precision matters. Decimals can suffer from their own precision issues, but generally, decimals are more precise than floats. The performance difference between float and decimal, with Python 3, is not outlandish, and in my experience, the precision benefits of a decimal outweigh the performance benefits of a float."
   ]
  },
  {
   "cell_type": "markdown",
   "id": "ee764c49",
   "metadata": {},
   "source": [
    "# Q2. Decimal('1.200') and Decimal('1.2') are two objects to consider. In what sense are these the same object? Are these just two ways of representing the exact same value, or do they correspond to different internal states ?"
   ]
  },
  {
   "cell_type": "markdown",
   "id": "e302f9b4",
   "metadata": {},
   "source": [
    "Ans) Both values are same but internal representation at storage Is different. Precsion differs, Decimal('1.200') gives internally 1.200 and Decimal('1.2') gives 1.2."
   ]
  },
  {
   "cell_type": "markdown",
   "id": "487f5476",
   "metadata": {},
   "source": [
    "# Q3. What happens if the equality of Decimal('1.200') and Decimal('1.2') is checked ?"
   ]
  },
  {
   "cell_type": "markdown",
   "id": "210ab82a",
   "metadata": {},
   "source": [
    "Ans) Both values are checked to be equal since they only differ in precision."
   ]
  },
  {
   "cell_type": "markdown",
   "id": "654b705e",
   "metadata": {},
   "source": [
    "# Q4. Why is it preferable to start a Decimal object with a string rather than a floating-point value ?"
   ]
  },
  {
   "cell_type": "markdown",
   "id": "21cc2563",
   "metadata": {},
   "source": [
    "Ans) Floating-point value is converted to Decimal format. Decimal can store float value with absolute precision. But when float value is given as Decimal object,it first has to be converted from floating point value which might already have rounding error."
   ]
  },
  {
   "cell_type": "markdown",
   "id": "eb9dcd4c",
   "metadata": {},
   "source": [
    "# Q5. In an arithmetic phrase, how simple is it to combine Decimal objects with integers ?"
   ]
  },
  {
   "cell_type": "markdown",
   "id": "e2a3273d",
   "metadata": {},
   "source": [
    "Ans) We can do it with use of Decimal()."
   ]
  },
  {
   "cell_type": "markdown",
   "id": "a22fb21a",
   "metadata": {},
   "source": [
    "# Q6. Can Decimal objects and floating-point values be combined easily ?"
   ]
  },
  {
   "cell_type": "markdown",
   "id": "2f74f32f",
   "metadata": {},
   "source": [
    "Ans) Arithmetic operfations like Adding,subtracting or multiplying a Decimal object by a floating-point value generates an error.\n",
    "To do these operations, the floating point has to be converted to a Decimal."
   ]
  },
  {
   "cell_type": "markdown",
   "id": "c66a54fe",
   "metadata": {},
   "source": [
    "# Q7. Using the Fraction class but not the Decimal class, give an example of a quantity that can be expressed with absolute precision ?"
   ]
  },
  {
   "cell_type": "markdown",
   "id": "de5c1445",
   "metadata": {},
   "source": [
    "Ans) Value of 0.5 will be represented as ½."
   ]
  },
  {
   "cell_type": "markdown",
   "id": "0eead5bf",
   "metadata": {},
   "source": [
    "# Q8.Consider the following two fraction objects: Fraction(1, 2) and Fraction(1, 2). (5, 10). Is the internal state of these two objects the same? Why do you think that is ?"
   ]
  },
  {
   "cell_type": "markdown",
   "id": "81722079",
   "metadata": {},
   "source": [
    "Ans) Both will be reduced to 1/2"
   ]
  },
  {
   "cell_type": "markdown",
   "id": "c95492c6",
   "metadata": {},
   "source": [
    "# Q9. How do the Fraction class and the integer type (int) relate to each other? Containment or inheritance ?"
   ]
  },
  {
   "cell_type": "markdown",
   "id": "df55eecb",
   "metadata": {},
   "source": [
    "Ans) Fraction class and integer type(int) are related in form of a container. It contains two ints, one in the numerator and the other in the denominator"
   ]
  }
 ],
 "metadata": {
  "kernelspec": {
   "display_name": "Python 3 (ipykernel)",
   "language": "python",
   "name": "python3"
  },
  "language_info": {
   "codemirror_mode": {
    "name": "ipython",
    "version": 3
   },
   "file_extension": ".py",
   "mimetype": "text/x-python",
   "name": "python",
   "nbconvert_exporter": "python",
   "pygments_lexer": "ipython3",
   "version": "3.10.2"
  }
 },
 "nbformat": 4,
 "nbformat_minor": 5
}
