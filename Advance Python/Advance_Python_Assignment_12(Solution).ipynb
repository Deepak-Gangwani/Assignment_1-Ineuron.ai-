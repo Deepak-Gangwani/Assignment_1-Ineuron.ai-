{
 "cells": [
  {
   "cell_type": "markdown",
   "id": "dcb7c4df",
   "metadata": {},
   "source": [
    "# Q1. Does assigning a value to a string's indexed character violate Python's string immutability ?"
   ]
  },
  {
   "cell_type": "code",
   "execution_count": 3,
   "id": "a433fa1b",
   "metadata": {},
   "outputs": [
    {
     "name": "stdout",
     "output_type": "stream",
     "text": [
      "2108905826928\n"
     ]
    },
    {
     "ename": "TypeError",
     "evalue": "'str' object does not support item assignment",
     "output_type": "error",
     "traceback": [
      "\u001b[1;31m---------------------------------------------------------------------------\u001b[0m",
      "\u001b[1;31mTypeError\u001b[0m                                 Traceback (most recent call last)",
      "Input \u001b[1;32mIn [3]\u001b[0m, in \u001b[0;36m<cell line: 4>\u001b[1;34m()\u001b[0m\n\u001b[0;32m      2\u001b[0m name\u001b[38;5;241m=\u001b[39m\u001b[38;5;124m\"\u001b[39m\u001b[38;5;124mDeepak\u001b[39m\u001b[38;5;124m\"\u001b[39m\n\u001b[0;32m      3\u001b[0m \u001b[38;5;28mprint\u001b[39m(\u001b[38;5;28mid\u001b[39m(name))\n\u001b[1;32m----> 4\u001b[0m name[\u001b[38;5;241m0\u001b[39m]\u001b[38;5;241m=\u001b[39m\u001b[38;5;124m\"\u001b[39m\u001b[38;5;124mG\u001b[39m\u001b[38;5;124m\"\u001b[39m\n",
      "\u001b[1;31mTypeError\u001b[0m: 'str' object does not support item assignment"
     ]
    }
   ],
   "source": [
    "#String’s indexed character cannot to be assigned a New value as Strings are immutable.\n",
    "name=\"Deepak\"\n",
    "print(id(name))\n",
    "name[0]=\"G\" # this will raise an error"
   ]
  },
  {
   "cell_type": "markdown",
   "id": "cbb01316",
   "metadata": {},
   "source": [
    "# Q2. Does using the += operator to concatenate strings violate Python's string immutability? Why or why not ?"
   ]
  },
  {
   "cell_type": "markdown",
   "id": "873764a0",
   "metadata": {},
   "source": [
    "Ans) `+=` operator is used to concatenate strings. It does not violate Python’s string immutability Property because doing so creates a new association with data and variable. E.g. `s1=\"My name is\"` and `s1+=\" deepak\"`. Effect of this statement is to create string `My name is ddepak` and reassign it to variable `s1`. Any string data is not actually modified."
   ]
  },
  {
   "cell_type": "code",
   "execution_count": 22,
   "id": "880cbdde",
   "metadata": {},
   "outputs": [
    {
     "name": "stdout",
     "output_type": "stream",
     "text": [
      "2108906164400\n",
      "2108933252848\n"
     ]
    }
   ],
   "source": [
    "s1=\"my name is\"\n",
    "print(id(s1))\n",
    "s1 += \"deepak\"\n",
    "print(id(s1)) # Does not Modify existing string, Creates a New String Object and change the address of string"
   ]
  },
  {
   "cell_type": "markdown",
   "id": "7067b975",
   "metadata": {},
   "source": [
    "# Q3. In Python, how many different ways are there to index a character?"
   ]
  },
  {
   "cell_type": "markdown",
   "id": "a0d2145b",
   "metadata": {},
   "source": [
    "Ans) A Character in string can be indexed using string name followed by index number of character in square bracket.**Positive Indexing** i.e. first index is 0 an so on, or **Negative Indexing** i.e. last letter is -1 and so on can be used to index a character."
   ]
  },
  {
   "cell_type": "code",
   "execution_count": 23,
   "id": "0264656a",
   "metadata": {},
   "outputs": [
    {
     "name": "stdout",
     "output_type": "stream",
     "text": [
      "positive indexing-->('m', 'a', 'i')\n",
      "\n",
      "negative indexing-->('k', 'e', 'm')\n"
     ]
    }
   ],
   "source": [
    "s=\"my name is deepak\"\n",
    "print(f\"positive indexing-->{s[0],s[4],s[8]}\")\n",
    "print(f\"\\nnegative indexing-->{s[-1],s[-5],s[-12]}\")"
   ]
  },
  {
   "cell_type": "markdown",
   "id": "502adfa1",
   "metadata": {},
   "source": [
    "# Q4. What is the relationship between indexing and slicing?"
   ]
  },
  {
   "cell_type": "markdown",
   "id": "2a34362d",
   "metadata": {},
   "source": [
    "Ans) We can access elements of sequence datatypes by using slicing and indexing. Indexing is used to obtaining individual element while slicing for sequence of elements."
   ]
  },
  {
   "cell_type": "code",
   "execution_count": 20,
   "id": "472d9499",
   "metadata": {},
   "outputs": [
    {
     "name": "stdout",
     "output_type": "stream",
     "text": [
      "a e\n",
      "ame is\n"
     ]
    }
   ],
   "source": [
    "s=\"my name is deepak\"\n",
    "print(s[4],s[6]) # indexing\n",
    "print(s[4:10])  # slicing"
   ]
  },
  {
   "cell_type": "markdown",
   "id": "91c1d837",
   "metadata": {},
   "source": [
    "# Q5. What is an indexed character's exact data type? What is the data form of a slicing-generated substring?"
   ]
  },
  {
   "cell_type": "code",
   "execution_count": 18,
   "id": "37fc78cb",
   "metadata": {},
   "outputs": [
    {
     "name": "stdout",
     "output_type": "stream",
     "text": [
      "<class 'str'>\n",
      "<class 'str'>\n"
     ]
    }
   ],
   "source": [
    "# indexed character exact data type\n",
    "s=\"my name is deepak\"\n",
    "print(type(s[4]))\n",
    "\n",
    "# slicing-generated exact data type\n",
    "print(type(s[1:7]))"
   ]
  },
  {
   "cell_type": "markdown",
   "id": "98c77b4c",
   "metadata": {},
   "source": [
    "# Q6. What is the relationship between string and character \"types\" in Python?"
   ]
  },
  {
   "cell_type": "markdown",
   "id": "2d403871",
   "metadata": {},
   "source": [
    "Ans) Object that contains sequence of character datatypes are called String."
   ]
  },
  {
   "cell_type": "markdown",
   "id": "85556497",
   "metadata": {},
   "source": [
    "# Q7. Identify at least two operators & one method that allow you to combine one or more smaller strings to create a larger string ?"
   ]
  },
  {
   "cell_type": "markdown",
   "id": "35bc02bf",
   "metadata": {},
   "source": [
    "`+`, `+=` and `*` allow to combine one or more smaller strings to create a larger string. `<string>.join(<sep>)` method joins element of iterable type like list and tuple to get a combined string."
   ]
  },
  {
   "cell_type": "code",
   "execution_count": 12,
   "id": "a4cf99ab",
   "metadata": {},
   "outputs": [
    {
     "name": "stdout",
     "output_type": "stream",
     "text": [
      "My name is Deepak\n"
     ]
    }
   ],
   "source": [
    "# using += operator\n",
    "s1=\"My name is\"\n",
    "s1 += \" Deepak\"\n",
    "print(s1)"
   ]
  },
  {
   "cell_type": "code",
   "execution_count": 13,
   "id": "5848aaf9",
   "metadata": {},
   "outputs": [
    {
     "name": "stdout",
     "output_type": "stream",
     "text": [
      "My name is Deepak\n"
     ]
    }
   ],
   "source": [
    "# using + operator\n",
    "s1=\"My name is \"\n",
    "print(s1+\"Deepak\")"
   ]
  },
  {
   "cell_type": "code",
   "execution_count": 15,
   "id": "f98f8949",
   "metadata": {},
   "outputs": [
    {
     "name": "stdout",
     "output_type": "stream",
     "text": [
      "Deepak Deepak Deepak \n"
     ]
    }
   ],
   "source": [
    "# using * operator\n",
    "print(\"Deepak \"*3)"
   ]
  },
  {
   "cell_type": "code",
   "execution_count": 16,
   "id": "4e400e4a",
   "metadata": {},
   "outputs": [
    {
     "name": "stdout",
     "output_type": "stream",
     "text": [
      "My name is Deepak\n",
      "my name is deepak\n"
     ]
    }
   ],
   "source": [
    "# <string>.join(<sep>)\n",
    "print(\" \".join([\"My\",\"name\",\"is\",\"Deepak\"]))  # List iterable\n",
    "print(\" \".join([\"My\",\"name\",\"is\",\"Deepak\"]).lower()) # Tuple Iterable"
   ]
  },
  {
   "cell_type": "markdown",
   "id": "7e48be85",
   "metadata": {},
   "source": [
    "# Q8. What is the benefit of first checking the target string with in or not in before using the index method to find a substring ?"
   ]
  },
  {
   "cell_type": "markdown",
   "id": "a6bce66a",
   "metadata": {},
   "source": [
    "Ans) Checking the target string with in or not Operators before using the index method to find a substring just helps confirming availability of substring and thus avoid raising of ValueError."
   ]
  },
  {
   "cell_type": "code",
   "execution_count": 6,
   "id": "3f223179",
   "metadata": {},
   "outputs": [
    {
     "data": {
      "text/plain": [
       "3"
      ]
     },
     "execution_count": 6,
     "metadata": {},
     "output_type": "execute_result"
    }
   ],
   "source": [
    "s=\"deepak\"\n",
    "s.index(\"p\")"
   ]
  },
  {
   "cell_type": "code",
   "execution_count": 7,
   "id": "bae2ae52",
   "metadata": {},
   "outputs": [
    {
     "ename": "ValueError",
     "evalue": "substring not found",
     "output_type": "error",
     "traceback": [
      "\u001b[1;31m---------------------------------------------------------------------------\u001b[0m",
      "\u001b[1;31mValueError\u001b[0m                                Traceback (most recent call last)",
      "Input \u001b[1;32mIn [7]\u001b[0m, in \u001b[0;36m<cell line: 1>\u001b[1;34m()\u001b[0m\n\u001b[1;32m----> 1\u001b[0m \u001b[43ms\u001b[49m\u001b[38;5;241;43m.\u001b[39;49m\u001b[43mindex\u001b[49m\u001b[43m(\u001b[49m\u001b[38;5;124;43m\"\u001b[39;49m\u001b[38;5;124;43mq\u001b[39;49m\u001b[38;5;124;43m\"\u001b[39;49m\u001b[43m)\u001b[49m\n",
      "\u001b[1;31mValueError\u001b[0m: substring not found"
     ]
    }
   ],
   "source": [
    "s.index(\"q\")"
   ]
  },
  {
   "cell_type": "markdown",
   "id": "10e4b66b",
   "metadata": {},
   "source": [
    "# Q9. Which operators and built-in string methods produce simple Boolean (true/false) results?"
   ]
  },
  {
   "cell_type": "markdown",
   "id": "d1bf80c2",
   "metadata": {},
   "source": [
    "Ans) The String Operators and built-in methods to Produce Simple Boolean (True/False) Results are:\n",
    "\n",
    "`in`\n",
    "\n",
    "`not`\n",
    "\n",
    "`<string>.isalpha()`\n",
    "\n",
    "`<string>.isalnum()`\n",
    "\n",
    "`<string>.isdecimal()`\n",
    "\n",
    "`<string>.isdigit()`\n",
    "\n",
    "`<string>.islower()`\n",
    "\n",
    "`<string>.isnumeric()`\n",
    "\n",
    "`<string>.isprintable()`\n",
    "\n",
    "`<string>.isspace()`\n",
    "\n",
    "`<string>.istitle()`"
   ]
  }
 ],
 "metadata": {
  "kernelspec": {
   "display_name": "Python 3 (ipykernel)",
   "language": "python",
   "name": "python3"
  },
  "language_info": {
   "codemirror_mode": {
    "name": "ipython",
    "version": 3
   },
   "file_extension": ".py",
   "mimetype": "text/x-python",
   "name": "python",
   "nbconvert_exporter": "python",
   "pygments_lexer": "ipython3",
   "version": "3.10.2"
  }
 },
 "nbformat": 4,
 "nbformat_minor": 5
}
