{
 "cells": [
  {
   "cell_type": "markdown",
   "id": "a09d4b0a",
   "metadata": {},
   "source": [
    "# Q1. What is the meaning of multiple inheritance?"
   ]
  },
  {
   "cell_type": "code",
   "execution_count": 6,
   "id": "e735e098",
   "metadata": {},
   "outputs": [
    {
     "name": "stdout",
     "output_type": "stream",
     "text": [
      "Feature1 is working\n",
      "Feature2 is working\n",
      "Feature3 is working\n"
     ]
    }
   ],
   "source": [
    "class A:\n",
    "    def feature1(self):\n",
    "        print(\"Feature1 is working\")\n",
    "\n",
    "class B:\n",
    "    def feature2(self):\n",
    "        print(\"Feature2 is working\")\n",
    "        \n",
    "class C(A,B):\n",
    "    def feature3(self):\n",
    "        print(\"Feature3 is working\")\n",
    "        \n",
    "obj=C()# we have called a C class but we can inherit all the feature of class A and B\n",
    "obj.feature1()\n",
    "obj.feature2()\n",
    "obj.feature3()"
   ]
  },
  {
   "cell_type": "markdown",
   "id": "8e247418",
   "metadata": {},
   "source": [
    "# Q2. What is the concept of delegation?"
   ]
  },
  {
   "cell_type": "markdown",
   "id": "1fe3ffb2",
   "metadata": {},
   "source": [
    "Ans)Delegation provides a proxy object for any class that we want on top of the main class. It is like a wrapper to our class so that we can access limited resources of the main class.\n",
    "\n",
    "It wraps the object of main class into a smaller object with limited access\n",
    "\n",
    "In simple terms, Delegation means that we can include an instance of another class as an instance variable, and forward messages to the instance.\n",
    "\n"
   ]
  },
  {
   "cell_type": "code",
   "execution_count": 1,
   "id": "b8505ef4",
   "metadata": {},
   "outputs": [
    {
     "name": "stdout",
     "output_type": "stream",
     "text": [
      "This is main class\n",
      "This is main class\n"
     ]
    }
   ],
   "source": [
    "class MainClass:\n",
    "    \n",
    "    def check(self):\n",
    "        print(\"This is main class\")\n",
    "        \n",
    "class NewClass:\n",
    "    \n",
    "    def __init__(self,obj):\n",
    "        self.main=obj\n",
    "        \n",
    "    def check2(self):\n",
    "        self.main.check()\n",
    "        \n",
    "obj=MainClass()\n",
    "obj2=NewClass(obj)\n",
    "\n",
    "obj.check()# this is called through main class \n",
    "\n",
    "obj2.main.check()# this is called through new class object"
   ]
  },
  {
   "cell_type": "markdown",
   "id": "7cb941fb",
   "metadata": {},
   "source": [
    "# Q3. What is the concept of composition?"
   ]
  },
  {
   "cell_type": "markdown",
   "id": "e018466f",
   "metadata": {},
   "source": [
    "Ans)In the concept of Composition, a class refers to one or more other classes by using instances of those classes as an instance variable. Irrespective of inheritence, In this approach all the parent class members are not inherited into child class, but only required methods from a class are used by using class instances."
   ]
  },
  {
   "cell_type": "code",
   "execution_count": 3,
   "id": "1eb612b3",
   "metadata": {},
   "outputs": [
    {
     "data": {
      "text/plain": [
       "'The Total Salary Of Employee-->1850000'"
      ]
     },
     "execution_count": 3,
     "metadata": {},
     "output_type": "execute_result"
    }
   ],
   "source": [
    "class Salary:\n",
    "    def __init__(self,pay,bonus):\n",
    "        self.pay=pay\n",
    "        self.bonus=bonus\n",
    "    \n",
    "    def annual_salary(self):\n",
    "        return (self.pay*12)+self.bonus\n",
    "        \n",
    "class Employee:\n",
    "    def __init__(self,name,age,pay,bonus):\n",
    "        self.name=name\n",
    "        self.age=age\n",
    "        self.obj_salary=Salary(pay,bonus)\n",
    "        \n",
    "    def Total_Salary(self):\n",
    "        return f\"The Total Salary Of Employee-->{self.obj_salary.annual_salary()}\"\n",
    "    \n",
    "    \n",
    "obj_emp=Employee(\"Deepak\",21,150000,50000)\n",
    "obj_emp.Total_Salary()"
   ]
  },
  {
   "cell_type": "markdown",
   "id": "1c417805",
   "metadata": {},
   "source": [
    "# Q4. What are bound methods and how do we use them?"
   ]
  },
  {
   "cell_type": "markdown",
   "id": "96d9d15c",
   "metadata": {},
   "source": [
    "Ans) If a function is an attribute of class and it is accessed via the instances, they are called bound methods. A bound method is one that has self as its first argument. Since these are dependent on the instance of classes, these are also known as instance methods."
   ]
  },
  {
   "cell_type": "code",
   "execution_count": 11,
   "id": "1a901941",
   "metadata": {},
   "outputs": [
    {
     "name": "stdout",
     "output_type": "stream",
     "text": [
      "The average of all 3 given marks -->50.0\n",
      "FSDS\n"
     ]
    },
    {
     "data": {
      "text/plain": [
       "'This is staticmethod is the part of bound method '"
      ]
     },
     "execution_count": 11,
     "metadata": {},
     "output_type": "execute_result"
    }
   ],
   "source": [
    "class Student:\n",
    "    \n",
    "    course=\"FSDS\"\n",
    "    \n",
    "    def __init__(self,m1,m2,m3):\n",
    "        self.m1=m1\n",
    "        self.m2=m2\n",
    "        self.m3=m3\n",
    "        \n",
    "    def average(self):\n",
    "        return (self.m1+self.m2+self.m3)/3\n",
    "    \n",
    "    @classmethod       # creating a decorator to represent function as unbound methods\n",
    "    def info(cls):     # instead of self we have to write cls to point through class name\n",
    "        return cls.course\n",
    "    \n",
    "    @staticmethod      # creating a decorator to represent function as static method where no self needed you can access from \n",
    "    def info2():       # all the cgiven classes\n",
    "        return \"This is staticmethod is the part of bound method \"\n",
    "    \n",
    "s1=Student(40,50,60)\n",
    "\n",
    "print(f\"The average of all 3 given marks -->{s1.average()}\")  #calling a function through object\n",
    "\n",
    "print(Student.info())\n",
    "\n",
    "Student.info2()\n",
    "\n",
    "    \n",
    "    \n",
    "    "
   ]
  },
  {
   "cell_type": "markdown",
   "id": "d82b3457",
   "metadata": {},
   "source": [
    "# Q5. What is the purpose of pseudoprivate attributes?"
   ]
  },
  {
   "cell_type": "markdown",
   "id": "861a0533",
   "metadata": {},
   "source": [
    "Ans)Pseudoprivate attributes are also useful in larger frameworks or tools, both to avoid introducing new method names that might accidentally hide definitions elsewhere in the class tree and to reduce the chance of internal methods being replaced by names defined lower in the tree. If a method is intended for use only within a class that may be mixed into other classes, the double underscore prefix ensures that the method won't interfere with other names in the tree, especially in multiple-inheritance scenarios"
   ]
  },
  {
   "cell_type": "code",
   "execution_count": 12,
   "id": "5b2a196d",
   "metadata": {},
   "outputs": [
    {
     "data": {
      "text/plain": [
       "'The name of Employee is Deepak and the salary and role is 50000,programmer'"
      ]
     },
     "execution_count": 12,
     "metadata": {},
     "output_type": "execute_result"
    }
   ],
   "source": [
    "class Employee:\n",
    "    no_of_leaves=8\n",
    "    var=\"This is a public attributes which can be accessible from anywhere within the class or outside the class\"\n",
    "    _protected=\"This is protected attributes which can be accessible in class or subclass of inheritance\"\n",
    "    __private=\"This is private attributes which can be accessible in class only not even subclass also\"\n",
    "    \n",
    "    def __init__(self,name,salary,arole):\n",
    "        self.name=name\n",
    "        self.salary=salary\n",
    "        self.arole=arole\n",
    "    def printdetails(self):\n",
    "        return f\"The name of Employee is {self.name} and the salary and role is {self.salary},{self.arole}\"\n",
    "    \n",
    "    \n",
    "obj=Employee(\"Deepak\",50000,\"programmer\")\n",
    "obj.printdetails()"
   ]
  },
  {
   "cell_type": "code",
   "execution_count": 13,
   "id": "b4b722d2",
   "metadata": {},
   "outputs": [
    {
     "data": {
      "text/plain": [
       "'This is a public attributes which can be accessible from anywhere within the class or outside the class'"
      ]
     },
     "execution_count": 13,
     "metadata": {},
     "output_type": "execute_result"
    }
   ],
   "source": [
    "obj.var # calling a public variable"
   ]
  },
  {
   "cell_type": "code",
   "execution_count": 14,
   "id": "de86d7de",
   "metadata": {},
   "outputs": [
    {
     "data": {
      "text/plain": [
       "'This is protected attributes which can be accessible in class or subclass of inheritance'"
      ]
     },
     "execution_count": 14,
     "metadata": {},
     "output_type": "execute_result"
    }
   ],
   "source": [
    "obj._protected # if we want to call protected we have to use _ to call protected "
   ]
  },
  {
   "cell_type": "code",
   "execution_count": 15,
   "id": "0c8dc3da",
   "metadata": {},
   "outputs": [
    {
     "ename": "AttributeError",
     "evalue": "'Employee' object has no attribute '__private'",
     "output_type": "error",
     "traceback": [
      "\u001b[1;31m---------------------------------------------------------------------------\u001b[0m",
      "\u001b[1;31mAttributeError\u001b[0m                            Traceback (most recent call last)",
      "Input \u001b[1;32mIn [15]\u001b[0m, in \u001b[0;36m<cell line: 1>\u001b[1;34m()\u001b[0m\n\u001b[1;32m----> 1\u001b[0m \u001b[43mobj\u001b[49m\u001b[38;5;241;43m.\u001b[39;49m\u001b[43m__private\u001b[49m\n",
      "\u001b[1;31mAttributeError\u001b[0m: 'Employee' object has no attribute '__private'"
     ]
    }
   ],
   "source": [
    "obj.__private # this will give you an error"
   ]
  },
  {
   "cell_type": "code",
   "execution_count": 16,
   "id": "bdd7b681",
   "metadata": {},
   "outputs": [
    {
     "data": {
      "text/plain": [
       "'This is private attributes which can be accessible in class only not even subclass also'"
      ]
     },
     "execution_count": 16,
     "metadata": {},
     "output_type": "execute_result"
    }
   ],
   "source": [
    "obj._Employee__private # if we want to call private we have to call through class"
   ]
  }
 ],
 "metadata": {
  "kernelspec": {
   "display_name": "Python 3 (ipykernel)",
   "language": "python",
   "name": "python3"
  },
  "language_info": {
   "codemirror_mode": {
    "name": "ipython",
    "version": 3
   },
   "file_extension": ".py",
   "mimetype": "text/x-python",
   "name": "python",
   "nbconvert_exporter": "python",
   "pygments_lexer": "ipython3",
   "version": "3.10.2"
  }
 },
 "nbformat": 4,
 "nbformat_minor": 5
}
