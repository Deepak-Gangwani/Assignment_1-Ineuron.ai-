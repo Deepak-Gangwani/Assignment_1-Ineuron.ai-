{
 "cells": [
  {
   "cell_type": "markdown",
   "id": "a4b6e041",
   "metadata": {},
   "source": [
    "# Q1. What are the benefits of the built-in array package, if any?"
   ]
  },
  {
   "cell_type": "markdown",
   "id": "23c413f8",
   "metadata": {},
   "source": [
    "Ans)Arrays represent multiple data items of the same type using a single name. In arrays, the elements can be accessed randomly by using the index number. Arrays allocate memory in contiguous memory locations for all its elements. Hence, there is no chance of extra memory being allocated in case of arrays. This avoids memory overflow or shortage of memory in arrays.\n",
    "Lists and NumPy Arrays usually are much better alternatives. That’s also the reason why rarely people knows Python has a built-in Array type."
   ]
  },
  {
   "cell_type": "code",
   "execution_count": 9,
   "id": "5a50a311",
   "metadata": {},
   "outputs": [
    {
     "name": "stdout",
     "output_type": "stream",
     "text": [
      "   TypeCode          C Type Python Type  Min. size in bytes\n",
      "0         b     signed char         int                   1\n",
      "1         B   unsigned char         int                   1\n",
      "2         u      Py_UNICODE     unicode                   2\n",
      "3         h    signed short         int                   2\n",
      "4         H  unsigned short         int                   2\n",
      "5         i      signed int         int                   2\n",
      "6         I    unsigned int         int                   2\n",
      "7         l     signed long         int                   4\n",
      "8         L   unsigned long         int                   4\n",
      "9         f           float       float                   4\n",
      "10        d          double       float                   8\n"
     ]
    }
   ],
   "source": [
    "import pandas as pd\n",
    "data={'TypeCode':['b','B','u','h','H','i','I','l','L','f','d'],\n",
    "     'C Type':['signed char','unsigned char','Py_UNICODE','signed short','unsigned short','signed int','unsigned int','signed long','unsigned long','float','double'],\n",
    "     'Python Type':['int','int','unicode','int','int','int','int','int','int','float','float'],\n",
    "     'Min. size in bytes':[1,1,2,2,2,2,2,4,4,4,8]}\n",
    "\n",
    "df=pd.DataFrame(data)\n",
    "print(df)"
   ]
  },
  {
   "cell_type": "code",
   "execution_count": 6,
   "id": "3d708f14",
   "metadata": {},
   "outputs": [],
   "source": [
    "from array import array\n",
    "vals=array('i',[10,20])  # specifying 'i' stands for integer data type\n",
    "vals.append(30)\n",
    "vals.append(-40)"
   ]
  },
  {
   "cell_type": "code",
   "execution_count": 7,
   "id": "dda178dc",
   "metadata": {},
   "outputs": [
    {
     "data": {
      "text/plain": [
       "array('i', [10, 20, 30, -40])"
      ]
     },
     "execution_count": 7,
     "metadata": {},
     "output_type": "execute_result"
    }
   ],
   "source": [
    "vals"
   ]
  },
  {
   "cell_type": "code",
   "execution_count": 4,
   "id": "9a0f0bc5",
   "metadata": {},
   "outputs": [],
   "source": [
    "#vals.append(5.5) #we can use only same datatype which is there in the list"
   ]
  },
  {
   "cell_type": "markdown",
   "id": "a8facdd1",
   "metadata": {},
   "source": [
    "# Q2. What are some of the array package's limitations ?"
   ]
  },
  {
   "cell_type": "markdown",
   "id": "026818b0",
   "metadata": {},
   "source": [
    "Ans)->The number of elements to be stored in an array should be known in advance.An array is a static structure (which means the array is of fixed size). Once declared the size of the array cannot be modified. The memory which is allocated to it cannot be increased or decreased.\n",
    "\n",
    "->Insertion and deletion are quite difficult in an array as the elements are stored in consecutive memory locations and the shifting operation is costly.\n",
    "\n",
    "->Allocating more memory than the requirement leads to wastage of memory space and less allocation of memory also leads to a problem"
   ]
  },
  {
   "cell_type": "markdown",
   "id": "f34f021e",
   "metadata": {},
   "source": [
    "# Q3. Describe the main differences between the array and numpy packages ?"
   ]
  },
  {
   "cell_type": "markdown",
   "id": "2d8190ea",
   "metadata": {},
   "source": [
    "Ans) ->The array package doesn't provide any help with numerical calculation with the items insdie it in number form while NumPy give you a wide variety of numerical operations.\n",
    "\n",
    "->An array is a single dimensional entity which hold the numerical data, while numpy can have more than 1 dimension.\n",
    "\n",
    "->In case of array, item can be accessed by its index position and it is easy task while in numpy item is accessed by its column and row index, which makes it slightly time taking. Same goes with appending operation.\n",
    "\n",
    "->In case of array we do not form a tabular structure, while in numpy it forms a tabular structure"
   ]
  },
  {
   "cell_type": "markdown",
   "id": "a3a39661",
   "metadata": {},
   "source": [
    "# Q4. Explain the distinctions between the empty, ones, and zeros functions ?"
   ]
  },
  {
   "cell_type": "markdown",
   "id": "48083d90",
   "metadata": {},
   "source": [
    "Ans)The distinctions between the empty, ones, and zero functions are as follows :\n",
    "\n",
    "->Empty function: An empty function is a function that does not contain any statement within its body. If you try to write a function definition without any statement in python ,it will return an error. To avoid this, we use pass statement. pass is a special statement in Python that does nothing. It only works as a dummy statement.\n",
    "\n",
    "->Ones: This function returns a new array of given shape and data type, where the element’s value is 1.\n",
    "\n",
    "->Zeros: This function returns a new array of given shape and data type, where the element’s value is 0."
   ]
  },
  {
   "cell_type": "markdown",
   "id": "b54cfe85",
   "metadata": {},
   "source": [
    "# Q5. In the fromfunction function, which is used to construct new arrays, what is the role of the callable argument ?"
   ]
  },
  {
   "cell_type": "markdown",
   "id": "d995c4c7",
   "metadata": {},
   "source": [
    "Ans) Its function is to execute the function over each coordinate and the resulting array. The function is called with N parameters, where N is the rank of shape. Each parameter represents the coordinates of the array varying along a specific axis."
   ]
  },
  {
   "cell_type": "markdown",
   "id": "3fed5544",
   "metadata": {},
   "source": [
    "# Q6. What happens when a numpy array is combined with a single-value operand (a scalar, such as an int or a floating-point value) through addition, as in the expression A + n ?"
   ]
  },
  {
   "cell_type": "markdown",
   "id": "fc1cbbfb",
   "metadata": {},
   "source": [
    "Ans)If any scaler value such as integer is added to the numpy array then all the elements inside the array will add that value in it."
   ]
  },
  {
   "cell_type": "markdown",
   "id": "546bad35",
   "metadata": {},
   "source": [
    "# Q7. Can array-to-scalar operations use combined operation-assign operators (such as += or *=)? What is the outcome ?"
   ]
  },
  {
   "cell_type": "markdown",
   "id": "d421c72b",
   "metadata": {},
   "source": [
    "Ans) It will carry out provided operation on all elements of array."
   ]
  },
  {
   "cell_type": "markdown",
   "id": "0db6c7e5",
   "metadata": {},
   "source": [
    "# Q8. Does a numpy array contain fixed-length strings? What happens if you allocate a longer string to one of these arrays ?"
   ]
  },
  {
   "cell_type": "markdown",
   "id": "1d1681f4",
   "metadata": {},
   "source": [
    "Ans) Yes, it is possible that we can include a string of fixed length in numpy array. The dtype of any numpy array containing string values is the maximum length of any string present in the array.Once set, it will only be able to store new string having length not more than the maximum length at the time of the creation. If we try to reassign some another string value having length greater than the maximum length of the existing elements, it simply discards all the values beyond the maximum length accept upto those values which are under the limit."
   ]
  },
  {
   "cell_type": "markdown",
   "id": "d432c576",
   "metadata": {},
   "source": [
    "# Q9. What happens when you combine two numpy arrays using an operation like addition (+) or multiplication (*)? What are the conditions for combining two numpy arrays ?"
   ]
  },
  {
   "cell_type": "markdown",
   "id": "750d06a4",
   "metadata": {},
   "source": [
    "Ans) It will simply add or multiply element to element at same position."
   ]
  },
  {
   "cell_type": "markdown",
   "id": "483956db",
   "metadata": {},
   "source": [
    "# Q10. What is the best way to use a Boolean array to mask another array ?"
   ]
  },
  {
   "cell_type": "markdown",
   "id": "a549796b",
   "metadata": {},
   "source": [
    "Ans) The best way to use a Boolean array to mask another array is by Using masked_where of numpy package"
   ]
  },
  {
   "cell_type": "markdown",
   "id": "ce83d673",
   "metadata": {},
   "source": [
    "# Q11. What are three different ways to get the standard deviation of a wide collection of data using both standard Python and its packages? Sort the three of them by how quickly they execute ?"
   ]
  },
  {
   "cell_type": "markdown",
   "id": "b30acb44",
   "metadata": {},
   "source": [
    "Ans) std() from Numpy package, stdev() from Statistics package and the third way is to write our own code as done with the help of math package below:"
   ]
  },
  {
   "cell_type": "code",
   "execution_count": 6,
   "id": "4052c4ed",
   "metadata": {},
   "outputs": [
    {
     "data": {
      "text/plain": [
       "'The standard deviation is 1.4142135623730951'"
      ]
     },
     "execution_count": 6,
     "metadata": {},
     "output_type": "execute_result"
    }
   ],
   "source": [
    "#procedure to calculate mean , variance and standard deviation of numpy dataset\n",
    "import numpy as np\n",
    "\n",
    "def mean(dataset):\n",
    "    n=len(dataset)\n",
    "    mean=sum(dataset)/n\n",
    "    return mean\n",
    "\n",
    "def variance(dataset):\n",
    "    n=len(dataset)\n",
    "    mean=sum(dataset)/n\n",
    "    deviation=[(i-mean)**2 for i in dataset]\n",
    "    variance=sum(deviation)/n\n",
    "    return variance\n",
    "\n",
    "def stdDev(dataset):\n",
    "    import math\n",
    "    v=variance(dataset)\n",
    "    std=math.sqrt(v)\n",
    "    return f\"The standard deviation is {std}\"\n",
    "\n",
    "sample_data=np.array([1,2,3,4,5])\n",
    "stdDev(sample_data)\n"
   ]
  },
  {
   "cell_type": "markdown",
   "id": "8c6a6ef5",
   "metadata": {},
   "source": [
    "# Q12. What is the dimensionality of a Boolean mask-generated array ?"
   ]
  },
  {
   "cell_type": "markdown",
   "id": "6e0a549d",
   "metadata": {},
   "source": [
    "Ans) It will have same dimensionality as input array. Masking comes up when we want to extract, modify, count, or otherwise manipulate values in an array based on some criterion: for example, we might wish to count all values greater than a certain value, or perhaps remove all outliers that are above some threshold. In NumPy, Boolean masking is often the most efficient way to accomplish these types of tasks."
   ]
  }
 ],
 "metadata": {
  "kernelspec": {
   "display_name": "Python 3 (ipykernel)",
   "language": "python",
   "name": "python3"
  },
  "language_info": {
   "codemirror_mode": {
    "name": "ipython",
    "version": 3
   },
   "file_extension": ".py",
   "mimetype": "text/x-python",
   "name": "python",
   "nbconvert_exporter": "python",
   "pygments_lexer": "ipython3",
   "version": "3.10.2"
  }
 },
 "nbformat": 4,
 "nbformat_minor": 5
}
