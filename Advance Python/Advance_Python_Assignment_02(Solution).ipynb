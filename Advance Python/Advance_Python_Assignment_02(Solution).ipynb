{
 "cells": [
  {
   "cell_type": "markdown",
   "id": "d65ec281",
   "metadata": {},
   "source": [
    "# Q1. What is the relationship between classes and modules?"
   ]
  },
  {
   "cell_type": "markdown",
   "id": "d5e94cb6",
   "metadata": {},
   "source": [
    "Ans)A Python class is like an outline/blueprint/mold for creating a new object. An object is anything that we wish to manipulate or change while working through the code. Every time a class object is instantiated, which is when we declare a variable, a new object is initiated from scratch.\n",
    "\n",
    "Whereas in Python, Modules are simply files with the . py extension containing Python code that can be imported inside another Python Program. In simple terms, we can consider a module to be the same as a code library or a file that contains a set of functions/Classes that we want to include in your application."
   ]
  },
  {
   "cell_type": "markdown",
   "id": "87ba18b1",
   "metadata": {},
   "source": [
    "# Q2. How do you make instances and classes?"
   ]
  },
  {
   "cell_type": "code",
   "execution_count": 8,
   "id": "49794e78",
   "metadata": {},
   "outputs": [],
   "source": [
    "class StudentDetails:\n",
    "    def __init__(self,name,course,ID):\n",
    "        self.name=name   #all this are the instances\n",
    "        self.course=course\n",
    "        self.ID=ID"
   ]
  },
  {
   "cell_type": "markdown",
   "id": "faf232e1",
   "metadata": {},
   "source": [
    "# Q3. Where and how should be class attributes created?"
   ]
  },
  {
   "cell_type": "code",
   "execution_count": 9,
   "id": "d25aac27",
   "metadata": {},
   "outputs": [],
   "source": [
    "class StudentDetails:\n",
    "    total=10;  # class attributes created\n",
    "    def __init__(self,name,course,ID):\n",
    "        self.name=name\n",
    "        self.course=course\n",
    "        self.ID=ID"
   ]
  },
  {
   "cell_type": "markdown",
   "id": "2dbd016d",
   "metadata": {},
   "source": [
    "# Q4. Where and how are instance attributes created?"
   ]
  },
  {
   "cell_type": "markdown",
   "id": "c46c6fd2",
   "metadata": {},
   "source": [
    "class StudentDetails:\n",
    "    def __init__(self,name,course,ID):\n",
    "        self.name=name   #all this are the instances\n",
    "        self.course=course\n",
    "        self.ID=ID\n",
    "        \n",
    "obj=StudentDetails(\"Deepak\",\"FSDS\",101) # obj is instance attributes created for class also known as object\n",
    "print(f\"The student details-->{obj.name},{obj.course},{obj.ID}\")"
   ]
  },
  {
   "cell_type": "markdown",
   "id": "7df61829",
   "metadata": {},
   "source": [
    "# Q5. What does the term \"self\" in a Python class mean?"
   ]
  },
  {
   "cell_type": "markdown",
   "id": "4bbcd8d2",
   "metadata": {},
   "source": [
    "Ans)self represents the instance of the class (it represents the object itself). By using the “self” keyword we can access the attributes and methods of the class with in the class in python. It binds the attributes with the given arguments."
   ]
  },
  {
   "cell_type": "code",
   "execution_count": 22,
   "id": "ed5d90ed",
   "metadata": {},
   "outputs": [
    {
     "name": "stdout",
     "output_type": "stream",
     "text": [
      "The student details-->Deepak,FSDS,101\n",
      "{'name': 'Deepak', 'course': 'FSDS', 'ID': 101}\n"
     ]
    }
   ],
   "source": [
    "class StudentDetails:\n",
    "    def __init__(self,name,course,ID):\n",
    "        self.name=name   #all this are the instances\n",
    "        self.course=course\n",
    "        self.ID=ID\n",
    "        \n",
    "obj=StudentDetails(\"Deepak\",\"FSDS\",101) # obj is instance attributes created for class also known as object\n",
    "print(f\"The student details-->{obj.name},{obj.course},{obj.ID}\")\n",
    "print(obj.__dict__)"
   ]
  },
  {
   "cell_type": "markdown",
   "id": "a24aa397",
   "metadata": {},
   "source": [
    "# Q6. How does a Python class handle operator overloading?"
   ]
  },
  {
   "cell_type": "markdown",
   "id": "2be2bff6",
   "metadata": {},
   "source": [
    "Ans)Ans: Python Classes handle operator overloading by using special methods called Magic methods. These special methods usually begin and end with __ (double underscore)\n",
    "Example: Magic methods for basic arithmetic operators are:+ = __add__(),- = __sub__(),* = __mul__(),/ = __div__()"
   ]
  },
  {
   "cell_type": "markdown",
   "id": "bbc338b1",
   "metadata": {},
   "source": [
    "# Q7. When do you consider allowing operator overloading of your classes?"
   ]
  },
  {
   "cell_type": "markdown",
   "id": "492a5a46",
   "metadata": {},
   "source": [
    "Ans)We can use the same operator with different ways in operator overloading"
   ]
  },
  {
   "cell_type": "code",
   "execution_count": 24,
   "id": "7fb5deb9",
   "metadata": {},
   "outputs": [
    {
     "name": "stdout",
     "output_type": "stream",
     "text": [
      "DeepakDeepakDeepakDeepakDeepak\n",
      "10\n",
      "5\n",
      "Deepak is a good boy\n"
     ]
    }
   ],
   "source": [
    "print(\"Deepak\"*5)#repeat the string\n",
    "print(2*5) # product of number\n",
    "print(2+3) # sum of number\n",
    "print(\"Deepak\"+\" is a good boy\") #concatenate of two or more string"
   ]
  },
  {
   "cell_type": "markdown",
   "id": "c934e6eb",
   "metadata": {},
   "source": [
    "# Q8. What is the most popular form of operator overloading?"
   ]
  },
  {
   "cell_type": "markdown",
   "id": "3bb519cc",
   "metadata": {},
   "source": [
    "Ans)The most popular form of operator overloading in python is by special methods called Magic methods. It usually begins and ends with double underscore __method name__."
   ]
  },
  {
   "cell_type": "code",
   "execution_count": 26,
   "id": "849469a4",
   "metadata": {},
   "outputs": [
    {
     "data": {
      "text/plain": [
       "20"
      ]
     },
     "execution_count": 26,
     "metadata": {},
     "output_type": "execute_result"
    }
   ],
   "source": [
    "num=11\n",
    "num.__add__(9) #magic methods"
   ]
  },
  {
   "cell_type": "markdown",
   "id": "07607298",
   "metadata": {},
   "source": [
    "# Q9. What are the two most important concepts to grasp in order to comprehend Python OOP code?"
   ]
  },
  {
   "cell_type": "markdown",
   "id": "df379c17",
   "metadata": {},
   "source": [
    "Ans)Classes and objects are the two most important concepts to grasp in order to comprehend python OOP code as more formally objects are entities that represent instances of general abstract concept called class."
   ]
  },
  {
   "cell_type": "code",
   "execution_count": null,
   "id": "82be923f",
   "metadata": {},
   "outputs": [],
   "source": []
  }
 ],
 "metadata": {
  "kernelspec": {
   "display_name": "Python 3 (ipykernel)",
   "language": "python",
   "name": "python3"
  },
  "language_info": {
   "codemirror_mode": {
    "name": "ipython",
    "version": 3
   },
   "file_extension": ".py",
   "mimetype": "text/x-python",
   "name": "python",
   "nbconvert_exporter": "python",
   "pygments_lexer": "ipython3",
   "version": "3.10.2"
  }
 },
 "nbformat": 4,
 "nbformat_minor": 5
}
