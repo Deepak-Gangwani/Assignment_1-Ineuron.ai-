{
 "cells": [
  {
   "cell_type": "markdown",
   "id": "bea97c29",
   "metadata": {},
   "source": [
    "# Q1. What are the new features added in Python 3.8 version?"
   ]
  },
  {
   "cell_type": "code",
   "execution_count": 4,
   "id": "6e8279eb",
   "metadata": {},
   "outputs": [
    {
     "name": "stdout",
     "output_type": "stream",
     "text": [
      "Enter A Hero-->batman\n",
      "Enter A Hero-->superman\n",
      "Enter A Hero-->spiderman\n",
      "Enter A Hero-->q\n",
      "['batman', 'superman', 'spiderman']\n"
     ]
    }
   ],
   "source": [
    "#1 without using walrus operator \n",
    "myheros=list()\n",
    "while True:\n",
    "    getinput=input(\"Enter A Hero-->\")\n",
    "    if getinput==\"q\":\n",
    "        break\n",
    "    myheros.append(getinput)    \n",
    "        \n",
    "print(myheros)    "
   ]
  },
  {
   "cell_type": "code",
   "execution_count": 5,
   "id": "ff105d9a",
   "metadata": {},
   "outputs": [
    {
     "name": "stdout",
     "output_type": "stream",
     "text": [
      "Enter A Superhero-->batman\n",
      "Enter A Superhero-->superman\n",
      "Enter A Superhero-->spiderman\n",
      "Enter A Superhero-->q\n",
      "['batman', 'superman', 'spiderman']\n"
     ]
    }
   ],
   "source": [
    "# using of walrus operator that is \":=\"\n",
    "myheros=list()\n",
    "while (getinput := input(\"Enter A Superhero-->\"))!=\"q\":\n",
    "    myheros.append(getinput)\n",
    "    \n",
    "print(myheros)    "
   ]
  },
  {
   "cell_type": "code",
   "execution_count": 1,
   "id": "fe80fdb5",
   "metadata": {},
   "outputs": [
    {
     "data": {
      "text/plain": [
       "'This is used to print string also'"
      ]
     },
     "execution_count": 1,
     "metadata": {},
     "output_type": "execute_result"
    }
   ],
   "source": [
    "#2 return and yield for generator\n",
    "def test():\n",
    "    return \"This return is used to print string also\"\n",
    "\n",
    "#calling the function\n",
    "test()"
   ]
  },
  {
   "cell_type": "code",
   "execution_count": 3,
   "id": "9602d743",
   "metadata": {},
   "outputs": [
    {
     "name": "stdout",
     "output_type": "stream",
     "text": [
      "0,1,4,9,16,"
     ]
    }
   ],
   "source": [
    "def square(n):\n",
    "    for i in range(n):\n",
    "        yield i**2\n",
    "        \n",
    "for i in square(5):  # we can call this function only through with thw help of loop\n",
    "    print(i,end=\",\")"
   ]
  },
  {
   "cell_type": "code",
   "execution_count": 8,
   "id": "7f77fc3b",
   "metadata": {},
   "outputs": [
    {
     "name": "stdout",
     "output_type": "stream",
     "text": [
      "Role:\"Developer\"\n",
      "Name:\"Deepak\"\n"
     ]
    }
   ],
   "source": [
    "#3 Reversed support for dict\n",
    "\n",
    "d = {\"Name\":\"Deepak\",\"Role\":\"Developer\"} # makes the dictionary 1st item into second\n",
    "for i in reversed(d):\n",
    "    print(f'{i}:\"{d[i]}\"')"
   ]
  },
  {
   "cell_type": "code",
   "execution_count": 10,
   "id": "c4af677e",
   "metadata": {},
   "outputs": [
    {
     "name": "stdout",
     "output_type": "stream",
     "text": [
      "Enter 1st number-->1\n",
      "Enter 2nd number-->2\n",
      "The sum of 1st and 2nd sum='12'\n"
     ]
    }
   ],
   "source": [
    "#4 using = operator in F-strings\n",
    "a=input(\"Enter 1st number-->\")\n",
    "b=input(\"Enter 2nd number-->\")\n",
    "sum=a+b\n",
    "print(f\"The sum of 1st and 2nd {sum=}\")"
   ]
  },
  {
   "cell_type": "code",
   "execution_count": 14,
   "id": "9e6cad27",
   "metadata": {},
   "outputs": [
    {
     "name": "stderr",
     "output_type": "stream",
     "text": [
      "<>:1: SyntaxWarning: 'tuple' object is not callable; perhaps you missed a comma?\n",
      "<>:1: SyntaxWarning: 'tuple' object is not callable; perhaps you missed a comma?\n",
      "C:\\Users\\Owner\\AppData\\Local\\Temp\\ipykernel_4896\\3159695254.py:1: SyntaxWarning: 'tuple' object is not callable; perhaps you missed a comma?\n",
      "  l=[(1,2) (3,4)]\n",
      "C:\\Users\\Owner\\AppData\\Local\\Temp\\ipykernel_4896\\3159695254.py:1: SyntaxWarning: 'tuple' object is not callable; perhaps you missed a comma?\n",
      "  l=[(1,2) (3,4)]\n",
      "C:\\Users\\Owner\\AppData\\Local\\Temp\\ipykernel_4896\\3159695254.py:1: SyntaxWarning: 'tuple' object is not callable; perhaps you missed a comma?\n",
      "  l=[(1,2) (3,4)]\n"
     ]
    },
    {
     "ename": "TypeError",
     "evalue": "'tuple' object is not callable",
     "output_type": "error",
     "traceback": [
      "\u001b[1;31m---------------------------------------------------------------------------\u001b[0m",
      "\u001b[1;31mTypeError\u001b[0m                                 Traceback (most recent call last)",
      "Input \u001b[1;32mIn [14]\u001b[0m, in \u001b[0;36m<cell line: 1>\u001b[1;34m()\u001b[0m\n\u001b[1;32m----> 1\u001b[0m l\u001b[38;5;241m=\u001b[39m[\u001b[43m(\u001b[49m\u001b[38;5;241;43m1\u001b[39;49m\u001b[43m,\u001b[49m\u001b[38;5;241;43m2\u001b[39;49m\u001b[43m)\u001b[49m\u001b[43m \u001b[49m\u001b[43m(\u001b[49m\u001b[38;5;241;43m3\u001b[39;49m\u001b[43m,\u001b[49m\u001b[38;5;241;43m4\u001b[39;49m\u001b[43m)\u001b[49m]\n",
      "\u001b[1;31mTypeError\u001b[0m: 'tuple' object is not callable"
     ]
    }
   ],
   "source": [
    "#5 Informative syntax instead of syntax error while missing comma.\n",
    "l=[(1,2) (3,4)]  # l=[(1,2),(3,4)]"
   ]
  },
  {
   "cell_type": "code",
   "execution_count": 16,
   "id": "d0a5af4d",
   "metadata": {},
   "outputs": [],
   "source": [
    "#Informative syntax instead of syntax error while missing comma.\n",
    "l=[(1,2),(3,4)]  "
   ]
  },
  {
   "cell_type": "markdown",
   "id": "643fa78a",
   "metadata": {},
   "source": [
    "# Q2. What is monkey patching in Python?"
   ]
  },
  {
   "cell_type": "markdown",
   "id": "733aeb36",
   "metadata": {},
   "source": [
    "Ans) In Python, the term monkey patch refers to making dynamic (or run-time) modifications to a class or module. In Python, we can actually change the behavior of code at run-time."
   ]
  },
  {
   "cell_type": "code",
   "execution_count": 14,
   "id": "2653235d",
   "metadata": {},
   "outputs": [
    {
     "name": "stdout",
     "output_type": "stream",
     "text": [
      "-----Before Monkey Patching------\n",
      "Some code to fetch data from databases\n",
      "Some code to fetch data from databases\n",
      "\n",
      "------After Monkey Patching-------\n",
      "Some code to fetch data from test data\n",
      "Some code to fetch data from test data\n"
     ]
    }
   ],
   "source": [
    "class Test:\n",
    "    def __init__(self,x):\n",
    "        self.a=x\n",
    "    def get_data(self):\n",
    "        print(\"Some code to fetch data from databases\")\n",
    "    def f1(self):\n",
    "        self.get_data()\n",
    "    def f2(self):\n",
    "        self.get_data()\n",
    "\n",
    "print(\"-----Before Monkey Patching------\")\n",
    "t1=Test(5)\n",
    "t1.f1()\n",
    "t1.f2()\n",
    "\n",
    "def new_get_data(self):\n",
    "    print(\"Some code to fetch data from test data\")\n",
    "Test.get_data=new_get_data  # we are changing the behaviour of object during runtime \n",
    "print(\"\\n------After Monkey Patching-------\")\n",
    "t1.f1()\n",
    "t1.f2()"
   ]
  },
  {
   "cell_type": "markdown",
   "id": "f98ddf9a",
   "metadata": {},
   "source": [
    "# Q3. What is the difference between a shallow copy and deep copy?"
   ]
  },
  {
   "cell_type": "code",
   "execution_count": 8,
   "id": "77e7b023",
   "metadata": {},
   "outputs": [
    {
     "name": "stdout",
     "output_type": "stream",
     "text": [
      "[1, 2, 3, 4, 5]\n",
      "\n",
      "\n",
      "The address of l1-->1613078742720\n",
      "\n",
      "\n",
      "The address of l2->1613078742720\n"
     ]
    }
   ],
   "source": [
    "# shallow copy representation where the copied variable address is same with original one\n",
    "l1=[1,2,3,4,5]\n",
    "l2=l1\n",
    "print(l2)\n",
    "print(\"\\n\")\n",
    "print(f\"The address of l1-->{id(l1)}\")\n",
    "print(\"\\n\")\n",
    "print(f\"The address of l2->{id(l2)}\")"
   ]
  },
  {
   "cell_type": "code",
   "execution_count": 11,
   "id": "f2728e74",
   "metadata": {},
   "outputs": [
    {
     "name": "stdout",
     "output_type": "stream",
     "text": [
      "[1, 2, 3, 4, 5]\n",
      "\n",
      "\n",
      "The address of l1-->1613117128896\n",
      "\n",
      "\n",
      "The address of l2->1613117004416\n"
     ]
    }
   ],
   "source": [
    "# deep copy representation where the copied variable address is different with original one\n",
    "l1=[1,2,3,4,5]\n",
    "l2=l1.copy()\n",
    "print(l2)\n",
    "print(\"\\n\")\n",
    "print(f\"The address of l1-->{id(l1)}\")\n",
    "print(\"\\n\")\n",
    "print(f\"The address of l2->{id(l2)}\")"
   ]
  },
  {
   "cell_type": "markdown",
   "id": "e4e7ac93",
   "metadata": {},
   "source": [
    "# Q4. What is the maximum possible length of an identifier?"
   ]
  },
  {
   "cell_type": "markdown",
   "id": "b13b8831",
   "metadata": {},
   "source": [
    "Ans) In Python, the highest possible length of an identifier is 79 characters. Python is a high level programming language. It’s also a complex form and a collector of waste.\n",
    "\n",
    "1)Python, particularly when combined with identifiers, is case-sensitive.\n",
    "\n",
    "2)When writing or using identifiers in Python, it has a maximum of 79 characters.\n",
    "\n",
    "3)Unlikely, Python gives the identifiers unlimited length.However, the layout of PEP-8 prevents the user from breaking the rules and includes a 79-character limit."
   ]
  },
  {
   "cell_type": "markdown",
   "id": "5b29678a",
   "metadata": {},
   "source": [
    "# Q5. What is generator comprehension?"
   ]
  },
  {
   "cell_type": "markdown",
   "id": "06606be1",
   "metadata": {},
   "source": [
    "Ans) A generator comprehension is a single-line specification for defining a generator in Python.\n",
    "\n",
    "It is absolutely essential to learn this syntax in order to write simple and readable code.\n",
    "\n",
    "Generator comprehension uses round bracket unlike square bracket in list comprehension.\n",
    "\n",
    "The generator yields one item at a time and generates item only when in demand. Whereas, in a list comprehension, Python reserves memory for the whole list. Thus we can say that the generator expressions are memory efficient than the lists."
   ]
  },
  {
   "cell_type": "code",
   "execution_count": 3,
   "id": "407a7b49",
   "metadata": {},
   "outputs": [
    {
     "name": "stdout",
     "output_type": "stream",
     "text": [
      "0,1,4,9,16,25,36,49,64,81,100,"
     ]
    }
   ],
   "source": [
    "# representation of generator comprehension\n",
    "square=(i**2 for i in range(11)) # the generator comprehension is represented with parenthesis bracket\n",
    "for num in square:\n",
    "    print(num,end=\",\")"
   ]
  }
 ],
 "metadata": {
  "kernelspec": {
   "display_name": "Python 3 (ipykernel)",
   "language": "python",
   "name": "python3"
  },
  "language_info": {
   "codemirror_mode": {
    "name": "ipython",
    "version": 3
   },
   "file_extension": ".py",
   "mimetype": "text/x-python",
   "name": "python",
   "nbconvert_exporter": "python",
   "pygments_lexer": "ipython3",
   "version": "3.10.2"
  }
 },
 "nbformat": 4,
 "nbformat_minor": 5
}
