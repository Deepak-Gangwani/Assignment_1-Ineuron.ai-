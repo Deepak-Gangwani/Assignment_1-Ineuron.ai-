{
 "cells": [
  {
   "cell_type": "markdown",
   "id": "6482a611",
   "metadata": {},
   "source": [
    "# Q1. Define the relationship between a class and its instances. Is it a one-to-one or a one-to-many partnership, for example?"
   ]
  },
  {
   "cell_type": "markdown",
   "id": "c682ddaa",
   "metadata": {},
   "source": [
    "Ans) Relationship between a class and its instances is a one to many partnership. Object is a physical entity or real word entity. An object occupies space in memory. Example:-banana,chair,pen etc are objects. Class is a logical entity which does not exist in real world. Or we can say that class is a blueprint to create objects of similiar types. A class does not take space in memory. Examples:-fruits,furniture,vehicles etc."
   ]
  },
  {
   "cell_type": "markdown",
   "id": "213b5b82",
   "metadata": {},
   "source": [
    "# Q2. What kind of data is held only in an instance?"
   ]
  },
  {
   "cell_type": "markdown",
   "id": "e6acac2e",
   "metadata": {},
   "source": [
    "Ans)Instance objects contains the Instance variables which are specific to that specific Instance object."
   ]
  },
  {
   "cell_type": "markdown",
   "id": "3ac18afd",
   "metadata": {},
   "source": [
    "# Q3. What kind of knowledge is stored in a class?"
   ]
  },
  {
   "cell_type": "markdown",
   "id": "83374d34",
   "metadata": {},
   "source": [
    "Ans) Class creates a user-defined data structure, which holds its own data members and member functions, which can be accessed and used by creating an instance of that class. A class is like a blueprint for an object. Class is a logical entity which does not exist in real world Or we can say that class is a blueprint to create objects of similiar types. A class does not take space in memory. Examples:-fruits,furniture,vehicles etc."
   ]
  },
  {
   "cell_type": "markdown",
   "id": "4dfbc6ca",
   "metadata": {},
   "source": [
    "# Q4. What exactly is a method, and how is it different from a regular function?"
   ]
  },
  {
   "cell_type": "markdown",
   "id": "0e417088",
   "metadata": {},
   "source": [
    "Ans) The methods with a class can be used to access the instance variables of its instance. So,the object's state can be modified by its method. Function can't access the attributes of an instance of a class or can't modify the state of the object. A function is independent, whereas a method is a function linked with an object. Explicit data is passed on to a function, whereas a method completely passes the object on which it was called in the program. A method is Object-oriented programming while a function has standalone functionality"
   ]
  },
  {
   "cell_type": "markdown",
   "id": "f2163da2",
   "metadata": {},
   "source": [
    "# Q5. Is inheritance supported in Python, and if so, what is the syntax?"
   ]
  },
  {
   "cell_type": "code",
   "execution_count": 19,
   "id": "b7c7fef9",
   "metadata": {},
   "outputs": [
    {
     "name": "stdout",
     "output_type": "stream",
     "text": [
      "3\n",
      "The child class inherits the properties of parent class\n"
     ]
    }
   ],
   "source": [
    "class Parent:\n",
    "    def __init__(self,n1,n2):\n",
    "        self.n1=n1\n",
    "        self.n2=n2\n",
    "    def sum(self):\n",
    "        return self.n1+self.n2\n",
    "    def __str__(self):\n",
    "        return \"The child class inherits the properties of parent class\"\n",
    "        \n",
    "class Child(Parent): # this child class inherits the properties of parent class\n",
    "    pass\n",
    "\n",
    "obj=Child(1,2) #The child class is called through instance\n",
    "print(obj.sum()) # Using parent class sum function in child class\n",
    "print(obj) # Using parent class overloading function in child class\n",
    "        "
   ]
  },
  {
   "cell_type": "markdown",
   "id": "a96888cf",
   "metadata": {},
   "source": [
    "# Q6. How much encapsulation (making instance or class variables private) does Python support?"
   ]
  },
  {
   "cell_type": "markdown",
   "id": "7fbf414b",
   "metadata": {},
   "source": [
    "Ans) Encapsulation describes the idea of wrapping data and the methods that work on data within one unit. This puts restrictions on accessing variables and methods directly and can prevent the accidental modification of data. To prevent accidental change, an objects variable can only be changed by an objects method."
   ]
  },
  {
   "cell_type": "markdown",
   "id": "6afb707e",
   "metadata": {},
   "source": [
    "# Q7. How do you distinguish between a class variable and an instance variable?"
   ]
  },
  {
   "cell_type": "markdown",
   "id": "9096e9cc",
   "metadata": {},
   "source": [
    "Ans) The Class Attribute is available to all the instance objects of that class whereas Instance Attributes are accessible only to the object or Instance of that class."
   ]
  },
  {
   "cell_type": "markdown",
   "id": "0e8abdba",
   "metadata": {},
   "source": [
    "# Q8. When, if ever, can self be included in a class's method definitions?"
   ]
  },
  {
   "cell_type": "markdown",
   "id": "245aa966",
   "metadata": {},
   "source": [
    "Ans) Yes, self can be included in class method definitions to access the instance variables inside class methods."
   ]
  },
  {
   "cell_type": "markdown",
   "id": "1c91f90c",
   "metadata": {},
   "source": [
    "# Q9. What is the difference between the __add__ and the __radd__ methods ?"
   ]
  },
  {
   "cell_type": "code",
   "execution_count": 28,
   "id": "d5332d44",
   "metadata": {},
   "outputs": [
    {
     "name": "stdout",
     "output_type": "stream",
     "text": [
      " DEEPAK GANGWANI\n",
      "GANGWANI DEEPAK \n"
     ]
    }
   ],
   "source": [
    "class Upper:\n",
    "    def __init__(self,initial):\n",
    "        self.data=initial.upper()\n",
    "        \n",
    "    def __add__(self,other):\n",
    "        return Upper(self.data+other)\n",
    "    \n",
    "    def __radd__(self,other):\n",
    "        return Upper(other+self.data)\n",
    "    \n",
    "s=Upper(\" Deepak \")\n",
    "s1=s+\"Gangwani\"\n",
    "s2=\"Gangwani\"+s\n",
    "\n",
    "print(s1.data)\n",
    "print(s2.data)"
   ]
  },
  {
   "cell_type": "markdown",
   "id": "c7e79068",
   "metadata": {},
   "source": [
    "# Q10. When is it necessary to use a reflection method? When do you not need it, even though you support the operation in question?"
   ]
  },
  {
   "cell_type": "markdown",
   "id": "03720efb",
   "metadata": {},
   "source": [
    "Ans) Reflection refers to the ability for code to be able to examine attributes about objects that might be passed as parameters to a function. For example, if we write type(obj) then Python will return an object which represents the type of obj. Using reflection, we can write one recursive reverse function that will work for strings, lists, and any other sequence that supports slicing and concatenation. If an obj is a reference to a string, then Python will return the str type object. Further, if we write str() we get a string which is the empty string. In other words, writing str() is the same thing as writing “”. Likewise, writing list() is the same thing as writing []."
   ]
  },
  {
   "cell_type": "markdown",
   "id": "f8aca882",
   "metadata": {},
   "source": [
    "# Q11. What is the __iadd__ method called?"
   ]
  },
  {
   "cell_type": "markdown",
   "id": "22b6e01e",
   "metadata": {},
   "source": [
    "Ans) __iadd__ method is called when we use implementation like a+=b which is a.__iadd__(b)"
   ]
  },
  {
   "cell_type": "markdown",
   "id": "84a75c8a",
   "metadata": {},
   "source": [
    "# Q12. Is the _ _init_ _ method inherited by subclasses? What do you do if you need to customize its behavior within a subclass ?"
   ]
  },
  {
   "cell_type": "markdown",
   "id": "dd97f976",
   "metadata": {},
   "source": [
    "Ans) Yes, __init__ method will be inherited by subclasses. If we want to customize its behaviour within a subclass, we can use super() method."
   ]
  }
 ],
 "metadata": {
  "kernelspec": {
   "display_name": "Python 3 (ipykernel)",
   "language": "python",
   "name": "python3"
  },
  "language_info": {
   "codemirror_mode": {
    "name": "ipython",
    "version": 3
   },
   "file_extension": ".py",
   "mimetype": "text/x-python",
   "name": "python",
   "nbconvert_exporter": "python",
   "pygments_lexer": "ipython3",
   "version": "3.10.2"
  }
 },
 "nbformat": 4,
 "nbformat_minor": 5
}
