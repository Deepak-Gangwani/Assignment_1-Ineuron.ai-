{
 "cells": [
  {
   "cell_type": "markdown",
   "id": "dc3a1356",
   "metadata": {},
   "source": [
    "# Q1. What is the purpose of Python's OOP?"
   ]
  },
  {
   "cell_type": "markdown",
   "id": "4ecdff39",
   "metadata": {},
   "source": [
    "Ans)\n",
    "\n",
    "It helps to divide our over all program into different small segments and thus making problem solving easy through the use of objects.\n",
    "\n",
    "Helps in easy maintenance and modification of existing program.\n",
    "\n",
    "Multiple instances of an object can be made and explored."
   ]
  },
  {
   "cell_type": "markdown",
   "id": "b3bc7c61",
   "metadata": {},
   "source": [
    "# Q2. Where does an inheritance search look for an attribute?"
   ]
  },
  {
   "cell_type": "markdown",
   "id": "d7f81cc8",
   "metadata": {},
   "source": [
    "Ans)Python searches for an attribute in an upward tree of attributes. Tt first searches for the attribute in its instance and then looks in the class it is generated from, to all super classes listed in its class header"
   ]
  },
  {
   "cell_type": "markdown",
   "id": "e6708c50",
   "metadata": {},
   "source": [
    "# Q3. How do you distinguish between a class object and an instance object?"
   ]
  },
  {
   "cell_type": "markdown",
   "id": "bfa0a02a",
   "metadata": {},
   "source": [
    "Ans)The differences between a class object and an instance object are:\n",
    "\n",
    "1)Class is a template for creating objects whereas object is an instance of class\n",
    "\n",
    "2)Seperate memory is allocated for each object whenever an object is created. but for a class this doesnot happens.\n",
    "\n",
    "3)A Class is created once. Many objects are created using a class.\n",
    "\n",
    "4)As Classes have no allocated memory. they can't be manipulated. but objects can be manipulated."
   ]
  },
  {
   "cell_type": "markdown",
   "id": "90bc9a4c",
   "metadata": {},
   "source": [
    "# Q4. What makes the first argument in a class’s method function special?"
   ]
  },
  {
   "cell_type": "markdown",
   "id": "285c18ab",
   "metadata": {},
   "source": [
    "Ans) Python Classes usually have three types of methods which are:\n",
    "\n",
    "Instance Methods (object level methods)\n",
    "\n",
    "Class Methods (class level methods)\n",
    "\n",
    "Static Methods (general utility methods)"
   ]
  },
  {
   "cell_type": "markdown",
   "id": "f63dfba7",
   "metadata": {},
   "source": [
    "# Q5. What is the purpose of the init method?"
   ]
  },
  {
   "cell_type": "markdown",
   "id": "ac378e19",
   "metadata": {},
   "source": [
    "Ans) __init__ is a reseved method in python classes. It serves the role of a constructor in object oriented terminology. This method is called when an object is created from a class and it allows the class to initialize the attributes of the class"
   ]
  },
  {
   "cell_type": "markdown",
   "id": "2a98bf85",
   "metadata": {},
   "source": [
    "# Q6. What is the process for creating a class instance?"
   ]
  },
  {
   "cell_type": "markdown",
   "id": "e55b6ce6",
   "metadata": {},
   "source": [
    "Ans)To create a class instance, we need to call the class by its name and pass the arguments to the class, which its init method accepts."
   ]
  },
  {
   "cell_type": "markdown",
   "id": "314ffd20",
   "metadata": {},
   "source": [
    "# Q7. What is the process for creating a class?"
   ]
  },
  {
   "cell_type": "markdown",
   "id": "ee60b8d2",
   "metadata": {},
   "source": [
    "Ans)class keyword is used to created a class in python. The syntax to create a class in python is class classname:"
   ]
  },
  {
   "cell_type": "markdown",
   "id": "110e8725",
   "metadata": {},
   "source": [
    "# Q8. How would you define the superclasses of a class?"
   ]
  },
  {
   "cell_type": "markdown",
   "id": "cede6070",
   "metadata": {},
   "source": [
    "Ans) Superclass/Parent class is given as a arugment to the child class\n",
    "\n",
    "Example: class toyota(car): Here child class toyota inherits attributes and methods/functions from Superclass/Parent car"
   ]
  }
 ],
 "metadata": {
  "kernelspec": {
   "display_name": "Python 3 (ipykernel)",
   "language": "python",
   "name": "python3"
  },
  "language_info": {
   "codemirror_mode": {
    "name": "ipython",
    "version": 3
   },
   "file_extension": ".py",
   "mimetype": "text/x-python",
   "name": "python",
   "nbconvert_exporter": "python",
   "pygments_lexer": "ipython3",
   "version": "3.10.2"
  }
 },
 "nbformat": 4,
 "nbformat_minor": 5
}
