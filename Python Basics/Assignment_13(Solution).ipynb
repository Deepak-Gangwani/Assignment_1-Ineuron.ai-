{
 "cells": [
  {
   "cell_type": "markdown",
   "id": "140be048",
   "metadata": {},
   "source": [
    "# Q1. What advantages do Excel spreadsheets have over CSV spreadsheets?"
   ]
  },
  {
   "cell_type": "markdown",
   "id": "bfa5c0f0",
   "metadata": {},
   "source": [
    "Ans)1.An Excel not only stores data but can also do operations on the data using macros, formulas etc.\n",
    "2.CSV files are plain-text files, Does not contain formatting, formulas, macros, etc. It is also known as flat files"
   ]
  },
  {
   "cell_type": "markdown",
   "id": "cdcea31c",
   "metadata": {},
   "source": [
    "# Q2.What do you pass to csv.reader() and csv.writer() to create reader and writer objects?"
   ]
  },
  {
   "cell_type": "code",
   "execution_count": null,
   "id": "145afd3d",
   "metadata": {},
   "outputs": [],
   "source": [
    "import csv\n",
    "with open(\"text.csv\",\"r\") as file:\n",
    "    csv_file=csv.reader(file,delimeter=\",\")\n",
    "    for i in csv_file:\n",
    "        print(i)"
   ]
  },
  {
   "cell_type": "markdown",
   "id": "edcfd522",
   "metadata": {},
   "source": [
    "# Q3. What modes do File objects for reader and writer objects need to be opened in?"
   ]
  },
  {
   "cell_type": "markdown",
   "id": "7426dd26",
   "metadata": {},
   "source": [
    "Ans)For csv.reader(iterable_file_object), the file objects needed to be opened in read mode mode='r'\n",
    "\n",
    "Whereas for csv.writer(iterable_file_object) the file objects needed to be opened in write mode mode='w'"
   ]
  },
  {
   "cell_type": "markdown",
   "id": "c141bff6",
   "metadata": {},
   "source": [
    "# Q4. What method takes a list argument and writes it to a CSV file?"
   ]
  },
  {
   "cell_type": "code",
   "execution_count": null,
   "id": "0b5ca3ce",
   "metadata": {},
   "outputs": [],
   "source": [
    "import csv\n",
    "heading=[Name,Class,Roll no.,Age]#column headings\n",
    "rows=[\n",
    "      [A,FSDS,101,21], # stroring data in rows of csv file\n",
    "      [B,ML,205,18]\n",
    "     ]\n",
    "with open(\"student_file.csv\",\"w\") as csvfile:\n",
    "    write=csv.writer(csvfile)# creating an object\n",
    "    write.writerow(heading)# writing the headings\n",
    "    write.writerows(rows)# writing the rows"
   ]
  },
  {
   "cell_type": "markdown",
   "id": "9312a617",
   "metadata": {},
   "source": [
    "# Q5. What do the keyword arguments delimiter and line terminator do?"
   ]
  },
  {
   "cell_type": "markdown",
   "id": "941002c4",
   "metadata": {},
   "source": [
    "# Name,Class,Roll no.\n",
    "Here ',' is Delimiter. We can use any Character as per our needs if required. Similarly Line Terminator comes at end of line by default it is newline and can be changed accourding to Requirement."
   ]
  },
  {
   "cell_type": "markdown",
   "id": "14aecaa4",
   "metadata": {},
   "source": [
    "# Q6. What function takes a string of JSON data and returns a Python data structure?"
   ]
  },
  {
   "cell_type": "code",
   "execution_count": 6,
   "id": "6a814075",
   "metadata": {},
   "outputs": [
    {
     "name": "stdout",
     "output_type": "stream",
     "text": [
      "Takes a string of JSON data-->{\n",
      "      \"Name\":\"Deepak\",\n",
      "      \"Class\":\"FSDS\",\n",
      "      \"Roll no.\":101\n",
      "}\n",
      "<class 'str'>\n",
      "\n",
      "This returns a python data structure-->{'Name': 'Deepak', 'Class': 'FSDS', 'Roll no.': 101}\n",
      "<class 'dict'>\n"
     ]
    }
   ],
   "source": [
    "import json\n",
    "\n",
    "data='''{\n",
    "      \"Name\":\"Deepak\",\n",
    "      \"Class\":\"FSDS\",\n",
    "      \"Roll no.\":101\n",
    "}'''\n",
    "\n",
    "print(f\"Takes a string of JSON data-->{data}\")\n",
    "print(type(data))\n",
    "\n",
    "# converting into string of json data into python data structure with the help of loads() function\n",
    "new_data=json.loads(data)\n",
    "print(f\"\\nThis returns a python data structure-->{new_data}\")\n",
    "print(type(new_data))"
   ]
  },
  {
   "cell_type": "markdown",
   "id": "41ef8edb",
   "metadata": {},
   "source": [
    "# Q7. What function takes a Python data structure and returns a string of JSON data?"
   ]
  },
  {
   "cell_type": "code",
   "execution_count": 8,
   "id": "57cf9a49",
   "metadata": {},
   "outputs": [
    {
     "name": "stdout",
     "output_type": "stream",
     "text": [
      "Takes a dict of python data structure-->{'Name': 'Deepak', 'Class': 'FSDS', 'Roll no.': 101}\n",
      "<class 'dict'>\n",
      "\n",
      "This returns a JSON data structure in string-->{\n",
      "      \"Name\": \"Deepak\",\n",
      "      \"Class\": \"FSDS\",\n",
      "      \"Roll no.\": 101\n",
      "}\n",
      "<class 'str'>\n"
     ]
    }
   ],
   "source": [
    "import json\n",
    "\n",
    "data={'Name': 'Deepak', 'Class': 'FSDS', 'Roll no.': 101}\n",
    "\n",
    "print(f\"Takes a dict of python data structure-->{data}\")\n",
    "print(type(data))\n",
    "\n",
    "# converting python data structure with the help of dumpss() function in json data string\n",
    "new_data=json.dumps(data,indent=6)\n",
    "print(f\"\\nThis returns a JSON data structure in string-->{new_data}\")\n",
    "print(type(new_data))"
   ]
  }
 ],
 "metadata": {
  "kernelspec": {
   "display_name": "Python 3 (ipykernel)",
   "language": "python",
   "name": "python3"
  },
  "language_info": {
   "codemirror_mode": {
    "name": "ipython",
    "version": 3
   },
   "file_extension": ".py",
   "mimetype": "text/x-python",
   "name": "python",
   "nbconvert_exporter": "python",
   "pygments_lexer": "ipython3",
   "version": "3.10.2"
  }
 },
 "nbformat": 4,
 "nbformat_minor": 5
}
