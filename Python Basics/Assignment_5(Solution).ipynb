{
 "cells": [
  {
   "cell_type": "markdown",
   "id": "b5cb44f4",
   "metadata": {},
   "source": [
    "# Q1.What does an empty dictionary's code look like?"
   ]
  },
  {
   "cell_type": "code",
   "execution_count": 2,
   "id": "6fbf05cf",
   "metadata": {},
   "outputs": [
    {
     "name": "stdout",
     "output_type": "stream",
     "text": [
      "<class 'dict'>\n"
     ]
    }
   ],
   "source": [
    "dict={}#empty dictionary\n",
    "print(type(dict))"
   ]
  },
  {
   "cell_type": "markdown",
   "id": "6411ee5b",
   "metadata": {},
   "source": [
    "# Q2.what is the value of dictionary value with key 'foo' and the value 42 ?"
   ]
  },
  {
   "cell_type": "code",
   "execution_count": 13,
   "id": "47a0143f",
   "metadata": {},
   "outputs": [
    {
     "name": "stdout",
     "output_type": "stream",
     "text": [
      "{'foo': 42}\n",
      "dict_keys(['foo'])\n",
      "dict_values([42])\n"
     ]
    }
   ],
   "source": [
    "dict={\"foo\":42,}\n",
    "print(dict)\n",
    "print(dict.keys())\n",
    "print(dict.values())"
   ]
  },
  {
   "cell_type": "markdown",
   "id": "eca6c1ee",
   "metadata": {},
   "source": [
    "# Q3.What is the most significant distinction between a dictionary and a list?"
   ]
  },
  {
   "cell_type": "markdown",
   "id": "a2517408",
   "metadata": {},
   "source": [
    "Answer)Dictionaries are represented by {} where as listed are represented by []. The Items stored in a dictionary are Unordered , while the items in a list are ordered."
   ]
  },
  {
   "cell_type": "markdown",
   "id": "14372e6b",
   "metadata": {},
   "source": [
    "# Q4.What happens if you try to access spam ['foo'] if spam is {'bar':100} ?"
   ]
  },
  {
   "cell_type": "code",
   "execution_count": 17,
   "id": "e21199db",
   "metadata": {},
   "outputs": [
    {
     "ename": "KeyError",
     "evalue": "'foo'",
     "output_type": "error",
     "traceback": [
      "\u001b[1;31m---------------------------------------------------------------------------\u001b[0m",
      "\u001b[1;31mKeyError\u001b[0m                                  Traceback (most recent call last)",
      "Input \u001b[1;32mIn [17]\u001b[0m, in \u001b[0;36m<cell line: 2>\u001b[1;34m()\u001b[0m\n\u001b[0;32m      1\u001b[0m spam\u001b[38;5;241m=\u001b[39m{\u001b[38;5;124m'\u001b[39m\u001b[38;5;124mbar\u001b[39m\u001b[38;5;124m'\u001b[39m:\u001b[38;5;241m100\u001b[39m}\n\u001b[1;32m----> 2\u001b[0m \u001b[43mspam\u001b[49m\u001b[43m[\u001b[49m\u001b[38;5;124;43m'\u001b[39;49m\u001b[38;5;124;43mfoo\u001b[39;49m\u001b[38;5;124;43m'\u001b[39;49m\u001b[43m]\u001b[49m\n",
      "\u001b[1;31mKeyError\u001b[0m: 'foo'"
     ]
    }
   ],
   "source": [
    "spam={'bar':100}\n",
    "spam['foo']"
   ]
  },
  {
   "cell_type": "markdown",
   "id": "087294e2",
   "metadata": {},
   "source": [
    "# Q5.if a dictionary is stored in spam,what is the difference between the expressions 'cat' in spam and 'cat' in spam.keys() ?"
   ]
  },
  {
   "cell_type": "markdown",
   "id": "ba9b6fa8",
   "metadata": {},
   "source": [
    "Answer)There is no difference . The operator checks whether a value exits as a key in the dictionary or not."
   ]
  },
  {
   "cell_type": "markdown",
   "id": "1b6bc90c",
   "metadata": {},
   "source": [
    "# Q6.if a dictionary is stored in spam,what is the difference between the expressions 'cat' in spam and 'cat' in spam.values() ?"
   ]
  },
  {
   "cell_type": "markdown",
   "id": "3467aaf3",
   "metadata": {},
   "source": [
    "Answer)'cat' in spam checks whether there is a 'cat' key in the dictionary, while 'cat' in spam.values() checks whether there is a value 'cat' for one of the keys in spam."
   ]
  },
  {
   "cell_type": "markdown",
   "id": "8cb522a4",
   "metadata": {},
   "source": [
    "# Q7.what is a shortcut for the following code ?\n",
    "if 'color' not in spam:\n",
    "    spam['color'] ='black'"
   ]
  },
  {
   "cell_type": "markdown",
   "id": "ef3dba1e",
   "metadata": {},
   "source": [
    "Answer)spam.setdefault('color','black')"
   ]
  },
  {
   "cell_type": "markdown",
   "id": "a630a279",
   "metadata": {},
   "source": [
    "# Q8.How do you 'pretty print' dictionary values using which modules and function ?"
   ]
  },
  {
   "cell_type": "code",
   "execution_count": 36,
   "id": "31166f8e",
   "metadata": {},
   "outputs": [
    {
     "name": "stdout",
     "output_type": "stream",
     "text": [
      "[{'name': 'deepak', 'class': 'FSDSB', 'Roll No.': 1}, {'name': 'karan', 'class': 'FSDSB', 'Roll No.': 2}, {'name': 'Arjun', 'class': 'FSDSB', 'Roll No.': 3}]\n",
      "____________________________________________________________________________________________________\n",
      "[{'Roll No.': 1, 'class': 'FSDSB', 'name': 'deepak'},\n",
      " {'Roll No.': 2, 'class': 'FSDSB', 'name': 'karan'},\n",
      " {'Roll No.': 3, 'class': 'FSDSB', 'name': 'Arjun'}]\n"
     ]
    }
   ],
   "source": [
    "d=[{\"name\":\"deepak\",\"class\":\"FSDSB\",\"Roll No.\":1},{\"name\":\"karan\",\"class\":\"FSDSB\",\"Roll No.\":2},{\"name\":\"Arjun\",\"class\":\"FSDSB\",\"Roll No.\":3}]\n",
    "print(d)\n",
    "\n",
    "print(\"_\"*100)\n",
    "\n",
    "#1 module\n",
    "import pprint\n",
    "pprint.pprint(d)\n"
   ]
  }
 ],
 "metadata": {
  "kernelspec": {
   "display_name": "Python 3 (ipykernel)",
   "language": "python",
   "name": "python3"
  },
  "language_info": {
   "codemirror_mode": {
    "name": "ipython",
    "version": 3
   },
   "file_extension": ".py",
   "mimetype": "text/x-python",
   "name": "python",
   "nbconvert_exporter": "python",
   "pygments_lexer": "ipython3",
   "version": "3.10.2"
  }
 },
 "nbformat": 4,
 "nbformat_minor": 5
}
