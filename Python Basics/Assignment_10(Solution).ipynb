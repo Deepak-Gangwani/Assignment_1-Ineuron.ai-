{
 "cells": [
  {
   "cell_type": "markdown",
   "id": "32ddcfd4",
   "metadata": {},
   "source": [
    "# Q1. How do you distinguish between shutil.copy() and shutil.copytree()?"
   ]
  },
  {
   "cell_type": "markdown",
   "id": "e39c1218",
   "metadata": {},
   "source": [
    "Ans)shutil.copy() method is used to copy the contents of a file from one file to another file/folder.whereas,\n",
    "shutil.copytree() function is used to copy the entire contents of a folder to other folder."
   ]
  },
  {
   "cell_type": "markdown",
   "id": "f2ea291b",
   "metadata": {},
   "source": [
    "# Q2. What function is used to rename files?"
   ]
  },
  {
   "cell_type": "markdown",
   "id": "c76c71de",
   "metadata": {},
   "source": [
    "Ans)os.rename() function is used to rename files or directories using a python program. this function takes two arguments src and dest. src represents the name file/directory which we want to rename, whereas dest represents the new name of the file/directory."
   ]
  },
  {
   "cell_type": "markdown",
   "id": "fdb9b0b0",
   "metadata": {},
   "source": [
    "# Q3. What is the difference between the delete functions in the send2trash and shutil modules?"
   ]
  },
  {
   "cell_type": "markdown",
   "id": "ddceb228",
   "metadata": {},
   "source": [
    "Ans) Shutil module provides a function called as shutil.rmtree() which deletes a directory and all of its contents.The problem with these functions is once a file is deleted. it will be lost permanently and if a file is deleted accidentally using these methods there is no way we can recover the deleted file."
   ]
  },
  {
   "cell_type": "markdown",
   "id": "1f37473b",
   "metadata": {},
   "source": [
    "Where as send2trash module provides a function called send2trash.send2trash() to delete a file/directory. These methods moves the files/directories to trash folder instead of permanently deleting them.it can be still recovered from the trash folder."
   ]
  },
  {
   "cell_type": "markdown",
   "id": "4a3d03b3",
   "metadata": {},
   "source": [
    "# Q4.ZipFile objects have a close() method just like File objects’ close() method. What ZipFile method is equivalent to File objects’ open() method?"
   ]
  },
  {
   "cell_type": "markdown",
   "id": "519b1a2c",
   "metadata": {},
   "source": [
    "Ans)ZipFile Module provides a method called as zipfile.ZipFile() to read and write to zipFiles. it takes arugments such as filename and mode etc zipfile.ZipFile('filename', mode = 'r')"
   ]
  },
  {
   "cell_type": "markdown",
   "id": "6cbb0719",
   "metadata": {},
   "source": [
    "# Q5.Create a programme that searches a folder tree for files with a certain file extension (such as .pdf or .jpg). Copy these files from whatever location they are in to a new folder"
   ]
  },
  {
   "cell_type": "code",
   "execution_count": null,
   "id": "a49117fc",
   "metadata": {},
   "outputs": [],
   "source": [
    "import os, shutil\n",
    "\n",
    "def selectiveCopy(folder, extensions, destFolder):\n",
    "    try:\n",
    "        folder = os.path.abspath(folder)\n",
    "        destFolder = os.path.abspath(destFolder)\n",
    "        print('Looking in', folder, 'for files with extensions of', ', '.join(extensions))\n",
    "        for foldername, subfolders, filenames in os.walk(folder):\n",
    "            for filename in filenames:\n",
    "                name, extension = os.path.splitext(filename)\n",
    "                if extension in extensions:\n",
    "                    fileAbsPath = foldername + os.path.sep + filename\n",
    "                    print('Coping', fileAbsPath, 'to', destFolder)\n",
    "                    shutil.copy(fileAbsPath, destFolder)\n",
    "    except Exception as e:\n",
    "        print(e)\n",
    "\n",
    "extensions = ['.php', '.jpg']\n",
    "folder = 'randomFolder'\n",
    "destFolder = 'selectiveFolder'\n",
    "#calling the function\n",
    "selectiveCopy(folder, extensions, destFolder)"
   ]
  }
 ],
 "metadata": {
  "kernelspec": {
   "display_name": "Python 3 (ipykernel)",
   "language": "python",
   "name": "python3"
  },
  "language_info": {
   "codemirror_mode": {
    "name": "ipython",
    "version": 3
   },
   "file_extension": ".py",
   "mimetype": "text/x-python",
   "name": "python",
   "nbconvert_exporter": "python",
   "pygments_lexer": "ipython3",
   "version": "3.10.2"
  }
 },
 "nbformat": 4,
 "nbformat_minor": 5
}
