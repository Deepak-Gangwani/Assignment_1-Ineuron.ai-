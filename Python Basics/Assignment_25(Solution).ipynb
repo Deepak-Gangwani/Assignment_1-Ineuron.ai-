{
 "cells": [
  {
   "cell_type": "markdown",
   "id": "eea81d4e",
   "metadata": {},
   "source": [
    "# Q1. What is the difference between enclosing a list comprehension in square brackets and parentheses?"
   ]
  },
  {
   "cell_type": "code",
   "execution_count": 5,
   "id": "4cc986ff",
   "metadata": {},
   "outputs": [
    {
     "name": "stdout",
     "output_type": "stream",
     "text": [
      "[0, 1, 2, 3, 4] <class 'list'>\n",
      "\n",
      "\n",
      "<generator object <genexpr> at 0x00000231BC492570> <class 'generator'>\n"
     ]
    }
   ],
   "source": [
    "# list comprehension using square brackets\n",
    "a=[i for i in range(5)]\n",
    "print(a,type(a))\n",
    "\n",
    "print(\"\\n\")\n",
    "\n",
    "# list comprehension using parentheses ()\n",
    "b=(i for i in range(5))\n",
    "print(b,type(b))"
   ]
  },
  {
   "cell_type": "markdown",
   "id": "66c92fb6",
   "metadata": {},
   "source": [
    "# Q2 What is the relationship between generators and iterators?"
   ]
  },
  {
   "cell_type": "code",
   "execution_count": 8,
   "id": "57ce97b3",
   "metadata": {},
   "outputs": [
    {
     "name": "stdout",
     "output_type": "stream",
     "text": [
      "1,2,3,4,"
     ]
    }
   ],
   "source": [
    "#iterator\n",
    "l=[1,2,3,4]\n",
    "iterable=iter(l)\n",
    "for i in iterable:\n",
    "    print(i,end=\",\")"
   ]
  },
  {
   "cell_type": "code",
   "execution_count": 11,
   "id": "50e4c626",
   "metadata": {},
   "outputs": [
    {
     "name": "stdout",
     "output_type": "stream",
     "text": [
      "Enter the range of square:-4\n",
      "0,1,4,9,"
     ]
    }
   ],
   "source": [
    "#Generator\n",
    "def square(n):\n",
    "    for i in range(n):\n",
    "        yield i**2\n",
    "        \n",
    "n=int(input(\"Enter the range of square:-\"))\n",
    "for i in square(n):\n",
    "    print(i,end=\",\")"
   ]
  },
  {
   "cell_type": "markdown",
   "id": "000e11fc",
   "metadata": {},
   "source": [
    "# Q3 What are the signs that a function is a generator function?"
   ]
  },
  {
   "cell_type": "markdown",
   "id": "915f9eb7",
   "metadata": {},
   "source": [
    "Ans)  A generator function uses a yield statement instead of a return statement."
   ]
  },
  {
   "cell_type": "markdown",
   "id": "2e3129ac",
   "metadata": {},
   "source": [
    "# Q4 What is the purpose of a yield statement?"
   ]
  },
  {
   "cell_type": "markdown",
   "id": "06773237",
   "metadata": {},
   "source": [
    "Ans)The yield statement suspends function’s execution and sends a value back to the caller, but retains enough state to enable function to resume where it is left off. When resumed, the function continues execution immediately after the last yield run."
   ]
  },
  {
   "cell_type": "markdown",
   "id": "f1259a6a",
   "metadata": {},
   "source": [
    "# Q5 What is the relationship between map calls and list comprehensions? Make a comparison and contrast between the two ?"
   ]
  },
  {
   "cell_type": "markdown",
   "id": "bd9fb25a",
   "metadata": {},
   "source": [
    "Ans)List comprehension is faster than map when we need to evaluate expressions that are too long or complicated to express\n",
    "Map is faster in case of calling an already defined function on a set of values."
   ]
  }
 ],
 "metadata": {
  "kernelspec": {
   "display_name": "Python 3 (ipykernel)",
   "language": "python",
   "name": "python3"
  },
  "language_info": {
   "codemirror_mode": {
    "name": "ipython",
    "version": 3
   },
   "file_extension": ".py",
   "mimetype": "text/x-python",
   "name": "python",
   "nbconvert_exporter": "python",
   "pygments_lexer": "ipython3",
   "version": "3.10.2"
  }
 },
 "nbformat": 4,
 "nbformat_minor": 5
}
