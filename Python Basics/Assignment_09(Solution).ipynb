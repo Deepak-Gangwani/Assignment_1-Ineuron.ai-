{
 "cells": [
  {
   "cell_type": "markdown",
   "id": "688763b4",
   "metadata": {},
   "source": [
    "# Q1.To what does a relative path refer ?"
   ]
  },
  {
   "cell_type": "markdown",
   "id": "f0f3f04d",
   "metadata": {},
   "source": [
    "Ans)The relative path is the path to some file with respect to your current working directory or present working directory."
   ]
  },
  {
   "cell_type": "markdown",
   "id": "7238187f",
   "metadata": {},
   "source": [
    "# Q2.The relative path is the path to some file with respect to your current working directory"
   ]
  },
  {
   "cell_type": "markdown",
   "id": "0bde34a0",
   "metadata": {},
   "source": [
    "Ans)Windows based Operating systems absolute path starts with C: drive."
   ]
  },
  {
   "cell_type": "markdown",
   "id": "b62f6c5f",
   "metadata": {},
   "source": [
    "# Q3.What does the functions os.getcwd() and os.chdir() do ?"
   ]
  },
  {
   "cell_type": "code",
   "execution_count": 1,
   "id": "1c94bff2",
   "metadata": {},
   "outputs": [
    {
     "name": "stdout",
     "output_type": "stream",
     "text": [
      "C:\\Users\\Owner\n"
     ]
    }
   ],
   "source": [
    "import os\n",
    "print(os.getcwd())#this function helps to know the path of the current working directory"
   ]
  },
  {
   "cell_type": "code",
   "execution_count": 14,
   "id": "45fe03a8",
   "metadata": {},
   "outputs": [
    {
     "name": "stdout",
     "output_type": "stream",
     "text": [
      "C:\\Users\\Owner\\this\n"
     ]
    }
   ],
   "source": [
    "os.chdir(r\"C:\\Users\\Owner\\this\")\n",
    "print(os.getcwd())"
   ]
  },
  {
   "cell_type": "code",
   "execution_count": 15,
   "id": "183efb44",
   "metadata": {},
   "outputs": [
    {
     "name": "stdout",
     "output_type": "stream",
     "text": [
      "C:\\Users\\Owner\n"
     ]
    }
   ],
   "source": [
    "os.chdir(r\"C:\\Users\\Owner\")\n",
    "print(os.getcwd())"
   ]
  },
  {
   "cell_type": "markdown",
   "id": "a80f9413",
   "metadata": {},
   "source": [
    "# Q4.What are . and .. folders ?"
   ]
  },
  {
   "cell_type": "markdown",
   "id": "5d466abd",
   "metadata": {},
   "source": [
    "Ans) . Represents the Current Directory Whereas .. Represents the Parent Directory of the Current Directory"
   ]
  },
  {
   "cell_type": "markdown",
   "id": "1457ccf1",
   "metadata": {},
   "source": [
    "# Q5.In C:\\bacon\\eggs\\spam.txt which part is the dir name and which part is the base name ?"
   ]
  },
  {
   "cell_type": "markdown",
   "id": "f3bba014",
   "metadata": {},
   "source": [
    "Ans)1)The Directory name is C:\\bacon\\eggs.\n",
    "2)The Base name is spam.txt."
   ]
  },
  {
   "cell_type": "markdown",
   "id": "0d386363",
   "metadata": {},
   "source": [
    "# Q6.What are the three mode arguments that can be passed to the open() function ?"
   ]
  },
  {
   "cell_type": "markdown",
   "id": "3d9064ba",
   "metadata": {},
   "source": [
    "Ans)1)‘r’ – Read Mode: This is the default mode for open(). The file is opened and a pointer is positioned at the beginning of the file’s content.\n",
    "2)‘w’ – Write Mode: Using this mode will overwrite any existing content in a file. If the given file does not exist, a new one will be created.\n",
    "3)‘a’ – Append Mode: With this mode the user can append the data without overwriting any already existing data in the file."
   ]
  },
  {
   "cell_type": "markdown",
   "id": "698e7a7b",
   "metadata": {},
   "source": [
    "# Q7.What happens if an existing file is opened in write mode ?"
   ]
  },
  {
   "cell_type": "markdown",
   "id": "26ddd589",
   "metadata": {},
   "source": [
    "Ans)Using this mode, we can overwrite any existing content in a file. If the given file does not exist then a new one will be created."
   ]
  },
  {
   "cell_type": "markdown",
   "id": "1656098c",
   "metadata": {},
   "source": [
    "# Q8.How do you tell the difference between read() and readlines() ?"
   ]
  },
  {
   "cell_type": "markdown",
   "id": "12c2cb17",
   "metadata": {},
   "source": [
    "Ans)The main difference is that read() will read the whole file at once and then print out the first characters that take up as many bytes as we specify in the parenthesis\n",
    "\n",
    "whereas the readline() that will read and print out only the first characters that take up as many bytes as we specify in the parenthesis. We may want to use readline() when we are reading files that are too big for our RAM."
   ]
  },
  {
   "cell_type": "markdown",
   "id": "0a0ecb74",
   "metadata": {},
   "source": [
    "# Q9.What data structure does a shelf value resemble ?"
   ]
  },
  {
   "cell_type": "markdown",
   "id": "a7b756bd",
   "metadata": {},
   "source": [
    "Ans)It contains key and values it represents dictionary. The Shelve Module of Python is a very popular module of Python which \n",
    "works like an effective tool for persistent data storage inside files using a Python program."
   ]
  }
 ],
 "metadata": {
  "kernelspec": {
   "display_name": "Python 3 (ipykernel)",
   "language": "python",
   "name": "python3"
  },
  "language_info": {
   "codemirror_mode": {
    "name": "ipython",
    "version": 3
   },
   "file_extension": ".py",
   "mimetype": "text/x-python",
   "name": "python",
   "nbconvert_exporter": "python",
   "pygments_lexer": "ipython3",
   "version": "3.10.2"
  }
 },
 "nbformat": 4,
 "nbformat_minor": 5
}
