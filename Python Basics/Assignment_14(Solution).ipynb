{
 "cells": [
  {
   "cell_type": "markdown",
   "id": "0ec0ea58",
   "metadata": {},
   "source": [
    "# Q1. What does RGBA stand for?"
   ]
  },
  {
   "cell_type": "markdown",
   "id": "0e9df15c",
   "metadata": {},
   "source": [
    "Ans)RGBA is a four-channel format containing data for Red, Green, Blue, and an Alpha value. "
   ]
  },
  {
   "cell_type": "markdown",
   "id": "b6dad401",
   "metadata": {},
   "source": [
    "# Q2. From the Pillow module, how do you get the RGBA value of any images?"
   ]
  },
  {
   "cell_type": "markdown",
   "id": "6d4bcf7d",
   "metadata": {},
   "source": [
    "Ans) ImageColor.getcolor() gives rgba value of any image"
   ]
  },
  {
   "cell_type": "markdown",
   "id": "1725f081",
   "metadata": {},
   "source": [
    "# Q3. What is a box tuple, and how does it work?"
   ]
  },
  {
   "cell_type": "markdown",
   "id": "13b1638c",
   "metadata": {},
   "source": [
    "Ans) A box tuple is a tuple value of four integers: the left-edge x-coordinate, the top-edge y-coordinate,the width, and the height, respectively."
   ]
  },
  {
   "cell_type": "markdown",
   "id": "9cbf7e91",
   "metadata": {},
   "source": [
    "# Q4. Use your image and load in notebook then, How can you find out the width and height of an Image object?"
   ]
  },
  {
   "cell_type": "code",
   "execution_count": 16,
   "id": "032a97c4",
   "metadata": {},
   "outputs": [
    {
     "name": "stdout",
     "output_type": "stream",
     "text": [
      "The width and height of image-->(6016, 4016)\n"
     ]
    }
   ],
   "source": [
    "# we can use some module\n",
    "from PIL import Image\n",
    "\n",
    "picture=Image.open(\"F:\\ineuron assignment\\python_basics\\pic.jpg\")\n",
    "print(f\"The width and height of image-->{picture.size}\")\n",
    "picture.close()"
   ]
  },
  {
   "cell_type": "markdown",
   "id": "06ec677d",
   "metadata": {},
   "source": [
    "# Q5. What method would you call to get Image object for a 100×100 image, excluding the lower-left quarter of it?"
   ]
  },
  {
   "cell_type": "code",
   "execution_count": 20,
   "id": "075d1588",
   "metadata": {},
   "outputs": [
    {
     "name": "stdout",
     "output_type": "stream",
     "text": [
      "The old image size is-->(6016, 4016)\n",
      "\n",
      "The new image size is-->(50, 0)\n"
     ]
    }
   ],
   "source": [
    "from PIL import Image\n",
    "picture = Image.open('pic.jpg')\n",
    "new_picture = img.crop((0,50,50,50))\n",
    "print(f\"The old image size is-->{picture.size}\")\n",
    "print(f\"\\nThe new image size is-->{new_picture.size}\")"
   ]
  },
  {
   "cell_type": "markdown",
   "id": "b8fa8b55",
   "metadata": {},
   "source": [
    "# Q6. After making changes to an Image object, how could you save it as an image file?"
   ]
  },
  {
   "cell_type": "code",
   "execution_count": 22,
   "id": "5e421283",
   "metadata": {},
   "outputs": [
    {
     "name": "stdout",
     "output_type": "stream",
     "text": [
      "File saved successfully\n"
     ]
    }
   ],
   "source": [
    "from PIL import Image\n",
    "picture = Image.open('pic.jpg')\n",
    "picture.save('pic2.jpg')\n",
    "print(\"File saved successfully\")"
   ]
  },
  {
   "cell_type": "markdown",
   "id": "44de936e",
   "metadata": {},
   "source": [
    "# Q7. What module contains Pillow’s shape-drawing code?"
   ]
  },
  {
   "cell_type": "markdown",
   "id": "4378921d",
   "metadata": {},
   "source": [
    "Ans) Pillows ImageDraw module contains Shape drawing methods."
   ]
  },
  {
   "cell_type": "markdown",
   "id": "987bfc41",
   "metadata": {},
   "source": [
    "# Q8. Image objects do not have drawing methods. What kind of object does? How do you get this kind of object?"
   ]
  },
  {
   "cell_type": "markdown",
   "id": "3e0eb4f8",
   "metadata": {},
   "source": [
    "Ans) ImageDraw objects have shape-drawing methods such as point(), line(), or rectangle().They are returned by passing the Image object to the ImageDraw.Draw() function."
   ]
  }
 ],
 "metadata": {
  "kernelspec": {
   "display_name": "Python 3 (ipykernel)",
   "language": "python",
   "name": "python3"
  },
  "language_info": {
   "codemirror_mode": {
    "name": "ipython",
    "version": 3
   },
   "file_extension": ".py",
   "mimetype": "text/x-python",
   "name": "python",
   "nbconvert_exporter": "python",
   "pygments_lexer": "ipython3",
   "version": "3.10.2"
  }
 },
 "nbformat": 4,
 "nbformat_minor": 5
}
