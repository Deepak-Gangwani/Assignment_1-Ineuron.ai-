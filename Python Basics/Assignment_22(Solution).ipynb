{
 "cells": [
  {
   "cell_type": "markdown",
   "id": "2eff908b",
   "metadata": {},
   "source": [
    "# Q1. What is the result of the code, and explain?"
   ]
  },
  {
   "cell_type": "markdown",
   "id": "3ecc09cf",
   "metadata": {},
   "source": [
    ">>> X = 'iNeuron'\n",
    ">>> def func():\n",
    "print(X)\n",
    ">>> func()"
   ]
  },
  {
   "cell_type": "markdown",
   "id": "0eb1aba0",
   "metadata": {},
   "source": [
    "The Result of this code is iNeuron. it is because the function intially looks for the variable X in its local scope but since there is no local variable X, it returns the value of global variable X i.e iNeuron. Please find the output below:"
   ]
  },
  {
   "cell_type": "code",
   "execution_count": 1,
   "id": "33ddfaa1",
   "metadata": {},
   "outputs": [
    {
     "name": "stdout",
     "output_type": "stream",
     "text": [
      "iNeuron\n"
     ]
    }
   ],
   "source": [
    "x=\"iNeuron\"\n",
    "\n",
    "def func():\n",
    "    print(x)\n",
    "    \n",
    "func()    "
   ]
  },
  {
   "cell_type": "markdown",
   "id": "78f39413",
   "metadata": {},
   "source": [
    "# Q2. What is the result of the code, and explain?"
   ]
  },
  {
   "cell_type": "markdown",
   "id": "327fe394",
   "metadata": {},
   "source": [
    ">>> X = 'iNeuron'\n",
    ">>> def func():\n",
    "X = 'NI!'\n",
    ">>> func()\n",
    ">>> print(X)"
   ]
  },
  {
   "cell_type": "markdown",
   "id": "d0956461",
   "metadata": {},
   "source": [
    "The Result of this code is NI! because the function initially looks for the variable X in its local scope. If X is not available, then it checks for variable X in the global scope. Since here the X is present in the local scope, it directly prints the value NI! and does not look for a variable in global scope."
   ]
  },
  {
   "cell_type": "code",
   "execution_count": 3,
   "id": "805766ac",
   "metadata": {},
   "outputs": [
    {
     "name": "stdout",
     "output_type": "stream",
     "text": [
      "NI!\n"
     ]
    }
   ],
   "source": [
    "x=\"iNeuron\"\n",
    "\n",
    "def func():\n",
    "    x=\"NI!\"\n",
    "    print(x)\n",
    "    \n",
    "func()    "
   ]
  },
  {
   "cell_type": "markdown",
   "id": "8985e400",
   "metadata": {},
   "source": [
    "# Q3. What does this code print, and why?"
   ]
  },
  {
   "cell_type": "markdown",
   "id": "5dfba297",
   "metadata": {},
   "source": [
    ">>> X = 'iNeuron'\n",
    ">>> def func():\n",
    "X = 'NI'\n",
    "print(X)\n",
    ">>> func()\n",
    ">>> print(X)"
   ]
  },
  {
   "cell_type": "markdown",
   "id": "43515309",
   "metadata": {},
   "source": [
    "The output of the code is NI and iNeuron. X=NI is in the local scope of the function func(). Hence the function prints the x value as NI. X = 'iNeuron' is in the global scope. Hence print(X) prints output as iNeuron"
   ]
  },
  {
   "cell_type": "code",
   "execution_count": 4,
   "id": "055ac5ac",
   "metadata": {},
   "outputs": [
    {
     "name": "stdout",
     "output_type": "stream",
     "text": [
      "NI!\n",
      "iNeuron\n"
     ]
    }
   ],
   "source": [
    "x=\"iNeuron\"\n",
    "\n",
    "def func():\n",
    "    x=\"NI!\"\n",
    "    print(x)\n",
    "    \n",
    "func()\n",
    "print(x)"
   ]
  },
  {
   "cell_type": "markdown",
   "id": "188c48b3",
   "metadata": {},
   "source": [
    "# Q4. What output does this code produce? Why?"
   ]
  },
  {
   "cell_type": "markdown",
   "id": "7e384b9f",
   "metadata": {},
   "source": [
    ">>> X = 'iNeuron'\n",
    ">>> def func():\n",
    "global X\n",
    "X = 'NI'\n",
    ">>> func()\n",
    ">>> print(X)"
   ]
  },
  {
   "cell_type": "markdown",
   "id": "79bfcfcd",
   "metadata": {},
   "source": [
    "The output of the code is NI. The global keyword allows a variable to be accessible in the current scope. Since we are using global keyword inside the function func, it directly accesses the variable in X in global scope and changes its value to NI. Hence the output of the code is NI as shown below."
   ]
  },
  {
   "cell_type": "code",
   "execution_count": 5,
   "id": "c20c8eb8",
   "metadata": {},
   "outputs": [
    {
     "name": "stdout",
     "output_type": "stream",
     "text": [
      "NI\n"
     ]
    }
   ],
   "source": [
    "x=\"iNeuron\"\n",
    "\n",
    "def func():\n",
    "    global x\n",
    "    x=\"NI\"\n",
    "    \n",
    "func()\n",
    "print(x)"
   ]
  },
  {
   "cell_type": "markdown",
   "id": "795cf68d",
   "metadata": {},
   "source": [
    "# Q5. What about this code—what’s the output, and why?"
   ]
  },
  {
   "cell_type": "markdown",
   "id": "3ee15b27",
   "metadata": {},
   "source": [
    ">>> X = 'iNeuron'\n",
    ">>> def func():\n",
    "X = 'NI'\n",
    "def nested():\n",
    "print(X)\n",
    "nested()\n",
    ">>> func()\n",
    ">>> X"
   ]
  },
  {
   "cell_type": "markdown",
   "id": "0600537f",
   "metadata": {},
   "source": [
    "The output of the code is NI and iNeuron. Output of func() is 'NI' because it has a variable X as 'NI' in its local scope whereas Output of X is 'iNeuron' because it refers to variable X that is having global scope instead of referring to a variable having a local scope in a function."
   ]
  },
  {
   "cell_type": "code",
   "execution_count": 7,
   "id": "f175ac5e",
   "metadata": {},
   "outputs": [
    {
     "name": "stdout",
     "output_type": "stream",
     "text": [
      "NI\n",
      "iNeuron\n"
     ]
    }
   ],
   "source": [
    "x=\"iNeuron\"\n",
    "\n",
    "def func():\n",
    "    x=\"NI\"\n",
    "    def nested():\n",
    "        print(x)\n",
    "    nested()  \n",
    "       \n",
    "func()\n",
    "print(x)"
   ]
  },
  {
   "cell_type": "markdown",
   "id": "50b698fb",
   "metadata": {},
   "source": [
    "# Q6. How about this code: what is its output in Python 3, and explain?"
   ]
  },
  {
   "cell_type": "markdown",
   "id": "a1f748ef",
   "metadata": {},
   "source": [
    ">>> def func():\n",
    "X = 'NI'\n",
    "def nested():\n",
    "nonlocal X\n",
    "X = 'Spam'\n",
    "nested()\n",
    "print(X)\n",
    ">>> func()"
   ]
  },
  {
   "cell_type": "markdown",
   "id": "8c649c65",
   "metadata": {},
   "source": [
    "The output of the code is Spam. nonlocal keyword in python is used to declare a variable as not local.Hence the statement X = \"Spam\" is modified in the global scope. Hence the output of print(X) statement is Spam"
   ]
  },
  {
   "cell_type": "code",
   "execution_count": 8,
   "id": "c723d752",
   "metadata": {},
   "outputs": [
    {
     "name": "stdout",
     "output_type": "stream",
     "text": [
      "Spam\n"
     ]
    }
   ],
   "source": [
    "def func():\n",
    "    x=\"NI\"\n",
    "    def nested():\n",
    "        nonlocal x\n",
    "        x=\"Spam\"\n",
    "    nested()\n",
    "    print(x)\n",
    "    \n",
    "func()    "
   ]
  },
  {
   "cell_type": "code",
   "execution_count": null,
   "id": "5d1b2545",
   "metadata": {},
   "outputs": [],
   "source": []
  }
 ],
 "metadata": {
  "kernelspec": {
   "display_name": "Python 3 (ipykernel)",
   "language": "python",
   "name": "python3"
  },
  "language_info": {
   "codemirror_mode": {
    "name": "ipython",
    "version": 3
   },
   "file_extension": ".py",
   "mimetype": "text/x-python",
   "name": "python",
   "nbconvert_exporter": "python",
   "pygments_lexer": "ipython3",
   "version": "3.10.2"
  }
 },
 "nbformat": 4,
 "nbformat_minor": 5
}
