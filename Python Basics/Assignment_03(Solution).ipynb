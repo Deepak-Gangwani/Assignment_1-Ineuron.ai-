{
 "cells": [
  {
   "cell_type": "code",
   "execution_count": null,
   "id": "cc1b1634",
   "metadata": {},
   "outputs": [],
   "source": [
    "Q1. Why are functions advantageous to have in your programs?\n",
    "Answer\n",
    "1)A function is a group of statements performing a specific task.\n",
    "2)A function can be reused by the programmer in a given program with infinite number of times.\n",
    "3)The part containing the exact set of instructions which are executed during the function call.\n",
    "4)whenever we want to call a function, we put the name of the function followed by parenthesis  "
   ]
  },
  {
   "cell_type": "code",
   "execution_count": null,
   "id": "2903949d",
   "metadata": {},
   "outputs": [],
   "source": [
    "Q2. When does the code in a function run: when specified or when its called?\n",
    "Answer\n",
    "The code in a function executes when the function is called, not when the function is specified.\n",
    "When a function is \"called\" the program \"leaves\" the current section of code and begins to execute \n",
    "the first line inside the function."
   ]
  },
  {
   "cell_type": "code",
   "execution_count": 21,
   "id": "55eb6202",
   "metadata": {},
   "outputs": [
    {
     "name": "stdout",
     "output_type": "stream",
     "text": [
      "Enter Your Name Please:-raju\n",
      "Hello,raju\n"
     ]
    }
   ],
   "source": [
    "def greet(name):\n",
    "    print(\"Hello,\"+name)\n",
    "\n",
    "name=input(\"Enter Your Name Please:-\")\n",
    "greet(name)#calling a function by it's function name"
   ]
  },
  {
   "cell_type": "code",
   "execution_count": null,
   "id": "bf23bf7a",
   "metadata": {},
   "outputs": [],
   "source": [
    "Q3. What statement creates a function?\n",
    "Answer)The def statement creates a function"
   ]
  },
  {
   "cell_type": "code",
   "execution_count": null,
   "id": "5fe0a66e",
   "metadata": {},
   "outputs": [],
   "source": [
    "Q4. What is the difference between a function and a function call?\n",
    "Answer\n",
    "A function is a group of statements performing a specific task.\n",
    "The function can be called any number of times anywhere in the program.\n",
    "\n",
    "Whereas,Whenever we want to call a function,we put the name \n",
    "of the function followed by parenthesis as follows:func1()->this is called function call."
   ]
  },
  {
   "cell_type": "code",
   "execution_count": null,
   "id": "2b785edf",
   "metadata": {},
   "outputs": [],
   "source": [
    "Q5. How many global scopes are there in a Python program? How many local scopes?\n",
    "Answer\n",
    "#Global scope\n",
    "A variable created in the main body of the Python code is a global variable and belongs to the global scope.\n",
    "#Local scope\n",
    "A variable created inside a function belongs to the local scope of that function,\n",
    "and can only be used inside that function.\n"
   ]
  },
  {
   "cell_type": "code",
   "execution_count": null,
   "id": "b1dc4b21",
   "metadata": {},
   "outputs": [],
   "source": [
    "Q6. What happens to variables in a local scope when the function call returns?\n",
    "Answer) When a function returns, the local scope is destroyed, and all the variables in it are forgotten.\n",
    "A local variable becomes undefined after the function call completes."
   ]
  },
  {
   "cell_type": "code",
   "execution_count": null,
   "id": "77aa6f9a",
   "metadata": {},
   "outputs": [],
   "source": [
    "Q7. What is the concept of a return value? Is it possible to have a return value in an expression?\n",
    "Answer)The Python return statement is a key component of functions and methods.\n",
    "We can use the return statement to make functions send Python objects back to the caller code."
   ]
  },
  {
   "cell_type": "code",
   "execution_count": null,
   "id": "ece3e816",
   "metadata": {},
   "outputs": [],
   "source": [
    "Q8. If a function does not have a return statement, what is the return value of a call to that function?\n",
    "Answer) If there is no return statement for a function, its return value is None.\n",
    "The function always returns None if explicit return is not written."
   ]
  },
  {
   "cell_type": "code",
   "execution_count": null,
   "id": "57b160ba",
   "metadata": {},
   "outputs": [],
   "source": [
    "Q9. How do you make a function variable refer to the global variable?\n",
    "Answer)A global statement will force a variable in a function to refer to the global variable.\n",
    "If you want to refer to a global variable in a function, you can use the global keyword to\n",
    "declare which variables are global."
   ]
  },
  {
   "cell_type": "code",
   "execution_count": null,
   "id": "9caf10ab",
   "metadata": {},
   "outputs": [],
   "source": [
    "Q10. What is the data type of None?\n",
    "Answer)The data type of None is NoneType."
   ]
  },
  {
   "cell_type": "code",
   "execution_count": null,
   "id": "a4d9d080",
   "metadata": {},
   "outputs": [],
   "source": [
    "Q11. What does the sentence import areallyourpetsnamederic do?\n",
    "Answer) import statement imports a module named areallyourpetsnamederic."
   ]
  },
  {
   "cell_type": "code",
   "execution_count": null,
   "id": "bc82ca2a",
   "metadata": {},
   "outputs": [],
   "source": [
    "Q12. If you had a bacon() feature in a spam module, what would you call it after importing spam?\n",
    "Answer) This function can be called with spam.bacon()."
   ]
  },
  {
   "cell_type": "code",
   "execution_count": null,
   "id": "bc1186d2",
   "metadata": {},
   "outputs": [],
   "source": [
    "Q13. What can you do to save a programme from crashing if it encounters an error?\n",
    "Answer)We can use exceptional handling from crashing if it encounters an error and the tools is try and except."
   ]
  },
  {
   "cell_type": "code",
   "execution_count": 29,
   "id": "b0dfe1fd",
   "metadata": {},
   "outputs": [
    {
     "name": "stdout",
     "output_type": "stream",
     "text": [
      "Enter the number a: 1\n",
      "Enter the number b: 0\n",
      "infinite\n"
     ]
    }
   ],
   "source": [
    "a=int(input(\"Enter the number a: \"))\n",
    "b=int(input(\"Enter the number b: \"))\n",
    "try:\n",
    "    print(a/b)\n",
    "except:\n",
    "    print(\"infinite\")#exceptional handling  "
   ]
  },
  {
   "cell_type": "code",
   "execution_count": null,
   "id": "0b031b05",
   "metadata": {},
   "outputs": [],
   "source": [
    "Q14. What is the purpose of the try clause? What is the purpose of the except clause?\n"
   ]
  },
  {
   "cell_type": "code",
   "execution_count": 30,
   "id": "27618a04",
   "metadata": {},
   "outputs": [
    {
     "name": "stdout",
     "output_type": "stream",
     "text": [
      "Enter the number a: 2\n",
      "Enter the number b: 1\n",
      "2.0\n"
     ]
    }
   ],
   "source": [
    "#Try clause\n",
    "a=int(input(\"Enter the number a: \"))\n",
    "b=int(input(\"Enter the number b: \"))\n",
    "try:\n",
    "    print(a/b)\n",
    "except:\n",
    "    print(\"infinite\")#exceptional handling  "
   ]
  },
  {
   "cell_type": "code",
   "execution_count": 31,
   "id": "d387d199",
   "metadata": {},
   "outputs": [
    {
     "name": "stdout",
     "output_type": "stream",
     "text": [
      "Enter the number a: 1\n",
      "Enter the number b: 0\n",
      "infinite\n"
     ]
    }
   ],
   "source": [
    "#except clause\n",
    "a=int(input(\"Enter the number a: \"))\n",
    "b=int(input(\"Enter the number b: \"))\n",
    "try:\n",
    "    print(a/b)\n",
    "except:\n",
    "    print(\"infinite\")#exceptional handling  "
   ]
  },
  {
   "cell_type": "code",
   "execution_count": null,
   "id": "609084d2",
   "metadata": {},
   "outputs": [],
   "source": []
  }
 ],
 "metadata": {
  "kernelspec": {
   "display_name": "Python 3 (ipykernel)",
   "language": "python",
   "name": "python3"
  },
  "language_info": {
   "codemirror_mode": {
    "name": "ipython",
    "version": 3
   },
   "file_extension": ".py",
   "mimetype": "text/x-python",
   "name": "python",
   "nbconvert_exporter": "python",
   "pygments_lexer": "ipython3",
   "version": "3.10.2"
  }
 },
 "nbformat": 4,
 "nbformat_minor": 5
}
