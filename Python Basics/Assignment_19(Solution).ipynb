{
 "cells": [
  {
   "cell_type": "markdown",
   "id": "1a465db4",
   "metadata": {},
   "source": [
    "# Q1. Make a class called Thing with no contents and print it. Then, create an object called example from this class and also print it. Are the printed values the same or different?"
   ]
  },
  {
   "cell_type": "code",
   "execution_count": 3,
   "id": "2fdda6d4",
   "metadata": {},
   "outputs": [
    {
     "name": "stdout",
     "output_type": "stream",
     "text": [
      "<class '__main__.Thing'>\n"
     ]
    }
   ],
   "source": [
    "class Thing():\n",
    "    pass\n",
    "\n",
    "print(Thing)"
   ]
  },
  {
   "cell_type": "code",
   "execution_count": 4,
   "id": "90b250c4",
   "metadata": {},
   "outputs": [
    {
     "name": "stdout",
     "output_type": "stream",
     "text": [
      "<__main__.Thing object at 0x00000220954C9120>\n"
     ]
    }
   ],
   "source": [
    "example=Thing()\n",
    "print(example)"
   ]
  },
  {
   "cell_type": "markdown",
   "id": "f4782550",
   "metadata": {},
   "source": [
    "# Q2. Create a new class called Thing2 and add the value 'abc' to the letters class attribute. Letters should be printed."
   ]
  },
  {
   "cell_type": "code",
   "execution_count": 6,
   "id": "02820ae0",
   "metadata": {},
   "outputs": [
    {
     "name": "stdout",
     "output_type": "stream",
     "text": [
      "abc\n"
     ]
    }
   ],
   "source": [
    "class Thing2:\n",
    "    letters=\"abc\"\n",
    "    \n",
    "print(Thing2.letters)    "
   ]
  },
  {
   "cell_type": "markdown",
   "id": "82607d91",
   "metadata": {},
   "source": [
    "# Q3. Make yet another class called, of course, Thing3. This time, assign the value 'xyz' to an instance (object) attribute called letters. Print letters. Do you need to make an object from the class to do this?"
   ]
  },
  {
   "cell_type": "code",
   "execution_count": 9,
   "id": "bc4a8a33",
   "metadata": {},
   "outputs": [
    {
     "name": "stdout",
     "output_type": "stream",
     "text": [
      "xyz\n"
     ]
    }
   ],
   "source": [
    "class Thing3:\n",
    "    def __init__(self):\n",
    "        self.letters=\"xyz\"\n",
    "        \n",
    "obj=Thing3()        \n",
    "print(obj.letters)"
   ]
  },
  {
   "cell_type": "markdown",
   "id": "0655fb6e",
   "metadata": {},
   "source": [
    "# Q4. Create an Element class with the instance attributes name, symbol, and number. Create a class object with the values 'Hydrogen,' 'H,' and 1."
   ]
  },
  {
   "cell_type": "code",
   "execution_count": 15,
   "id": "fb77e4f4",
   "metadata": {},
   "outputs": [
    {
     "name": "stdout",
     "output_type": "stream",
     "text": [
      "Hydrogen,H,1\n"
     ]
    }
   ],
   "source": [
    "class Element:\n",
    "    def __init__(self,name,symbol,number):\n",
    "        self.name=name\n",
    "        self.symbol=symbol\n",
    "        self.number=number\n",
    "        print(f\"{self.name},{self.symbol},{self.number}\")\n",
    "        \n",
    "# obj is the object or variable of class Element        \n",
    "obj=Element(\"Hydrogen\",\"H\",1)"
   ]
  },
  {
   "cell_type": "markdown",
   "id": "61045d86",
   "metadata": {},
   "source": [
    "# Q5. Make a dictionary with these keys and values: 'name': 'Hydrogen', 'symbol': 'H', 'number': 1. Then, create an object called hydrogen from class Element using this dictionary."
   ]
  },
  {
   "cell_type": "code",
   "execution_count": 26,
   "id": "ca3d282c",
   "metadata": {},
   "outputs": [
    {
     "name": "stdout",
     "output_type": "stream",
     "text": [
      "{'name': 'Hydrogen', 'symbol': 'H', 'number': 1}\n",
      "\n",
      "Hydrogen,H,1\n"
     ]
    }
   ],
   "source": [
    "new_dict={'name': 'Hydrogen', 'symbol': 'H', 'number': 1}\n",
    "print(f\"{new_dict}\\n\")\n",
    "\n",
    "hydrogen=Element(*new_dict.values())"
   ]
  },
  {
   "cell_type": "markdown",
   "id": "d03f41c5",
   "metadata": {},
   "source": [
    "# Q6. For the Element class, define a method called dump() that prints the values of the object’s attributes (name, symbol, and number). Create the hydrogen object from this new definition and use dump() to print its attributes."
   ]
  },
  {
   "cell_type": "code",
   "execution_count": 32,
   "id": "77c0d5f0",
   "metadata": {},
   "outputs": [
    {
     "name": "stdout",
     "output_type": "stream",
     "text": [
      "These are the values of keys:-Hydrogen,H,1\n"
     ]
    }
   ],
   "source": [
    "class Element:\n",
    "    def __init__(self,name,symbol,number):\n",
    "        self.name=name\n",
    "        self.symbol=symbol\n",
    "        self.number=number\n",
    "    \n",
    "    def dump(self):\n",
    "        print(f\"These are the values of keys:-{self.name},{self.symbol},{self.number}\")\n",
    "        \n",
    "hydrogen=Element(\"Hydrogen\",\"H\",1)\n",
    "hydrogen.dump()"
   ]
  },
  {
   "cell_type": "markdown",
   "id": "dbdc46ff",
   "metadata": {},
   "source": [
    "# Q7. Call print(hydrogen). In the definition of Element, change the name of method dump to __str__, create a new hydrogen object, and call print(hydrogen) again."
   ]
  },
  {
   "cell_type": "code",
   "execution_count": 33,
   "id": "2d6dd2f3",
   "metadata": {},
   "outputs": [
    {
     "name": "stdout",
     "output_type": "stream",
     "text": [
      "<__main__.Element object at 0x00000220955A13C0>\n"
     ]
    }
   ],
   "source": [
    "print(hydrogen)"
   ]
  },
  {
   "cell_type": "code",
   "execution_count": 37,
   "id": "ab96e538",
   "metadata": {},
   "outputs": [
    {
     "name": "stdout",
     "output_type": "stream",
     "text": [
      "These are the values of keys:-Hydrogen,H,1\n"
     ]
    }
   ],
   "source": [
    "class Element:\n",
    "    def __init__(self,name,symbol,number):\n",
    "        self.name=name\n",
    "        self.symbol=symbol\n",
    "        self.number=number\n",
    "    \n",
    "    def __str__(self):\n",
    "        return f\"These are the values of keys:-{self.name},{self.symbol},{self.number}\"\n",
    "\n",
    "# created new object for class Element    \n",
    "new_hydrogen=Element(\"Hydrogen\",\"H\",1)\n",
    "print(new_hydrogen)"
   ]
  },
  {
   "cell_type": "markdown",
   "id": "fe483592",
   "metadata": {},
   "source": [
    "# Q8. Modify Element to make the attributes name, symbol, and number private. Define a getter property for each to return its value."
   ]
  },
  {
   "cell_type": "code",
   "execution_count": 52,
   "id": "77f19e9e",
   "metadata": {},
   "outputs": [
    {
     "name": "stdout",
     "output_type": "stream",
     "text": [
      "Hydrogen,H,1 "
     ]
    }
   ],
   "source": [
    "class Element:\n",
    "    def __init__(self,name,symbol,number):\n",
    "        self.__name=name\n",
    "        self.__symbol=symbol\n",
    "        self.__number=number\n",
    "      \n",
    "    def getName(self):\n",
    "        return self.__name\n",
    "    \n",
    "    def getSymbol(self):\n",
    "        return self.__symbol\n",
    "    \n",
    "    def getNumber(self):\n",
    "        return self.__number\n",
    "    \n",
    "hydrogen=Element(\"Hydrogen\",\"H\",1)\n",
    "print(hydrogen.getName(),end=\",\")\n",
    "print(hydrogen.getSymbol(),end=\",\")\n",
    "print(hydrogen.getNumber(),end=\" \")\n",
    "\n"
   ]
  },
  {
   "cell_type": "markdown",
   "id": "c7ac23eb",
   "metadata": {},
   "source": [
    "# Q9. Define three classes: Bear, Rabbit, and Octothorpe. For each, define only one method: eats(). This should return 'berries' (Bear), 'clover' (Rabbit), or 'campers' (Octothorpe). Create one object from each and print what it eats."
   ]
  },
  {
   "cell_type": "code",
   "execution_count": 59,
   "id": "52d35d0b",
   "metadata": {},
   "outputs": [
    {
     "name": "stdout",
     "output_type": "stream",
     "text": [
      "The bear loves to eat:-berries\n",
      "The rabbit loves to eat:-clover\n",
      "The octothorne loves to eat:-campers\n"
     ]
    }
   ],
   "source": [
    "class Bear:\n",
    "    def eats(self):\n",
    "        return \"berries\"\n",
    "\n",
    "class Rabbit:\n",
    "    def eats(self):\n",
    "        return \"clover\"\n",
    "    \n",
    "class Octothorpe:\n",
    "    def eats(self):\n",
    "        return \"campers\"\n",
    "    \n",
    "b=Bear()\n",
    "r=Rabbit()\n",
    "o=Octothorpe()\n",
    "\n",
    "print(f\"The bear loves to eat:-{b.eats()}\")\n",
    "print(f\"The rabbit loves to eat:-{r.eats()}\")\n",
    "print(f\"The octothorne loves to eat:-{o.eats()}\")"
   ]
  },
  {
   "cell_type": "markdown",
   "id": "78c4eb86",
   "metadata": {},
   "source": [
    "# Q10. Define these classes: Laser, Claw, and SmartPhone. Each has only one method: does(). This returns 'disintegrate' (Laser), 'crush' (Claw), or 'ring' (SmartPhone). Then, define the class Robot that has one instance (object) of each of these. Define a does() method for the Robot that prints what its component objects do."
   ]
  },
  {
   "cell_type": "code",
   "execution_count": 65,
   "id": "63662c3a",
   "metadata": {},
   "outputs": [
    {
     "name": "stdout",
     "output_type": "stream",
     "text": [
      "The all classes string is disintegrate,crush,ring\n"
     ]
    }
   ],
   "source": [
    "class Laser:\n",
    "    def does(self):\n",
    "        return 'disintegrate'\n",
    "    \n",
    "class Claw:\n",
    "    def does(self):\n",
    "        return 'crush'\n",
    "    \n",
    "class SmartPhone:\n",
    "    def does(self):\n",
    "        return 'ring'\n",
    "    \n",
    "class Robot:\n",
    "    def __init__(self):\n",
    "        self.laser=Laser()\n",
    "        self.claw=Claw()\n",
    "        self.smartphone=SmartPhone()\n",
    "    \n",
    "    def does(self):\n",
    "        print(f\"The all classes string is {self.laser.does()},{self.claw.does()},{self.smartphone.does()}\")\n",
    "   \n",
    "\n",
    "obj=Robot()\n",
    "obj.does()\n",
    "        "
   ]
  }
 ],
 "metadata": {
  "kernelspec": {
   "display_name": "Python 3 (ipykernel)",
   "language": "python",
   "name": "python3"
  },
  "language_info": {
   "codemirror_mode": {
    "name": "ipython",
    "version": 3
   },
   "file_extension": ".py",
   "mimetype": "text/x-python",
   "name": "python",
   "nbconvert_exporter": "python",
   "pygments_lexer": "ipython3",
   "version": "3.10.2"
  }
 },
 "nbformat": 4,
 "nbformat_minor": 5
}
