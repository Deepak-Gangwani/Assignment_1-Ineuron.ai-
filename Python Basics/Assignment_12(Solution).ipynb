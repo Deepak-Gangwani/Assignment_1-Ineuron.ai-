{
 "cells": [
  {
   "cell_type": "markdown",
   "id": "5841ade2",
   "metadata": {},
   "source": [
    "# Q1. In what modes should the PdfFileReader() and PdfFileWriter() File objects will be opened?"
   ]
  },
  {
   "cell_type": "markdown",
   "id": "81422807",
   "metadata": {},
   "source": [
    "Ans)The PdfFileReader() File objects will be opended in read binary mode.Whereas,PdfFileWriter() file objects will be opended in write binary mode."
   ]
  },
  {
   "cell_type": "markdown",
   "id": "a88dc59b",
   "metadata": {},
   "source": [
    "# Q2. From a PdfFileReader object, how do you get a Page object for page 5?"
   ]
  },
  {
   "cell_type": "code",
   "execution_count": 3,
   "id": "727782d6",
   "metadata": {},
   "outputs": [
    {
     "name": "stdout",
     "output_type": "stream",
     "text": [
      "Collecting PyPDF2\n",
      "  Downloading PyPDF2-2.7.0-py3-none-any.whl (202 kB)\n",
      "     -------------------------------------- 202.4/202.4 kB 2.5 MB/s eta 0:00:00\n",
      "Installing collected packages: PyPDF2\n",
      "Successfully installed PyPDF2-2.7.0\n",
      "\n",
      "[notice] A new release of pip available: 22.1.2 -> 22.2\n",
      "[notice] To update, run: python.exe -m pip install --upgrade pip\n",
      "Note: you may need to restart the kernel to use updated packages.\n"
     ]
    }
   ],
   "source": [
    "pip install PyPDF2"
   ]
  },
  {
   "cell_type": "code",
   "execution_count": 5,
   "id": "1e97faab",
   "metadata": {},
   "outputs": [
    {
     "name": "stdout",
     "output_type": "stream",
     "text": [
      "Requirement already satisfied: pip in c:\\users\\owner\\appdata\\local\\programs\\python\\python310\\lib\\site-packages (22.1.2)\n",
      "Collecting pip\n",
      "  Downloading pip-22.2-py3-none-any.whl (2.0 MB)\n",
      "     ---------------------------------------- 2.0/2.0 MB 3.1 MB/s eta 0:00:00\n",
      "Installing collected packages: pip\n",
      "  Attempting uninstall: pip\n",
      "    Found existing installation: pip 22.1.2\n",
      "    Uninstalling pip-22.1.2:\n",
      "      Successfully uninstalled pip-22.1.2\n",
      "Successfully installed pip-22.2\n",
      "Note: you may need to restart the kernel to use updated packages.\n"
     ]
    }
   ],
   "source": [
    "pip install --upgrade pip"
   ]
  },
  {
   "cell_type": "code",
   "execution_count": null,
   "id": "ba8243a6",
   "metadata": {},
   "outputs": [],
   "source": [
    "from PyPDF2 import PdfFileReader\n",
    "pdf_reader=PdfFileReader(file_path)\n",
    "for page in pdf_reader.getNumPages():\n",
    "    pdf_reader.getPage(page)"
   ]
  },
  {
   "cell_type": "markdown",
   "id": "302c18ff",
   "metadata": {},
   "source": [
    "# Q3. What PdfFileReader variable stores the number of pages in the PDF document?"
   ]
  },
  {
   "cell_type": "code",
   "execution_count": null,
   "id": "84641fcd",
   "metadata": {},
   "outputs": [],
   "source": [
    "#print the number of pages in documents\n",
    "from PyPDF2 import PdfFileReader\n",
    "a=PyPDF2.PdfFileReader(filepath)\n",
    "print(a.getNumPages())\n"
   ]
  },
  {
   "cell_type": "markdown",
   "id": "f61f9fa2",
   "metadata": {},
   "source": [
    "# Q4. If a PdfFileReader object’s PDF is encrypted with the password swordfish, what must you do before you can obtain Page objects from it?"
   ]
  },
  {
   "cell_type": "code",
   "execution_count": null,
   "id": "8d40629b",
   "metadata": {},
   "outputs": [],
   "source": [
    "a=PdfFileReader(filepath)\n",
    "if a.isEncrypted:\n",
    "    a.decrypt(\"swordfish\")\n",
    "for page in a.pages:\n",
    "    print(page.extractText())    "
   ]
  },
  {
   "cell_type": "markdown",
   "id": "21a10711",
   "metadata": {},
   "source": [
    "# Q5. What methods do you use to rotate a page?"
   ]
  },
  {
   "cell_type": "markdown",
   "id": "647fc911",
   "metadata": {},
   "source": [
    "Ans)rotateClockWise() -> For Clockwise rotation\n",
    "rotateCounterClockWise() -> For Counter Clockwise rotation"
   ]
  },
  {
   "cell_type": "markdown",
   "id": "a10b50c7",
   "metadata": {},
   "source": [
    "# Q6. What is the difference between a Run object and a Paragraph object?"
   ]
  },
  {
   "cell_type": "markdown",
   "id": "2551b295",
   "metadata": {},
   "source": [
    "Ans)Each Paragraph object also has a runs attribute that is a list of Run objects. Run objects also have a text attribute, containing just the text in that particular run. Let's look at the text attributes in the second Paragraph object, 'A plain paragraph with some bold and some italic' ."
   ]
  },
  {
   "cell_type": "markdown",
   "id": "d6df6bba",
   "metadata": {},
   "source": [
    "# Q7. How do you obtain a list of Paragraph objects for a Document object that’s stored in a variable named doc?"
   ]
  },
  {
   "cell_type": "code",
   "execution_count": 1,
   "id": "ad1a2282",
   "metadata": {},
   "outputs": [
    {
     "name": "stdout",
     "output_type": "stream",
     "text": [
      "Collecting docx\n",
      "  Downloading docx-0.2.4.tar.gz (54 kB)\n",
      "     ---------------------------------------- 54.9/54.9 kB 1.4 MB/s eta 0:00:00\n",
      "  Preparing metadata (setup.py): started\n",
      "  Preparing metadata (setup.py): finished with status 'done'\n",
      "Collecting lxml\n",
      "  Downloading lxml-4.9.1-cp310-cp310-win_amd64.whl (3.6 MB)\n",
      "     ---------------------------------------- 3.6/3.6 MB 4.1 MB/s eta 0:00:00\n",
      "Requirement already satisfied: Pillow>=2.0 in c:\\users\\owner\\appdata\\local\\programs\\python\\python310\\lib\\site-packages (from docx) (9.0.1)\n",
      "Using legacy 'setup.py install' for docx, since package 'wheel' is not installed.\n",
      "Installing collected packages: lxml, docx\n",
      "  Running setup.py install for docx: started\n",
      "  Running setup.py install for docx: finished with status 'done'\n",
      "Successfully installed docx-0.2.4 lxml-4.9.1\n",
      "Note: you may need to restart the kernel to use updated packages.\n"
     ]
    }
   ],
   "source": [
    "pip install docx"
   ]
  },
  {
   "cell_type": "code",
   "execution_count": null,
   "id": "637ebd7d",
   "metadata": {},
   "outputs": [],
   "source": [
    "from docx import Document\n",
    "dc=Document(\"Sample_file.docx\")\n",
    "print(dc.paragraphs)\n",
    "for paragraph in dc.paragraphs:\n",
    "    print(paragraph.text)"
   ]
  },
  {
   "cell_type": "markdown",
   "id": "c47145b6",
   "metadata": {},
   "source": [
    "# Q8. What type of object has bold, underline, italic, strike, and outline variables?"
   ]
  },
  {
   "cell_type": "markdown",
   "id": "3c18dce6",
   "metadata": {},
   "source": [
    "Ans)Run object has bold, underline, italic, strike, and outline variables. The text in a Word document is more than just a string. It has font, size, color, and other styling information associated with it."
   ]
  },
  {
   "cell_type": "markdown",
   "id": "7270ee82",
   "metadata": {},
   "source": [
    "# Q9. What is the difference between False, True, and None for the bold variable?"
   ]
  },
  {
   "cell_type": "code",
   "execution_count": null,
   "id": "fc5f81d2",
   "metadata": {},
   "outputs": [],
   "source": [
    "bold = True \n",
    "bold = False \n",
    "bold = None"
   ]
  },
  {
   "cell_type": "markdown",
   "id": "ea25640f",
   "metadata": {},
   "source": [
    "# Q10. How do you create a Document object for a new Word document?"
   ]
  },
  {
   "cell_type": "code",
   "execution_count": null,
   "id": "55bbc812",
   "metadata": {},
   "outputs": [],
   "source": [
    "from docx import Document\n",
    "dc=Document()\n",
    "dc.add_paragraph(\"Good day\")\n",
    "dc.save(\"YourDocs.docx\")"
   ]
  },
  {
   "cell_type": "markdown",
   "id": "0e7de154",
   "metadata": {},
   "source": [
    "# Q11. How do you add a paragraph with the text 'Hello, there!' to a Document object stored in a variable named doc?"
   ]
  },
  {
   "cell_type": "code",
   "execution_count": null,
   "id": "eeffd8c8",
   "metadata": {},
   "outputs": [],
   "source": [
    "from docx import Document\n",
    "dc=Document()\n",
    "dc.add_paragraph(\"Hello, there!\")\n",
    "dc.save(\"YourDocs.docx\")"
   ]
  },
  {
   "cell_type": "markdown",
   "id": "5cff443b",
   "metadata": {},
   "source": [
    "# Q12. What integers represent the levels of headings available in Word documents?"
   ]
  },
  {
   "cell_type": "markdown",
   "id": "0ea91a58",
   "metadata": {},
   "source": [
    "Ans)There are a total of 5 levels statring for 0 to 4. where level 0 makes a headline with the horizontal line below the text, whereas the heading level 1 is the main heading. Similarly, the other headings are sub-heading with their's font-sizes in decreasing order."
   ]
  }
 ],
 "metadata": {
  "kernelspec": {
   "display_name": "Python 3 (ipykernel)",
   "language": "python",
   "name": "python3"
  },
  "language_info": {
   "codemirror_mode": {
    "name": "ipython",
    "version": 3
   },
   "file_extension": ".py",
   "mimetype": "text/x-python",
   "name": "python",
   "nbconvert_exporter": "python",
   "pygments_lexer": "ipython3",
   "version": "3.10.2"
  }
 },
 "nbformat": 4,
 "nbformat_minor": 5
}
