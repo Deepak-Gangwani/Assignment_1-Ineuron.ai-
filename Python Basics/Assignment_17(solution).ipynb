{
 "cells": [
  {
   "cell_type": "markdown",
   "id": "a417935b",
   "metadata": {},
   "source": [
    "# Q1. Assign the value 7 to the variable guess_me. Then, write the conditional tests (if, else, and elif) to print the string 'too low' if guess_me is less than 7, 'too high' if greater than 7, and 'just right' if equal to 7."
   ]
  },
  {
   "cell_type": "code",
   "execution_count": 2,
   "id": "31fcc820",
   "metadata": {},
   "outputs": [],
   "source": [
    "def guess_me(n):   \n",
    "    try:\n",
    "        if n<7:\n",
    "            print(\"too low\")\n",
    "    \n",
    "        elif n>7:\n",
    "            print(\"too high\")\n",
    "\n",
    "        else:\n",
    "            print(\"just right\")\n",
    "    except Exception as e:\n",
    "        print(\"do not add anything accept integer\")\n",
    "        "
   ]
  },
  {
   "cell_type": "code",
   "execution_count": 3,
   "id": "8f874c19",
   "metadata": {},
   "outputs": [
    {
     "name": "stdout",
     "output_type": "stream",
     "text": [
      "Enter the number:-5\n",
      "too low\n"
     ]
    }
   ],
   "source": [
    "n=int(input(\"Enter the number:-\"))\n",
    "guess_me(n)"
   ]
  },
  {
   "cell_type": "code",
   "execution_count": 4,
   "id": "187c3729",
   "metadata": {},
   "outputs": [
    {
     "name": "stdout",
     "output_type": "stream",
     "text": [
      "Enter the number:-10\n",
      "too high\n"
     ]
    }
   ],
   "source": [
    "n=int(input(\"Enter the number:-\"))\n",
    "guess_me(n)"
   ]
  },
  {
   "cell_type": "code",
   "execution_count": 5,
   "id": "b1fcd6e1",
   "metadata": {},
   "outputs": [
    {
     "name": "stdout",
     "output_type": "stream",
     "text": [
      "Enter the number:-7\n",
      "just right\n"
     ]
    }
   ],
   "source": [
    "n=int(input(\"Enter the number:-\"))\n",
    "guess_me(n)"
   ]
  },
  {
   "cell_type": "markdown",
   "id": "2fd8ea6f",
   "metadata": {},
   "source": [
    "# Q2. Assign the value 7 to the variable guess_me and the value 1 to the variable start. Write a while loop that compares start with guess_me. Print too low if start is less than guess me. If start equals guess_me, print 'found it!' and exit the loop. If start is greater than guess_me, print 'oops' and exit the loop. Increment start at the end of the loop"
   ]
  },
  {
   "cell_type": "code",
   "execution_count": 8,
   "id": "46dba9bb",
   "metadata": {},
   "outputs": [
    {
     "name": "stdout",
     "output_type": "stream",
     "text": [
      "too low\n",
      "too low\n",
      "too low\n",
      "too low\n",
      "too low\n",
      "too low\n",
      "found it\n"
     ]
    }
   ],
   "source": [
    "guess_me=7\n",
    "start=1\n",
    "while True:\n",
    "    if start<guess_me:\n",
    "        print(\"too low\")\n",
    "    elif start==guess_me:\n",
    "        print(\"found it\")\n",
    "        break\n",
    "    elif start>guess_me:\n",
    "        print(\"oops\")\n",
    "        break\n",
    "    start=start+1    "
   ]
  },
  {
   "cell_type": "markdown",
   "id": "c7ffadfe",
   "metadata": {},
   "source": [
    "# Q3. Print the following values of the list [3, 2, 1, 0] using a for loop."
   ]
  },
  {
   "cell_type": "code",
   "execution_count": 11,
   "id": "4d430985",
   "metadata": {},
   "outputs": [
    {
     "name": "stdout",
     "output_type": "stream",
     "text": [
      "3,2,1,0,"
     ]
    }
   ],
   "source": [
    "l=[3,2,1,0]\n",
    "for i in l:\n",
    "    print(i,end=\",\")"
   ]
  },
  {
   "cell_type": "markdown",
   "id": "4f2e8095",
   "metadata": {},
   "source": [
    "# Q4. Use a list comprehension to make a list of the even numbers in range(10)"
   ]
  },
  {
   "cell_type": "code",
   "execution_count": 6,
   "id": "a58eec75",
   "metadata": {},
   "outputs": [
    {
     "name": "stdout",
     "output_type": "stream",
     "text": [
      "Enter the range even numbers:-10\n",
      "[0, 2, 4, 6, 8]\n"
     ]
    }
   ],
   "source": [
    "n=int(input(\"Enter the range even numbers:-\"))\n",
    "print([i for i in range(n) if i%2==0]) #representation of list comprehesion"
   ]
  },
  {
   "cell_type": "markdown",
   "id": "e41a8c23",
   "metadata": {},
   "source": [
    "# Q5. Use a dictionary comprehension to create the dictionary squares. Use range(10) to return the keys, and use the square of each key as its value."
   ]
  },
  {
   "cell_type": "code",
   "execution_count": 10,
   "id": "141f5e9b",
   "metadata": {},
   "outputs": [
    {
     "name": "stdout",
     "output_type": "stream",
     "text": [
      "Enter the no. of squares to print in dict:-11\n",
      "{0: 0, 1: 1, 2: 4, 3: 9, 4: 16, 5: 25, 6: 36, 7: 49, 8: 64, 9: 81, 10: 100}\n"
     ]
    }
   ],
   "source": [
    "n=int(input(\"Enter the no. of squares to print in dict:-\"))\n",
    "print({i:i**2 for i in range(n)})#dictionary comprehension"
   ]
  },
  {
   "cell_type": "markdown",
   "id": "dcc1cada",
   "metadata": {},
   "source": [
    "# Q6. Construct the set odd from the odd numbers in the range using a set comprehension (10)."
   ]
  },
  {
   "cell_type": "code",
   "execution_count": 1,
   "id": "dfd91fe6",
   "metadata": {},
   "outputs": [
    {
     "name": "stdout",
     "output_type": "stream",
     "text": [
      "Enter the odd number in set form:-10\n",
      "{1, 3, 5, 7, 9}\n"
     ]
    }
   ],
   "source": [
    "n=int(input(\"Enter the odd number in set form:-\"))\n",
    "print(set(i for i in range(n) if i%2!=0))#set comprehension"
   ]
  },
  {
   "cell_type": "markdown",
   "id": "33aa55bf",
   "metadata": {},
   "source": [
    "# Q7. Use a generator comprehension to return the string 'Got ' and a number for the numbers in range(10). Iterate through this by using a for loop"
   ]
  },
  {
   "cell_type": "code",
   "execution_count": 5,
   "id": "ee058520",
   "metadata": {},
   "outputs": [
    {
     "name": "stdout",
     "output_type": "stream",
     "text": [
      "Enter the range to print number:-10\n",
      "GOT0,GOT1,GOT2,GOT3,GOT4,GOT5,GOT6,GOT7,GOT8,GOT9,"
     ]
    }
   ],
   "source": [
    "#generator comprehension\n",
    "n=int(input(\"Enter the range to print number:-\"))\n",
    "gen=(\"GOT\"+str(i) for i in range(n))\n",
    "for e in gen:\n",
    "    print(e,end=\",\")"
   ]
  },
  {
   "cell_type": "markdown",
   "id": "e002cc8e",
   "metadata": {},
   "source": [
    "# Q8. Define a function called good that returns the list ['Harry', 'Ron', 'Hermione']."
   ]
  },
  {
   "cell_type": "code",
   "execution_count": 7,
   "id": "afc4e5de",
   "metadata": {},
   "outputs": [
    {
     "data": {
      "text/plain": [
       "['Harry', 'Ron', 'Hermione']"
      ]
     },
     "execution_count": 7,
     "metadata": {},
     "output_type": "execute_result"
    }
   ],
   "source": [
    "def good():\n",
    "    return[\"Harry\",\"Ron\",\"Hermione\"]\n",
    "\n",
    "good()"
   ]
  },
  {
   "cell_type": "markdown",
   "id": "ebfd901c",
   "metadata": {},
   "source": [
    "# Q9. Define a generator function called get_odds that returns the odd numbers from range(10). Use a for loop to find and print the third value returned."
   ]
  },
  {
   "cell_type": "code",
   "execution_count": 2,
   "id": "bfe31065",
   "metadata": {},
   "outputs": [
    {
     "name": "stdout",
     "output_type": "stream",
     "text": [
      "Enter the range:-10\n"
     ]
    },
    {
     "data": {
      "text/plain": [
       "5"
      ]
     },
     "execution_count": 2,
     "metadata": {},
     "output_type": "execute_result"
    }
   ],
   "source": [
    "def get_odds():\n",
    "    n=int(input(\"Enter the range:-\"))\n",
    "    l=[]    \n",
    "    for i in range(n):\n",
    "        if i%2!=0:\n",
    "            l.append(i)\n",
    "    yield l\n",
    "\n",
    "next(get_odds())[2]"
   ]
  },
  {
   "cell_type": "markdown",
   "id": "acd415cd",
   "metadata": {},
   "source": [
    "# Q10. Define an exception called OopsException. Raise this exception to see what happens. Then write the code to catch this exception and print 'Caught an oops'."
   ]
  },
  {
   "cell_type": "code",
   "execution_count": 5,
   "id": "9571e483",
   "metadata": {},
   "outputs": [
    {
     "name": "stdout",
     "output_type": "stream",
     "text": [
      "Enter the positive integer:--1\n",
      "Caught in Oops -> name 'a' is not defined\n"
     ]
    }
   ],
   "source": [
    "class OopsException(Exception):\n",
    "    pass\n",
    "\n",
    "def test(input):\n",
    "    if input <0:\n",
    "        raise OopsException(a)\n",
    "try:\n",
    "    n=int(input(\"Enter the positive integer:-\"))\n",
    "    test(n)\n",
    "except Exception as e:\n",
    "    print('Caught in Oops ->',e)"
   ]
  },
  {
   "cell_type": "markdown",
   "id": "a2310037",
   "metadata": {},
   "source": [
    "# Q11. Use zip() to make a dictionary called movies that pairs these lists: titles = ['Creature of Habit', 'Crewel Fate'] and plots = ['A nun turns into a monster', 'A haunted yarn shop']."
   ]
  },
  {
   "cell_type": "code",
   "execution_count": 4,
   "id": "034325aa",
   "metadata": {},
   "outputs": [
    {
     "name": "stdout",
     "output_type": "stream",
     "text": [
      "{'Creature of Habit': 'A nun turns into a monster', 'Crewel Fate': 'A haunted yarn shop'}\n"
     ]
    }
   ],
   "source": [
    "titles = ['Creature of Habit', 'Crewel Fate'] \n",
    "plots = ['A nun turns into a monster', 'A haunted yarn shop']\n",
    "print(dict(zip(titles,plots)))"
   ]
  }
 ],
 "metadata": {
  "kernelspec": {
   "display_name": "Python 3 (ipykernel)",
   "language": "python",
   "name": "python3"
  },
  "language_info": {
   "codemirror_mode": {
    "name": "ipython",
    "version": 3
   },
   "file_extension": ".py",
   "mimetype": "text/x-python",
   "name": "python",
   "nbconvert_exporter": "python",
   "pygments_lexer": "ipython3",
   "version": "3.10.2"
  }
 },
 "nbformat": 4,
 "nbformat_minor": 5
}
