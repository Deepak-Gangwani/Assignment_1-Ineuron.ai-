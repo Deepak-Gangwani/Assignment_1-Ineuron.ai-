{
 "cells": [
  {
   "cell_type": "markdown",
   "id": "68bcf89a",
   "metadata": {},
   "source": [
    "# Q1. What is the name of the feature responsible for generating Regex() objects?"
   ]
  },
  {
   "cell_type": "markdown",
   "id": "1f6ab5b4",
   "metadata": {},
   "source": [
    "Answer)re.compile()"
   ]
  },
  {
   "cell_type": "markdown",
   "id": "ef59b40c",
   "metadata": {},
   "source": [
    "# Q2. Why do raw strings often appear in Regex objects?"
   ]
  },
  {
   "cell_type": "code",
   "execution_count": 2,
   "id": "f05337a2",
   "metadata": {},
   "outputs": [
    {
     "name": "stdout",
     "output_type": "stream",
     "text": [
      "\\n\n"
     ]
    }
   ],
   "source": [
    "import re\n",
    "print(r\"\\n\")#print the \\n"
   ]
  },
  {
   "cell_type": "markdown",
   "id": "47ba07be",
   "metadata": {},
   "source": [
    "# Q3. What is the return value of the search() method?"
   ]
  },
  {
   "cell_type": "code",
   "execution_count": 5,
   "id": "1da7f564",
   "metadata": {},
   "outputs": [
    {
     "name": "stdout",
     "output_type": "stream",
     "text": [
      "<re.Match object; span=(1, 2), match='y'>\n",
      "None\n"
     ]
    }
   ],
   "source": [
    "a=\"my name is deepak and i will do my best\"\n",
    "#find the string\n",
    "match=re.search(\"y\",a)\n",
    "print(match)\n",
    "\n",
    "#when the given string is not there\n",
    "match=re.search(\"x\",a)\n",
    "print(match)\n",
    "\n"
   ]
  },
  {
   "cell_type": "markdown",
   "id": "3181a9ea",
   "metadata": {},
   "source": [
    "# Q4. From a Match item, how do you get the actual strings that match the pattern?"
   ]
  },
  {
   "cell_type": "code",
   "execution_count": 9,
   "id": "75af785d",
   "metadata": {},
   "outputs": [
    {
     "name": "stdout",
     "output_type": "stream",
     "text": [
      "result: deepak\n"
     ]
    }
   ],
   "source": [
    "match = re.search('deepak',a)\n",
    "print(\"result:\",match.group())"
   ]
  },
  {
   "cell_type": "markdown",
   "id": "5ed901ec",
   "metadata": {},
   "source": [
    "# Q5. In the regex which created from the r'(\\d\\d\\d)-(\\d\\d\\d-\\d\\d\\d\\d)', what does group zero cover? Group 2? Group 1?"
   ]
  },
  {
   "cell_type": "code",
   "execution_count": 19,
   "id": "a9411dcc",
   "metadata": {},
   "outputs": [
    {
     "name": "stdout",
     "output_type": "stream",
     "text": [
      "1. ('123', '456-7890')\n",
      "2. 123-456-7890\n",
      "3. 123\n",
      "4. 456-7890\n"
     ]
    }
   ],
   "source": [
    "mystr2=\"Good morning sir,If you want to contact us so please dial on 123-456-7890\"\n",
    "match=re.search('(\\d\\d\\d)-(\\d\\d\\d-\\d\\d\\d\\d)',mystr2)\n",
    "print(\"1.\",match.groups()) # Prints all groups in a tuple format\n",
    "print(\"2.\",match.group()) # Always returns the fully matched string \n",
    "print(\"3.\",match.group(1)) # Returns the first group\n",
    "print(\"4.\",match.group(2)) # Returns the second group"
   ]
  },
  {
   "cell_type": "markdown",
   "id": "3e5d87bb",
   "metadata": {},
   "source": [
    "# Q6. In standard expression syntax, parentheses and intervals have distinct meanings. How can you tell a regex that you want it to fit real parentheses and periods?"
   ]
  },
  {
   "cell_type": "code",
   "execution_count": 24,
   "id": "717f2186",
   "metadata": {},
   "outputs": [
    {
     "name": "stdout",
     "output_type": "stream",
     "text": [
      "(123)-456-7890\n"
     ]
    }
   ],
   "source": [
    "mystr2=\"Good morning sir,If you want to contact us so please dial on (123)-456-7890\"\n",
    "match=re.search('(\\(\\d\\d\\d\\))-(\\d\\d\\d-\\d\\d\\d\\d)',mystr2)\n",
    "print(match.group())"
   ]
  },
  {
   "cell_type": "markdown",
   "id": "1617576a",
   "metadata": {},
   "source": [
    "# Q7. The findall() method returns a string list or a list of string tuples. What causes it to return one of the two options?"
   ]
  },
  {
   "cell_type": "code",
   "execution_count": 26,
   "id": "c8bf88f2",
   "metadata": {
    "scrolled": true
   },
   "outputs": [
    {
     "name": "stdout",
     "output_type": "stream",
     "text": [
      "[('(123)', '456-7890')]\n"
     ]
    }
   ],
   "source": [
    "#the number which is divided into tuple is stored in list with findall() function\n",
    "mystr2=\"Good morning sir,If you want to contact us so please dial on (123)-456-7890\"\n",
    "match=re.findall('(\\(\\d\\d\\d\\))-(\\d\\d\\d-\\d\\d\\d\\d)',mystr2)\n",
    "print(match)"
   ]
  },
  {
   "cell_type": "markdown",
   "id": "7733b26a",
   "metadata": {},
   "source": [
    "# Q8. In standard expressions, what does the | character mean?"
   ]
  },
  {
   "cell_type": "markdown",
   "id": "39071fe8",
   "metadata": {},
   "source": [
    "Answer)In Standard Expressions | means OR operator."
   ]
  },
  {
   "cell_type": "markdown",
   "id": "57c5657a",
   "metadata": {},
   "source": [
    "# Q9. In regular expressions, what does the ? character stand for?"
   ]
  },
  {
   "cell_type": "code",
   "execution_count": 14,
   "id": "ff246fb8",
   "metadata": {},
   "outputs": [
    {
     "name": "stdout",
     "output_type": "stream",
     "text": [
      "<re.Match object; span=(40, 44), match='mens'>\n",
      "<re.Match object; span=(40, 46), match='womens'>\n"
     ]
    }
   ],
   "source": [
    "a=\"It's an pleasure to inform you that all mens plays equal role.\"\n",
    "b=\"It's an pleasure to inform you that all womens plays equal role.\"\n",
    "match1 = re.search(\"(wo)?mens\",a)\n",
    "print(match1)\n",
    "match2 = re.search(\"(wo)?mens\",b)\n",
    "print(match2)"
   ]
  },
  {
   "cell_type": "markdown",
   "id": "1f6bdaf8",
   "metadata": {},
   "source": [
    "# Q10.In regular expressions, what is the difference between the + and * characters?"
   ]
  },
  {
   "cell_type": "code",
   "execution_count": 20,
   "id": "c5fbd9fb",
   "metadata": {},
   "outputs": [
    {
     "name": "stdout",
     "output_type": "stream",
     "text": [
      "1.*:- <re.Match object; span=(40, 44), match='mens'>\n",
      "2.+:- None\n"
     ]
    }
   ],
   "source": [
    "a=\"It's an pleasure to inform you that all mens plays equal role.\"\n",
    "match1 = re.search(\"(wo)*mens\",a)\n",
    "print(\"1.*:-\",match1)\n",
    "match2 = re.search(\"(wo)+mens\",a)\n",
    "print(\"2.+:-\",match2)"
   ]
  },
  {
   "cell_type": "markdown",
   "id": "540e0a8a",
   "metadata": {},
   "source": [
    "# Q11. What is the difference between {4} and {4,5} in regular expression?"
   ]
  },
  {
   "cell_type": "markdown",
   "id": "759197b5",
   "metadata": {},
   "source": [
    "Answer){4} means that its preceeding group should repeat 4 times. where as {4,5} means that its preceeding group should repeat mininum 4 times and maximum 5 times inclusively"
   ]
  },
  {
   "cell_type": "markdown",
   "id": "9bf187a6",
   "metadata": {},
   "source": [
    "# Q12. What do you mean by the \\d, \\w, and \\s shorthand character classes signify in regular expressions?"
   ]
  },
  {
   "cell_type": "code",
   "execution_count": null,
   "id": "e15f37b4",
   "metadata": {},
   "outputs": [],
   "source": [
    "Answer)\n",
    "\\d Returns a match where the string contains digits (numbers from 0-9)\n",
    "\\s Returns a match where the string contains a white space character\n",
    "\\w Returns a match where the string contains any word characters (characters from a to Z, digits from 0-9, and the underscore _ character)"
   ]
  },
  {
   "cell_type": "markdown",
   "id": "ca9e4f8f",
   "metadata": {},
   "source": [
    "# Q13. What do means by \\D, \\W, and \\S shorthand character classes signify in regular expressions?"
   ]
  },
  {
   "cell_type": "code",
   "execution_count": null,
   "id": "f27f3e13",
   "metadata": {},
   "outputs": [],
   "source": [
    "Answer)\n",
    "\\D Returns a match where the string DOES NOT contain digits\n",
    "\\S Returns a match where the string DOES NOT contain a white space character\n",
    "\\W Returns a match where the string DOES NOT contain any word characters"
   ]
  },
  {
   "cell_type": "markdown",
   "id": "f61b604e",
   "metadata": {},
   "source": [
    "# Q14. What is the difference between .*? and .*?"
   ]
  },
  {
   "cell_type": "markdown",
   "id": "9d070a2a",
   "metadata": {},
   "source": [
    "Answer).* is a Greedy mode, which returns the longest string that meets the condition. Whereas .*? is a non greedy mode which returns the shortest string that meets the condition."
   ]
  },
  {
   "cell_type": "markdown",
   "id": "1f613d7b",
   "metadata": {},
   "source": [
    "# Q15. What is the syntax for matching both numbers and lowercase letters with a character class?"
   ]
  },
  {
   "cell_type": "markdown",
   "id": "7f2f78fd",
   "metadata": {},
   "source": [
    " Answer)The Synatax is Either [a-z,0-9] or [0-9,a-z]"
   ]
  },
  {
   "cell_type": "markdown",
   "id": "1a8d5f24",
   "metadata": {},
   "source": [
    "# Q16. What is the procedure for making a normal expression in regax case insensitive?"
   ]
  },
  {
   "cell_type": "markdown",
   "id": "480018e8",
   "metadata": {},
   "source": [
    "Answer)We can pass re.IGNORECASE as a flag to make a normal expression case insensitive"
   ]
  },
  {
   "cell_type": "markdown",
   "id": "10b17138",
   "metadata": {},
   "source": [
    "# Q17. What does the . character normally match? What does it match if re.DOTALL is passed as 2nd argument in re.compile()?"
   ]
  },
  {
   "cell_type": "markdown",
   "id": "0493e0ad",
   "metadata": {},
   "source": [
    "Answer)Dot . character matches everything in input except newline character .. By passing re.DOTALL as a flag to re.compile(), you can make the dot character match all characters, including the newline character."
   ]
  },
  {
   "cell_type": "markdown",
   "id": "d4dff56a",
   "metadata": {},
   "source": [
    "# Q18. If numReg = re.compile(r'\\d+'), what will numRegex.sub('X', '11 drummers, 10 pipers, five rings, 4 hen') return?"
   ]
  },
  {
   "cell_type": "code",
   "execution_count": 22,
   "id": "7393c685",
   "metadata": {},
   "outputs": [
    {
     "data": {
      "text/plain": [
       "'X drummers, X pipers, five rings, X hen'"
      ]
     },
     "execution_count": 22,
     "metadata": {},
     "output_type": "execute_result"
    }
   ],
   "source": [
    "numRegex = re.compile(r'\\d+')\n",
    "numRegex.sub('X', '11 drummers, 10 pipers, five rings, 4 hen')"
   ]
  },
  {
   "cell_type": "markdown",
   "id": "4236a94b",
   "metadata": {},
   "source": [
    "# Q19. What does passing re.VERBOSE as the 2nd argument to re.compile() allow to do?"
   ]
  },
  {
   "cell_type": "markdown",
   "id": "9a09b1c2",
   "metadata": {},
   "source": [
    "Answer)re.VERBOSE will allow to add whitespace and comments to string passed to re.compile()."
   ]
  },
  {
   "cell_type": "markdown",
   "id": "51602ca0",
   "metadata": {},
   "source": [
    "# Q20. How would you write a regex that match a number with comma for every three digits? It must match the given following:"
   ]
  },
  {
   "cell_type": "code",
   "execution_count": null,
   "id": "25a8eb26",
   "metadata": {},
   "outputs": [],
   "source": [
    "'42'\n",
    "'1,234'\n",
    "'6,368,745'\n",
    "but not the following:\n",
    "'12,34,567' (which has only two digits between the commas)\n",
    "'1234' (which lacks commas)"
   ]
  },
  {
   "cell_type": "code",
   "execution_count": 27,
   "id": "856d3a30",
   "metadata": {},
   "outputs": [
    {
     "name": "stdout",
     "output_type": "stream",
     "text": [
      "Output: 42 -> <re.Match object; span=(0, 2), match='42'>\n",
      "Output: 1,234 -> <re.Match object; span=(0, 5), match='1,234'>\n",
      "Output: 6,368,745 -> <re.Match object; span=(0, 9), match='6,368,745'>\n",
      "Output: 12,34,567 -> None\n",
      "Output: 1234 -> None\n"
     ]
    }
   ],
   "source": [
    "list=['42','1,234', '6,368,745','12,34,567','1234']\n",
    "\n",
    "pattern = r'^\\d{1,3}(,\\d{3})*$'\n",
    "pagex = re.compile(pattern)\n",
    "for i in list:\n",
    "    print('Output:',i, '->', pagex.search(i))"
   ]
  },
  {
   "cell_type": "markdown",
   "id": "2836c0e9",
   "metadata": {},
   "source": [
    "# 21. How would you write a regex that matches the full name of someone whose last name is Watanabe? You can assume that the first name that comes before it will always be one word that begins with a capital letter. "
   ]
  },
  {
   "cell_type": "code",
   "execution_count": null,
   "id": "1cb374c2",
   "metadata": {},
   "outputs": [],
   "source": [
    "The regex must match the following:\n",
    "'Haruto Watanabe'\n",
    "'Alice Watanabe'\n",
    "'RoboCop Watanabe'\n",
    "\n",
    "but not the following:\n",
    "'haruto Watanabe' (where the first name is not capitalized)\n",
    "'Mr. Watanabe' (where the preceding word has a nonletter character)\n",
    "'Watanabe' (which has no first name)\n",
    "'Haruto watanabe' (where Watanabe is not capitalized)"
   ]
  },
  {
   "cell_type": "code",
   "execution_count": 32,
   "id": "615ebbcb",
   "metadata": {},
   "outputs": [
    {
     "name": "stdout",
     "output_type": "stream",
     "text": [
      "Output:  Haruto Watanabe -> <re.Match object; span=(0, 15), match='Haruto Watanabe'>\n",
      "Output:  Alice Watanabe -> <re.Match object; span=(0, 14), match='Alice Watanabe'>\n",
      "Output:  RoboCop Watanabe -> <re.Match object; span=(4, 16), match='Cop Watanabe'>\n",
      "Output:  haruto Watanabe -> None\n",
      "Output:  Mr. Watanabe -> None\n",
      "Output:  Watanabe -> None\n",
      "Output:  Haruto watanabe -> None\n"
     ]
    }
   ],
   "source": [
    "list=['Haruto Watanabe','Alice Watanabe','RoboCop Watanabe','haruto Watanabe','Mr. Watanabe','Watanabe','Haruto watanabe']\n",
    "pattern = r'[A-Z]{1}[a-z]*\\sWatanabe'\n",
    "namex = re.compile(pattern)\n",
    "for name in list:\n",
    "    print('Output: ',name,'->',namex.search(name))"
   ]
  },
  {
   "cell_type": "markdown",
   "id": "d838750d",
   "metadata": {},
   "source": [
    "# Q22. How would you write a regex that matches a sentence where the first word is either Alice, Bob,or Carol; the second word is either eats, pets, or throws; the third word is apples, cats, or baseballs; and the sentence ends with a period? This regex should be case-insensitive."
   ]
  },
  {
   "cell_type": "code",
   "execution_count": null,
   "id": "55cf6abf",
   "metadata": {},
   "outputs": [],
   "source": [
    "It must match the following:\n",
    "'Alice eats apples.'\n",
    "'Bob pets cats.'\n",
    "'Carol throws baseballs.'\n",
    "'Alice throws Apples.'\n",
    "'BOB EATS CATS.'\n",
    "\n",
    "but not the following:\n",
    "'RoboCop eats apples.'\n",
    "'ALICE THROWS FOOTBALLS.'\n",
    "'Carol eats 7 cats.'"
   ]
  },
  {
   "cell_type": "code",
   "execution_count": 47,
   "id": "1409ae20",
   "metadata": {},
   "outputs": [
    {
     "name": "stdout",
     "output_type": "stream",
     "text": [
      "List 0:  Alice eats apples. -> <re.Match object; span=(0, 18), match='Alice eats apples.'>\n",
      "List 1:  Bob pets cats. -> <re.Match object; span=(0, 14), match='Bob pets cats.'>\n",
      "List 2:  Carol throws baseballs. -> <re.Match object; span=(0, 23), match='Carol throws baseballs.'>\n",
      "List 3:  Alice throws Apples. -> <re.Match object; span=(0, 20), match='Alice throws Apples.'>\n",
      "List 4:  BOB EATS CATS. -> <re.Match object; span=(0, 14), match='BOB EATS CATS.'>\n",
      "List 5:  RoboCop eats apples. -> None\n",
      "List 6:  ALICE THROWS FOOTBALLS. -> None\n",
      "List 7:  Carol eats 7 cats. -> None\n"
     ]
    }
   ],
   "source": [
    "list=['Alice eats apples.','Bob pets cats.','Carol throws baseballs.','Alice throws Apples.','BOB EATS CATS.','RoboCop eats apples.','ALICE THROWS FOOTBALLS.','Carol eats 7 cats.']\n",
    "\n",
    "pattern = r'(Alice|Bob|Carol)\\s(eats|pets|throws)\\s(apples|cats|baseballs)\\.'\n",
    "namex = re.compile(pattern,re.IGNORECASE)\n",
    "for i in list:\n",
    "    print(f'List {list.index(i)}: ',i,'->',namex.search(i))"
   ]
  },
  {
   "cell_type": "code",
   "execution_count": null,
   "id": "aad611b2",
   "metadata": {},
   "outputs": [],
   "source": []
  }
 ],
 "metadata": {
  "kernelspec": {
   "display_name": "Python 3 (ipykernel)",
   "language": "python",
   "name": "python3"
  },
  "language_info": {
   "codemirror_mode": {
    "name": "ipython",
    "version": 3
   },
   "file_extension": ".py",
   "mimetype": "text/x-python",
   "name": "python",
   "nbconvert_exporter": "python",
   "pygments_lexer": "ipython3",
   "version": "3.10.2"
  }
 },
 "nbformat": 4,
 "nbformat_minor": 5
}
