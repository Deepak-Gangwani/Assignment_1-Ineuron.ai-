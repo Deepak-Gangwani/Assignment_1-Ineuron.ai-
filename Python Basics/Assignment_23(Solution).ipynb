{
 "cells": [
  {
   "cell_type": "markdown",
   "id": "c3bd98a9",
   "metadata": {},
   "source": [
    "# Q1. What is the result of the code, and why?"
   ]
  },
  {
   "cell_type": "markdown",
   "id": "7fed0402",
   "metadata": {},
   "source": [
    ">>> def func(a, b=6, c=8): # b and c default arguement is given \n",
    "print(a, b, c)\n",
    ">>> func(1, 2)"
   ]
  },
  {
   "cell_type": "code",
   "execution_count": 1,
   "id": "5f19a35e",
   "metadata": {},
   "outputs": [
    {
     "name": "stdout",
     "output_type": "stream",
     "text": [
      "1 2 8\n"
     ]
    }
   ],
   "source": [
    "def func(a,b=6,c=8):\n",
    "    print(a,b,c)\n",
    "    \n",
    "func(1,2)    "
   ]
  },
  {
   "cell_type": "markdown",
   "id": "1c80add2",
   "metadata": {},
   "source": [
    "The above output is 1,2,8 because the third arguement is a default arguement which been called through func(). "
   ]
  },
  {
   "cell_type": "markdown",
   "id": "7307a3af",
   "metadata": {},
   "source": [
    "# Q2. What is the result of this code, and why?"
   ]
  },
  {
   "cell_type": "markdown",
   "id": "b09428a1",
   "metadata": {},
   "source": [
    ">>> def func(a, b, c=5):\n",
    "print(a, b, c)\n",
    ">>> func(1, c=3, b=2)"
   ]
  },
  {
   "cell_type": "code",
   "execution_count": 2,
   "id": "d1162d15",
   "metadata": {},
   "outputs": [
    {
     "name": "stdout",
     "output_type": "stream",
     "text": [
      "1 2 3\n"
     ]
    }
   ],
   "source": [
    "def func(a,b,c=5):  # c default argument is given which is 5\n",
    "    print(a,b,c)\n",
    "    \n",
    "func(1,c=3,b=2)    "
   ]
  },
  {
   "cell_type": "markdown",
   "id": "55bcaf4a",
   "metadata": {},
   "source": [
    "It is because the function will use default values only when a value for a argument is not provided and if the argument name is mentioned while doing a function call, the order of arguments is also ignored by the python interpreter"
   ]
  },
  {
   "cell_type": "markdown",
   "id": "85ea4a87",
   "metadata": {},
   "source": [
    "# Q3. How about this code: what is its result, and why?"
   ]
  },
  {
   "cell_type": "markdown",
   "id": "eb741343",
   "metadata": {},
   "source": [
    ">>> def func(a, *pargs):\n",
    "print(a, pargs)\n",
    ">>> func(1, 2, 3)"
   ]
  },
  {
   "cell_type": "code",
   "execution_count": 3,
   "id": "be538340",
   "metadata": {},
   "outputs": [
    {
     "name": "stdout",
     "output_type": "stream",
     "text": [
      "1 (2, 3)\n"
     ]
    }
   ],
   "source": [
    "def func(a,*pargs):\n",
    "    print(a,pargs)\n",
    "    \n",
    "func(1,2,3)    "
   ]
  },
  {
   "cell_type": "markdown",
   "id": "47408743",
   "metadata": {},
   "source": [
    "*pargs stands for variable length arguments. This format is used when we are not sure about the number of arguments to be passed to a function. All the values under this argument will be stored in a tuple."
   ]
  },
  {
   "cell_type": "markdown",
   "id": "8a4b5971",
   "metadata": {},
   "source": [
    "# Q4. What does this code print, and why?"
   ]
  },
  {
   "cell_type": "markdown",
   "id": "820d6cea",
   "metadata": {},
   "source": [
    ">>> def func(a, **kargs):\n",
    "print(a, kargs)\n",
    ">>> func(a=1, c=3, b=2)"
   ]
  },
  {
   "cell_type": "code",
   "execution_count": 4,
   "id": "3a21b878",
   "metadata": {},
   "outputs": [
    {
     "name": "stdout",
     "output_type": "stream",
     "text": [
      "1 {'c': 3, 'b': 2}\n"
     ]
    }
   ],
   "source": [
    "def func(a,**kargs):\n",
    "    print(a,kargs)\n",
    "    \n",
    "func(a=1,c=3,b=2)    "
   ]
  },
  {
   "cell_type": "markdown",
   "id": "da906215",
   "metadata": {},
   "source": [
    "**args stands for variable length keyword arguments. This format is used when we want pass key value pairs as input to a function. All these key value pairs will be stored in a dictionary"
   ]
  },
  {
   "cell_type": "markdown",
   "id": "dfe3f287",
   "metadata": {},
   "source": [
    "# Q5. What gets printed by this, and explain?"
   ]
  },
  {
   "cell_type": "markdown",
   "id": "5aba7aaf",
   "metadata": {},
   "source": [
    ">>> def func(a, b, c=8, d=5): print(a, b, c, d)\n",
    ">>> func(1, *(5, 6))"
   ]
  },
  {
   "cell_type": "code",
   "execution_count": 6,
   "id": "95307c99",
   "metadata": {},
   "outputs": [
    {
     "name": "stdout",
     "output_type": "stream",
     "text": [
      "1 5 6 5\n"
     ]
    }
   ],
   "source": [
    "def func(a,b,c=8,d=5):\n",
    "    print(a,b,c,d)\n",
    "    \n",
    "func(1,*(5,6))    "
   ]
  },
  {
   "cell_type": "markdown",
   "id": "ebdabccd",
   "metadata": {},
   "source": [
    "The reason for this function not throwing an error is because, this function expects 4 arguments. The value for a is provided explicitly whereas for arguments b and c, the function will expand *(5,6) and consider the value of b as 5 and value of c as 6. Since the default value of d is provided in function declaration, d value will be 5. However it is recommended to use the feature of positional arguments at the end."
   ]
  },
  {
   "cell_type": "markdown",
   "id": "adb821b8",
   "metadata": {},
   "source": [
    "# Q6. what is the result of this, and explain?"
   ]
  },
  {
   "cell_type": "markdown",
   "id": "a09feb3e",
   "metadata": {},
   "source": [
    ">>> def func(a, b, c): a = 2; b[0] = 'x'; c['a'] = 'y'\n",
    ">>> l=1; m=[1]; n={'a':0}\n",
    ">>> func(l, m, n)\n",
    ">>> l, m, n"
   ]
  },
  {
   "cell_type": "code",
   "execution_count": 12,
   "id": "f7773ed0",
   "metadata": {},
   "outputs": [
    {
     "data": {
      "text/plain": [
       "(1, ['x'], {'a': 'y'})"
      ]
     },
     "execution_count": 12,
     "metadata": {},
     "output_type": "execute_result"
    }
   ],
   "source": [
    "def func(a,b,c):a=2;b[0]='x';c['a']='y'\n",
    "l=1;m=[1];n={'a':0}\n",
    "\n",
    "func(l,m,n)\n",
    "l,m,n"
   ]
  },
  {
   "cell_type": "markdown",
   "id": "9c6a56d4",
   "metadata": {},
   "source": [
    "Even though Python gives importance to indentation, it provides a facility to declare an entire function in one single line where statements in a function body are sepereated by ;\n",
    "When l,m,n are provided as inputs to the function, it modifies the values of l,m,n and sets the value of l=2 ,m=['x'] and n={'a':'y'}"
   ]
  },
  {
   "cell_type": "code",
   "execution_count": null,
   "id": "5c5f21a3",
   "metadata": {},
   "outputs": [],
   "source": []
  }
 ],
 "metadata": {
  "kernelspec": {
   "display_name": "Python 3 (ipykernel)",
   "language": "python",
   "name": "python3"
  },
  "language_info": {
   "codemirror_mode": {
    "name": "ipython",
    "version": 3
   },
   "file_extension": ".py",
   "mimetype": "text/x-python",
   "name": "python",
   "nbconvert_exporter": "python",
   "pygments_lexer": "ipython3",
   "version": "3.10.2"
  }
 },
 "nbformat": 4,
 "nbformat_minor": 5
}
