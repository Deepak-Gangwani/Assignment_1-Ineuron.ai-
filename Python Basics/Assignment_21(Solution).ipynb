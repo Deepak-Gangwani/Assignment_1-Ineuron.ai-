{
 "cells": [
  {
   "cell_type": "markdown",
   "id": "ecbaa05e",
   "metadata": {},
   "source": [
    "# Q1. Add the current date to the text file today.txt as a string."
   ]
  },
  {
   "cell_type": "code",
   "execution_count": 1,
   "id": "0d9fd8de",
   "metadata": {},
   "outputs": [
    {
     "name": "stdout",
     "output_type": "stream",
     "text": [
      "The date is uploaded successfully\n"
     ]
    }
   ],
   "source": [
    "import datetime\n",
    "\n",
    "with open(\"today.txt\",\"w\") as f:\n",
    "    f.write(datetime.datetime.now().strftime(\"%d-%m-%y\"))\n",
    "    print(\"The date is uploaded successfully\")\n",
    "    f.close()"
   ]
  },
  {
   "cell_type": "code",
   "execution_count": 2,
   "id": "263f96ca",
   "metadata": {},
   "outputs": [
    {
     "name": "stdout",
     "output_type": "stream",
     "text": [
      "27-07-22\n"
     ]
    }
   ],
   "source": [
    "with open(\"today.txt\",\"r\") as f:\n",
    "    data=f.read()\n",
    "    print(data)\n",
    "    f.close()"
   ]
  },
  {
   "cell_type": "markdown",
   "id": "c4619ebe",
   "metadata": {},
   "source": [
    "# Q2. Read the text file today.txt into the string today_string"
   ]
  },
  {
   "cell_type": "code",
   "execution_count": 10,
   "id": "2baf76e9",
   "metadata": {},
   "outputs": [
    {
     "name": "stdout",
     "output_type": "stream",
     "text": [
      "27-07-22\n"
     ]
    }
   ],
   "source": [
    "from datetime import datetime\n",
    "with open(\"today.txt\",\"r\") as f:\n",
    "    today_string=f.read()\n",
    "    print(today_string)\n",
    "    f.close()"
   ]
  },
  {
   "cell_type": "markdown",
   "id": "003d841c",
   "metadata": {},
   "source": [
    "# Q3. Parse the date from today_string."
   ]
  },
  {
   "cell_type": "code",
   "execution_count": 9,
   "id": "163e26ae",
   "metadata": {},
   "outputs": [
    {
     "name": "stdout",
     "output_type": "stream",
     "text": [
      "27-07-22\n"
     ]
    }
   ],
   "source": [
    "with open(\"today.txt\",\"r\") as f:\n",
    "    today_string=f.read()\n",
    "    print(today_string)\n",
    "    f.close()"
   ]
  },
  {
   "cell_type": "markdown",
   "id": "cc5e73ec",
   "metadata": {},
   "source": [
    "# Q4. List the files in your current directory"
   ]
  },
  {
   "cell_type": "code",
   "execution_count": 12,
   "id": "964c6990",
   "metadata": {},
   "outputs": [
    {
     "name": "stdout",
     "output_type": "stream",
     "text": [
      "F:\\ineuron assignment\n",
      "\n",
      "The List of files in current directory are as follows\n"
     ]
    },
    {
     "data": {
      "text/plain": [
       "['.ipynb_checkpoints',\n",
       " 'Assignment_10(Solution).ipynb',\n",
       " 'Assignment_11(Solution).ipynb',\n",
       " 'Assignment_12(Solution).ipynb',\n",
       " 'Assignment_15(solution).ipynb',\n",
       " 'Assignment_16(solution).ipynb',\n",
       " 'Assignment_17(solution).ipynb',\n",
       " 'Assignment_18(Solution).ipynb',\n",
       " 'Assignment_19(Solution).ipynb',\n",
       " 'Assignment_20(Solution).ipynb',\n",
       " 'Assignment_21(Solution).ipynb',\n",
       " 'Assignment_3(Solution).ipynb',\n",
       " 'Assignment_4(Solution).ipynb',\n",
       " 'Assignment_5(Solution).ipynb',\n",
       " 'Assignment_6(Solution).ipynb',\n",
       " 'Assignment_7(Solution).ipynb',\n",
       " 'Assignment_8(Solution).ipynb',\n",
       " 'Assignment_9(Solution).ipynb',\n",
       " 'books.csv',\n",
       " 'TEST.txt',\n",
       " 'today.txt',\n",
       " 'Untitled Folder',\n",
       " 'zoo.py',\n",
       " '__pycache__']"
      ]
     },
     "execution_count": 12,
     "metadata": {},
     "output_type": "execute_result"
    }
   ],
   "source": [
    "import os\n",
    "print(os.getcwd())\n",
    "print(\"\\nThe List of files in current directory are as follows\")\n",
    "os.listdir()"
   ]
  },
  {
   "cell_type": "markdown",
   "id": "e82a8cde",
   "metadata": {},
   "source": [
    "# Q5. Create a list of all of the files in your parent directory (minimum five files should be available)."
   ]
  },
  {
   "cell_type": "code",
   "execution_count": 15,
   "id": "ba3cc075",
   "metadata": {},
   "outputs": [
    {
     "name": "stdout",
     "output_type": "stream",
     "text": [
      "F:\\ineuron assignment\n",
      "\n",
      "The List of files in current directory are as follows\n"
     ]
    },
    {
     "data": {
      "text/plain": [
       "['.ipynb_checkpoints',\n",
       " 'Assignment_10(Solution).ipynb',\n",
       " 'Assignment_11(Solution).ipynb',\n",
       " 'Assignment_12(Solution).ipynb',\n",
       " 'Assignment_15(solution).ipynb',\n",
       " 'Assignment_16(solution).ipynb',\n",
       " 'Assignment_17(solution).ipynb',\n",
       " 'Assignment_18(Solution).ipynb',\n",
       " 'Assignment_19(Solution).ipynb',\n",
       " 'Assignment_20(Solution).ipynb',\n",
       " 'Assignment_21(Solution).ipynb',\n",
       " 'Assignment_3(Solution).ipynb',\n",
       " 'Assignment_4(Solution).ipynb',\n",
       " 'Assignment_5(Solution).ipynb',\n",
       " 'Assignment_6(Solution).ipynb',\n",
       " 'Assignment_7(Solution).ipynb',\n",
       " 'Assignment_8(Solution).ipynb',\n",
       " 'Assignment_9(Solution).ipynb',\n",
       " 'books.csv',\n",
       " 'TEST.txt',\n",
       " 'today.txt',\n",
       " 'Untitled Folder',\n",
       " 'zoo.py',\n",
       " '__pycache__']"
      ]
     },
     "execution_count": 15,
     "metadata": {},
     "output_type": "execute_result"
    }
   ],
   "source": [
    "import os\n",
    "print(os.getcwd())\n",
    "print(\"\\nThe List of files in current directory are as follows\")\n",
    "os.listdir()"
   ]
  },
  {
   "cell_type": "markdown",
   "id": "d31de0d0",
   "metadata": {},
   "source": [
    "# Q6. Use multiprocessing to create three separate processes. Make each one wait a random number of seconds between one and five, print the current time, and then exit."
   ]
  },
  {
   "cell_type": "code",
   "execution_count": 1,
   "id": "36f37e2f",
   "metadata": {},
   "outputs": [
    {
     "name": "stdout",
     "output_type": "stream",
     "text": [
      "process1 start time:-2022-07-27 19:23:16.470073\n",
      "process1 end time:-2022-07-27 19:23:25.478792\n",
      "\n",
      "process2 start time:-2022-07-27 19:23:25.478792\n",
      "process2 end time:-2022-07-27 19:23:26.482785\n",
      "\n",
      "process3 start time:-2022-07-27 19:23:26.482785\n",
      "process3 end time:-2022-07-27 19:23:35.493969\n",
      "\n"
     ]
    }
   ],
   "source": [
    "import multiprocessing\n",
    "import time\n",
    "import random\n",
    "import datetime\n",
    "\n",
    "def process1():\n",
    "    print(f\"process1 start time:-{datetime.datetime.now()}\")\n",
    "    time.sleep(random.randint(1,10))\n",
    "    print(f\"process1 end time:-{datetime.datetime.now()}\\n\")\n",
    "    \n",
    "def process2():\n",
    "    print(f\"process2 start time:-{datetime.datetime.now()}\")\n",
    "    time.sleep(random.randint(1,10))\n",
    "    print(f\"process2 end time:-{datetime.datetime.now()}\\n\") \n",
    "    \n",
    "def process3():\n",
    "    print(f\"process3 start time:-{datetime.datetime.now()}\")\n",
    "    time.sleep(random.randint(1,10))\n",
    "    print(f\"process3 end time:-{datetime.datetime.now()}\\n\")    \n",
    "    \n",
    "    \n",
    "if __name__ == \"__main__\":  \n",
    "    p1=multiprocessing.Process(target=process1())\n",
    "    p2=multiprocessing.Process(target=process2())\n",
    "    p3=multiprocessing.Process(target=process3())\n",
    "    \n",
    "    p1.start()\n",
    "    p2.start()\n",
    "    p3.start()\n",
    "\n",
    "    p1.join()\n",
    "    p2.join()\n",
    "    p3.join()"
   ]
  },
  {
   "cell_type": "markdown",
   "id": "218942ec",
   "metadata": {},
   "source": [
    "# Q7. Create a date object of your day of birth."
   ]
  },
  {
   "cell_type": "code",
   "execution_count": 13,
   "id": "4908d83b",
   "metadata": {},
   "outputs": [
    {
     "name": "stdout",
     "output_type": "stream",
     "text": [
      "2000-12-05 00:00:00\n",
      "<class 'datetime.datetime'>\n"
     ]
    }
   ],
   "source": [
    "from datetime import datetime\n",
    "\n",
    "date=datetime.strptime(\"05/12/2000\",\"%d/%m/%Y\")\n",
    "print(date)\n",
    "print(type(date))"
   ]
  },
  {
   "cell_type": "markdown",
   "id": "8f1ebfdf",
   "metadata": {},
   "source": [
    "# Q8. What day of the week was your day of birth?"
   ]
  },
  {
   "cell_type": "code",
   "execution_count": 14,
   "id": "9c9d290b",
   "metadata": {},
   "outputs": [
    {
     "data": {
      "text/plain": [
       "'Tuesday'"
      ]
     },
     "execution_count": 14,
     "metadata": {},
     "output_type": "execute_result"
    }
   ],
   "source": [
    "date=datetime(2000,12,5)\n",
    "date.strftime(\"%A\")"
   ]
  },
  {
   "cell_type": "markdown",
   "id": "bbff9eb6",
   "metadata": {},
   "source": [
    "# Q9. When will you be (or when were you) 10,000 days old?"
   ]
  },
  {
   "cell_type": "code",
   "execution_count": 18,
   "id": "93d13221",
   "metadata": {},
   "outputs": [
    {
     "data": {
      "text/plain": [
       "datetime.datetime(2028, 4, 22, 0, 0)"
      ]
     },
     "execution_count": 18,
     "metadata": {},
     "output_type": "execute_result"
    }
   ],
   "source": [
    "from datetime import datetime,timedelta\n",
    "date = datetime.strptime(\"5/12/2000\",'%d/%m/%Y')\n",
    "After_date = date+timedelta(10000)\n",
    "After_date"
   ]
  }
 ],
 "metadata": {
  "kernelspec": {
   "display_name": "Python 3 (ipykernel)",
   "language": "python",
   "name": "python3"
  },
  "language_info": {
   "codemirror_mode": {
    "name": "ipython",
    "version": 3
   },
   "file_extension": ".py",
   "mimetype": "text/x-python",
   "name": "python",
   "nbconvert_exporter": "python",
   "pygments_lexer": "ipython3",
   "version": "3.10.2"
  }
 },
 "nbformat": 4,
 "nbformat_minor": 5
}
