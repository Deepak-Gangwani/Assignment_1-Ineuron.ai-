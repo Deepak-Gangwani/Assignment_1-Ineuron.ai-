{
 "cells": [
  {
   "cell_type": "markdown",
   "id": "bd995de5",
   "metadata": {},
   "source": [
    "# Q1. Set the variable test1 to the string 'This is a test of the emergency text system,' and save test1 to a file named test.txt."
   ]
  },
  {
   "cell_type": "code",
   "execution_count": 1,
   "id": "584be8c8",
   "metadata": {},
   "outputs": [
    {
     "name": "stdout",
     "output_type": "stream",
     "text": [
      "This is a test of the emergency text system\n",
      "File saved successfully\n"
     ]
    }
   ],
   "source": [
    "test1='This is a test of the emergency text system'\n",
    "print(test1)\n",
    "with open(\"TEST.txt\",\"w\") as f:\n",
    "    f.write(test1)\n",
    "    print(\"File saved successfully\")\n",
    "    f.close()"
   ]
  },
  {
   "cell_type": "code",
   "execution_count": 2,
   "id": "ef3a16c6",
   "metadata": {},
   "outputs": [
    {
     "name": "stdout",
     "output_type": "stream",
     "text": [
      "This is a test of the emergency text system\n"
     ]
    }
   ],
   "source": [
    "with open(\"TEST.txt\",\"r\") as f:\n",
    "    data=f.read()\n",
    "    print(data)\n",
    "    f.close()"
   ]
  },
  {
   "cell_type": "markdown",
   "id": "e00a9515",
   "metadata": {},
   "source": [
    "# Q2. Read the contents of the file test.txt into the variable test2. Is there a difference between test 1 and test 2?"
   ]
  },
  {
   "cell_type": "code",
   "execution_count": 3,
   "id": "32804f89",
   "metadata": {},
   "outputs": [
    {
     "name": "stdout",
     "output_type": "stream",
     "text": [
      "This is a test of the emergency text system\n",
      "Difference between test1 and test2:- True\n"
     ]
    }
   ],
   "source": [
    "with open(\"TEST.txt\",\"r\") as f:\n",
    "    test2=f.read()\n",
    "    print(test2)\n",
    "    f.close()\n",
    "    \n",
    "print(\"Difference between test1 and test2:-\",test1==test2)    "
   ]
  },
  {
   "cell_type": "markdown",
   "id": "716a2b35",
   "metadata": {},
   "source": [
    "# Q3. Create a CSV file called books.csv by using these lines:"
   ]
  },
  {
   "cell_type": "markdown",
   "id": "617aaa69",
   "metadata": {},
   "source": [
    "title,author,year\n",
    "The Weirdstone of Brisingamen,Alan Garner,1960\n",
    "Perdido Street Station,China Miéville,2000\n",
    "Thud!,Terry Pratchett,2005\n",
    "The Spellman Files,Lisa Lutz,2007\n",
    "Small Gods,Terry Pratchett,1992"
   ]
  },
  {
   "cell_type": "code",
   "execution_count": 4,
   "id": "963cee3b",
   "metadata": {},
   "outputs": [
    {
     "name": "stdout",
     "output_type": "stream",
     "text": [
      "File created successfully\n"
     ]
    }
   ],
   "source": [
    "matter=\"\"\"title,author,year\n",
    "The Weirdstone of Brisingamen,Alan Garner,1960\n",
    "Perdido Street Station,China Miéville,2000\n",
    "Thud!,Terry Pratchett,2005\n",
    "The Spellman Files,Lisa Lutz,2007\n",
    "Small Gods,Terry Pratchett,1992\"\"\"\n",
    "\n",
    "with open(\"books.csv\",\"w\") as f:\n",
    "    f.write(matter)\n",
    "    print(\"File created successfully\")\n",
    "    f.close()\n",
    "    \n",
    "    "
   ]
  },
  {
   "cell_type": "code",
   "execution_count": 5,
   "id": "ee70e5bb",
   "metadata": {},
   "outputs": [
    {
     "name": "stdout",
     "output_type": "stream",
     "text": [
      "title,author,year\n",
      "The Weirdstone of Brisingamen,Alan Garner,1960\n",
      "Perdido Street Station,China Miéville,2000\n",
      "Thud!,Terry Pratchett,2005\n",
      "The Spellman Files,Lisa Lutz,2007\n",
      "Small Gods,Terry Pratchett,1992\n"
     ]
    }
   ],
   "source": [
    "with open(\"books.csv\",\"r\") as f:\n",
    "    data=f.read()\n",
    "    print(data)\n",
    "    f.close()"
   ]
  },
  {
   "cell_type": "markdown",
   "id": "574235a4",
   "metadata": {},
   "source": [
    "# Q4. Use the sqlite3 module to create a SQLite database called books.db, and a table called books with these fields: title (text), author (text), and year (integer)."
   ]
  },
  {
   "cell_type": "code",
   "execution_count": 6,
   "id": "6575661d",
   "metadata": {},
   "outputs": [
    {
     "name": "stdout",
     "output_type": "stream",
     "text": [
      "Note: you may need to restart the kernel to use updated packages.\n"
     ]
    },
    {
     "name": "stderr",
     "output_type": "stream",
     "text": [
      "ERROR: Invalid requirement: 'pysqlite3!'\n"
     ]
    }
   ],
   "source": [
    "pip install pysqlite3! "
   ]
  },
  {
   "cell_type": "code",
   "execution_count": 7,
   "id": "326b5935",
   "metadata": {},
   "outputs": [
    {
     "name": "stdout",
     "output_type": "stream",
     "text": [
      "Collecting pysqlite3\n",
      "  Using cached pysqlite3-0.4.7.tar.gz (40 kB)\n",
      "  Preparing metadata (setup.py): started\n",
      "  Preparing metadata (setup.py): finished with status 'done'\n",
      "Using legacy 'setup.py install' for pysqlite3, since package 'wheel' is not installed.\n",
      "Installing collected packages: pysqlite3\n",
      "  Running setup.py install for pysqlite3: started\n",
      "  Running setup.py install for pysqlite3: finished with status 'done'\n",
      "Successfully installed pysqlite3\n",
      "Note: you may need to restart the kernel to use updated packages.\n"
     ]
    }
   ],
   "source": [
    "pip install pysqlite3"
   ]
  },
  {
   "cell_type": "code",
   "execution_count": 15,
   "id": "b80302e9",
   "metadata": {},
   "outputs": [
    {
     "ename": "OperationalError",
     "evalue": "table books already exists",
     "output_type": "error",
     "traceback": [
      "\u001b[1;31m---------------------------------------------------------------------------\u001b[0m",
      "\u001b[1;31mOperationalError\u001b[0m                          Traceback (most recent call last)",
      "Input \u001b[1;32mIn [15]\u001b[0m, in \u001b[0;36m<cell line: 5>\u001b[1;34m()\u001b[0m\n\u001b[0;32m      3\u001b[0m db\u001b[38;5;241m=\u001b[39msqlite3\u001b[38;5;241m.\u001b[39mconnect(\u001b[38;5;124m\"\u001b[39m\u001b[38;5;124mbooks.db\u001b[39m\u001b[38;5;124m\"\u001b[39m)\n\u001b[0;32m      4\u001b[0m cursor\u001b[38;5;241m=\u001b[39mdb\u001b[38;5;241m.\u001b[39mcursor()\n\u001b[1;32m----> 5\u001b[0m \u001b[43mcursor\u001b[49m\u001b[38;5;241;43m.\u001b[39;49m\u001b[43mexecute\u001b[49m\u001b[43m(\u001b[49m\u001b[38;5;124;43m\"\u001b[39;49m\u001b[38;5;124;43mCREATE TABLE books (title text,author text,year int)\u001b[39;49m\u001b[38;5;124;43m\"\u001b[39;49m\u001b[43m)\u001b[49m\n\u001b[0;32m      6\u001b[0m db\u001b[38;5;241m.\u001b[39mcommit()\n\u001b[0;32m      7\u001b[0m db\u001b[38;5;241m.\u001b[39mclose()\n",
      "\u001b[1;31mOperationalError\u001b[0m: table books already exists"
     ]
    }
   ],
   "source": [
    "import sqlite3\n",
    "\n",
    "db=sqlite3.connect(\"books.db\")\n",
    "cursor=db.cursor()\n",
    "cursor.execute(\"CREATE TABLE books (title text,author text,year int)\")\n",
    "db.commit()\n",
    "db.close()"
   ]
  },
  {
   "cell_type": "markdown",
   "id": "b03a89e1",
   "metadata": {},
   "source": [
    "# Q5. Read books.csv and insert its data into the books table."
   ]
  },
  {
   "cell_type": "code",
   "execution_count": null,
   "id": "24131897",
   "metadata": {
    "scrolled": true
   },
   "outputs": [],
   "source": [
    "import sqlite3\n",
    "import csv\n",
    "connecting=sqlite3.connect(\"books.db\")\n",
    "cursor=connecting.cursor()\n",
    "with open(\"books.csv\",\"r\") as file:\n",
    "    books=csv.DictReader(file)\n",
    "    for book in books:\n",
    "        cursor.execute(book[\"title\"],book[\"author\"],book[\"year\"])\n",
    "connecting.commit()\n",
    "connecting.close()"
   ]
  },
  {
   "cell_type": "markdown",
   "id": "19a5c6bd",
   "metadata": {},
   "source": [
    "# Q6. Select and print the title column from the books table in alphabetical order."
   ]
  },
  {
   "cell_type": "code",
   "execution_count": null,
   "id": "7d7df9e3",
   "metadata": {},
   "outputs": [],
   "source": [
    "import sqlite3\n",
    "conn = sqlite3.connect('books.db')\n",
    "cursor = conn.cursor()\n",
    "output = cursor.execute(\"SELECT title FROM books ORDER BY title ASC\")\n",
    "for i in output:\n",
    "    print(i[0])\n",
    "conn.commit()\n",
    "conn.close()"
   ]
  },
  {
   "cell_type": "markdown",
   "id": "39c5ba5d",
   "metadata": {},
   "source": [
    "# Q7. From the books table, select and print all columns in the order of publication."
   ]
  },
  {
   "cell_type": "code",
   "execution_count": null,
   "id": "533c2785",
   "metadata": {},
   "outputs": [],
   "source": [
    "import sqlite3\n",
    "connection=sqlite3.connect(\"books.db\")\n",
    "cursor=connection.cursor()\n",
    "query=cursor.execute(\"select * from books order by year\")\n",
    "for i in query:\n",
    "    print(i)"
   ]
  },
  {
   "cell_type": "markdown",
   "id": "6d5b3d13",
   "metadata": {},
   "source": [
    "# Q8. Use the sqlalchemy module to connect to the sqlite3 database books.db that you just made in exercise 6."
   ]
  },
  {
   "cell_type": "code",
   "execution_count": 9,
   "id": "1b372bfa",
   "metadata": {},
   "outputs": [
    {
     "name": "stdout",
     "output_type": "stream",
     "text": [
      "Collecting sqlalchemy\n",
      "  Downloading SQLAlchemy-1.4.41-cp310-cp310-win_amd64.whl (1.6 MB)\n",
      "     ---------------------------------------- 1.6/1.6 MB 6.6 MB/s eta 0:00:00\n",
      "Collecting greenlet!=0.4.17\n",
      "  Downloading greenlet-1.1.3-cp310-cp310-win_amd64.whl (101 kB)\n",
      "     -------------------------------------- 101.7/101.7 kB 2.9 MB/s eta 0:00:00\n",
      "Installing collected packages: greenlet, sqlalchemy\n",
      "Successfully installed greenlet-1.1.3 sqlalchemy-1.4.41\n",
      "Note: you may need to restart the kernel to use updated packages.\n"
     ]
    }
   ],
   "source": [
    "pip install sqlalchemy"
   ]
  },
  {
   "cell_type": "code",
   "execution_count": 10,
   "id": "7038ea13",
   "metadata": {},
   "outputs": [
    {
     "data": {
      "text/plain": [
       "Engine(sqlite:///books.db)"
      ]
     },
     "execution_count": 10,
     "metadata": {},
     "output_type": "execute_result"
    }
   ],
   "source": [
    "import sqlalchemy\n",
    "conn = sqlalchemy.create_engine('sqlite:///books.db')\n",
    "conn"
   ]
  },
  {
   "cell_type": "markdown",
   "id": "b08cdbba",
   "metadata": {},
   "source": [
    "# Q9. Install the Redis server and the Python redis library (pip install redis) on your computer. Create a Redis hash called test with the fields count (1) and name ('Fester Bestertester'). Print all the fields for test."
   ]
  },
  {
   "cell_type": "code",
   "execution_count": 11,
   "id": "74979a8c",
   "metadata": {},
   "outputs": [
    {
     "name": "stdout",
     "output_type": "stream",
     "text": [
      "Collecting redis\n",
      "  Downloading redis-4.3.4-py3-none-any.whl (246 kB)\n",
      "     -------------------------------------- 246.2/246.2 kB 3.0 MB/s eta 0:00:00\n",
      "Requirement already satisfied: packaging>=20.4 in c:\\users\\owner\\appdata\\local\\programs\\python\\python310\\lib\\site-packages (from redis) (21.3)\n",
      "Collecting deprecated>=1.2.3\n",
      "  Downloading Deprecated-1.2.13-py2.py3-none-any.whl (9.6 kB)\n",
      "Collecting async-timeout>=4.0.2\n",
      "  Downloading async_timeout-4.0.2-py3-none-any.whl (5.8 kB)\n",
      "Collecting wrapt<2,>=1.10\n",
      "  Downloading wrapt-1.14.1-cp310-cp310-win_amd64.whl (35 kB)\n",
      "Requirement already satisfied: pyparsing!=3.0.5,>=2.0.2 in c:\\users\\owner\\appdata\\local\\programs\\python\\python310\\lib\\site-packages (from packaging>=20.4->redis) (3.0.9)\n",
      "Installing collected packages: wrapt, async-timeout, deprecated, redis\n",
      "Successfully installed async-timeout-4.0.2 deprecated-1.2.13 redis-4.3.4 wrapt-1.14.1\n"
     ]
    }
   ],
   "source": [
    "! python -m pip install redis"
   ]
  },
  {
   "cell_type": "code",
   "execution_count": null,
   "id": "1065cf0e",
   "metadata": {},
   "outputs": [],
   "source": [
    "import redis\n",
    "conn = redis.Redis() # write the redis cluster database location to execute\n",
    "conn.hset('test',{\n",
    "    'count':1,\n",
    "    'name':'Fester Bestertester'\n",
    "})\n",
    "conn.hgetall('test')"
   ]
  },
  {
   "cell_type": "markdown",
   "id": "a2557e60",
   "metadata": {},
   "source": [
    "# Q10. Increment the count field of test and print it."
   ]
  },
  {
   "cell_type": "code",
   "execution_count": null,
   "id": "d905d21b",
   "metadata": {},
   "outputs": [],
   "source": [
    "conn.hincrby('test', 'count', 1)\n",
    "conn.hget('test', 'count')"
   ]
  }
 ],
 "metadata": {
  "kernelspec": {
   "display_name": "Python 3 (ipykernel)",
   "language": "python",
   "name": "python3"
  },
  "language_info": {
   "codemirror_mode": {
    "name": "ipython",
    "version": 3
   },
   "file_extension": ".py",
   "mimetype": "text/x-python",
   "name": "python",
   "nbconvert_exporter": "python",
   "pygments_lexer": "ipython3",
   "version": "3.10.2"
  }
 },
 "nbformat": 4,
 "nbformat_minor": 5
}
