{
 "cells": [
  {
   "cell_type": "markdown",
   "id": "e87f4ea3",
   "metadata": {},
   "source": [
    "# Q1.What are Escape characters ? and how do you use them ?"
   ]
  },
  {
   "cell_type": "markdown",
   "id": "4c82bfb3",
   "metadata": {},
   "source": [
    "Answer)Escape sequence character comprises of more than one characters but represents one character when used withinn the\n",
    "strings.\n",
    "Examples:-\\n,\\t,\\\\',\\\\\\"
   ]
  },
  {
   "cell_type": "code",
   "execution_count": 2,
   "id": "8256f064",
   "metadata": {},
   "outputs": [
    {
     "name": "stdout",
     "output_type": "stream",
     "text": [
      "1.Hello\n",
      "world\n",
      "2.Hello\tworld\n",
      "3.Hello\"Ineuron\"world\n",
      "4.Hello\\Hi\n"
     ]
    }
   ],
   "source": [
    "#Helps to move to next line\n",
    "a=\"Hello\\nworld\"\n",
    "\n",
    "#Helps to give space between words\n",
    "b=\"Hello\\tworld\"\n",
    "\n",
    "#Helps to give Double quotes to a particular word\n",
    "c=\"Hello \\\"Ineuron\\\" world\"\n",
    "\n",
    "#Helps to give single backslash between words\n",
    "d=\"Hello\\\\Hi\"\n",
    "\n",
    "print(f\"1.{a}\\n2.{b}\\n3.{c}\\n4.{d}\")"
   ]
  },
  {
   "cell_type": "markdown",
   "id": "7b5b83af",
   "metadata": {},
   "source": [
    "# Q2.What do the escape characters n and t stand for ?"
   ]
  },
  {
   "cell_type": "code",
   "execution_count": 9,
   "id": "5a4c1e26",
   "metadata": {},
   "outputs": [
    {
     "name": "stdout",
     "output_type": "stream",
     "text": [
      "1.The output which give is next line:-Hello\n",
      "world\n",
      "\n",
      "2.The output which give is space between words:-Hello\tworld\n"
     ]
    }
   ],
   "source": [
    "#Helps to move to next line\n",
    "a=\"Hello\\nworld\"\n",
    "print(f\"1.The output which give is next line:-{a}\\n\")\n",
    "\n",
    "#Helps to give space between words\n",
    "b=\"Hello\\tworld\"\n",
    "print(f\"2.The output which give is space between words:-{b}\")\n"
   ]
  },
  {
   "cell_type": "markdown",
   "id": "d6b808cb",
   "metadata": {},
   "source": [
    "# Q3.What is the way to include backslash character in a string?"
   ]
  },
  {
   "cell_type": "code",
   "execution_count": 11,
   "id": "827d5e4e",
   "metadata": {},
   "outputs": [
    {
     "name": "stdout",
     "output_type": "stream",
     "text": [
      "Hello\\Hi everyone\n"
     ]
    }
   ],
   "source": [
    "#Helps to give single backslash between words\n",
    "d=\"Hello\\\\Hi everyone\"\n",
    "print(d)"
   ]
  },
  {
   "cell_type": "markdown",
   "id": "0f9997cc",
   "metadata": {},
   "source": [
    "# Q4.The string \"Howl's Moving Castle\" is a correct value. Why isn't the single quote character in the word Howl's not escaped a problem ?"
   ]
  },
  {
   "cell_type": "markdown",
   "id": "17b8ac21",
   "metadata": {},
   "source": [
    "Answer)The string statement is correct because the string started with double quotes and endswith double quotes so you can add infinite number of single quotes in string statement there will be no error."
   ]
  },
  {
   "cell_type": "code",
   "execution_count": 13,
   "id": "cd98bbeb",
   "metadata": {},
   "outputs": [
    {
     "data": {
      "text/plain": [
       "\"Howl's Moving Castle\""
      ]
     },
     "execution_count": 13,
     "metadata": {},
     "output_type": "execute_result"
    }
   ],
   "source": [
    "a=\"Howl's Moving Castle\"\n",
    "a"
   ]
  },
  {
   "cell_type": "markdown",
   "id": "69fda2c9",
   "metadata": {},
   "source": [
    "# Q5.How do you write a string of newlines if you don't want to use the n character?"
   ]
  },
  {
   "cell_type": "code",
   "execution_count": 21,
   "id": "8ad73f26",
   "metadata": {},
   "outputs": [
    {
     "name": "stdout",
     "output_type": "stream",
     "text": [
      "Hello everyone my name\n",
      "is Deepak\n"
     ]
    }
   ],
   "source": [
    "#we can use triple quotes to write string in newline\n",
    "a='''Hello everyone my name\n",
    "is Deepak'''\n",
    "print(a)"
   ]
  },
  {
   "cell_type": "markdown",
   "id": "3539f529",
   "metadata": {},
   "source": [
    "# Q6.What are the values of the given expressions ?"
   ]
  },
  {
   "cell_type": "markdown",
   "id": "4daf9646",
   "metadata": {},
   "source": [
    "'Hello, world!'[1]\n",
    "'Hello, world!'[0:5]\n",
    "'Hello, world!'[:5]\n",
    "'Hello, world!'[3:]"
   ]
  },
  {
   "cell_type": "code",
   "execution_count": 28,
   "id": "eefaf47b",
   "metadata": {},
   "outputs": [
    {
     "name": "stdout",
     "output_type": "stream",
     "text": [
      "e\n",
      "Hello\n",
      "Hello\n",
      "lo,world!\n"
     ]
    }
   ],
   "source": [
    "a=\"Hello,world!\"\n",
    "print(a[1])\n",
    "print(a[0:5])\n",
    "print(a[:5])\n",
    "print(a[3:])"
   ]
  },
  {
   "cell_type": "markdown",
   "id": "b66da466",
   "metadata": {},
   "source": [
    "# Q7.What are the values of the following expressions ?"
   ]
  },
  {
   "cell_type": "markdown",
   "id": "74ae2d15",
   "metadata": {},
   "source": [
    "'Hello'.upper()\n",
    "'Hello'.upper().isupper()\n",
    "'Hello'.upper().lower()"
   ]
  },
  {
   "cell_type": "code",
   "execution_count": 31,
   "id": "862cf6d8",
   "metadata": {},
   "outputs": [
    {
     "name": "stdout",
     "output_type": "stream",
     "text": [
      "HELLO,WORLD!\n",
      "True\n",
      "hello,world!\n"
     ]
    }
   ],
   "source": [
    "a=\"Hello,world!\"\n",
    "print(a.upper())\n",
    "print(a.upper().isupper())\n",
    "print(a.upper().lower())"
   ]
  },
  {
   "cell_type": "markdown",
   "id": "f06300f7",
   "metadata": {},
   "source": [
    "# Q8.What are the values of the following expressions ?"
   ]
  },
  {
   "cell_type": "markdown",
   "id": "e82ffeb4",
   "metadata": {},
   "source": [
    "'Remember, remember, the fifth of July.'.split()\n",
    "-'.join('There can only one'.split())\n"
   ]
  },
  {
   "cell_type": "code",
   "execution_count": 40,
   "id": "9a567478",
   "metadata": {},
   "outputs": [
    {
     "name": "stdout",
     "output_type": "stream",
     "text": [
      "['Remember,', 'remember,', 'the', 'fifth', 'of', 'July.']\n",
      "There-can-only-one\n"
     ]
    }
   ],
   "source": [
    "a=\"Remember, remember, the fifth of July.\"\n",
    "b=\"There can only one\"\n",
    "print(a.split())\n",
    "print(\"-\".join(b.split()))\n"
   ]
  },
  {
   "cell_type": "markdown",
   "id": "b578c5ba",
   "metadata": {},
   "source": [
    "# Q9.What are the methods for right-justifying, left-justifying and centering a string ?"
   ]
  },
  {
   "cell_type": "code",
   "execution_count": 3,
   "id": "510e794b",
   "metadata": {},
   "outputs": [
    {
     "name": "stdout",
     "output_type": "stream",
     "text": [
      "my name is deepak\n",
      "\n",
      "\n",
      "*************my name is deepak\n",
      "\n",
      "\n",
      "my name is deepak*************\n",
      "\n",
      "\n",
      "******my name is deepak*******\n",
      "\n",
      "\n"
     ]
    }
   ],
   "source": [
    "a=\"my name is deepak\"\n",
    "print(a)\n",
    "print(\"\\n\")\n",
    "print(a.rjust(30,\"*\"))#Right justifying\n",
    "print(\"\\n\")\n",
    "print(a.ljust(30,\"*\"))#left justifying\n",
    "print(\"\\n\")\n",
    "print(a.center(30,\"*\"))#Centerring a string\n",
    "print(\"\\n\")"
   ]
  },
  {
   "cell_type": "markdown",
   "id": "cb988f14",
   "metadata": {},
   "source": [
    "# Q10.What is the best way to remove whitespace characters from the start or end ?"
   ]
  },
  {
   "cell_type": "code",
   "execution_count": 9,
   "id": "13290dcc",
   "metadata": {},
   "outputs": [
    {
     "name": "stdout",
     "output_type": "stream",
     "text": [
      "******my name is deepak*******\n",
      "\n",
      "******my name is deepak\n",
      "\n",
      "my name is deepak*******\n",
      "\n",
      "my name is deepak\n",
      "\n"
     ]
    }
   ],
   "source": [
    "a=\"******my name is deepak*******\"\n",
    "print(f\"{a}\\n\")\n",
    "print(f\"{a.rstrip('*')}\\n\")\n",
    "print(f\"{a.lstrip('*')}\\n\")\n",
    "print(f\"{a.strip('*')}\\n\")"
   ]
  }
 ],
 "metadata": {
  "kernelspec": {
   "display_name": "Python 3 (ipykernel)",
   "language": "python",
   "name": "python3"
  },
  "language_info": {
   "codemirror_mode": {
    "name": "ipython",
    "version": 3
   },
   "file_extension": ".py",
   "mimetype": "text/x-python",
   "name": "python",
   "nbconvert_exporter": "python",
   "pygments_lexer": "ipython3",
   "version": "3.10.2"
  }
 },
 "nbformat": 4,
 "nbformat_minor": 5
}
