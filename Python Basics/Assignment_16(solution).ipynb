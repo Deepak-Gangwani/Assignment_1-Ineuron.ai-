{
 "cells": [
  {
   "cell_type": "markdown",
   "id": "058d4812",
   "metadata": {},
   "source": [
    "# Q1. Create a list called years_list, starting with the year of your birth, and each year thereafter until the year of your fifth birthday. For example, if you were born in 1980. the list would be years_list = [1980, 1981, 1982, 1983, 1984, 1985]."
   ]
  },
  {
   "cell_type": "code",
   "execution_count": 24,
   "id": "f1815f96",
   "metadata": {},
   "outputs": [
    {
     "name": "stdout",
     "output_type": "stream",
     "text": [
      "Enter your birth year:-2000\n",
      "2000\n",
      "2001\n",
      "2002\n",
      "2003\n",
      "2004\n",
      "2005\n",
      "[2000, 2001, 2002, 2003, 2004, 2005]\n"
     ]
    }
   ],
   "source": [
    "n=int(input(\"Enter your birth year:-\"))\n",
    "years_list=[]\n",
    "for i in range(n,n+6):\n",
    "    print(i)\n",
    "    years_list.append(i)\n",
    "    i=i+1   \n",
    "    \n",
    "print(years_list)"
   ]
  },
  {
   "cell_type": "markdown",
   "id": "41ec136f",
   "metadata": {},
   "source": [
    "# Q2. In which year in years_list was your third birthday? Remember, you were 0 years of age for your first year."
   ]
  },
  {
   "cell_type": "code",
   "execution_count": 25,
   "id": "92ad92f9",
   "metadata": {},
   "outputs": [
    {
     "name": "stdout",
     "output_type": "stream",
     "text": [
      "2003\n"
     ]
    }
   ],
   "source": [
    "print(years_list[3])"
   ]
  },
  {
   "cell_type": "markdown",
   "id": "c4e49ec5",
   "metadata": {},
   "source": [
    "# Q3.In the years list, which year were you the oldest?"
   ]
  },
  {
   "cell_type": "code",
   "execution_count": 26,
   "id": "840ad330",
   "metadata": {},
   "outputs": [
    {
     "name": "stdout",
     "output_type": "stream",
     "text": [
      "2005\n"
     ]
    }
   ],
   "source": [
    "print(years_list[-1])"
   ]
  },
  {
   "cell_type": "markdown",
   "id": "59ea15cb",
   "metadata": {},
   "source": [
    "# Q4. Make a list called things with these three strings as elements: \"mozzarella\", \"cinderella\", \"salmonella\"."
   ]
  },
  {
   "cell_type": "code",
   "execution_count": 3,
   "id": "e2de7fb3",
   "metadata": {},
   "outputs": [
    {
     "name": "stdout",
     "output_type": "stream",
     "text": [
      "['mozzarella', 'cinderella', 'salmonella']\n"
     ]
    }
   ],
   "source": [
    "things=[\"mozzarella\",\"cinderella\",\"salmonella\"]\n",
    "print(things)"
   ]
  },
  {
   "cell_type": "markdown",
   "id": "9da512a3",
   "metadata": {},
   "source": [
    "# Q5. Capitalize the element in things that refers to a person and then print the list. Did it change the element in the list?"
   ]
  },
  {
   "cell_type": "code",
   "execution_count": 4,
   "id": "757220c9",
   "metadata": {},
   "outputs": [
    {
     "name": "stdout",
     "output_type": "stream",
     "text": [
      "['mozzarella', 'Cinderella', 'salmonella']\n"
     ]
    }
   ],
   "source": [
    "for e in range(len(things)):\n",
    "    if things[e]==\"cinderella\":\n",
    "        things[e]=things[e].capitalize()# this will make the cinderella capitalize by Cinderella\n",
    "        \n",
    "print(things)        "
   ]
  },
  {
   "cell_type": "markdown",
   "id": "a23917df",
   "metadata": {},
   "source": [
    "# Q6. Make a surprise list with the elements \"Groucho,\" \"Chico,\" and \"Harpo.\""
   ]
  },
  {
   "cell_type": "code",
   "execution_count": 5,
   "id": "2b4a7fd4",
   "metadata": {},
   "outputs": [
    {
     "name": "stdout",
     "output_type": "stream",
     "text": [
      "['Groucho', 'Chico', 'Harpo']\n"
     ]
    }
   ],
   "source": [
    "surprise=[\"Groucho\",\"Chico\",\"Harpo\"]\n",
    "print(surprise)"
   ]
  },
  {
   "cell_type": "markdown",
   "id": "616ff7ee",
   "metadata": {},
   "source": [
    "# Q7. Lowercase the last element of the surprise list, reverse it, and then capitalize it."
   ]
  },
  {
   "cell_type": "code",
   "execution_count": 24,
   "id": "d3b3484b",
   "metadata": {},
   "outputs": [
    {
     "name": "stdout",
     "output_type": "stream",
     "text": [
      "Harpo\n",
      "harpo\n",
      "oprah\n",
      "Oprah\n"
     ]
    }
   ],
   "source": [
    "print(surprise[-1])# printing the last element\n",
    "print(surprise[-1].lower())# printing the last element in  lowercase\n",
    "print(surprise[-1][::-1].lower())# printing the last element in reverse form\n",
    "print(surprise[-1][::-1].capitalize())# printing the last reverse element in reverse order"
   ]
  },
  {
   "cell_type": "markdown",
   "id": "2faa886a",
   "metadata": {},
   "source": [
    "# Q8. Make an English-to-French dictionary called e2f and print it. Here are your starter words: dog is chien, cat is chat, and walrus is morse."
   ]
  },
  {
   "cell_type": "code",
   "execution_count": 2,
   "id": "c67274ca",
   "metadata": {},
   "outputs": [
    {
     "name": "stdout",
     "output_type": "stream",
     "text": [
      "{'dog': 'chien', 'cat': 'chat', 'walrus': 'morse'}\n"
     ]
    }
   ],
   "source": [
    "e2f={\"dog\":\"chien\",\"cat\":\"chat\",\"walrus\":\"morse\"}\n",
    "print(e2f)"
   ]
  },
  {
   "cell_type": "markdown",
   "id": "8c78b997",
   "metadata": {},
   "source": [
    "# Q9. Write the French word for walrus in your three-word dictionary e2f."
   ]
  },
  {
   "cell_type": "code",
   "execution_count": 5,
   "id": "22c80887",
   "metadata": {},
   "outputs": [
    {
     "name": "stdout",
     "output_type": "stream",
     "text": [
      "morse\n"
     ]
    }
   ],
   "source": [
    "print(e2f.get(\"walrus\"))"
   ]
  },
  {
   "cell_type": "markdown",
   "id": "a4e785c6",
   "metadata": {},
   "source": [
    "# Q10. Make a French-to-English dictionary called f2e from e2f. Use the items method."
   ]
  },
  {
   "cell_type": "code",
   "execution_count": 63,
   "id": "1cc479bb",
   "metadata": {},
   "outputs": [
    {
     "name": "stdout",
     "output_type": "stream",
     "text": [
      "{'chein': 'dog', 'chat': 'cat', 'morse': 'waalrus'}\n"
     ]
    }
   ],
   "source": [
    "f2e={\"chein\":\"dog\",\"chat\":\"cat\",\"morse\":\"waalrus\"}\n",
    "print(f2e)"
   ]
  },
  {
   "cell_type": "markdown",
   "id": "f913bfa5",
   "metadata": {},
   "source": [
    "# Q11. Print the English version of the French word chien using f2e."
   ]
  },
  {
   "cell_type": "code",
   "execution_count": 64,
   "id": "cdd0d073",
   "metadata": {},
   "outputs": [
    {
     "name": "stdout",
     "output_type": "stream",
     "text": [
      "dog\n"
     ]
    }
   ],
   "source": [
    "print(f2e.get('chein'))"
   ]
  },
  {
   "cell_type": "markdown",
   "id": "959e079c",
   "metadata": {},
   "source": [
    "# Q12. Make and print a set of English words from the keys in e2f."
   ]
  },
  {
   "cell_type": "code",
   "execution_count": 65,
   "id": "750874c4",
   "metadata": {},
   "outputs": [
    {
     "name": "stdout",
     "output_type": "stream",
     "text": [
      "dict_keys(['dog', 'cat', 'walrus'])\n"
     ]
    }
   ],
   "source": [
    "print(e2f.keys())"
   ]
  },
  {
   "cell_type": "markdown",
   "id": "3f798130",
   "metadata": {},
   "source": [
    "# Q13. Make a multilevel dictionary called life. Use these strings for the topmost keys: 'animals', 'plants', and 'other'. Make the 'animals' key refer to another dictionary with the keys 'cats', 'octopi', and 'emus'. Make the 'cats' key refer to a list of strings with the values 'Henri', 'Grumpy', and 'Lucy'. Make all the other keys refer to empty dictionaries."
   ]
  },
  {
   "cell_type": "code",
   "execution_count": 66,
   "id": "68cfd13b",
   "metadata": {},
   "outputs": [
    {
     "name": "stdout",
     "output_type": "stream",
     "text": [
      "{'animals': {'cats': ['Henri', 'Grumpy', 'Lucy'], 'octopi': {}, 'emus': {}}, 'plants': {}, 'other': {}}\n"
     ]
    }
   ],
   "source": [
    "life={\"animals\":{\"cats\":[\"Henri\",\"Grumpy\",\"Lucy\"],\"octopi\":{},\"emus\":{}},\"plants\":{},\"other\":{}}\n",
    "print(life)"
   ]
  },
  {
   "cell_type": "markdown",
   "id": "e6b6a903",
   "metadata": {},
   "source": [
    "# Q14. Print the top-level keys of life."
   ]
  },
  {
   "cell_type": "code",
   "execution_count": 67,
   "id": "594c7241",
   "metadata": {},
   "outputs": [
    {
     "name": "stdout",
     "output_type": "stream",
     "text": [
      "dict_keys(['animals', 'plants', 'other'])\n"
     ]
    }
   ],
   "source": [
    "print(life.keys())"
   ]
  },
  {
   "cell_type": "markdown",
   "id": "0a6a7d10",
   "metadata": {},
   "source": [
    "# Q15. Print the keys for life['animals']."
   ]
  },
  {
   "cell_type": "code",
   "execution_count": 71,
   "id": "56508293",
   "metadata": {},
   "outputs": [
    {
     "name": "stdout",
     "output_type": "stream",
     "text": [
      "dict_keys(['cats', 'octopi', 'emus'])\n"
     ]
    }
   ],
   "source": [
    "print(life[\"animals\"].keys())"
   ]
  },
  {
   "cell_type": "markdown",
   "id": "c0a71d0b",
   "metadata": {},
   "source": [
    "# Q16. Print the values for life['animals']['cats']"
   ]
  },
  {
   "cell_type": "code",
   "execution_count": 73,
   "id": "da55e278",
   "metadata": {},
   "outputs": [
    {
     "name": "stdout",
     "output_type": "stream",
     "text": [
      "['Henri', 'Grumpy', 'Lucy']\n"
     ]
    }
   ],
   "source": [
    "print(life[\"animals\"][\"cats\"])"
   ]
  }
 ],
 "metadata": {
  "kernelspec": {
   "display_name": "Python 3 (ipykernel)",
   "language": "python",
   "name": "python3"
  },
  "language_info": {
   "codemirror_mode": {
    "name": "ipython",
    "version": 3
   },
   "file_extension": ".py",
   "mimetype": "text/x-python",
   "name": "python",
   "nbconvert_exporter": "python",
   "pygments_lexer": "ipython3",
   "version": "3.10.2"
  }
 },
 "nbformat": 4,
 "nbformat_minor": 5
}
