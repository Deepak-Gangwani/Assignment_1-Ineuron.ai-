{
 "cells": [
  {
   "cell_type": "markdown",
   "id": "aea4b56e",
   "metadata": {},
   "source": [
    "# Q1. What exactly is []?"
   ]
  },
  {
   "cell_type": "markdown",
   "id": "7fed41cf",
   "metadata": {},
   "source": [
    "Answer) It is list which contain no items in question also known as empty list.A list are containers to store a set of values of any data type."
   ]
  },
  {
   "cell_type": "markdown",
   "id": "d1ef23e3",
   "metadata": {},
   "source": [
    "# Q2. In a list of values stored in a variable called spam, how would you assign the value hello as the third value? (Assume [2, 4, 6, 8, 10] are in spam.)"
   ]
  },
  {
   "cell_type": "code",
   "execution_count": 3,
   "id": "13547a95",
   "metadata": {},
   "outputs": [
    {
     "name": "stdout",
     "output_type": "stream",
     "text": [
      "[2, 4, 6, 8, 10]\n",
      "[2, 4, 'hello', 6, 8, 10]\n"
     ]
    }
   ],
   "source": [
    "spam=[2,4,6,8,10]\n",
    "print(spam)\n",
    "spam.insert(2,\"hello\")\n",
    "print(spam)"
   ]
  },
  {
   "cell_type": "markdown",
   "id": "3477507e",
   "metadata": {},
   "source": [
    "# Q3. What is the value of spam[int(int('3'*2)//11)] ?"
   ]
  },
  {
   "cell_type": "code",
   "execution_count": 7,
   "id": "5f2411b2",
   "metadata": {},
   "outputs": [
    {
     "data": {
      "text/plain": [
       "8"
      ]
     },
     "execution_count": 7,
     "metadata": {},
     "output_type": "execute_result"
    }
   ],
   "source": [
    "spam=[2,4,6,8,10]\n",
    "spam[int(int('3'*2)//11)]"
   ]
  },
  {
   "cell_type": "markdown",
   "id": "b1be2546",
   "metadata": {},
   "source": [
    "# Q4. What is the value of spam[-1]?"
   ]
  },
  {
   "cell_type": "code",
   "execution_count": 8,
   "id": "b156aed5",
   "metadata": {},
   "outputs": [
    {
     "data": {
      "text/plain": [
       "10"
      ]
     },
     "execution_count": 8,
     "metadata": {},
     "output_type": "execute_result"
    }
   ],
   "source": [
    "spam=[2,4,6,8,10]\n",
    "spam[-1]"
   ]
  },
  {
   "cell_type": "markdown",
   "id": "3253cb83",
   "metadata": {},
   "source": [
    "# Q5. What is the value of spam[:2]?"
   ]
  },
  {
   "cell_type": "code",
   "execution_count": 9,
   "id": "7c1e9876",
   "metadata": {},
   "outputs": [
    {
     "data": {
      "text/plain": [
       "[2, 4]"
      ]
     },
     "execution_count": 9,
     "metadata": {},
     "output_type": "execute_result"
    }
   ],
   "source": [
    "spam=[2,4,6,8,10]\n",
    "spam[:2]"
   ]
  },
  {
   "cell_type": "markdown",
   "id": "15f2b1fd",
   "metadata": {},
   "source": [
    "# Q6. What is the value of bacon.index('cat')?"
   ]
  },
  {
   "cell_type": "code",
   "execution_count": 10,
   "id": "10112a17",
   "metadata": {},
   "outputs": [
    {
     "data": {
      "text/plain": [
       "2"
      ]
     },
     "execution_count": 10,
     "metadata": {},
     "output_type": "execute_result"
    }
   ],
   "source": [
    "bacon=['mouse','dog','cat']\n",
    "bacon.index('cat')"
   ]
  },
  {
   "cell_type": "markdown",
   "id": "9fb0b4f1",
   "metadata": {},
   "source": [
    "# Q7. How does bacon.append(99) change the look of the list value in bacon?\n",
    "Answer)append feature is used add item at the end of the list"
   ]
  },
  {
   "cell_type": "code",
   "execution_count": 16,
   "id": "b4ac158c",
   "metadata": {},
   "outputs": [
    {
     "name": "stdout",
     "output_type": "stream",
     "text": [
      "['mouse', 'dog', 'cat']\n",
      "['mouse', 'dog', 'cat', 99]\n"
     ]
    }
   ],
   "source": [
    "bacon=['mouse','dog','cat']\n",
    "print(bacon)\n",
    "bacon.append(99)\n",
    "print(bacon)"
   ]
  },
  {
   "cell_type": "markdown",
   "id": "998e5876",
   "metadata": {},
   "source": [
    "# Q8. How does bacon.remove('cat') change the look of the list in bacon?"
   ]
  },
  {
   "cell_type": "code",
   "execution_count": 14,
   "id": "ed17670f",
   "metadata": {},
   "outputs": [
    {
     "name": "stdout",
     "output_type": "stream",
     "text": [
      "['mouse', 'dog', 'cat']\n",
      "['mouse', 'dog']\n"
     ]
    }
   ],
   "source": [
    "bacon=['mouse','dog','cat']\n",
    "print(bacon)\n",
    "bacon.remove('cat')\n",
    "print(bacon)"
   ]
  },
  {
   "cell_type": "markdown",
   "id": "75f3b8ce",
   "metadata": {},
   "source": [
    "# Q9.what are the list concatenation and list replication operations?"
   ]
  },
  {
   "cell_type": "markdown",
   "id": "eee93992",
   "metadata": {},
   "source": [
    "Answer)The operator for list concatenation is + operator, while the operator for replication is * operator."
   ]
  },
  {
   "cell_type": "code",
   "execution_count": 19,
   "id": "4912b879",
   "metadata": {},
   "outputs": [
    {
     "name": "stdout",
     "output_type": "stream",
     "text": [
      "[2, 4, 6, 8, 10, 'mouse', 'dog', 'cat']\n",
      "['mouse', 'dog', 'cat', 'mouse', 'dog', 'cat', 'mouse', 'dog', 'cat']\n"
     ]
    }
   ],
   "source": [
    "spam=[2,4,6,8,10]\n",
    "bacon=['mouse','dog','cat']\n",
    "print(spam+bacon)#list concatenation\n",
    "print(bacon*3)#list replication"
   ]
  },
  {
   "cell_type": "markdown",
   "id": "eef367f3",
   "metadata": {},
   "source": [
    "# Q10.what is the difference between the list method append() and insert()?"
   ]
  },
  {
   "cell_type": "markdown",
   "id": "2847f928",
   "metadata": {},
   "source": [
    "Answer)1.list method append():adds the data at end of the list,\n",
    "       2.list method insert():this will add data at the given index"
   ]
  },
  {
   "cell_type": "markdown",
   "id": "fffd6a02",
   "metadata": {},
   "source": [
    "same like Q2 & Q7"
   ]
  },
  {
   "cell_type": "markdown",
   "id": "8a009a57",
   "metadata": {},
   "source": [
    "# Q11. What are the two methods for removing items from a list?"
   ]
  },
  {
   "cell_type": "markdown",
   "id": "74283566",
   "metadata": {},
   "source": [
    "Answer)The two methods for removing items from a list are del & remove()"
   ]
  },
  {
   "cell_type": "code",
   "execution_count": 25,
   "id": "4a613a11",
   "metadata": {},
   "outputs": [
    {
     "name": "stdout",
     "output_type": "stream",
     "text": [
      "[2, 4, 6, 8, 10]\n",
      "[2, 6, 8, 10]\n",
      "[6, 8, 10]\n"
     ]
    }
   ],
   "source": [
    "spam=[2,4,6,8,10]\n",
    "print(spam)\n",
    "del spam[1]#1st method of removing items\n",
    "print(spam)\n",
    "spam.remove(2)#2nd method of removing items\n",
    "print(spam)"
   ]
  },
  {
   "cell_type": "markdown",
   "id": "15555723",
   "metadata": {},
   "source": [
    "# Q12. Describe how list values and string values are identical."
   ]
  },
  {
   "cell_type": "markdown",
   "id": "b1dbea73",
   "metadata": {},
   "source": [
    "Answer)\n",
    "1.Both lists and strings can be passed to len() function.\n",
    "2.Have indexes and slices, be used in for loops.\n",
    "3.Can be concatenated or replicated.\n",
    "4.Can be used with the in and not in operators."
   ]
  },
  {
   "cell_type": "markdown",
   "id": "a65080a0",
   "metadata": {},
   "source": [
    "# Q13. What's the difference between tuples and lists?"
   ]
  },
  {
   "cell_type": "markdown",
   "id": "57838ff9",
   "metadata": {},
   "source": [
    "Answer)Lists are Mutable, Indexable and Slicable. they can have values added, removed, or changed.lists use the square brackets, [].whereas\n",
    "Tuples are Immutable but Indexable and Slicable. the tuple values cannot be changed at all. Also, tuples are represented using parentheses, ()."
   ]
  },
  {
   "cell_type": "markdown",
   "id": "d5cdbcec",
   "metadata": {},
   "source": [
    "# Q14. How do you type a tuple value that only contains the integer 42?"
   ]
  },
  {
   "cell_type": "code",
   "execution_count": 27,
   "id": "96eb2ecb",
   "metadata": {},
   "outputs": [
    {
     "name": "stdout",
     "output_type": "stream",
     "text": [
      "<class 'tuple'>\n"
     ]
    }
   ],
   "source": [
    "t=(42,)\n",
    "print(type(t))"
   ]
  },
  {
   "cell_type": "markdown",
   "id": "294823a7",
   "metadata": {},
   "source": [
    "# Q15. How do you get a list value's tuple form? How do you get a tuple value's list form?"
   ]
  },
  {
   "cell_type": "code",
   "execution_count": 31,
   "id": "b2075bc4",
   "metadata": {},
   "outputs": [
    {
     "name": "stdout",
     "output_type": "stream",
     "text": [
      "<class 'tuple'>\n",
      "[1, 2, 3, 4]\n"
     ]
    }
   ],
   "source": [
    "t=(1,2,3,4,)\n",
    "print(type(t))\n",
    "print(list(t))"
   ]
  },
  {
   "cell_type": "code",
   "execution_count": 33,
   "id": "76b5cae3",
   "metadata": {},
   "outputs": [
    {
     "name": "stdout",
     "output_type": "stream",
     "text": [
      "<class 'list'>\n",
      "(1, 2, 3, 4)\n"
     ]
    }
   ],
   "source": [
    "t=[1,2,3,4]\n",
    "print(type(t))\n",
    "print(tuple(t))"
   ]
  },
  {
   "cell_type": "markdown",
   "id": "3c9b385e",
   "metadata": {},
   "source": [
    "# Q16. Variables that \"contain\" list values are not necessarily lists themselves. Instead, what do they contain?"
   ]
  },
  {
   "cell_type": "markdown",
   "id": "a139a18d",
   "metadata": {},
   "source": [
    "Answer)They contain references to list values."
   ]
  },
  {
   "cell_type": "markdown",
   "id": "260b1d5c",
   "metadata": {},
   "source": [
    "# Q17. How do you distinguish between copy.copy() and copy.deepcopy()?"
   ]
  },
  {
   "cell_type": "code",
   "execution_count": 45,
   "id": "6b00d13e",
   "metadata": {},
   "outputs": [
    {
     "name": "stdout",
     "output_type": "stream",
     "text": [
      "['a', 'b', 'c', ['d', 'e', 'f']]\n",
      "['a', 'b', 'c', ['d', 'e', 'f']]\n"
     ]
    }
   ],
   "source": [
    "import copy #importing copy module\n",
    "l1=['a','b','c',['d','e','f']]\n",
    "\n",
    "l2=copy.copy(l1)\n",
    "print(l2)\n",
    "\n",
    "l3=copy.deepcopy(l1)\n",
    "print(l3)"
   ]
  }
 ],
 "metadata": {
  "kernelspec": {
   "display_name": "Python 3 (ipykernel)",
   "language": "python",
   "name": "python3"
  },
  "language_info": {
   "codemirror_mode": {
    "name": "ipython",
    "version": 3
   },
   "file_extension": ".py",
   "mimetype": "text/x-python",
   "name": "python",
   "nbconvert_exporter": "python",
   "pygments_lexer": "ipython3",
   "version": "3.10.2"
  }
 },
 "nbformat": 4,
 "nbformat_minor": 5
}
