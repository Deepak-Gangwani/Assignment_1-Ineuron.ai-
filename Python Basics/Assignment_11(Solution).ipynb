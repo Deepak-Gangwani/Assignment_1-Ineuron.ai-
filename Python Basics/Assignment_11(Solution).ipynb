{
 "cells": [
  {
   "cell_type": "markdown",
   "id": "4b76d98e",
   "metadata": {},
   "source": [
    "# Q1. Create an assert statement that throws an AssertionError if the variable spam is a negative integer."
   ]
  },
  {
   "cell_type": "code",
   "execution_count": 5,
   "id": "34655fd5",
   "metadata": {},
   "outputs": [
    {
     "name": "stdout",
     "output_type": "stream",
     "text": [
      "Enter the positive integer:-1\n"
     ]
    },
    {
     "ename": "AssertionError",
     "evalue": "Negative integer are not allowed in spam",
     "output_type": "error",
     "traceback": [
      "\u001b[1;31m---------------------------------------------------------------------------\u001b[0m",
      "\u001b[1;31mAssertionError\u001b[0m                            Traceback (most recent call last)",
      "Input \u001b[1;32mIn [5]\u001b[0m, in \u001b[0;36m<cell line: 2>\u001b[1;34m()\u001b[0m\n\u001b[0;32m      1\u001b[0m spam \u001b[38;5;241m=\u001b[39m \u001b[38;5;28mint\u001b[39m(\u001b[38;5;28minput\u001b[39m(\u001b[38;5;124m\"\u001b[39m\u001b[38;5;124mEnter the positive integer:\u001b[39m\u001b[38;5;124m\"\u001b[39m))\n\u001b[1;32m----> 2\u001b[0m \u001b[38;5;28;01massert\u001b[39;00m spam \u001b[38;5;241m>\u001b[39m\u001b[38;5;241m=\u001b[39m\u001b[38;5;241m0\u001b[39m,\u001b[38;5;124m\"\u001b[39m\u001b[38;5;124mNegative integer are not allowed in spam\u001b[39m\u001b[38;5;124m\"\u001b[39m\n",
      "\u001b[1;31mAssertionError\u001b[0m: Negative integer are not allowed in spam"
     ]
    }
   ],
   "source": [
    "spam = int(input(\"Enter the positive integer:\"))\n",
    "assert spam >=0,\"Negative integer are not allowed in spam\""
   ]
  },
  {
   "cell_type": "markdown",
   "id": "b6894112",
   "metadata": {},
   "source": [
    "# 2. Write an assert statement that triggers an AssertionError if the variables eggs and bacon contain strings that are the same as each other, even if their cases are different (that is, 'hello' and 'hello' are considered the same, and 'goodbye' and 'GOODbye' are also considered the same)."
   ]
  },
  {
   "cell_type": "code",
   "execution_count": 4,
   "id": "c1f2e665",
   "metadata": {},
   "outputs": [
    {
     "name": "stdout",
     "output_type": "stream",
     "text": [
      "Enter the 1st word:-goodbye\n",
      "\n",
      "\n",
      "Enter the 2nd word:-GOODbye\n"
     ]
    },
    {
     "ename": "AssertionError",
     "evalue": "The both the string are same",
     "output_type": "error",
     "traceback": [
      "\u001b[1;31m---------------------------------------------------------------------------\u001b[0m",
      "\u001b[1;31mAssertionError\u001b[0m                            Traceback (most recent call last)",
      "Input \u001b[1;32mIn [4]\u001b[0m, in \u001b[0;36m<cell line: 6>\u001b[1;34m()\u001b[0m\n\u001b[0;32m      4\u001b[0m bacon\u001b[38;5;241m=\u001b[39m\u001b[38;5;28minput\u001b[39m(\u001b[38;5;124m\"\u001b[39m\u001b[38;5;124mEnter the 2nd word:-\u001b[39m\u001b[38;5;124m\"\u001b[39m)\n\u001b[0;32m      5\u001b[0m bacon\u001b[38;5;241m.\u001b[39mlower()\n\u001b[1;32m----> 6\u001b[0m \u001b[38;5;28;01massert\u001b[39;00m eggs\u001b[38;5;241m==\u001b[39mbacon,\u001b[38;5;124m\"\u001b[39m\u001b[38;5;124mThe both the string are same\u001b[39m\u001b[38;5;124m\"\u001b[39m\n",
      "\u001b[1;31mAssertionError\u001b[0m: The both the string are same"
     ]
    }
   ],
   "source": [
    "eggs=input(\"Enter the 1st word:-\")\n",
    "eggs.lower()\n",
    "print(\"\\n\")\n",
    "bacon=input(\"Enter the 2nd word:-\")\n",
    "bacon.lower()\n",
    "assert eggs==bacon,\"Both string should not be same\"\n"
   ]
  },
  {
   "cell_type": "code",
   "execution_count": 5,
   "id": "12eba6a4",
   "metadata": {},
   "outputs": [
    {
     "name": "stdout",
     "output_type": "stream",
     "text": [
      "Enter the 1st word:-hello\n",
      "\n",
      "\n",
      "Enter the 2nd word:-HELLO\n"
     ]
    },
    {
     "ename": "AssertionError",
     "evalue": "Both string should not be same",
     "output_type": "error",
     "traceback": [
      "\u001b[1;31m---------------------------------------------------------------------------\u001b[0m",
      "\u001b[1;31mAssertionError\u001b[0m                            Traceback (most recent call last)",
      "Input \u001b[1;32mIn [5]\u001b[0m, in \u001b[0;36m<cell line: 6>\u001b[1;34m()\u001b[0m\n\u001b[0;32m      4\u001b[0m bacon\u001b[38;5;241m=\u001b[39m\u001b[38;5;28minput\u001b[39m(\u001b[38;5;124m\"\u001b[39m\u001b[38;5;124mEnter the 2nd word:-\u001b[39m\u001b[38;5;124m\"\u001b[39m)\n\u001b[0;32m      5\u001b[0m bacon\u001b[38;5;241m.\u001b[39mlower()\n\u001b[1;32m----> 6\u001b[0m \u001b[38;5;28;01massert\u001b[39;00m eggs\u001b[38;5;241m==\u001b[39mbacon,\u001b[38;5;124m\"\u001b[39m\u001b[38;5;124mBoth string should not be same\u001b[39m\u001b[38;5;124m\"\u001b[39m\n",
      "\u001b[1;31mAssertionError\u001b[0m: Both string should not be same"
     ]
    }
   ],
   "source": [
    "eggs=input(\"Enter the 1st word:-\")\n",
    "eggs.lower()\n",
    "print(\"\\n\")\n",
    "bacon=input(\"Enter the 2nd word:-\")\n",
    "bacon.lower()\n",
    "assert eggs==bacon,\"Both string should not be same\""
   ]
  },
  {
   "cell_type": "markdown",
   "id": "d1c82599",
   "metadata": {},
   "source": [
    "# Q3. Create an assert statement that throws an AssertionError every time."
   ]
  },
  {
   "cell_type": "code",
   "execution_count": 12,
   "id": "62a63c3d",
   "metadata": {},
   "outputs": [
    {
     "ename": "AssertionError",
     "evalue": "Throws an assertion error",
     "output_type": "error",
     "traceback": [
      "\u001b[1;31m---------------------------------------------------------------------------\u001b[0m",
      "\u001b[1;31mAssertionError\u001b[0m                            Traceback (most recent call last)",
      "Input \u001b[1;32mIn [12]\u001b[0m, in \u001b[0;36m<cell line: 1>\u001b[1;34m()\u001b[0m\n\u001b[1;32m----> 1\u001b[0m \u001b[38;5;28;01massert\u001b[39;00m \u001b[38;5;241m0\u001b[39m,\u001b[38;5;124m\"\u001b[39m\u001b[38;5;124mThrows an assertion error\u001b[39m\u001b[38;5;124m\"\u001b[39m\n",
      "\u001b[1;31mAssertionError\u001b[0m: Throws an assertion error"
     ]
    }
   ],
   "source": [
    "assert 0,\"Throws an assertion error\""
   ]
  },
  {
   "cell_type": "markdown",
   "id": "5a2c82f5",
   "metadata": {},
   "source": [
    "# Q4. What are the two lines that must be present in your software in order to call logging.debug()?"
   ]
  },
  {
   "cell_type": "code",
   "execution_count": 16,
   "id": "05b8ada2",
   "metadata": {},
   "outputs": [],
   "source": [
    "import logging as lg\n",
    "lg.basicConfig(filename=\"C:\\\\Users\\\\owner\\\\logging\\\\test.log\",level=lg.DEBUG,format=\"%(asctime)s %(message)s\")\n",
    "lg.debug(\"This bug can be solve through debugging\")"
   ]
  },
  {
   "cell_type": "markdown",
   "id": "daaf7f31",
   "metadata": {},
   "source": [
    "# Q5. What are the two lines that your program must have in order to have logging.debug() send a logging message to a file named programLog.txt?"
   ]
  },
  {
   "cell_type": "code",
   "execution_count": 28,
   "id": "f810514f",
   "metadata": {},
   "outputs": [],
   "source": [
    "import logging as lg\n",
    "lg.basicConfig(filename=\"programLog.txt\",level=lg.DEBUG,format=\"%(asctime)s %(message)s\")\n",
    "lg.debug(\"This bug can be solve through debugging\")"
   ]
  },
  {
   "cell_type": "markdown",
   "id": "d7c639e1",
   "metadata": {},
   "source": [
    "# Q6. What are the five levels of logging?"
   ]
  },
  {
   "cell_type": "markdown",
   "id": "e84aaec6",
   "metadata": {},
   "source": [
    "Ans)\n",
    "1.Debug,\n",
    "2.Info,\n",
    "3.Warning,\n",
    "4.Error,\n",
    "5.Critical"
   ]
  },
  {
   "cell_type": "markdown",
   "id": "1e79fcc5",
   "metadata": {},
   "source": [
    "# Q7. What line of code would you add to your software to disable all logging messages?"
   ]
  },
  {
   "cell_type": "code",
   "execution_count": 31,
   "id": "ae6d0d2f",
   "metadata": {},
   "outputs": [],
   "source": [
    "lg.disable=True"
   ]
  },
  {
   "cell_type": "markdown",
   "id": "b68dcf0a",
   "metadata": {},
   "source": [
    "# 8.Why is using logging messages better than using print() to display the same message?"
   ]
  },
  {
   "cell_type": "markdown",
   "id": "9f700f35",
   "metadata": {},
   "source": [
    "Ans)print is used when we want to display any particular message or help whereas logging is used to record all events such as error, info, debug messages, timestamps."
   ]
  },
  {
   "cell_type": "markdown",
   "id": "7f1d6ba1",
   "metadata": {},
   "source": [
    "# Q9.What are the differences between the Step Over, Step In, and Step Out buttons in the debugger?"
   ]
  },
  {
   "cell_type": "markdown",
   "id": "c024b8ab",
   "metadata": {},
   "source": [
    "Step in - Step In button will cause the debugger to execute the next line of code and then pause again.\n",
    "\n",
    "Step Over - Step Over button will execute the next line of code, similar to the Step In button. However, if the next line of code is a function call, the Step Over button will “step over” the code in the function. The function’s code will be executed at full speed, and the debugger will pause as soon as the function call returns.\n",
    "\n",
    "Step out - Step Out button will cause the debugger to execute lines of code at full speed until it returns from the current function."
   ]
  },
  {
   "cell_type": "markdown",
   "id": "0b4bac52",
   "metadata": {},
   "source": [
    "# Q10.After you click Continue, when will the debugger stop ?"
   ]
  },
  {
   "cell_type": "markdown",
   "id": "7d437880",
   "metadata": {},
   "source": [
    "Ans)This will cause the program to continue running normally, without pausing for debugging untill it terminates or reaches a breakpoint."
   ]
  },
  {
   "cell_type": "markdown",
   "id": "8384dc81",
   "metadata": {},
   "source": [
    "# Q11. What is the concept of a breakpoint?"
   ]
  },
  {
   "cell_type": "markdown",
   "id": "060df327",
   "metadata": {},
   "source": [
    "Ans) Breakpoint is a setting on a line of code that causes the debugger to pause when the program execution reaches the line."
   ]
  }
 ],
 "metadata": {
  "kernelspec": {
   "display_name": "Python 3 (ipykernel)",
   "language": "python",
   "name": "python3"
  },
  "language_info": {
   "codemirror_mode": {
    "name": "ipython",
    "version": 3
   },
   "file_extension": ".py",
   "mimetype": "text/x-python",
   "name": "python",
   "nbconvert_exporter": "python",
   "pygments_lexer": "ipython3",
   "version": "3.10.2"
  }
 },
 "nbformat": 4,
 "nbformat_minor": 5
}
