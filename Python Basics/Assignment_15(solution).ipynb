{
 "cells": [
  {
   "cell_type": "markdown",
   "id": "11d52277",
   "metadata": {},
   "source": [
    "# Q1.How many seconds are in an hour? Use the interactive interpreter as a calculator and multiply the number of seconds in a minute (60) by the number of minutes in an hour (also 60)."
   ]
  },
  {
   "cell_type": "code",
   "execution_count": 7,
   "id": "182fb48c",
   "metadata": {},
   "outputs": [
    {
     "name": "stdout",
     "output_type": "stream",
     "text": [
      "Enter the number of seconds in an minute:-60\n",
      "Enter the number of minute in an hour:-60\n",
      "\n",
      "The number of seconds in an hour is 3600\n"
     ]
    }
   ],
   "source": [
    "second=int(input(\"Enter the number of seconds in an minute:-\"))\n",
    "minute=int(input(\"Enter the number of minute in an hour:-\"))\n",
    "print(f\"\\nThe number of seconds in an hour is {second*minute}\")"
   ]
  },
  {
   "cell_type": "markdown",
   "id": "7638f683",
   "metadata": {},
   "source": [
    "# Q2. Assign the result from the previous task (seconds in an hour) to a variable called seconds_per_hour."
   ]
  },
  {
   "cell_type": "code",
   "execution_count": 10,
   "id": "464d729f",
   "metadata": {},
   "outputs": [
    {
     "name": "stdout",
     "output_type": "stream",
     "text": [
      "Enter the number of seconds in an minute:-60\n",
      "Enter the number of minute in an hour:-60\n",
      "\n",
      "\n",
      "The number of seconds in an hour is 3600\n"
     ]
    }
   ],
   "source": [
    "second=int(input(\"Enter the number of seconds in an minute:-\"))\n",
    "minute=int(input(\"Enter the number of minute in an hour:-\"))\n",
    "print()\n",
    "seconds_per_hour=second*minute\n",
    "print(f\"\\nThe number of seconds in an hour is {seconds_per_hour}\")"
   ]
  },
  {
   "cell_type": "markdown",
   "id": "22661e29",
   "metadata": {},
   "source": [
    "# Q3. How many seconds do you think there are in a day? Make use of the variables seconds per hour and minutes per hour."
   ]
  },
  {
   "cell_type": "code",
   "execution_count": 11,
   "id": "1bfae797",
   "metadata": {},
   "outputs": [
    {
     "name": "stdout",
     "output_type": "stream",
     "text": [
      "Enter the number of seconds in an minute:-60\n",
      "Enter the number of minute in an hour:-60\n",
      "\n",
      "\n",
      "The number of seconds in an hour is 3600\n",
      "\n",
      "No. of seconds in a day is 86400\n"
     ]
    }
   ],
   "source": [
    "second=int(input(\"Enter the number of seconds in an minute:-\"))\n",
    "minute=int(input(\"Enter the number of minute in an hour:-\"))\n",
    "seconds_per_hour=second*minute\n",
    "print(f\"\\nThe number of seconds in an hour is {seconds_per_hour}\\n\")\n",
    "print(f\"No. of seconds in a day is {seconds_per_hour*24}\")"
   ]
  },
  {
   "cell_type": "markdown",
   "id": "0832607e",
   "metadata": {},
   "source": [
    "# Q4. Calculate seconds per day again, but this time save the result in a variable called seconds_per_day"
   ]
  },
  {
   "cell_type": "code",
   "execution_count": 31,
   "id": "be380a77",
   "metadata": {},
   "outputs": [
    {
     "name": "stdout",
     "output_type": "stream",
     "text": [
      "Enter the number of seconds in an minute:-60\n",
      "Enter the number of minute in an hour:-60\n",
      "\n",
      "The number of seconds in an hour is 3600\n",
      "\n",
      "No. of seconds in a day is  86400\n"
     ]
    }
   ],
   "source": [
    "second=int(input(\"Enter the number of seconds in an minute:-\"))\n",
    "minute=int(input(\"Enter the number of minute in an hour:-\"))\n",
    "\n",
    "seconds_per_hour=second*minute\n",
    "print(f\"\\nThe number of seconds in an hour is {seconds_per_hour}\\n\")\n",
    "\n",
    "seconds_per_day=seconds_per_hour*24\n",
    "print(\"No. of seconds in a day is \",seconds_per_day)"
   ]
  },
  {
   "cell_type": "markdown",
   "id": "2ffff8bb",
   "metadata": {},
   "source": [
    "# Q5. Divide seconds_per_day by seconds_per_hour. Use floating-point (/) division."
   ]
  },
  {
   "cell_type": "code",
   "execution_count": 35,
   "id": "36a3336e",
   "metadata": {},
   "outputs": [
    {
     "data": {
      "text/plain": [
       "24.0"
      ]
     },
     "execution_count": 35,
     "metadata": {},
     "output_type": "execute_result"
    }
   ],
   "source": [
    "float(seconds_per_day/seconds_per_hour)"
   ]
  },
  {
   "cell_type": "markdown",
   "id": "8c4a5190",
   "metadata": {},
   "source": [
    "# Q6. Divide seconds_per_day by seconds_per_hour, using integer (//) division. Did this number agree with the floating-point value from the previous question, aside from the final .0?"
   ]
  },
  {
   "cell_type": "code",
   "execution_count": 37,
   "id": "d8a65118",
   "metadata": {},
   "outputs": [
    {
     "data": {
      "text/plain": [
       "24"
      ]
     },
     "execution_count": 37,
     "metadata": {},
     "output_type": "execute_result"
    }
   ],
   "source": [
    "int(seconds_per_day//seconds_per_hour)"
   ]
  },
  {
   "cell_type": "markdown",
   "id": "42f5b0fa",
   "metadata": {},
   "source": [
    "# Q7. Write a generator, genPrimes, that returns the sequence of prime numbers on successive calls to its next() method: 2, 3, 5, 7, 11, ..."
   ]
  },
  {
   "cell_type": "code",
   "execution_count": 55,
   "id": "3e1cc028",
   "metadata": {},
   "outputs": [
    {
     "name": "stdout",
     "output_type": "stream",
     "text": [
      "2\n",
      "3\n",
      "5\n",
      "7\n",
      "9\n",
      "11\n",
      "13\n",
      "15\n",
      "17\n",
      "19\n",
      "21\n",
      "23\n",
      "25\n",
      "27\n",
      "29\n",
      "31\n",
      "33\n",
      "35\n",
      "37\n",
      "39\n"
     ]
    }
   ],
   "source": [
    "def isPrime(num):\n",
    "    for i in range(2,num):\n",
    "        if num%2==0:\n",
    "            return False\n",
    "    return True    \n",
    "    \n",
    "def genPrimes(count):\n",
    "    num=2\n",
    "    while count:\n",
    "        if isPrime(num):#inheritance\n",
    "            yield num\n",
    "            count=count-1\n",
    "        num=num+1\n",
    "    return  \n",
    "\n",
    "#num=int(input(\"Enter no. of prime numbers to print:-\"))\n",
    "it=genPrimes(30)\n",
    "for e in range(20):\n",
    "    print(next(it))\n",
    "\n",
    "            "
   ]
  }
 ],
 "metadata": {
  "kernelspec": {
   "display_name": "Python 3 (ipykernel)",
   "language": "python",
   "name": "python3"
  },
  "language_info": {
   "codemirror_mode": {
    "name": "ipython",
    "version": 3
   },
   "file_extension": ".py",
   "mimetype": "text/x-python",
   "name": "python",
   "nbconvert_exporter": "python",
   "pygments_lexer": "ipython3",
   "version": "3.10.2"
  }
 },
 "nbformat": 4,
 "nbformat_minor": 5
}
