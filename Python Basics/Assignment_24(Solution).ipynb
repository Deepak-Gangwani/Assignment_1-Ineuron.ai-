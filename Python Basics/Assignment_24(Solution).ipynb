{
 "cells": [
  {
   "cell_type": "markdown",
   "id": "d48324e0",
   "metadata": {},
   "source": [
    "# Q1. What is the relationship between def statements and lambda expressions ?"
   ]
  },
  {
   "cell_type": "markdown",
   "id": "ca763ce8",
   "metadata": {},
   "source": [
    "def statement is used to create a normal function whereas lambda expressions are used to create Anonymous functionswhich can be assigned to a variable and can be called using the variable later in function."
   ]
  },
  {
   "cell_type": "code",
   "execution_count": 2,
   "id": "cff82a9d",
   "metadata": {},
   "outputs": [
    {
     "name": "stdout",
     "output_type": "stream",
     "text": [
      "5\n"
     ]
    }
   ],
   "source": [
    "sub = lambda a, b : a - b #single line creation of function using def statement\n",
    "print(sub(10,5)) "
   ]
  },
  {
   "cell_type": "markdown",
   "id": "a094fdce",
   "metadata": {},
   "source": [
    "# Q2. What is the benefit of lambda?"
   ]
  },
  {
   "cell_type": "markdown",
   "id": "1c14ddc8",
   "metadata": {},
   "source": [
    "#Moderate to small functions can be created in a single line\n",
    "#Fuctions created using lambda expressions can be assigned to a variable and can be used by simply calling the variable"
   ]
  },
  {
   "cell_type": "markdown",
   "id": "a77ca6d6",
   "metadata": {},
   "source": [
    "# Q3. Compare and contrast map, filter, and reduce."
   ]
  },
  {
   "cell_type": "code",
   "execution_count": 5,
   "id": "e6d8afc7",
   "metadata": {},
   "outputs": [
    {
     "name": "stdout",
     "output_type": "stream",
     "text": [
      "Map:- [1, 4, 27, 256, 3125]\n",
      "\n",
      "\n",
      "Filter:- [1, 3, 4, 5]\n",
      "\n",
      "\n",
      "Reduce:- 15\n"
     ]
    }
   ],
   "source": [
    "\"\"\"map(): The map() function is a type of higher-order. This function takes another function as a parameter along with a\n",
    "sequence of iterables and returns an output after applying the function to each iterable present in the sequence.\"\"\"\n",
    "print(\"Map:-\",list(map(lambda i:i**i,[1,2,3,4,5])))\n",
    "\n",
    "print(\"\\n\")\n",
    "\n",
    "\"\"\"filter(): The filter() function is used to create an output list consisting of values for which the function returns true.\"\"\"\n",
    "print(\"Filter:-\",list(filter(lambda i:i!=2,[1,2,2,2,3,4,5])))\n",
    "\n",
    "print(\"\\n\")\n",
    "\n",
    "\"\"\"reduce(): The reduce() function, as the name describes, applies a given function to the iterables \n",
    "and returns a single value\"\"\"\n",
    "from functools import reduce\n",
    "print(\"Reduce:-\",reduce(lambda i,j:i+j,[1,2,3,4,5]))"
   ]
  },
  {
   "cell_type": "markdown",
   "id": "be92ba0c",
   "metadata": {},
   "source": [
    "# Q4. What are function annotations, and how are they used?"
   ]
  },
  {
   "cell_type": "markdown",
   "id": "016c663c",
   "metadata": {},
   "source": [
    "#Python supports dynamic typing and hence no module is provided for type checking.\n",
    "#String based annotations can be used by the libraries to provide better help messages at compile time regarding the functionalities of various methods, classes and modules."
   ]
  },
  {
   "cell_type": "code",
   "execution_count": 6,
   "id": "5038f5d5",
   "metadata": {},
   "outputs": [
    {
     "name": "stdout",
     "output_type": "stream",
     "text": [
      "you are supposed to pass a <class 'str'> and a <class 'int'> as arguement to \n",
      "the function. The function is supposed to return a <class 'str'>. \n"
     ]
    }
   ],
   "source": [
    "def func(a:str,b:int)->str:\n",
    "    return a*b\n",
    "\n",
    "message=f\"\"\"you are supposed to pass a {func.__annotations__['a']} and a {func.__annotations__['b']} as arguement to \n",
    "the function. The function is supposed to return a {func.__annotations__['return']}. \"\"\"\n",
    "\n",
    "print(message)"
   ]
  },
  {
   "cell_type": "markdown",
   "id": "684ec20c",
   "metadata": {},
   "source": [
    "# Q5. What are recursive functions, and how are they used?"
   ]
  },
  {
   "cell_type": "markdown",
   "id": "86b5f384",
   "metadata": {},
   "source": [
    " A recursive function is a function that calls itself during its execution. The process may repeat several times, outputting the result and the end of each iteration."
   ]
  },
  {
   "cell_type": "code",
   "execution_count": 7,
   "id": "b952a12d",
   "metadata": {},
   "outputs": [
    {
     "name": "stdout",
     "output_type": "stream",
     "text": [
      "Enter the number to calculate factorial:-3\n",
      "The factorial of 3 is 6\n"
     ]
    }
   ],
   "source": [
    "# creating recusive function with help of docstring to see what this function work\n",
    "def factorial_recursive(n):\n",
    "    \"\"\"\n",
    "        parameter n:integer\n",
    "        return: n*n-1*n-2*n-3....1\n",
    "    \"\"\"\n",
    "    if n==1:\n",
    "        return n\n",
    "    else:\n",
    "        return n*factorial_recursive(n-1)\n",
    "    \n",
    "num=int(input(\"Enter the number to calculate factorial:-\"))\n",
    "print(f\"The factorial of {num} is {factorial_recursive(num)}\")\n",
    "    \n",
    "    "
   ]
  },
  {
   "cell_type": "markdown",
   "id": "8888d983",
   "metadata": {},
   "source": [
    "# Q6. What are some general design guidelines for coding functions?"
   ]
  },
  {
   "cell_type": "markdown",
   "id": "d1c69799",
   "metadata": {},
   "source": [
    "#Always use a docstring to explain the functionality of the function\n",
    "#Avoid using or limit use of global variables\n",
    "#Proper Indentation to increase the code readability"
   ]
  },
  {
   "cell_type": "markdown",
   "id": "7b723e6e",
   "metadata": {},
   "source": [
    "# Q7. Name three or more ways that functions can communicate results to a caller."
   ]
  },
  {
   "cell_type": "code",
   "execution_count": 9,
   "id": "6386c48c",
   "metadata": {},
   "outputs": [
    {
     "name": "stdout",
     "output_type": "stream",
     "text": [
      "['print', 'return', 'yield']\n"
     ]
    }
   ],
   "source": [
    "l=[\"print\",\"return\",\"yield\"]\n",
    "print(l)\n"
   ]
  }
 ],
 "metadata": {
  "kernelspec": {
   "display_name": "Python 3 (ipykernel)",
   "language": "python",
   "name": "python3"
  },
  "language_info": {
   "codemirror_mode": {
    "name": "ipython",
    "version": 3
   },
   "file_extension": ".py",
   "mimetype": "text/x-python",
   "name": "python",
   "nbconvert_exporter": "python",
   "pygments_lexer": "ipython3",
   "version": "3.10.2"
  }
 },
 "nbformat": 4,
 "nbformat_minor": 5
}
